{
 "cells": [
  {
   "cell_type": "code",
   "execution_count": 1,
   "metadata": {},
   "outputs": [],
   "source": [
    "import pandas \n",
    "import plotly.express as px\n",
    "import random\n",
    "import streamlit as st\n",
    "\n",
    "from datetime import datetime\n",
    "\n",
    "from src.utils import show_country\n"
   ]
  },
  {
   "cell_type": "code",
   "execution_count": 170,
   "metadata": {},
   "outputs": [],
   "source": [
    "\n",
    "\n",
    "# Create a list of random colors for each category\n"
   ]
  },
  {
   "cell_type": "code",
   "execution_count": 4,
   "metadata": {},
   "outputs": [],
   "source": [
    "coord_df = pandas.read_csv('data/countries_coord_utf8.csv',sep=',')\n",
    "coord_df['latitude']=coord_df['latitude'].str.replace(',','.').astype(float)\n",
    "coord_df['longitude']=coord_df['longitude'].str.replace(',','.').astype(float)\n",
    "replace_dic={ \n",
    "    'Congo [Republic]':'Republic of the Congo',\n",
    "    'Netherlands Antilles':'Curaçao',#ERROR\n",
    "    'Cocos [Keeling] Islands': 'Cocos (Keeling) Islands',\n",
    "    'Congo [DRC]': 'Democratic Republic of the Congo',\n",
    "    # 'Netherlands Antilles':'Saint Maarten',#ERROR\n",
    "    # 'Netherlands Antilles':'Saint Barthélemy',#ERROR\n",
    "    'Czech Republic':'Czechia',\n",
    "    'French Southern Territories':'French South Antarctic Territory',\n",
    "    'São Tomé and Príncipe':'Sao Tome and Principe',\n",
    "    \"Côte d'Ivoire\":\"Cote d'Ivoire\",\n",
    "    'Swaziland':'Eswatini',\n",
    "    'Falkland Islands [Islas Malvinas]':'Falkland Islands',\n",
    "    # 'Netherlands Antilles':'Bonaire',\n",
    "    # 'Sudan':'South Sudan',\n",
    "    'Palestinian Territories':'Palestine',\n",
    "    'Myanmar [Burma]':'Burma',\n",
    "    'Macedonia [FYROM]':'North Macedonia',\n",
    "    }\n",
    "\n",
    "non_match=['Saint Maarten', 'Saint Barthélemy', 'Bonaire', 'South Sudan', 'Other Asia']\n",
    "for old_value, new_value in replace_dic.items():\n",
    "    coord_df['name'] = coord_df['name'].str.replace(old_value, new_value, regex=False)"
   ]
  },
  {
   "cell_type": "code",
   "execution_count": 6,
   "metadata": {},
   "outputs": [],
   "source": [
    "import pandas as pd\n",
    "from geopy.distance import geodesic as GD\n",
    "import math\n",
    "\n",
    "# Supongamos que tienes un DataFrame llamado `coord_df` con las columnas 'name', 'latitude', y 'longitude'\n",
    "# Crea un DataFrame vacío con las columnas que necesitas\n",
    "result_df = pd.DataFrame(columns=['country1', 'country2', 'distance', 'direction'])\n",
    "\n",
    "# Calcular las distancias y direcciones entre todos los países\n",
    "for index1, row1 in coord_df.iterrows():\n",
    "    country1 = row1[\"name\"]\n",
    "    lat1 = row1[\"latitude\"]\n",
    "    lon1 = row1[\"longitude\"]\n",
    "    for index2, row2 in coord_df.iterrows():\n",
    "        country2 = row2[\"name\"]\n",
    "        lat2 = row2[\"latitude\"]\n",
    "        lon2 = row2[\"longitude\"]\n",
    "        \n",
    "        if country1 == country2:\n",
    "            distance = 0.0\n",
    "            direction = \"N/A\"\n",
    "        else:\n",
    "            distance = GD((lat1, lon1), (lat2, lon2)).km\n",
    "            \n",
    "            lat1_rad = math.radians(lat1)\n",
    "            lon1_rad = math.radians(lon1)\n",
    "            lat2_rad = math.radians(lat2)\n",
    "            lon2_rad = math.radians(lon2)\n",
    "            \n",
    "            dLon = lon2_rad - lon1_rad\n",
    "            y = math.sin(dLon) * math.cos(lat2_rad)\n",
    "            x = math.cos(lat1_rad) * math.sin(lat2_rad) - math.sin(lat1_rad) * math.cos(lat2_rad) * math.cos(dLon)\n",
    "            bearing = math.degrees(math.atan2(y, x))\n",
    "            \n",
    "            if bearing < 0:\n",
    "                bearing += 360\n",
    "            \n",
    "            if 22.5 <= bearing < 67.5:\n",
    "                direction = \"Northeast\"\n",
    "            elif 67.5 <= bearing < 112.5:\n",
    "                direction = \"East\"\n",
    "            elif 112.5 <= bearing < 157.5:\n",
    "                direction = \"Southeast\"\n",
    "            elif 157.5 <= bearing < 202.5:\n",
    "                direction = \"South\"\n",
    "            elif 202.5 <= bearing < 247.5:\n",
    "                direction = \"Southwest\"\n",
    "            elif 247.5 <= bearing < 292.5:\n",
    "                direction = \"West\"\n",
    "            elif 292.5 <= bearing < 337.5:\n",
    "                direction = \"Northwest\"\n",
    "            else:\n",
    "                direction = \"North\"\n",
    "        \n",
    "        # Agregar los datos al DataFrame resultante\n",
    "            result_df = pd.concat([result_df, pd.DataFrame({'country1': [country1], 'country2': [country2], 'distance': [round(distance, 1)], 'direction': [direction]})], ignore_index=True)\n",
    "\n",
    "\n"
   ]
  },
  {
   "cell_type": "code",
   "execution_count": 7,
   "metadata": {},
   "outputs": [],
   "source": [
    "\n",
    "pivoted_df = result_df.pivot(index='country1', columns='country2', values='distance')\n",
    "pivoted_df = pivoted_df.fillna(0)\n",
    "pivoted_df_2 = result_df.pivot(index='country1', columns='country2', values='direction')\n",
    "pivoted_df_2 = pivoted_df_2.fillna(0)\n",
    "\n",
    "\n",
    "# Mostrar el DataFrame pivotado\n",
    "pivoted_df.to_csv('countries_distances.csv')\n",
    "pivoted_df_2.to_csv('countries_direction.csv')"
   ]
  },
  {
   "cell_type": "code",
   "execution_count": 81,
   "metadata": {},
   "outputs": [],
   "source": [
    "countries_direction_df = pandas.read_csv('countries_direction.csv',index_col=0)\n",
    "countries_distances_df = pandas.read_csv('countries_distances.csv',index_col=0)"
   ]
  },
  {
   "cell_type": "code",
   "execution_count": 59,
   "metadata": {},
   "outputs": [],
   "source": [
    "tradle_df = pandas.read_csv('all_countries.csv')\n",
    "tradle_df= tradle_df[['Section','HS4','Trade Value', 'country']]\n"
   ]
  },
  {
   "cell_type": "code",
   "execution_count": null,
   "metadata": {},
   "outputs": [],
   "source": [
    "labels = [\"Nivel 1\", \"Nivel 2\", \"Nivel 3\"]\n",
    "parents = [\"\", \"Nivel 1\", \"Nivel 2\"]\n",
    "values = [10, 20, 30]\n",
    "\n",
    "# Lista de URLs de imágenes correspondientes a cada etiqueta\n",
    "image_urls = [\"url_imagen_nivel_1\", \"url_imagen_nivel_2\", \"url_imagen_nivel_3\"]\n",
    "\n",
    "# Crear una figura de treemap personalizada\n",
    "fig = go.Figure(go.Treemap(\n",
    "    labels=labels,\n",
    "    parents=parents,\n",
    "    values=values,\n",
    "    hovertemplate='<b>%{label}</b><br>%{value}<extra></extra>',\n",
    "    customdata=image_urls,  # Asignar las URLs de imágenes como datos personalizados\n",
    "))\n",
    "\n",
    "# Configuración del diseño\n",
    "fig.update_layout(margin=dict(t=0, l=0, r=0, b=0))\n",
    "\n",
    "# Mostrar la figura\n",
    "fig.show()\n"
   ]
  },
  {
   "cell_type": "code",
   "execution_count": 76,
   "metadata": {},
   "outputs": [
    {
     "name": "stdout",
     "output_type": "stream",
     "text": [
      "['Antarctica', 'Bouvet Island', 'Western Sahara', 'Faroe Islands', 'French Guiana', 'Guernsey', 'Guadeloupe', 'South Georgia and the South Sandwich Islands', 'Gaza Strip', 'Heard Island and McDonald Islands', 'Isle of Man', 'Jersey', 'Liechtenstein', 'Monaco', 'Martinique', 'Puerto Rico', 'Réunion', 'Svalbard and Jan Mayen', 'Taiwan', 'Vatican City', 'U.S. Virgin Islands', 'Kosovo', 'Mayotte']\n"
     ]
    }
   ],
   "source": [
    "\n",
    "print([i for i in coord_df.name.unique() if i not in tradle_df.country.unique() ]  )"
   ]
  },
  {
   "cell_type": "code",
   "execution_count": 77,
   "metadata": {},
   "outputs": [
    {
     "name": "stdout",
     "output_type": "stream",
     "text": [
      "['Saint Maarten', 'Saint Barthélemy', 'Bonaire', 'South Sudan', 'Other Asia']\n"
     ]
    }
   ],
   "source": [
    "print([i for i in tradle_df.country.unique() if i not in coord_df.name.unique() ]  )"
   ]
  },
  {
   "cell_type": "code",
   "execution_count": null,
   "metadata": {},
   "outputs": [],
   "source": [
    "\n",
    "\n",
    "replace_dic={ \n",
    "    'Congo [Republic]':'Republic of the Congo',\n",
    "    'Netherlands Antilles':'Curaçao',#ERROR\n",
    "    'Cocos [Keeling] Islands': 'Cocos (Keeling) Islands',\n",
    "    'Congo [DRC]': 'Democratic Republic of the Congo',\n",
    "    # 'Netherlands Antilles':'Saint Maarten',#ERROR\n",
    "    # 'Netherlands Antilles':'Saint Barthélemy',#ERROR\n",
    "    'Czech Republic':'Czechia',\n",
    "    'French Southern Territories':'French South Antarctic Territory',\n",
    "    'São Tomé and Príncipe':'Sao Tome and Principe',\n",
    "    \"Côte d'Ivoire\":\"Cote d'Ivoire\",\n",
    "    'Swaziland':'Eswatini',\n",
    "    'Falkland Islands [Islas Malvinas]':'Falkland Islands',:\n",
    "    'Netherlands Antilles''Bonaire',\n",
    "    # 'Sudan':'South Sudan',\n",
    "    'Palestinian Territories':'Palestine',\n",
    "    'Myanmar [Burma]':'Burma',\n",
    "    'Macedonia [FYROM]':'North Macedonia',\n",
    "    }\n",
    "\n",
    "\n",
    "\n"
   ]
  },
  {
   "cell_type": "code",
   "execution_count": 3,
   "metadata": {},
   "outputs": [
    {
     "ename": "NameError",
     "evalue": "name 'tradle_df' is not defined",
     "output_type": "error",
     "traceback": [
      "\u001b[1;31m---------------------------------------------------------------------------\u001b[0m",
      "\u001b[1;31mNameError\u001b[0m                                 Traceback (most recent call last)",
      "\u001b[1;32mc:\\Users\\paguijarro\\OneDrive - Sopra Steria\\Documents\\01-sopra\\tradle\\tradle.ipynb Cell 2\u001b[0m line \u001b[0;36m5\n\u001b[0;32m      <a href='vscode-notebook-cell:/c%3A/Users/paguijarro/OneDrive%20-%20Sopra%20Steria/Documents/01-sopra/tradle/tradle.ipynb#W1sZmlsZQ%3D%3D?line=2'>3</a>\u001b[0m \u001b[39m# Set the random seed to the current date\u001b[39;00m\n\u001b[0;32m      <a href='vscode-notebook-cell:/c%3A/Users/paguijarro/OneDrive%20-%20Sopra%20Steria/Documents/01-sopra/tradle/tradle.ipynb#W1sZmlsZQ%3D%3D?line=3'>4</a>\u001b[0m random\u001b[39m.\u001b[39mseed(current_date)\n\u001b[1;32m----> <a href='vscode-notebook-cell:/c%3A/Users/paguijarro/OneDrive%20-%20Sopra%20Steria/Documents/01-sopra/tradle/tradle.ipynb#W1sZmlsZQ%3D%3D?line=4'>5</a>\u001b[0m country_name\u001b[39m=\u001b[39m random\u001b[39m.\u001b[39mchoice(tradle_df\u001b[39m.\u001b[39mcountry\u001b[39m.\u001b[39munique())\n\u001b[0;32m      <a href='vscode-notebook-cell:/c%3A/Users/paguijarro/OneDrive%20-%20Sopra%20Steria/Documents/01-sopra/tradle/tradle.ipynb#W1sZmlsZQ%3D%3D?line=5'>6</a>\u001b[0m \u001b[39mprint\u001b[39m(country_name)\n",
      "\u001b[1;31mNameError\u001b[0m: name 'tradle_df' is not defined"
     ]
    }
   ],
   "source": [
    "current_date = int(datetime.now().strftime(\"%Y%m%d\"))\n",
    "\n",
    "# Set the random seed to the current date\n",
    "random.seed(current_date)\n",
    "country_name= random.choice(tradle_df.country.unique())\n",
    "print(country_name)"
   ]
  },
  {
   "cell_type": "code",
   "execution_count": 8,
   "metadata": {},
   "outputs": [],
   "source": [
    "#Extrae nombre random\n",
    "country_name= random.choice(tradle_df.country.unique())\n",
    "show_country(country_name)\n",
    "def show_country(country_name):\n",
    "    df_country=tradle_df[tradle_df.country==country_name]\n",
    "\n",
    "    fig = px.treemap(df_country, \n",
    "                    path=['Section','HS4'],  # Columna que define la jerarquía\n",
    "                    values='Trade Value',  # Columna que define el tamaño en porcentajes\n",
    "                    color='Section',  # Colores basados en la categoría 'Section'\n",
    "                    color_discrete_map=color_dic,  # Mapeo de colores\n",
    "                    title=str(round(df_country['Trade Value'].sum()/1e9,2)) +'B' if df_country['Trade Value'].sum()>1e9 else str(round(df_country['Trade Value'].sum()/1e6,2)) +'M',\n",
    "                    labels={'Section': 'Categoría', 'HS4': 'Nombre de la Caja', 'Trade Value Percentage': 'Porcentaje del Valor Comercial'})\n",
    "\n",
    "\n",
    "    fig.update_layout(\n",
    "        width=1000,  # Ancho de la figura en píxeles\n",
    "        height=400  # Alto de la figura en píxeles\n",
    "    )\n",
    "    return fig"
   ]
  },
  {
   "cell_type": "code",
   "execution_count": 10,
   "metadata": {},
   "outputs": [
    {
     "data": {
      "application/vnd.plotly.v1+json": {
       "config": {
        "plotlyServerURL": "https://plot.ly"
       },
       "data": [
        {
         "branchvalues": "total",
         "customdata": [
          [
           "Vegetable Products"
          ],
          [
           "Metals"
          ],
          [
           "Machines"
          ],
          [
           "Machines"
          ],
          [
           "Chemical Products"
          ],
          [
           "Instruments"
          ],
          [
           "Precious Metals"
          ],
          [
           "Instruments"
          ],
          [
           "Chemical Products"
          ],
          [
           "Machines"
          ],
          [
           "Chemical Products"
          ],
          [
           "Animal Products"
          ],
          [
           "Machines"
          ],
          [
           "Textiles"
          ],
          [
           "Metals"
          ],
          [
           "Chemical Products"
          ],
          [
           "Foodstuffs"
          ],
          [
           "Chemical Products"
          ],
          [
           "Animal Products"
          ],
          [
           "Foodstuffs"
          ],
          [
           "Stone And Glass"
          ],
          [
           "Metals"
          ],
          [
           "Plastics and Rubbers"
          ],
          [
           "Chemical Products"
          ],
          [
           "Chemical Products"
          ],
          [
           "Machines"
          ],
          [
           "Machines"
          ],
          [
           "Transportation"
          ],
          [
           "Foodstuffs"
          ],
          [
           "Chemical Products"
          ],
          [
           "Metals"
          ],
          [
           "Metals"
          ],
          [
           "Metals"
          ],
          [
           "Metals"
          ],
          [
           "Metals"
          ],
          [
           "Metals"
          ],
          [
           "Metals"
          ],
          [
           "Metals"
          ],
          [
           "Metals"
          ],
          [
           "Plastics and Rubbers"
          ],
          [
           "Foodstuffs"
          ],
          [
           "Paper Goods"
          ],
          [
           "Chemical Products"
          ],
          [
           "Instruments"
          ],
          [
           "Paper Goods"
          ],
          [
           "Vegetable Products"
          ],
          [
           "Machines"
          ],
          [
           "Machines"
          ],
          [
           "Chemical Products"
          ],
          [
           "Metals"
          ],
          [
           "Instruments"
          ],
          [
           "Mineral Products"
          ],
          [
           "Miscellaneous"
          ],
          [
           "Plastics and Rubbers"
          ],
          [
           "Machines"
          ],
          [
           "Machines"
          ],
          [
           "Machines"
          ],
          [
           "Animal Products"
          ],
          [
           "Animal Products"
          ],
          [
           "Chemical Products"
          ],
          [
           "Machines"
          ],
          [
           "Vegetable Products"
          ],
          [
           "Vegetable Products"
          ],
          [
           "Vegetable Products"
          ],
          [
           "Instruments"
          ],
          [
           "Paper Goods"
          ],
          [
           "Machines"
          ],
          [
           "Precious Metals"
          ],
          [
           "Chemical Products"
          ],
          [
           "Foodstuffs"
          ],
          [
           "Textiles"
          ],
          [
           "Textiles"
          ],
          [
           "Metals"
          ],
          [
           "Animal Hides"
          ],
          [
           "Wood Products"
          ],
          [
           "Foodstuffs"
          ],
          [
           "Vegetable Products"
          ],
          [
           "Machines"
          ],
          [
           "Vegetable Products"
          ],
          [
           "Machines"
          ],
          [
           "Machines"
          ],
          [
           "Vegetable Products"
          ],
          [
           "Footwear and Headwear"
          ],
          [
           "Stone And Glass"
          ],
          [
           "Metals"
          ],
          [
           "Stone And Glass"
          ],
          [
           "Machines"
          ],
          [
           "Machines"
          ],
          [
           "Machines"
          ],
          [
           "Transportation"
          ],
          [
           "Animal Products"
          ],
          [
           "Animal Products"
          ],
          [
           "Chemical Products"
          ],
          [
           "Metals"
          ],
          [
           "Metals"
          ],
          [
           "Animal Products"
          ],
          [
           "Textiles"
          ],
          [
           "Textiles"
          ],
          [
           "Textiles"
          ],
          [
           "Stone And Glass"
          ],
          [
           "Instruments"
          ],
          [
           "Instruments"
          ],
          [
           "Weapons"
          ],
          [
           "Machines"
          ],
          [
           "Metals"
          ],
          [
           "Chemical Products"
          ],
          [
           "Machines"
          ],
          [
           "Machines"
          ],
          [
           "Machines"
          ],
          [
           "Machines"
          ],
          [
           "Machines"
          ],
          [
           "Machines"
          ],
          [
           "Machines"
          ],
          [
           "Machines"
          ],
          [
           "Machines"
          ],
          [
           "Mineral Products"
          ],
          [
           "Machines"
          ],
          [
           "Textiles"
          ],
          [
           "Machines"
          ],
          [
           "Animal Hides"
          ],
          [
           "Machines"
          ],
          [
           "Miscellaneous"
          ],
          [
           "Machines"
          ],
          [
           "Stone And Glass"
          ],
          [
           "Metals"
          ],
          [
           "Textiles"
          ],
          [
           "Metals"
          ],
          [
           "Metals"
          ],
          [
           "Mineral Products"
          ],
          [
           "Mineral Products"
          ],
          [
           "Instruments"
          ],
          [
           "Chemical Products"
          ],
          [
           "Foodstuffs"
          ],
          [
           "Mineral Products"
          ],
          [
           "Vegetable Products"
          ],
          [
           "Paper Goods"
          ],
          [
           "Mineral Products"
          ],
          [
           "Foodstuffs"
          ],
          [
           "Paper Goods"
          ],
          [
           "Instruments"
          ],
          [
           "Animal Products"
          ],
          [
           "Animal Hides"
          ],
          [
           "Vegetable Products"
          ],
          [
           "Mineral Products"
          ],
          [
           "Foodstuffs"
          ],
          [
           "Stone And Glass"
          ],
          [
           "Chemical Products"
          ],
          [
           "Textiles"
          ],
          [
           "Transportation"
          ],
          [
           "Chemical Products"
          ],
          [
           "Vegetable Products"
          ],
          [
           "Vegetable Products"
          ],
          [
           "Stone And Glass"
          ],
          [
           "Vegetable Products"
          ],
          [
           "Plastics and Rubbers"
          ],
          [
           "Paper Goods"
          ],
          [
           "Mineral Products"
          ],
          [
           "Stone And Glass"
          ],
          [
           "Machines"
          ],
          [
           "Machines"
          ],
          [
           "Foodstuffs"
          ],
          [
           "Machines"
          ],
          [
           "Vegetable Products"
          ],
          [
           "Chemical Products"
          ],
          [
           "Vegetable Products"
          ],
          [
           "Machines"
          ],
          [
           "Chemical Products"
          ],
          [
           "Textiles"
          ],
          [
           "Chemical Products"
          ],
          [
           "Textiles"
          ],
          [
           "Animal Products"
          ],
          [
           "Animal Products"
          ],
          [
           "Textiles"
          ],
          [
           "Textiles"
          ],
          [
           "Textiles"
          ],
          [
           "Textiles"
          ],
          [
           "Transportation"
          ],
          [
           "Textiles"
          ],
          [
           "Textiles"
          ],
          [
           "Textiles"
          ],
          [
           "Textiles"
          ],
          [
           "Machines"
          ],
          [
           "Paper Goods"
          ],
          [
           "Machines"
          ],
          [
           "Vegetable Products"
          ],
          [
           "Vegetable Products"
          ],
          [
           "Miscellaneous"
          ],
          [
           "Metals"
          ],
          [
           "Footwear and Headwear"
          ],
          [
           "Transportation"
          ],
          [
           "Machines"
          ],
          [
           "Animal Hides"
          ],
          [
           "Paper Goods"
          ],
          [
           "Wood Products"
          ],
          [
           "Textiles"
          ],
          [
           "Machines"
          ],
          [
           "Transportation"
          ],
          [
           "Chemical Products"
          ],
          [
           "Miscellaneous"
          ],
          [
           "Vegetable Products"
          ],
          [
           "Vegetable Products"
          ],
          [
           "Stone And Glass"
          ],
          [
           "Machines"
          ],
          [
           "Miscellaneous"
          ],
          [
           "Machines"
          ],
          [
           "Chemical Products"
          ],
          [
           "Instruments"
          ],
          [
           "Plastics and Rubbers"
          ],
          [
           "Foodstuffs"
          ],
          [
           "Plastics and Rubbers"
          ],
          [
           "Stone And Glass"
          ],
          [
           "Textiles"
          ],
          [
           "Metals"
          ],
          [
           "Paper Goods"
          ],
          [
           "Instruments"
          ],
          [
           "Machines"
          ],
          [
           "Machines"
          ],
          [
           "Chemical Products"
          ],
          [
           "Wood Products"
          ],
          [
           "Paper Goods"
          ],
          [
           "Animal and Vegetable Bi-Products"
          ],
          [
           "Mineral Products"
          ],
          [
           "Machines"
          ],
          [
           "Plastics and Rubbers"
          ],
          [
           "Foodstuffs"
          ],
          [
           "Foodstuffs"
          ],
          [
           "Foodstuffs"
          ],
          [
           "Foodstuffs"
          ],
          [
           "Animal Products"
          ],
          [
           "Animal Products"
          ],
          [
           "Animal Hides"
          ],
          [
           "Machines"
          ],
          [
           "Machines"
          ],
          [
           "Vegetable Products"
          ],
          [
           "Chemical Products"
          ],
          [
           "Foodstuffs"
          ],
          [
           "Miscellaneous"
          ],
          [
           "Precious Metals"
          ],
          [
           "Instruments"
          ],
          [
           "Precious Metals"
          ],
          [
           "Transportation"
          ],
          [
           "Foodstuffs"
          ],
          [
           "Transportation"
          ],
          [
           "Plastics and Rubbers"
          ],
          [
           "Precious Metals"
          ],
          [
           "Textiles"
          ],
          [
           "Chemical Products"
          ],
          [
           "Chemical Products"
          ],
          [
           "Instruments"
          ],
          [
           "Metals"
          ],
          [
           "Metals"
          ],
          [
           "Machines"
          ],
          [
           "Machines"
          ],
          [
           "Metals"
          ],
          [
           "Metals"
          ],
          [
           "Machines"
          ],
          [
           "Miscellaneous"
          ],
          [
           "Vegetable Products"
          ],
          [
           "Vegetable Products"
          ],
          [
           "Transportation"
          ],
          [
           "Chemical Products"
          ],
          [
           "Machines"
          ],
          [
           "Vegetable Products"
          ],
          [
           "Foodstuffs"
          ],
          [
           "Machines"
          ],
          [
           "Machines"
          ],
          [
           "Machines"
          ],
          [
           "Chemical Products"
          ],
          [
           "Chemical Products"
          ],
          [
           "Miscellaneous"
          ],
          [
           "Metals"
          ],
          [
           "Mineral Products"
          ],
          [
           "Textiles"
          ],
          [
           "Plastics and Rubbers"
          ],
          [
           "Plastics and Rubbers"
          ],
          [
           "Metals"
          ],
          [
           "Animal Hides"
          ],
          [
           "Machines"
          ],
          [
           "Plastics and Rubbers"
          ],
          [
           "Textiles"
          ],
          [
           "Textiles"
          ],
          [
           "Miscellaneous"
          ],
          [
           "Plastics and Rubbers"
          ],
          [
           "Plastics and Rubbers"
          ],
          [
           "Plastics and Rubbers"
          ],
          [
           "Footwear and Headwear"
          ],
          [
           "Plastics and Rubbers"
          ],
          [
           "Paper Goods"
          ],
          [
           "Transportation"
          ],
          [
           "Mineral Products"
          ],
          [
           "Stone And Glass"
          ],
          [
           "Chemical Products"
          ],
          [
           "Machines"
          ],
          [
           "Textiles"
          ],
          [
           "Textiles"
          ],
          [
           "Arts and Antiques"
          ],
          [
           "Instruments"
          ],
          [
           "Vegetable Products"
          ],
          [
           "Stone And Glass"
          ],
          [
           "Foodstuffs"
          ],
          [
           "Machines"
          ],
          [
           "Stone And Glass"
          ],
          [
           "Vegetable Products"
          ],
          [
           "Metals"
          ],
          [
           "Metals"
          ],
          [
           "Stone And Glass"
          ],
          [
           "Mineral Products"
          ],
          [
           "Plastics and Rubbers"
          ],
          [
           "Foodstuffs"
          ],
          [
           "Foodstuffs"
          ],
          [
           "Chemical Products"
          ],
          [
           "Plastics and Rubbers"
          ],
          [
           "Machines"
          ],
          [
           "Machines"
          ],
          [
           "Metals"
          ],
          [
           "Plastics and Rubbers"
          ],
          [
           "Animal and Vegetable Bi-Products"
          ],
          [
           "Miscellaneous"
          ],
          [
           "Arts and Antiques"
          ],
          [
           "Metals"
          ],
          [
           "Plastics and Rubbers"
          ],
          [
           "Plastics and Rubbers"
          ],
          [
           "Metals"
          ],
          [
           "Metals"
          ],
          [
           "Metals"
          ],
          [
           "Metals"
          ],
          [
           "Chemical Products"
          ],
          [
           "Miscellaneous"
          ],
          [
           "Textiles"
          ],
          [
           "Machines"
          ],
          [
           "Wood Products"
          ],
          [
           "Foodstuffs"
          ],
          [
           "Foodstuffs"
          ],
          [
           "Chemical Products"
          ],
          [
           "Mineral Products"
          ],
          [
           "Metals"
          ],
          [
           "Transportation"
          ],
          [
           "Machines"
          ],
          [
           "Vegetable Products"
          ],
          [
           "Chemical Products"
          ],
          [
           "Machines"
          ],
          [
           "Plastics and Rubbers"
          ],
          [
           "Plastics and Rubbers"
          ],
          [
           "Precious Metals"
          ],
          [
           "Paper Goods"
          ],
          [
           "Foodstuffs"
          ],
          [
           "Foodstuffs"
          ],
          [
           "Animal and Vegetable Bi-Products"
          ],
          [
           "Plastics and Rubbers"
          ],
          [
           "Metals"
          ],
          [
           "Metals"
          ],
          [
           "Stone And Glass"
          ],
          [
           "Foodstuffs"
          ],
          [
           "Textiles"
          ],
          [
           "Paper Goods"
          ],
          [
           "Textiles"
          ],
          [
           "Animal and Vegetable Bi-Products"
          ],
          [
           "Vegetable Products"
          ],
          [
           "Mineral Products"
          ],
          [
           "Vegetable Products"
          ],
          [
           "Machines"
          ],
          [
           "Vegetable Products"
          ],
          [
           "Animal Products"
          ],
          [
           "Vegetable Products"
          ],
          [
           "Paper Goods"
          ],
          [
           "Machines"
          ],
          [
           "Stone And Glass"
          ],
          [
           "Plastics and Rubbers"
          ],
          [
           "Chemical Products"
          ],
          [
           "Plastics and Rubbers"
          ],
          [
           "Plastics and Rubbers"
          ],
          [
           "Chemical Products"
          ],
          [
           "Wood Products"
          ],
          [
           "Plastics and Rubbers"
          ],
          [
           "Plastics and Rubbers"
          ],
          [
           "Plastics and Rubbers"
          ],
          [
           "Plastics and Rubbers"
          ],
          [
           "Plastics and Rubbers"
          ],
          [
           "Textiles"
          ],
          [
           "Textiles"
          ],
          [
           "Machines"
          ],
          [
           "Foodstuffs"
          ],
          [
           "Chemical Products"
          ],
          [
           "Foodstuffs"
          ],
          [
           "Plastics and Rubbers"
          ],
          [
           "Vegetable Products"
          ],
          [
           "Vegetable Products"
          ],
          [
           "Chemical Products"
          ],
          [
           "Chemical Products"
          ],
          [
           "Mineral Products"
          ],
          [
           "Mineral Products"
          ],
          [
           "Plastics and Rubbers"
          ],
          [
           "Instruments"
          ],
          [
           "Chemical Products"
          ],
          [
           "Chemical Products"
          ],
          [
           "Instruments"
          ],
          [
           "Foodstuffs"
          ],
          [
           "Animal Products"
          ],
          [
           "Animal and Vegetable Bi-Products"
          ],
          [
           "Textiles"
          ],
          [
           "Vegetable Products"
          ],
          [
           "Wood Products"
          ],
          [
           "Transportation"
          ],
          [
           "Vegetable Products"
          ],
          [
           "Miscellaneous"
          ],
          [
           "Miscellaneous"
          ],
          [
           "Mineral Products"
          ],
          [
           "Precious Metals"
          ],
          [
           "Textiles"
          ],
          [
           "Wood Products"
          ],
          [
           "Metals"
          ],
          [
           "Vegetable Products"
          ],
          [
           "Miscellaneous"
          ],
          [
           "Chemical Products"
          ],
          [
           "Chemical Products"
          ],
          [
           "Textiles"
          ],
          [
           "Textiles"
          ],
          [
           "Vegetable Products"
          ],
          [
           "Metals"
          ],
          [
           "Paper Goods"
          ],
          [
           "Paper Goods"
          ],
          [
           "Paper Goods"
          ],
          [
           "Paper Goods"
          ],
          [
           "Machines"
          ],
          [
           "Wood Products"
          ],
          [
           "Miscellaneous"
          ],
          [
           "Foodstuffs"
          ],
          [
           "Animal Hides"
          ],
          [
           "Arts and Antiques"
          ],
          [
           "Stone And Glass"
          ],
          [
           "Plastics and Rubbers"
          ],
          [
           "Foodstuffs"
          ],
          [
           "Metals"
          ],
          [
           "Mineral Products"
          ],
          [
           "Metals"
          ],
          [
           "Metals"
          ],
          [
           "Metals"
          ],
          [
           "Animal Products"
          ],
          [
           "Paper Goods"
          ],
          [
           "Textiles"
          ],
          [
           "Machines"
          ],
          [
           "Mineral Products"
          ],
          [
           "Animal Products"
          ],
          [
           "Vegetable Products"
          ],
          [
           "Stone And Glass"
          ],
          [
           "Vegetable Products"
          ],
          [
           "Metals"
          ],
          [
           "Metals"
          ],
          [
           "Machines"
          ],
          [
           "Paper Goods"
          ],
          [
           "Transportation"
          ],
          [
           "Textiles"
          ],
          [
           "Chemical Products"
          ],
          [
           "Metals"
          ],
          [
           "Metals"
          ],
          [
           "Wood Products"
          ],
          [
           "Arts and Antiques"
          ],
          [
           "Machines"
          ],
          [
           "Plastics and Rubbers"
          ],
          [
           "Paper Goods"
          ],
          [
           "Instruments"
          ],
          [
           "Machines"
          ],
          [
           "Miscellaneous"
          ],
          [
           "Textiles"
          ],
          [
           "Metals"
          ],
          [
           "Mineral Products"
          ],
          [
           "Precious Metals"
          ],
          [
           "Metals"
          ],
          [
           "Instruments"
          ],
          [
           "Instruments"
          ],
          [
           "Wood Products"
          ],
          [
           "Textiles"
          ],
          [
           "Wood Products"
          ],
          [
           "Machines"
          ],
          [
           "Textiles"
          ],
          [
           "Wood Products"
          ],
          [
           "Transportation"
          ],
          [
           "Textiles"
          ],
          [
           "Foodstuffs"
          ],
          [
           "Wood Products"
          ],
          [
           "Stone And Glass"
          ],
          [
           "Animal Products"
          ],
          [
           "Instruments"
          ],
          [
           "Weapons"
          ],
          [
           "Vegetable Products"
          ],
          [
           "Machines"
          ],
          [
           "Foodstuffs"
          ],
          [
           "Instruments"
          ],
          [
           "Wood Products"
          ],
          [
           "Wood Products"
          ],
          [
           "Machines"
          ],
          [
           "Textiles"
          ],
          [
           "Footwear and Headwear"
          ],
          [
           "Wood Products"
          ],
          [
           "Metals"
          ],
          [
           "Metals"
          ],
          [
           "Metals"
          ],
          [
           "Chemical Products"
          ],
          [
           "Metals"
          ],
          [
           "Metals"
          ],
          [
           "Metals"
          ],
          [
           "Metals"
          ],
          [
           "Metals"
          ],
          [
           "Foodstuffs"
          ],
          [
           "Mineral Products"
          ],
          [
           "Metals"
          ],
          [
           "Metals"
          ],
          [
           "Precious Metals"
          ],
          [
           "Textiles"
          ],
          [
           "Paper Goods"
          ],
          [
           "Textiles"
          ],
          [
           "Textiles"
          ],
          [
           "Textiles"
          ],
          [
           "Textiles"
          ],
          [
           "Mineral Products"
          ],
          [
           "Textiles"
          ],
          [
           "Textiles"
          ],
          [
           "Textiles"
          ],
          [
           "Textiles"
          ],
          [
           "Textiles"
          ],
          [
           "Textiles"
          ],
          [
           "Textiles"
          ],
          [
           "Textiles"
          ],
          [
           "Chemical Products"
          ],
          [
           "Textiles"
          ],
          [
           "Footwear and Headwear"
          ],
          [
           "Animal Products"
          ],
          [
           "Machines"
          ],
          [
           "Textiles"
          ],
          [
           "Textiles"
          ],
          [
           "Textiles"
          ],
          [
           "Footwear and Headwear"
          ],
          [
           "Machines"
          ],
          [
           "Machines"
          ],
          [
           "Instruments"
          ],
          [
           "Machines"
          ],
          [
           "Chemical Products"
          ],
          [
           "Stone And Glass"
          ],
          [
           "Stone And Glass"
          ],
          [
           "Stone And Glass"
          ],
          [
           "Stone And Glass"
          ],
          [
           "Footwear and Headwear"
          ],
          [
           "Stone And Glass"
          ],
          [
           "Stone And Glass"
          ],
          [
           "Stone And Glass"
          ],
          [
           "Chemical Products"
          ],
          [
           "Precious Metals"
          ],
          [
           "Stone And Glass"
          ],
          [
           "Vegetable Products"
          ],
          [
           "Mineral Products"
          ],
          [
           "Foodstuffs"
          ],
          [
           "Textiles"
          ],
          [
           "Weapons"
          ],
          [
           "Textiles"
          ],
          [
           "Metals"
          ],
          [
           "Chemical Products"
          ],
          [
           "Chemical Products"
          ],
          [
           "Mineral Products"
          ],
          [
           "Textiles"
          ],
          [
           "Mineral Products"
          ],
          [
           "Mineral Products"
          ],
          [
           "Metals"
          ],
          [
           "Metals"
          ],
          [
           "Metals"
          ],
          [
           "Textiles"
          ],
          [
           "Textiles"
          ],
          [
           "Animal Products"
          ],
          [
           "Instruments"
          ],
          [
           "Metals"
          ],
          [
           "Metals"
          ],
          [
           "Mineral Products"
          ],
          [
           "Animal Hides"
          ],
          [
           "Metals"
          ],
          [
           "Transportation"
          ],
          [
           "Animal Products"
          ],
          [
           "Instruments"
          ],
          [
           "Stone And Glass"
          ],
          [
           "Metals"
          ],
          [
           "Textiles"
          ],
          [
           "Paper Goods"
          ],
          [
           "Textiles"
          ],
          [
           "Animal Products"
          ],
          [
           "Metals"
          ],
          [
           "Machines"
          ],
          [
           "Instruments"
          ],
          [
           "Instruments"
          ],
          [
           "Textiles"
          ],
          [
           "Stone And Glass"
          ],
          [
           "Chemical Products"
          ],
          [
           "Instruments"
          ],
          [
           "Instruments"
          ],
          [
           "Vegetable Products"
          ],
          [
           "Instruments"
          ],
          [
           "Textiles"
          ],
          [
           "Chemical Products"
          ],
          [
           "Machines"
          ],
          [
           "Animal Hides"
          ],
          [
           "Machines"
          ],
          [
           "Footwear and Headwear"
          ],
          [
           "Metals"
          ],
          [
           "Stone And Glass"
          ],
          [
           "Miscellaneous"
          ],
          [
           "Vegetable Products"
          ],
          [
           "Foodstuffs"
          ],
          [
           "Chemical Products"
          ],
          [
           "Footwear and Headwear"
          ],
          [
           "Machines"
          ],
          [
           "Machines"
          ],
          [
           "Foodstuffs"
          ],
          [
           "Animal Products"
          ],
          [
           "Machines"
          ],
          [
           "Metals"
          ],
          [
           "Textiles"
          ],
          [
           "Metals"
          ],
          [
           "Weapons"
          ],
          [
           "Textiles"
          ],
          [
           "Animal Products"
          ],
          [
           "Paper Goods"
          ],
          [
           "Textiles"
          ],
          [
           "Textiles"
          ],
          [
           "Textiles"
          ],
          [
           "Textiles"
          ],
          [
           "Miscellaneous"
          ],
          [
           "Mineral Products"
          ],
          [
           "Mineral Products"
          ],
          [
           "Machines"
          ],
          [
           "Machines"
          ],
          [
           "Machines"
          ],
          [
           "Transportation"
          ],
          [
           "Vegetable Products"
          ],
          [
           "Machines"
          ],
          [
           "Chemical Products"
          ],
          [
           "Machines"
          ],
          [
           "Machines"
          ],
          [
           "Metals"
          ],
          [
           "Mineral Products"
          ],
          [
           "Foodstuffs"
          ],
          [
           "Paper Goods"
          ],
          [
           "Mineral Products"
          ],
          [
           "Miscellaneous"
          ],
          [
           "Machines"
          ],
          [
           "Vegetable Products"
          ],
          [
           "Machines"
          ],
          [
           "Textiles"
          ],
          [
           "Metals"
          ],
          [
           "Machines"
          ],
          [
           "Machines"
          ],
          [
           "Paper Goods"
          ],
          [
           "Instruments"
          ],
          [
           "Textiles"
          ],
          [
           "Stone And Glass"
          ],
          [
           "Stone And Glass"
          ],
          [
           "Chemical Products"
          ],
          [
           "Miscellaneous"
          ],
          [
           "Metals"
          ],
          [
           "Metals"
          ],
          [
           "Metals"
          ],
          [
           "Mineral Products"
          ],
          [
           "Metals"
          ],
          [
           "Animal Hides"
          ],
          [
           "Footwear and Headwear"
          ],
          [
           "Machines"
          ],
          [
           "Animal Hides"
          ],
          [
           "Vegetable Products"
          ],
          [
           "Vegetable Products"
          ],
          [
           "Machines"
          ],
          [
           "Vegetable Products"
          ],
          [
           "Miscellaneous"
          ],
          [
           "Instruments"
          ],
          [
           "Machines"
          ],
          [
           "Miscellaneous"
          ],
          [
           "Instruments"
          ],
          [
           "Textiles"
          ],
          [
           "Machines"
          ],
          [
           "Textiles"
          ],
          [
           "Paper Goods"
          ],
          [
           "Paper Goods"
          ],
          [
           "Mineral Products"
          ],
          [
           "Chemical Products"
          ],
          [
           "Transportation"
          ],
          [
           "Chemical Products"
          ],
          [
           "Textiles"
          ],
          [
           "Textiles"
          ],
          [
           "Textiles"
          ],
          [
           "Textiles"
          ],
          [
           "Textiles"
          ],
          [
           "Textiles"
          ],
          [
           "Textiles"
          ],
          [
           "Textiles"
          ],
          [
           "Textiles"
          ],
          [
           "Textiles"
          ],
          [
           "Mineral Products"
          ],
          [
           "Plastics and Rubbers"
          ],
          [
           "Transportation"
          ],
          [
           "Footwear and Headwear"
          ],
          [
           "Vegetable Products"
          ],
          [
           "Machines"
          ],
          [
           "Machines"
          ],
          [
           "Machines"
          ],
          [
           "Machines"
          ],
          [
           "Metals"
          ],
          [
           "Mineral Products"
          ],
          [
           "Metals"
          ],
          [
           "Metals"
          ],
          [
           "Precious Metals"
          ],
          [
           "Metals"
          ],
          [
           "Machines"
          ],
          [
           "Chemical Products"
          ],
          [
           "Machines"
          ],
          [
           "Stone And Glass"
          ],
          [
           "Machines"
          ],
          [
           "Instruments"
          ],
          [
           "Instruments"
          ],
          [
           "Machines"
          ],
          [
           "Chemical Products"
          ],
          [
           "Machines"
          ],
          [
           "Animal Products"
          ],
          [
           "Textiles"
          ],
          [
           "Instruments"
          ],
          [
           "Instruments"
          ],
          [
           "Textiles"
          ],
          [
           "Textiles"
          ],
          [
           "Textiles"
          ],
          [
           "Machines"
          ],
          [
           "Footwear and Headwear"
          ],
          [
           "Instruments"
          ],
          [
           "Instruments"
          ],
          [
           "Vegetable Products"
          ],
          [
           "Machines"
          ],
          [
           "Chemical Products"
          ],
          [
           "Textiles"
          ],
          [
           "Textiles"
          ],
          [
           "Plastics and Rubbers"
          ],
          [
           "Textiles"
          ],
          [
           "Animal Hides"
          ],
          [
           "Animal Hides"
          ],
          [
           "Animal Hides"
          ],
          [
           "Animal Hides"
          ],
          [
           "Chemical Products"
          ],
          [
           "Transportation"
          ],
          [
           "Paper Goods"
          ],
          [
           "Miscellaneous"
          ],
          [
           "Stone And Glass"
          ],
          [
           "Vegetable Products"
          ],
          [
           "Animal Products"
          ],
          [
           "Instruments"
          ],
          [
           "Machines"
          ],
          [
           "Stone And Glass"
          ],
          [
           "Wood Products"
          ],
          [
           "Machines"
          ],
          [
           "Chemical Products"
          ],
          [
           "Machines"
          ],
          [
           "Miscellaneous"
          ],
          [
           "Machines"
          ],
          [
           "Stone And Glass"
          ],
          [
           "Instruments"
          ],
          [
           "Foodstuffs"
          ],
          [
           "Chemical Products"
          ],
          [
           "Arts and Antiques"
          ],
          [
           "Vegetable Products"
          ],
          [
           "Foodstuffs"
          ],
          [
           "Metals"
          ],
          [
           "Stone And Glass"
          ],
          [
           "Transportation"
          ],
          [
           "Mineral Products"
          ],
          [
           "Machines"
          ],
          [
           "Textiles"
          ],
          [
           "Machines"
          ],
          [
           "Machines"
          ],
          [
           "Animal and Vegetable Bi-Products"
          ],
          [
           "Transportation"
          ],
          [
           "Transportation"
          ],
          [
           "Chemical Products"
          ],
          [
           "Machines"
          ],
          [
           "Chemical Products"
          ],
          [
           "Textiles"
          ],
          [
           "Paper Goods"
          ],
          [
           "Textiles"
          ],
          [
           "Textiles"
          ],
          [
           "Animal Hides"
          ],
          [
           "Chemical Products"
          ],
          [
           "Machines"
          ],
          [
           "Footwear and Headwear"
          ],
          [
           "Textiles"
          ],
          [
           "Stone And Glass"
          ],
          [
           "Chemical Products"
          ],
          [
           "Mineral Products"
          ],
          [
           "Machines"
          ],
          [
           "Stone And Glass"
          ],
          [
           "Stone And Glass"
          ],
          [
           "Textiles"
          ],
          [
           "Chemical Products"
          ],
          [
           "Miscellaneous"
          ],
          [
           "Paper Goods"
          ],
          [
           "Metals"
          ],
          [
           "Metals"
          ],
          [
           "Metals"
          ],
          [
           "Metals"
          ],
          [
           "Metals"
          ],
          [
           "Metals"
          ],
          [
           "Stone And Glass"
          ],
          [
           "Machines"
          ],
          [
           "Machines"
          ],
          [
           "Stone And Glass"
          ],
          [
           "Instruments"
          ],
          [
           "Chemical Products"
          ],
          [
           "Miscellaneous"
          ],
          [
           "Chemical Products"
          ],
          [
           "Animal and Vegetable Bi-Products"
          ],
          [
           "Metals"
          ],
          [
           "Machines"
          ],
          [
           "Animal Hides"
          ],
          [
           "Animal Products"
          ],
          [
           "Animal and Vegetable Bi-Products"
          ],
          [
           "Arts and Antiques"
          ],
          [
           "Chemical Products"
          ],
          [
           "Foodstuffs"
          ],
          [
           "Footwear and Headwear"
          ],
          [
           "Instruments"
          ],
          [
           "Machines"
          ],
          [
           "Metals"
          ],
          [
           "Mineral Products"
          ],
          [
           "Miscellaneous"
          ],
          [
           "Paper Goods"
          ],
          [
           "Plastics and Rubbers"
          ],
          [
           "Precious Metals"
          ],
          [
           "Stone And Glass"
          ],
          [
           "Textiles"
          ],
          [
           "Transportation"
          ],
          [
           "Vegetable Products"
          ],
          [
           "Weapons"
          ],
          [
           "Wood Products"
          ]
         ],
         "domain": {
          "x": [
           0,
           1
          ],
          "y": [
           0,
           1
          ]
         },
         "hovertemplate": "labels=%{label}<br>Trade Value=%{value}<br>parent=%{parent}<br>id=%{id}<br>Categoría=%{customdata[0]}<extra></extra>",
         "ids": [
          "Vegetable Products/Hops",
          "Metals/Hot-Rolled Iron",
          "Machines/Industrial Furnaces",
          "Machines/Industrial Food Preperation Machinery",
          "Chemical Products/Industrial Fatty Acids, Oils and Alcohols",
          "Instruments/Incomplete Movement Sets",
          "Precious Metals/Imitation Jewellery",
          "Instruments/Hydrometers",
          "Chemical Products/Hypochlorites",
          "Machines/Hydraulic Turbines",
          "Chemical Products/Hydraulic Brake Fluid",
          "Animal Products/Human Hair",
          "Machines/Household Washing Machines",
          "Textiles/House Linens",
          "Metals/Hot-Rolled Iron Bars",
          "Chemical Products/Hydrogen",
          "Foodstuffs/Animal Food",
          "Chemical Products/Antifreeze",
          "Animal Products/Animal Organs",
          "Foodstuffs/Animal Extracts",
          "Stone And Glass/Abrasive Powder",
          "Metals/Aluminium Structures",
          "Plastics and Rubbers/Acrylic Polymers",
          "Chemical Products/Activated Carbon",
          "Chemical Products/Acyclic Hydrocarbons",
          "Machines/Air Conditioners",
          "Machines/Air Pumps",
          "Transportation/Aircraft Parts",
          "Foodstuffs/Alcohol > 80% ABV",
          "Chemical Products/Aldehydes",
          "Metals/Aluminium Bars",
          "Metals/Aluminium Cans",
          "Metals/Aluminium Foil",
          "Metals/Aluminium Gas Containers",
          "Metals/Aluminium Housewares",
          "Metals/Aluminium Pipe Fittings",
          "Metals/Aluminium Pipes",
          "Metals/Aluminium Plating",
          "Metals/Aluminium Powder",
          "Plastics and Rubbers/Amino-resins",
          "Foodstuffs/Animal Meal and Pellets",
          "Paper Goods/Carbon Paper",
          "Chemical Products/Candles",
          "Instruments/Cameras",
          "Paper Goods/Calendars",
          "Vegetable Products/Cabbages",
          "Machines/Calculators",
          "Machines/Carbon-based Electronics",
          "Chemical Products/Zinc Oxide and Peroxide",
          "Metals/Wrenches",
          "Instruments/X-Ray Equipment",
          "Mineral Products/Zinc Ore",
          "Miscellaneous/Zippers",
          "Plastics and Rubbers/Ethylene Polymers",
          "Machines/Electric Furnaces",
          "Machines/Electric Filament",
          "Machines/Electric Batteries",
          "Animal Products/Eggs",
          "Animal Products/Edible Offal",
          "Chemical Products/Dyeing Finishing Agents",
          "Machines/Drilling Machines",
          "Vegetable Products/Dried Vegetables",
          "Vegetable Products/Dried Legumes",
          "Vegetable Products/Dried Fruits",
          "Instruments/Drafting Tools",
          "Paper Goods/Documents of title (bonds etc) and unused stamps",
          "Machines/Dictation Machines",
          "Precious Metals/Diamonds",
          "Chemical Products/Dextrins",
          "Foodstuffs/Flavored Water",
          "Textiles/Flax Woven Fabric",
          "Textiles/Garments of Impregnated Fabric",
          "Metals/Garden Tools",
          "Animal Hides/Furskin Apparel",
          "Wood Products/Fuel Wood",
          "Foodstuffs/Fruit Juice",
          "Vegetable Products/Frozen Vegetables",
          "Machines/Electric Generating Sets",
          "Vegetable Products/Frozen Fruits and Nuts",
          "Machines/Fork-Lifts",
          "Machines/Forging Machines",
          "Vegetable Products/Forage Crops",
          "Footwear and Headwear/Footwear Parts",
          "Stone And Glass/Float Glass",
          "Metals/Flexible Metal Tubing",
          "Stone And Glass/Friction Material",
          "Machines/Gas Turbines",
          "Machines/Electric Heaters",
          "Machines/Electric Motors",
          "Transportation/Fishing Ships",
          "Animal Products/Fish: dried, salted, smoked or in brine",
          "Animal Products/Fish Fillets",
          "Chemical Products/Fireworks",
          "Metals/Filing Cabinets",
          "Metals/Ferroalloys",
          "Animal Products/Fermented Milk Products",
          "Textiles/Felt or Coated Fabric Garments",
          "Textiles/Felt Carpets",
          "Textiles/Felt",
          "Stone And Glass/Eyewear and Clock Glass",
          "Instruments/Eyewear Frames",
          "Instruments/Eyewear",
          "Weapons/Explosive Ammunition",
          "Machines/Excavation Machinery",
          "Metals/Flat-Rolled Stainless Steel",
          "Chemical Products/Essential Oils",
          "Machines/Electric Soldering Equipment",
          "Machines/Electrical Capacitors",
          "Machines/Electrical Control Boards",
          "Machines/Electrical Ignitions",
          "Machines/Electrical Lighting and Signalling Equipment",
          "Machines/Electrical Parts",
          "Machines/Electric Motor Parts",
          "Machines/Electrical Power Accessories",
          "Machines/Electrical Transformers",
          "Mineral Products/Electricity",
          "Machines/Electromagnets",
          "Textiles/Embroidery",
          "Machines/Engine Parts",
          "Animal Hides/Equine and Bovine Hides",
          "Machines/Electrical Resistors",
          "Miscellaneous/Fishing and Hunting Equipment",
          "Machines/Flat panel display modules, whether or not incorporating touch-sensitive screens",
          "Stone And Glass/Ceramic Bricks",
          "Metals/Cobalt",
          "Textiles/Coated Textile Fabric",
          "Metals/Coated Metal Soldering Products",
          "Metals/Coated Flat-Rolled Iron",
          "Mineral Products/Coal Tar Oil",
          "Mineral Products/Coal Briquettes",
          "Instruments/Clocks with Watch Movements",
          "Chemical Products/Cleaning Products",
          "Foodstuffs/Cocoa Beans",
          "Mineral Products/Clays",
          "Vegetable Products/Citrus",
          "Paper Goods/Cigarette Paper",
          "Mineral Products/Chromium Ore",
          "Foodstuffs/Chocolate",
          "Paper Goods/Children's Picture Books",
          "Instruments/Chemical Analysis Instruments",
          "Animal Products/Cheese",
          "Animal Hides/Chamois Leather",
          "Vegetable Products/Citrus and Melon Peels",
          "Mineral Products/Chalk",
          "Foodstuffs/Cocoa Powder",
          "Stone And Glass/Ceramic Tableware",
          "Chemical Products/Carboxylic Acids",
          "Textiles/Carded Wool or Animal Hair Fabric",
          "Transportation/Cars",
          "Chemical Products/Casein",
          "Vegetable Products/Cassava",
          "Vegetable Products/Coconuts, Brazil Nuts, and Cashews",
          "Stone And Glass/Cast or Rolled Glass",
          "Vegetable Products/Coffee",
          "Plastics and Rubbers/Cellulose",
          "Paper Goods/Cellulose Fibers Paper",
          "Mineral Products/Cement",
          "Stone And Glass/Cement Articles",
          "Machines/Central Heating Boilers",
          "Machines/Centrifuges",
          "Foodstuffs/Coffee and Tea Extracts",
          "Machines/Casting Machines",
          "Vegetable Products/Cereal Flours",
          "Chemical Products/Nucleic Acids",
          "Vegetable Products/Nutmeg, mace and cardamons",
          "Machines/Office Machine Parts",
          "Chemical Products/Nonaqueous Pigments",
          "Textiles/Non-Retail Artificial Staple Fibers Sewing Thread",
          "Chemical Products/Nonaqueous Paints",
          "Textiles/Non-woven Textiles",
          "Animal Products/Non-fillet Frozen Fish",
          "Animal Products/Non-fillet Fresh Fish",
          "Textiles/Non-Retail Pure Cotton Yarn",
          "Textiles/Non-Retail Mixed Cotton Yarn",
          "Textiles/Non-Retail Carded Wool Yarn",
          "Textiles/Non-Retail Synthetic Filament Yarn",
          "Transportation/Trailers and semi-trailers, not mechanically propelled vehicles",
          "Textiles/Twine, cordage or rope; knotted netting, made up fishing nets and other made up nets, of textile materials",
          "Textiles/Twine and Rope",
          "Textiles/Tulles and Net Fabric",
          "Textiles/Tufted Carpets",
          "Machines/Tobacco Processing Machines",
          "Paper Goods/Toilet Paper",
          "Machines/Transmissions",
          "Vegetable Products/Tomatoes",
          "Vegetable Products/Tropical Fruits",
          "Miscellaneous/Travel Kits",
          "Metals/Tool Sets",
          "Footwear and Headwear/Umbrellas",
          "Transportation/Tractors",
          "Machines/Traffic Signals",
          "Animal Hides/Trunks and Cases",
          "Paper Goods/Uncoated Paper",
          "Wood Products/Veneer Sheets",
          "Textiles/Unprocessed Synthetic Staple Fibers",
          "Machines/Vending Machines",
          "Transportation/Vehicle Bodies (including cabs) for the motor vehicles (8701 to 8705)",
          "Chemical Products/Vegetable or Animal Dyes",
          "Miscellaneous/Vegetable and Mineral Carvings",
          "Vegetable Products/Vegetable Saps",
          "Vegetable Products/Vegetable Plaiting Materials",
          "Stone And Glass/Vegetable Fiber",
          "Machines/Valves",
          "Miscellaneous/Vacuum Flask",
          "Machines/Vacuum Cleaners",
          "Chemical Products/Vaccines, blood, antisera, toxins and cultures",
          "Instruments/Utility Meters",
          "Plastics and Rubbers/Used Rubber Tires",
          "Foodstuffs/Vermouth",
          "Plastics and Rubbers/Unvulcanised Rubber Products",
          "Stone And Glass/Unglazed Ceramics",
          "Textiles/Used Clothing",
          "Metals/Titanium",
          "Paper Goods/Tissue",
          "Instruments/Video Cameras",
          "Machines/Video Displays",
          "Machines/Video Recording Equipment",
          "Chemical Products/Shaving Products",
          "Wood Products/Shaped Wood",
          "Paper Goods/Shaped Paper",
          "Animal and Vegetable Bi-Products/Pure Olive Oil",
          "Mineral Products/Pumice",
          "Machines/Pulley Systems",
          "Plastics and Rubbers/Propylene Polymers",
          "Foodstuffs/Processed Tomatoes",
          "Foodstuffs/Processed Tobacco",
          "Foodstuffs/Processed Mushrooms",
          "Foodstuffs/Processed Fish",
          "Animal Products/Processed Egg Products",
          "Animal Products/Processed Bones",
          "Animal Hides/Sheep Hides",
          "Machines/Printed Circuit Boards",
          "Machines/Print Production Machinery",
          "Vegetable Products/Preserved Vegetables",
          "Chemical Products/Prepared Pigments",
          "Foodstuffs/Prepared Cereals",
          "Miscellaneous/Prefabricated Buildings",
          "Precious Metals/Precious Stones",
          "Instruments/Precious Metal Watches",
          "Precious Metals/Precious Metal Scraps",
          "Transportation/Railway Passenger Cars",
          "Foodstuffs/Processed Crustaceans",
          "Transportation/Railway Track Fixtures",
          "Plastics and Rubbers/Silicone",
          "Precious Metals/Silver",
          "Textiles/Quilted Textiles",
          "Chemical Products/Quaternary Ammonium Salts and Hydroxides",
          "Chemical Products/Pyrophoric Alloys",
          "Instruments/String Instruments",
          "Metals/Stranded Iron Wire",
          "Metals/Stranded Aluminium Wire",
          "Machines/Stone Working Machines",
          "Machines/Stone Processing Machines",
          "Metals/Steel Wire",
          "Metals/Steel Bars",
          "Machines/Steam Turbines",
          "Miscellaneous/Sports Equipment",
          "Vegetable Products/Spices",
          "Vegetable Products/Spice Seeds",
          "Transportation/Special purpose motor vehicles",
          "Chemical Products/Special Pharmaceuticals",
          "Machines/Spark-Ignition Engines",
          "Vegetable Products/Sowing Seeds",
          "Foodstuffs/Soups and Broths",
          "Machines/Sound Recording Equipment",
          "Machines/Soldering and Welding Machinery",
          "Machines/Soil Preparation Machinery",
          "Chemical Products/Sodium or Potassium Peroxides",
          "Chemical Products/Soap",
          "Miscellaneous/Smoking Pipes",
          "Metals/Small Iron Containers",
          "Mineral Products/Slate",
          "Textiles/Silk Fabrics",
          "Plastics and Rubbers/Styrene Polymers",
          "Plastics and Rubbers/Rubber Apparel",
          "Metals/Raw Lead",
          "Animal Hides/Saddlery",
          "Machines/Rubberworking Machinery",
          "Plastics and Rubbers/Rubber Tires",
          "Textiles/Rubber Textiles",
          "Textiles/Rubber Textile Fabric",
          "Miscellaneous/Rubber Stamps",
          "Plastics and Rubbers/Rubber Sheets",
          "Plastics and Rubbers/Rubber Pipes",
          "Plastics and Rubbers/Rubber Inner Tubes",
          "Footwear and Headwear/Rubber Footwear",
          "Plastics and Rubbers/Rubber Belting",
          "Paper Goods/Recovered Paper",
          "Transportation/Recreational Boats",
          "Mineral Products/Refined Petroleum",
          "Stone And Glass/Refractory Bricks",
          "Chemical Products/Refractory Cements",
          "Machines/Refrigerators",
          "Textiles/Retail Artificial Staple Fibers Yarn",
          "Textiles/Retail Wool or Animal Hair Yarn",
          "Arts and Antiques/Revenue Stamps",
          "Instruments/Revolution Counters",
          "Vegetable Products/Rice",
          "Stone And Glass/Rock Wool",
          "Foodstuffs/Rolled Tobacco",
          "Machines/Rolling Machines",
          "Stone And Glass/Roofing Tiles",
          "Vegetable Products/Root Vegetables",
          "Metals/Safes",
          "Metals/Raw Iron Bars",
          "Stone And Glass/Safety Glass",
          "Mineral Products/Sand",
          "Plastics and Rubbers/Raw Plastic Sheeting",
          "Foodstuffs/Raw Sugar",
          "Foodstuffs/Raw Tobacco",
          "Chemical Products/Reaction and Catalytic Products",
          "Plastics and Rubbers/Reclaimed Rubber",
          "Machines/Sewing Machines",
          "Machines/Semiconductor Devices",
          "Metals/Semi-Finished Iron",
          "Plastics and Rubbers/Self-adhesive Plastics",
          "Animal and Vegetable Bi-Products/Seed Oils",
          "Miscellaneous/Seats",
          "Arts and Antiques/Sculptures",
          "Metals/Scrap Waste",
          "Plastics and Rubbers/Scrap Rubber",
          "Plastics and Rubbers/Scrap Plastic",
          "Metals/Scrap Iron",
          "Metals/Scrap Copper",
          "Metals/Scrap Aluminium",
          "Metals/Scissors",
          "Chemical Products/Scented Mixtures",
          "Miscellaneous/Scent Sprays",
          "Textiles/Scarves",
          "Machines/Scales",
          "Wood Products/Sawn Wood",
          "Foodstuffs/Sausages",
          "Foodstuffs/Sauces and Seasonings",
          "Chemical Products/Saturated Acyclic Monocarboxylic Acids",
          "Mineral Products/Salt",
          "Metals/Raw Aluminium",
          "Transportation/Railway Cargo Containers",
          "Machines/Radio Receivers",
          "Vegetable Products/Sunflower Seeds",
          "Chemical Products/Other Paints",
          "Machines/Other Paper Machinery",
          "Plastics and Rubbers/Other Plastic Products",
          "Plastics and Rubbers/Other Plastic Sheetings",
          "Precious Metals/Other Precious Metal Products",
          "Paper Goods/Other Printed Material",
          "Foodstuffs/Other Processed Fruits and Nuts",
          "Foodstuffs/Other Processed Vegetables",
          "Animal and Vegetable Bi-Products/Other Pure Vegetable Oils",
          "Plastics and Rubbers/Other Rubber Products",
          "Metals/Other Small Iron Pipes",
          "Metals/Other Steel Bars",
          "Stone And Glass/Other Stone Articles",
          "Foodstuffs/Other Sugars",
          "Textiles/Other Synthetic Fabrics",
          "Paper Goods/Other Uncoated Paper",
          "Textiles/Other Vegetable Fibers Fabric",
          "Animal and Vegetable Bi-Products/Other Vegetable Oils",
          "Vegetable Products/Other Vegetable Products",
          "Mineral Products/Other Ores",
          "Vegetable Products/Other Oily Seeds",
          "Machines/Other Office Machines",
          "Vegetable Products/Other Nuts",
          "Animal Products/Poultry Meat",
          "Vegetable Products/Potatoes",
          "Paper Goods/Postcards",
          "Machines/Portable Lighting",
          "Stone And Glass/Porcelain Tableware",
          "Plastics and Rubbers/Polymer Ion-Exchangers",
          "Chemical Products/Polycarboxylic Acids",
          "Plastics and Rubbers/Polyamides",
          "Plastics and Rubbers/Polyacetals",
          "Chemical Products/Polishes and Creams",
          "Wood Products/Plywood",
          "Plastics and Rubbers/Plastic Wash Basins",
          "Plastics and Rubbers/Plastic Pipes",
          "Plastics and Rubbers/Plastic Lids",
          "Plastics and Rubbers/Plastic Housewares",
          "Plastics and Rubbers/Plastic Floor Coverings",
          "Textiles/Plastic Coated Textile Fabric",
          "Textiles/Other Non-Knit Clothing Accessories",
          "Machines/Other Non-Metal Removal Machinery",
          "Foodstuffs/Other Vegetable Residues",
          "Chemical Products/Precious Metal Compounds",
          "Foodstuffs/Other Vegetable Residues and Waste",
          "Plastics and Rubbers/Other Vinyl Polymers",
          "Vegetable Products/Pepper",
          "Vegetable Products/Perfume Plants",
          "Chemical Products/Perfumes",
          "Chemical Products/Pesticides",
          "Mineral Products/Petroleum Coke",
          "Mineral Products/Petroleum Gas",
          "Plastics and Rubbers/Petroleum Resins",
          "Instruments/Photocopiers",
          "Chemical Products/Photographic Chemicals",
          "Chemical Products/Photographic Film",
          "Instruments/Pianos",
          "Foodstuffs/Pickled Foods",
          "Animal Products/Pig Meat",
          "Animal and Vegetable Bi-Products/Pig and Poultry Fat",
          "Textiles/Pile Fabric",
          "Vegetable Products/Pitted Fruits",
          "Wood Products/Plaiting Products",
          "Transportation/Planes, Helicopters, and/or Spacecraft",
          "Vegetable Products/Plant foliage",
          "Miscellaneous/Pens",
          "Miscellaneous/Pencils and Crayons",
          "Mineral Products/Peat",
          "Precious Metals/Pearl Products",
          "Textiles/Other Women's Undergarments",
          "Wood Products/Other Wood Articles",
          "Metals/Other Zinc Products",
          "Vegetable Products/Other live plants, cuttings and slips;\nmushroom spawn",
          "Miscellaneous/Other toys",
          "Chemical Products/Oxygen Amino Compounds",
          "Chemical Products/Packaged Medicaments",
          "Textiles/Packaged Sewing Sets",
          "Textiles/Packing Bags",
          "Vegetable Products/Other Vegetables",
          "Metals/Padlocks",
          "Paper Goods/Paper Containers",
          "Paper Goods/Paper Labels",
          "Paper Goods/Paper Notebooks",
          "Paper Goods/Paper Spools",
          "Machines/Papermaking Machines",
          "Wood Products/Particle Board",
          "Miscellaneous/Party Decorations",
          "Foodstuffs/Pasta",
          "Animal Hides/Patent Leather",
          "Arts and Antiques/Paintings",
          "Stone And Glass/Plaster Articles",
          "Plastics and Rubbers/Plastic Building Materials",
          "Foodstuffs/Confectionery Sugar",
          "Metals/Copper Fasteners",
          "Mineral Products/Copper Ore",
          "Metals/Copper Pipe Fittings",
          "Metals/Copper Pipes",
          "Metals/Copper Wire",
          "Animal Products/Coral and Shells",
          "Paper Goods/Corrugated Paper",
          "Textiles/Cotton Sewing Thread",
          "Machines/Cranes",
          "Mineral Products/Crude Petroleum",
          "Animal Products/Crustaceans",
          "Vegetable Products/Cucumbers",
          "Stone And Glass/Curbstones",
          "Vegetable Products/Cut Flowers",
          "Metals/Cutlery Sets",
          "Metals/Cutting Blades",
          "Machines/Dairy Machinery",
          "Paper Goods/Decals",
          "Transportation/Delivery Trucks",
          "Textiles/Conveyor Belt Textiles",
          "Chemical Products/Dental Products",
          "Metals/Copper Bars",
          "Metals/Copper Alloys",
          "Wood Products/Densified Wood",
          "Arts and Antiques/Collector's Items",
          "Machines/Computers",
          "Plastics and Rubbers/Compounded Unvulcanised Rubber",
          "Paper Goods/Composite Paper",
          "Instruments/Compasses",
          "Machines/Combustion Engines",
          "Miscellaneous/Combs",
          "Textiles/Combed Wool or Animal Hair Fabric",
          "Metals/Cold-Rolled Iron",
          "Mineral Products/Coke",
          "Precious Metals/Coin",
          "Metals/Cooking Hand Tools",
          "Instruments/Watch Movements",
          "Instruments/Watch Cases and Parts",
          "Wood Products/Wood Fiberboard",
          "Textiles/Woven Fabrics",
          "Wood Products/Wood Frames",
          "Machines/Washing and Bottling Machines",
          "Textiles/Woven Fabric of Synthetic Staple Fibers",
          "Wood Products/Wood Kitchenware",
          "Transportation/Work Trucks",
          "Textiles/Window Dressings",
          "Foodstuffs/Wine",
          "Wood Products/Wood Carpentry",
          "Stone And Glass/Worked Slate",
          "Animal Products/Whey and other milk products",
          "Instruments/Wind Instruments",
          "Weapons/Weapons Parts and Accessories",
          "Vegetable Products/Wheat Flours",
          "Machines/Water and Gas Generators",
          "Foodstuffs/Water",
          "Instruments/Watch Straps",
          "Wood Products/Wood Ornaments",
          "Wood Products/Wooden Tool Handles",
          "Machines/Woodworking machines",
          "Textiles/Wool",
          "Footwear and Headwear/Waterproof Footwear",
          "Wood Products/Wood Crates",
          "Metals/Iron Wire",
          "Metals/Iron Toiletry",
          "Metals/Iron Structures",
          "Chemical Products/Iron Oxides and Hydroxides",
          "Metals/Iron Springs",
          "Metals/Iron Sewing Needles",
          "Metals/Iron Radiators",
          "Metals/Iron Pipes",
          "Metals/Iron Pipe Fittings",
          "Foodstuffs/Jams",
          "Mineral Products/Iron Ore",
          "Metals/Iron Nails",
          "Metals/Iron Stovetops",
          "Precious Metals/Jewellery",
          "Textiles/Knit Gloves",
          "Paper Goods/Kaolin Coated Paper",
          "Textiles/Knit Women's Undergarments",
          "Textiles/Knit Women's Suits",
          "Textiles/Knit Women's Shirts",
          "Textiles/Knit Women's Coats",
          "Mineral Products/Kaolin",
          "Textiles/Knit Sweaters",
          "Textiles/Knit Socks and Hosiery",
          "Textiles/Knit T-shirts",
          "Textiles/Knit Men's Suits",
          "Textiles/Knit Men's Shirts",
          "Textiles/Knit Men's Coats",
          "Textiles/Knit Babies' Garments",
          "Textiles/Knit Active Wear",
          "Chemical Products/Ketones and Quinones",
          "Textiles/Knit Men's Undergarments",
          "Footwear and Headwear/Headbands and Linings",
          "Animal Products/Honey",
          "Machines/High-voltage Protection Equipment",
          "Textiles/Heavy Synthetic Cotton Fabrics",
          "Textiles/Heavy Pure Woven Cotton",
          "Textiles/Heavy Mixed Woven Cotton",
          "Footwear and Headwear/Hats",
          "Machines/Hair Trimmers",
          "Machines/Harvesting Machinery",
          "Instruments/Gas and Liquid Flow Measuring Instruments",
          "Machines/Gaskets",
          "Chemical Products/Glands and Other Organs",
          "Stone And Glass/Glass Beads",
          "Stone And Glass/Glass Bottles",
          "Stone And Glass/Glass Bricks",
          "Stone And Glass/Glass Bulbs",
          "Footwear and Headwear/Hat Forms",
          "Stone And Glass/Glass Mirrors",
          "Stone And Glass/Glass Scraps",
          "Stone And Glass/Glass with Edge Workings",
          "Chemical Products/Glues",
          "Precious Metals/Gold",
          "Stone And Glass/Glass Fibers",
          "Vegetable Products/Grapes",
          "Mineral Products/Granite",
          "Foodstuffs/Hard Liquor",
          "Textiles/Handkerchiefs",
          "Weapons/Handguns",
          "Textiles/Hand-Woven Rugs",
          "Metals/Hand Tools",
          "Chemical Products/Glaziers Putty",
          "Chemical Products/Hair Products",
          "Mineral Products/Gypsum",
          "Textiles/Gum Coated Textile Fabric",
          "Mineral Products/Gravel and Crushed Stone",
          "Mineral Products/Graphite",
          "Metals/Hand Saws",
          "Metals/Other Iron Bars",
          "Metals/Other Iron Products",
          "Textiles/Other Knit Clothing Accessories",
          "Textiles/Other Knit Garments",
          "Animal Products/Other Meat",
          "Instruments/Other Measuring Instruments",
          "Metals/Other Metal Fasteners",
          "Metals/Other Metals",
          "Mineral Products/Other Mineral",
          "Animal Hides/Other Leather Articles",
          "Metals/Other Nickel Products",
          "Transportation/Other Floating Structures",
          "Animal Products/Other Inedible Animal Products",
          "Instruments/Other Clocks",
          "Stone And Glass/Other Ceramic Articles",
          "Metals/Other Cast Iron Products",
          "Textiles/Other Carpets",
          "Paper Goods/Other Carbon Paper",
          "Textiles/Other Articles of Twine and Rope",
          "Animal Products/Other Animals",
          "Metals/Other Aluminium Products",
          "Machines/Other Agricultural Machinery",
          "Instruments/Oscilloscopes",
          "Instruments/Orthopedic Appliances",
          "Textiles/Ornamental Trimmings",
          "Stone And Glass/Ornamental Ceramics",
          "Chemical Products/Organo-Sulfur Compounds",
          "Instruments/Opto-Electric Instrument Parts",
          "Instruments/Optical Fibers and optical fibre bundles",
          "Vegetable Products/Onions",
          "Instruments/Other Clocks and Watches",
          "Textiles/Other Cloth Articles",
          "Chemical Products/Other Coloring Matter",
          "Machines/Other Construction Vehicles",
          "Animal Hides/Other Hides and Skins",
          "Machines/Other Heating Machinery",
          "Footwear and Headwear/Other Headwear",
          "Metals/Other Hand Tools",
          "Stone And Glass/Other Glass Articles",
          "Miscellaneous/Other Furniture",
          "Vegetable Products/Other Fruits",
          "Foodstuffs/Other Frozen Vegetables",
          "Chemical Products/Other Inorganic Acids",
          "Footwear and Headwear/Other Footwear",
          "Machines/Other Engines",
          "Machines/Other Electrical Machinery",
          "Foodstuffs/Other Edible Preparations",
          "Animal Products/Other Edible Animal Products",
          "Machines/Other Domestic Electric Housewares",
          "Metals/Other Cutlery",
          "Textiles/Other Cotton Fabrics",
          "Metals/Other Copper Products",
          "Weapons/Other Firearms",
          "Textiles/Non-Knit Women's Undergarments",
          "Animal Products/Molluscs",
          "Paper Goods/Letter Stock",
          "Textiles/Light Mixed Woven Cotton",
          "Textiles/Light Pure Woven Cotton",
          "Textiles/Light Rubberized Knitted Fabric",
          "Textiles/Light Synthetic Cotton Fabrics",
          "Miscellaneous/Lighters",
          "Mineral Products/Lignite",
          "Mineral Products/Limestone",
          "Machines/Liquid Dispersing Machines",
          "Machines/Liquid Fuel Furnaces",
          "Machines/Liquid Pumps",
          "Transportation/Locomotive Parts",
          "Vegetable Products/Locust beans, seaweed, sugar beet, cane, for food",
          "Machines/Low-voltage Protection Equipment",
          "Chemical Products/Lubricating Products",
          "Machines/Machinery Having Individual Functions",
          "Machines/Machines for additive manufacturing",
          "Metals/Magnesium",
          "Mineral Products/Magnesium Carbonate",
          "Foodstuffs/Malt Extract",
          "Paper Goods/Maps",
          "Mineral Products/Marble, Travertine and Alabaster",
          "Miscellaneous/Light Fixtures",
          "Machines/Lifting Machinery",
          "Vegetable Products/Lettuce",
          "Machines/Knitting Machine Accessories",
          "Textiles/Knotted Carpets",
          "Metals/Knives",
          "Machines/Knitting Machines",
          "Machines/Non-Mechanical Removal Machinery",
          "Paper Goods/Kraft Paper",
          "Instruments/LCDs",
          "Textiles/Labels",
          "Stone And Glass/Laboratory Ceramic Ware",
          "Stone And Glass/Laboratory Glassware",
          "Chemical Products/Laboratory Reagents",
          "Miscellaneous/Mattresses",
          "Metals/Large Coated Flat-Rolled Iron",
          "Metals/Large Flat-Rolled Iron",
          "Metals/Large Iron Containers",
          "Mineral Products/Lead Ore",
          "Metals/Lead Sheets",
          "Animal Hides/Leather Apparel",
          "Footwear and Headwear/Leather Footwear",
          "Machines/Leather Machinery",
          "Animal Hides/Leather of Other Animals",
          "Vegetable Products/Legume Flours",
          "Vegetable Products/Legumes",
          "Machines/Large Construction Vehicles",
          "Vegetable Products/Maté",
          "Miscellaneous/Mannequins",
          "Instruments/Medical Instruments",
          "Machines/Motor-working Tools",
          "Miscellaneous/Medical Furniture",
          "Instruments/Musical Instrument Parts",
          "Textiles/Narrow Woven Fabric",
          "Machines/Navigation Equipment",
          "Textiles/Neck Ties",
          "Paper Goods/Newspapers",
          "Paper Goods/Newsprint",
          "Mineral Products/Nickel Ore",
          "Chemical Products/Nitrogen Heterocyclic Compounds",
          "Transportation/Motor vehicles; parts and accessories (8701 to 8705)",
          "Chemical Products/Nitrogenous Fertilizers",
          "Textiles/Non-Knit Active Wear",
          "Textiles/Non-Knit Babies' Garments",
          "Textiles/Non-Knit Gloves",
          "Textiles/Non-Knit Men's Coats",
          "Textiles/Non-Knit Men's Shirts",
          "Textiles/Non-Knit Men's Suits",
          "Textiles/Non-Knit Men's Undergarments",
          "Textiles/Non-Knit Women's Coats",
          "Textiles/Non-Knit Women's Shirts",
          "Textiles/Non-Knit Women's Suits",
          "Mineral Products/Non-Iron and Steel Slag, Ash and Residues",
          "Plastics and Rubbers/Monofilament",
          "Transportation/Motorcycles and cycles",
          "Footwear and Headwear/Knitted Hats",
          "Vegetable Products/Melons",
          "Machines/Metal Finishing Machines",
          "Machines/Metal Insulating Fittings",
          "Machines/Metal Lathes",
          "Machines/Metal Molds",
          "Metals/Metal Mountings",
          "Mineral Products/Molybdenum Ore",
          "Metals/Metal Signs",
          "Metals/Metal Stoppers",
          "Precious Metals/Metal-Clad Products",
          "Metals/Metal Office Supplies",
          "Machines/Metalworking Machines",
          "Chemical Products/Mixed Mineral or Chemical Fertilizers",
          "Machines/Metalworking Machine Parts",
          "Stone And Glass/Milling Stones",
          "Machines/Mill Machinery",
          "Instruments/Mirrors and Lenses",
          "Instruments/Microscopes",
          "Machines/Microphones and Headphones",
          "Chemical Products/Micro-Organism Culture Preparations",
          "Machines/Metalworking Transfer Machines",
          "Animal Products/Milk",
          "Textiles/Terry Fabric",
          "Instruments/Thermostats",
          "Instruments/Therapeutic Appliances",
          "Textiles/Textiles for technical uses",
          "Textiles/Textile Wicks",
          "Textiles/Textile Scraps",
          "Machines/Textile Processing Machines",
          "Footwear and Headwear/Textile Footwear",
          "Instruments/Tensile Testing Machines",
          "Instruments/Surveying Equipment",
          "Vegetable Products/Tea",
          "Machines/Telephones",
          "Chemical Products/Synthetic Coloring Matter",
          "Textiles/Synthetic Fabrics",
          "Textiles/Synthetic Filament Yarn Woven Fabric",
          "Plastics and Rubbers/Synthetic Rubber",
          "Textiles/Synthetic Filament Tow",
          "Animal Hides/Tanned Equine and Bovine Hides",
          "Animal Hides/Tanned Furskins",
          "Animal Hides/Tanned Goat Hides",
          "Animal Hides/Tanned Sheep Hides",
          "Chemical Products/Synthetic Tanning Extracts",
          "Transportation/Buses",
          "Paper Goods/Brochures",
          "Miscellaneous/Brooms",
          "Stone And Glass/Building Stone",
          "Vegetable Products/Bulbs and Roots",
          "Animal Products/Butter",
          "Instruments/Base Metal Watches",
          "Machines/Batteries",
          "Stone And Glass/Bathroom Ceramics",
          "Wood Products/Basketwork",
          "Machines/Broadcasting Equipment",
          "Chemical Products/Bandages",
          "Machines/Ball Bearings",
          "Miscellaneous/Buttons",
          "Machines/Broadcasting Accessories",
          "Stone And Glass/Blown Glass",
          "Instruments/Breathing Appliances",
          "Foodstuffs/Baked Goods",
          "Chemical Products/Antiknock",
          "Arts and Antiques/Antiques",
          "Vegetable Products/Apples and Pears",
          "Foodstuffs/Beer",
          "Metals/Bells and Other Metal Ornaments",
          "Stone And Glass/Bricks",
          "Transportation/Bi-Wheel Vehicle Parts",
          "Mineral Products/Bitumen and asphalt",
          "Machines/Blank Audio Media",
          "Textiles/Blankets",
          "Machines/Boiler Plants",
          "Machines/Book-binding Machines",
          "Animal and Vegetable Bi-Products/Bovine, Sheep, and Goat Fat",
          "Transportation/Bicycles, delivery tricycles, other cycles",
          "Transportation/Baby Carriages",
          "Chemical Products/Beauty Products",
          "Machines/Audio and Video Recording Accessories",
          "Chemical Products/Aqueous Paints",
          "Textiles/Awnings, Tents, and Sails",
          "Paper Goods/Architectural Plans",
          "Textiles/Artificial Filament Sewing Thread",
          "Textiles/Artificial Filament Yarn Woven Fabric",
          "Animal Hides/Artificial Fur",
          "Chemical Products/Artificial Graphite",
          "Machines/Artificial Textile Machinery",
          "Footwear and Headwear/Artificial Vegetation",
          "Textiles/Bedspreads",
          "Stone And Glass/Asbestos Cement Articles",
          "Chemical Products/Artistry Paints",
          "Mineral Products/Asphalt Mixtures",
          "Machines/Audio Alarms",
          "Stone And Glass/Asphalt",
          "Stone And Glass/Asbestos Fibres",
          "Textiles/Wadding",
          "Chemical Products/Vitamins",
          "Miscellaneous/Video and Card Games",
          "Paper Goods/Wallpaper",
          "Metals/Iron Blocks",
          "Metals/Iron Housewares",
          "Metals/Iron Gas Containers",
          "Metals/Iron Fasteners",
          "Metals/Iron Cloth",
          "Metals/Iron Chains",
          "Stone And Glass/Interior Decorative Glassware",
          "Machines/Insulated Wire",
          "Machines/Integrated Circuits",
          "Stone And Glass/Insulating Glass",
          "Instruments/Instructional Models",
          "Chemical Products/Inorganic Compounds",
          "Miscellaneous/Ink Ribbons",
          "Chemical Products/Ink",
          "Animal and Vegetable Bi-Products/Inedible Fats and Oils",
          "Metals/Interchangeable Tool Parts",
          "Machines/Industrial Printers",
          "Animal Hides",
          "Animal Products",
          "Animal and Vegetable Bi-Products",
          "Arts and Antiques",
          "Chemical Products",
          "Foodstuffs",
          "Footwear and Headwear",
          "Instruments",
          "Machines",
          "Metals",
          "Mineral Products",
          "Miscellaneous",
          "Paper Goods",
          "Plastics and Rubbers",
          "Precious Metals",
          "Stone And Glass",
          "Textiles",
          "Transportation",
          "Vegetable Products",
          "Weapons",
          "Wood Products"
         ],
         "labels": [
          "Hops",
          "Hot-Rolled Iron",
          "Industrial Furnaces",
          "Industrial Food Preperation Machinery",
          "Industrial Fatty Acids, Oils and Alcohols",
          "Incomplete Movement Sets",
          "Imitation Jewellery",
          "Hydrometers",
          "Hypochlorites",
          "Hydraulic Turbines",
          "Hydraulic Brake Fluid",
          "Human Hair",
          "Household Washing Machines",
          "House Linens",
          "Hot-Rolled Iron Bars",
          "Hydrogen",
          "Animal Food",
          "Antifreeze",
          "Animal Organs",
          "Animal Extracts",
          "Abrasive Powder",
          "Aluminium Structures",
          "Acrylic Polymers",
          "Activated Carbon",
          "Acyclic Hydrocarbons",
          "Air Conditioners",
          "Air Pumps",
          "Aircraft Parts",
          "Alcohol > 80% ABV",
          "Aldehydes",
          "Aluminium Bars",
          "Aluminium Cans",
          "Aluminium Foil",
          "Aluminium Gas Containers",
          "Aluminium Housewares",
          "Aluminium Pipe Fittings",
          "Aluminium Pipes",
          "Aluminium Plating",
          "Aluminium Powder",
          "Amino-resins",
          "Animal Meal and Pellets",
          "Carbon Paper",
          "Candles",
          "Cameras",
          "Calendars",
          "Cabbages",
          "Calculators",
          "Carbon-based Electronics",
          "Zinc Oxide and Peroxide",
          "Wrenches",
          "X-Ray Equipment",
          "Zinc Ore",
          "Zippers",
          "Ethylene Polymers",
          "Electric Furnaces",
          "Electric Filament",
          "Electric Batteries",
          "Eggs",
          "Edible Offal",
          "Dyeing Finishing Agents",
          "Drilling Machines",
          "Dried Vegetables",
          "Dried Legumes",
          "Dried Fruits",
          "Drafting Tools",
          "Documents of title (bonds etc) and unused stamps",
          "Dictation Machines",
          "Diamonds",
          "Dextrins",
          "Flavored Water",
          "Flax Woven Fabric",
          "Garments of Impregnated Fabric",
          "Garden Tools",
          "Furskin Apparel",
          "Fuel Wood",
          "Fruit Juice",
          "Frozen Vegetables",
          "Electric Generating Sets",
          "Frozen Fruits and Nuts",
          "Fork-Lifts",
          "Forging Machines",
          "Forage Crops",
          "Footwear Parts",
          "Float Glass",
          "Flexible Metal Tubing",
          "Friction Material",
          "Gas Turbines",
          "Electric Heaters",
          "Electric Motors",
          "Fishing Ships",
          "Fish: dried, salted, smoked or in brine",
          "Fish Fillets",
          "Fireworks",
          "Filing Cabinets",
          "Ferroalloys",
          "Fermented Milk Products",
          "Felt or Coated Fabric Garments",
          "Felt Carpets",
          "Felt",
          "Eyewear and Clock Glass",
          "Eyewear Frames",
          "Eyewear",
          "Explosive Ammunition",
          "Excavation Machinery",
          "Flat-Rolled Stainless Steel",
          "Essential Oils",
          "Electric Soldering Equipment",
          "Electrical Capacitors",
          "Electrical Control Boards",
          "Electrical Ignitions",
          "Electrical Lighting and Signalling Equipment",
          "Electrical Parts",
          "Electric Motor Parts",
          "Electrical Power Accessories",
          "Electrical Transformers",
          "Electricity",
          "Electromagnets",
          "Embroidery",
          "Engine Parts",
          "Equine and Bovine Hides",
          "Electrical Resistors",
          "Fishing and Hunting Equipment",
          "Flat panel display modules, whether or not incorporating touch-sensitive screens",
          "Ceramic Bricks",
          "Cobalt",
          "Coated Textile Fabric",
          "Coated Metal Soldering Products",
          "Coated Flat-Rolled Iron",
          "Coal Tar Oil",
          "Coal Briquettes",
          "Clocks with Watch Movements",
          "Cleaning Products",
          "Cocoa Beans",
          "Clays",
          "Citrus",
          "Cigarette Paper",
          "Chromium Ore",
          "Chocolate",
          "Children's Picture Books",
          "Chemical Analysis Instruments",
          "Cheese",
          "Chamois Leather",
          "Citrus and Melon Peels",
          "Chalk",
          "Cocoa Powder",
          "Ceramic Tableware",
          "Carboxylic Acids",
          "Carded Wool or Animal Hair Fabric",
          "Cars",
          "Casein",
          "Cassava",
          "Coconuts, Brazil Nuts, and Cashews",
          "Cast or Rolled Glass",
          "Coffee",
          "Cellulose",
          "Cellulose Fibers Paper",
          "Cement",
          "Cement Articles",
          "Central Heating Boilers",
          "Centrifuges",
          "Coffee and Tea Extracts",
          "Casting Machines",
          "Cereal Flours",
          "Nucleic Acids",
          "Nutmeg, mace and cardamons",
          "Office Machine Parts",
          "Nonaqueous Pigments",
          "Non-Retail Artificial Staple Fibers Sewing Thread",
          "Nonaqueous Paints",
          "Non-woven Textiles",
          "Non-fillet Frozen Fish",
          "Non-fillet Fresh Fish",
          "Non-Retail Pure Cotton Yarn",
          "Non-Retail Mixed Cotton Yarn",
          "Non-Retail Carded Wool Yarn",
          "Non-Retail Synthetic Filament Yarn",
          "Trailers and semi-trailers, not mechanically propelled vehicles",
          "Twine, cordage or rope; knotted netting, made up fishing nets and other made up nets, of textile materials",
          "Twine and Rope",
          "Tulles and Net Fabric",
          "Tufted Carpets",
          "Tobacco Processing Machines",
          "Toilet Paper",
          "Transmissions",
          "Tomatoes",
          "Tropical Fruits",
          "Travel Kits",
          "Tool Sets",
          "Umbrellas",
          "Tractors",
          "Traffic Signals",
          "Trunks and Cases",
          "Uncoated Paper",
          "Veneer Sheets",
          "Unprocessed Synthetic Staple Fibers",
          "Vending Machines",
          "Vehicle Bodies (including cabs) for the motor vehicles (8701 to 8705)",
          "Vegetable or Animal Dyes",
          "Vegetable and Mineral Carvings",
          "Vegetable Saps",
          "Vegetable Plaiting Materials",
          "Vegetable Fiber",
          "Valves",
          "Vacuum Flask",
          "Vacuum Cleaners",
          "Vaccines, blood, antisera, toxins and cultures",
          "Utility Meters",
          "Used Rubber Tires",
          "Vermouth",
          "Unvulcanised Rubber Products",
          "Unglazed Ceramics",
          "Used Clothing",
          "Titanium",
          "Tissue",
          "Video Cameras",
          "Video Displays",
          "Video Recording Equipment",
          "Shaving Products",
          "Shaped Wood",
          "Shaped Paper",
          "Pure Olive Oil",
          "Pumice",
          "Pulley Systems",
          "Propylene Polymers",
          "Processed Tomatoes",
          "Processed Tobacco",
          "Processed Mushrooms",
          "Processed Fish",
          "Processed Egg Products",
          "Processed Bones",
          "Sheep Hides",
          "Printed Circuit Boards",
          "Print Production Machinery",
          "Preserved Vegetables",
          "Prepared Pigments",
          "Prepared Cereals",
          "Prefabricated Buildings",
          "Precious Stones",
          "Precious Metal Watches",
          "Precious Metal Scraps",
          "Railway Passenger Cars",
          "Processed Crustaceans",
          "Railway Track Fixtures",
          "Silicone",
          "Silver",
          "Quilted Textiles",
          "Quaternary Ammonium Salts and Hydroxides",
          "Pyrophoric Alloys",
          "String Instruments",
          "Stranded Iron Wire",
          "Stranded Aluminium Wire",
          "Stone Working Machines",
          "Stone Processing Machines",
          "Steel Wire",
          "Steel Bars",
          "Steam Turbines",
          "Sports Equipment",
          "Spices",
          "Spice Seeds",
          "Special purpose motor vehicles",
          "Special Pharmaceuticals",
          "Spark-Ignition Engines",
          "Sowing Seeds",
          "Soups and Broths",
          "Sound Recording Equipment",
          "Soldering and Welding Machinery",
          "Soil Preparation Machinery",
          "Sodium or Potassium Peroxides",
          "Soap",
          "Smoking Pipes",
          "Small Iron Containers",
          "Slate",
          "Silk Fabrics",
          "Styrene Polymers",
          "Rubber Apparel",
          "Raw Lead",
          "Saddlery",
          "Rubberworking Machinery",
          "Rubber Tires",
          "Rubber Textiles",
          "Rubber Textile Fabric",
          "Rubber Stamps",
          "Rubber Sheets",
          "Rubber Pipes",
          "Rubber Inner Tubes",
          "Rubber Footwear",
          "Rubber Belting",
          "Recovered Paper",
          "Recreational Boats",
          "Refined Petroleum",
          "Refractory Bricks",
          "Refractory Cements",
          "Refrigerators",
          "Retail Artificial Staple Fibers Yarn",
          "Retail Wool or Animal Hair Yarn",
          "Revenue Stamps",
          "Revolution Counters",
          "Rice",
          "Rock Wool",
          "Rolled Tobacco",
          "Rolling Machines",
          "Roofing Tiles",
          "Root Vegetables",
          "Safes",
          "Raw Iron Bars",
          "Safety Glass",
          "Sand",
          "Raw Plastic Sheeting",
          "Raw Sugar",
          "Raw Tobacco",
          "Reaction and Catalytic Products",
          "Reclaimed Rubber",
          "Sewing Machines",
          "Semiconductor Devices",
          "Semi-Finished Iron",
          "Self-adhesive Plastics",
          "Seed Oils",
          "Seats",
          "Sculptures",
          "Scrap Waste",
          "Scrap Rubber",
          "Scrap Plastic",
          "Scrap Iron",
          "Scrap Copper",
          "Scrap Aluminium",
          "Scissors",
          "Scented Mixtures",
          "Scent Sprays",
          "Scarves",
          "Scales",
          "Sawn Wood",
          "Sausages",
          "Sauces and Seasonings",
          "Saturated Acyclic Monocarboxylic Acids",
          "Salt",
          "Raw Aluminium",
          "Railway Cargo Containers",
          "Radio Receivers",
          "Sunflower Seeds",
          "Other Paints",
          "Other Paper Machinery",
          "Other Plastic Products",
          "Other Plastic Sheetings",
          "Other Precious Metal Products",
          "Other Printed Material",
          "Other Processed Fruits and Nuts",
          "Other Processed Vegetables",
          "Other Pure Vegetable Oils",
          "Other Rubber Products",
          "Other Small Iron Pipes",
          "Other Steel Bars",
          "Other Stone Articles",
          "Other Sugars",
          "Other Synthetic Fabrics",
          "Other Uncoated Paper",
          "Other Vegetable Fibers Fabric",
          "Other Vegetable Oils",
          "Other Vegetable Products",
          "Other Ores",
          "Other Oily Seeds",
          "Other Office Machines",
          "Other Nuts",
          "Poultry Meat",
          "Potatoes",
          "Postcards",
          "Portable Lighting",
          "Porcelain Tableware",
          "Polymer Ion-Exchangers",
          "Polycarboxylic Acids",
          "Polyamides",
          "Polyacetals",
          "Polishes and Creams",
          "Plywood",
          "Plastic Wash Basins",
          "Plastic Pipes",
          "Plastic Lids",
          "Plastic Housewares",
          "Plastic Floor Coverings",
          "Plastic Coated Textile Fabric",
          "Other Non-Knit Clothing Accessories",
          "Other Non-Metal Removal Machinery",
          "Other Vegetable Residues",
          "Precious Metal Compounds",
          "Other Vegetable Residues and Waste",
          "Other Vinyl Polymers",
          "Pepper",
          "Perfume Plants",
          "Perfumes",
          "Pesticides",
          "Petroleum Coke",
          "Petroleum Gas",
          "Petroleum Resins",
          "Photocopiers",
          "Photographic Chemicals",
          "Photographic Film",
          "Pianos",
          "Pickled Foods",
          "Pig Meat",
          "Pig and Poultry Fat",
          "Pile Fabric",
          "Pitted Fruits",
          "Plaiting Products",
          "Planes, Helicopters, and/or Spacecraft",
          "Plant foliage",
          "Pens",
          "Pencils and Crayons",
          "Peat",
          "Pearl Products",
          "Other Women's Undergarments",
          "Other Wood Articles",
          "Other Zinc Products",
          "Other live plants, cuttings and slips;\nmushroom spawn",
          "Other toys",
          "Oxygen Amino Compounds",
          "Packaged Medicaments",
          "Packaged Sewing Sets",
          "Packing Bags",
          "Other Vegetables",
          "Padlocks",
          "Paper Containers",
          "Paper Labels",
          "Paper Notebooks",
          "Paper Spools",
          "Papermaking Machines",
          "Particle Board",
          "Party Decorations",
          "Pasta",
          "Patent Leather",
          "Paintings",
          "Plaster Articles",
          "Plastic Building Materials",
          "Confectionery Sugar",
          "Copper Fasteners",
          "Copper Ore",
          "Copper Pipe Fittings",
          "Copper Pipes",
          "Copper Wire",
          "Coral and Shells",
          "Corrugated Paper",
          "Cotton Sewing Thread",
          "Cranes",
          "Crude Petroleum",
          "Crustaceans",
          "Cucumbers",
          "Curbstones",
          "Cut Flowers",
          "Cutlery Sets",
          "Cutting Blades",
          "Dairy Machinery",
          "Decals",
          "Delivery Trucks",
          "Conveyor Belt Textiles",
          "Dental Products",
          "Copper Bars",
          "Copper Alloys",
          "Densified Wood",
          "Collector's Items",
          "Computers",
          "Compounded Unvulcanised Rubber",
          "Composite Paper",
          "Compasses",
          "Combustion Engines",
          "Combs",
          "Combed Wool or Animal Hair Fabric",
          "Cold-Rolled Iron",
          "Coke",
          "Coin",
          "Cooking Hand Tools",
          "Watch Movements",
          "Watch Cases and Parts",
          "Wood Fiberboard",
          "Woven Fabrics",
          "Wood Frames",
          "Washing and Bottling Machines",
          "Woven Fabric of Synthetic Staple Fibers",
          "Wood Kitchenware",
          "Work Trucks",
          "Window Dressings",
          "Wine",
          "Wood Carpentry",
          "Worked Slate",
          "Whey and other milk products",
          "Wind Instruments",
          "Weapons Parts and Accessories",
          "Wheat Flours",
          "Water and Gas Generators",
          "Water",
          "Watch Straps",
          "Wood Ornaments",
          "Wooden Tool Handles",
          "Woodworking machines",
          "Wool",
          "Waterproof Footwear",
          "Wood Crates",
          "Iron Wire",
          "Iron Toiletry",
          "Iron Structures",
          "Iron Oxides and Hydroxides",
          "Iron Springs",
          "Iron Sewing Needles",
          "Iron Radiators",
          "Iron Pipes",
          "Iron Pipe Fittings",
          "Jams",
          "Iron Ore",
          "Iron Nails",
          "Iron Stovetops",
          "Jewellery",
          "Knit Gloves",
          "Kaolin Coated Paper",
          "Knit Women's Undergarments",
          "Knit Women's Suits",
          "Knit Women's Shirts",
          "Knit Women's Coats",
          "Kaolin",
          "Knit Sweaters",
          "Knit Socks and Hosiery",
          "Knit T-shirts",
          "Knit Men's Suits",
          "Knit Men's Shirts",
          "Knit Men's Coats",
          "Knit Babies' Garments",
          "Knit Active Wear",
          "Ketones and Quinones",
          "Knit Men's Undergarments",
          "Headbands and Linings",
          "Honey",
          "High-voltage Protection Equipment",
          "Heavy Synthetic Cotton Fabrics",
          "Heavy Pure Woven Cotton",
          "Heavy Mixed Woven Cotton",
          "Hats",
          "Hair Trimmers",
          "Harvesting Machinery",
          "Gas and Liquid Flow Measuring Instruments",
          "Gaskets",
          "Glands and Other Organs",
          "Glass Beads",
          "Glass Bottles",
          "Glass Bricks",
          "Glass Bulbs",
          "Hat Forms",
          "Glass Mirrors",
          "Glass Scraps",
          "Glass with Edge Workings",
          "Glues",
          "Gold",
          "Glass Fibers",
          "Grapes",
          "Granite",
          "Hard Liquor",
          "Handkerchiefs",
          "Handguns",
          "Hand-Woven Rugs",
          "Hand Tools",
          "Glaziers Putty",
          "Hair Products",
          "Gypsum",
          "Gum Coated Textile Fabric",
          "Gravel and Crushed Stone",
          "Graphite",
          "Hand Saws",
          "Other Iron Bars",
          "Other Iron Products",
          "Other Knit Clothing Accessories",
          "Other Knit Garments",
          "Other Meat",
          "Other Measuring Instruments",
          "Other Metal Fasteners",
          "Other Metals",
          "Other Mineral",
          "Other Leather Articles",
          "Other Nickel Products",
          "Other Floating Structures",
          "Other Inedible Animal Products",
          "Other Clocks",
          "Other Ceramic Articles",
          "Other Cast Iron Products",
          "Other Carpets",
          "Other Carbon Paper",
          "Other Articles of Twine and Rope",
          "Other Animals",
          "Other Aluminium Products",
          "Other Agricultural Machinery",
          "Oscilloscopes",
          "Orthopedic Appliances",
          "Ornamental Trimmings",
          "Ornamental Ceramics",
          "Organo-Sulfur Compounds",
          "Opto-Electric Instrument Parts",
          "Optical Fibers and optical fibre bundles",
          "Onions",
          "Other Clocks and Watches",
          "Other Cloth Articles",
          "Other Coloring Matter",
          "Other Construction Vehicles",
          "Other Hides and Skins",
          "Other Heating Machinery",
          "Other Headwear",
          "Other Hand Tools",
          "Other Glass Articles",
          "Other Furniture",
          "Other Fruits",
          "Other Frozen Vegetables",
          "Other Inorganic Acids",
          "Other Footwear",
          "Other Engines",
          "Other Electrical Machinery",
          "Other Edible Preparations",
          "Other Edible Animal Products",
          "Other Domestic Electric Housewares",
          "Other Cutlery",
          "Other Cotton Fabrics",
          "Other Copper Products",
          "Other Firearms",
          "Non-Knit Women's Undergarments",
          "Molluscs",
          "Letter Stock",
          "Light Mixed Woven Cotton",
          "Light Pure Woven Cotton",
          "Light Rubberized Knitted Fabric",
          "Light Synthetic Cotton Fabrics",
          "Lighters",
          "Lignite",
          "Limestone",
          "Liquid Dispersing Machines",
          "Liquid Fuel Furnaces",
          "Liquid Pumps",
          "Locomotive Parts",
          "Locust beans, seaweed, sugar beet, cane, for food",
          "Low-voltage Protection Equipment",
          "Lubricating Products",
          "Machinery Having Individual Functions",
          "Machines for additive manufacturing",
          "Magnesium",
          "Magnesium Carbonate",
          "Malt Extract",
          "Maps",
          "Marble, Travertine and Alabaster",
          "Light Fixtures",
          "Lifting Machinery",
          "Lettuce",
          "Knitting Machine Accessories",
          "Knotted Carpets",
          "Knives",
          "Knitting Machines",
          "Non-Mechanical Removal Machinery",
          "Kraft Paper",
          "LCDs",
          "Labels",
          "Laboratory Ceramic Ware",
          "Laboratory Glassware",
          "Laboratory Reagents",
          "Mattresses",
          "Large Coated Flat-Rolled Iron",
          "Large Flat-Rolled Iron",
          "Large Iron Containers",
          "Lead Ore",
          "Lead Sheets",
          "Leather Apparel",
          "Leather Footwear",
          "Leather Machinery",
          "Leather of Other Animals",
          "Legume Flours",
          "Legumes",
          "Large Construction Vehicles",
          "Maté",
          "Mannequins",
          "Medical Instruments",
          "Motor-working Tools",
          "Medical Furniture",
          "Musical Instrument Parts",
          "Narrow Woven Fabric",
          "Navigation Equipment",
          "Neck Ties",
          "Newspapers",
          "Newsprint",
          "Nickel Ore",
          "Nitrogen Heterocyclic Compounds",
          "Motor vehicles; parts and accessories (8701 to 8705)",
          "Nitrogenous Fertilizers",
          "Non-Knit Active Wear",
          "Non-Knit Babies' Garments",
          "Non-Knit Gloves",
          "Non-Knit Men's Coats",
          "Non-Knit Men's Shirts",
          "Non-Knit Men's Suits",
          "Non-Knit Men's Undergarments",
          "Non-Knit Women's Coats",
          "Non-Knit Women's Shirts",
          "Non-Knit Women's Suits",
          "Non-Iron and Steel Slag, Ash and Residues",
          "Monofilament",
          "Motorcycles and cycles",
          "Knitted Hats",
          "Melons",
          "Metal Finishing Machines",
          "Metal Insulating Fittings",
          "Metal Lathes",
          "Metal Molds",
          "Metal Mountings",
          "Molybdenum Ore",
          "Metal Signs",
          "Metal Stoppers",
          "Metal-Clad Products",
          "Metal Office Supplies",
          "Metalworking Machines",
          "Mixed Mineral or Chemical Fertilizers",
          "Metalworking Machine Parts",
          "Milling Stones",
          "Mill Machinery",
          "Mirrors and Lenses",
          "Microscopes",
          "Microphones and Headphones",
          "Micro-Organism Culture Preparations",
          "Metalworking Transfer Machines",
          "Milk",
          "Terry Fabric",
          "Thermostats",
          "Therapeutic Appliances",
          "Textiles for technical uses",
          "Textile Wicks",
          "Textile Scraps",
          "Textile Processing Machines",
          "Textile Footwear",
          "Tensile Testing Machines",
          "Surveying Equipment",
          "Tea",
          "Telephones",
          "Synthetic Coloring Matter",
          "Synthetic Fabrics",
          "Synthetic Filament Yarn Woven Fabric",
          "Synthetic Rubber",
          "Synthetic Filament Tow",
          "Tanned Equine and Bovine Hides",
          "Tanned Furskins",
          "Tanned Goat Hides",
          "Tanned Sheep Hides",
          "Synthetic Tanning Extracts",
          "Buses",
          "Brochures",
          "Brooms",
          "Building Stone",
          "Bulbs and Roots",
          "Butter",
          "Base Metal Watches",
          "Batteries",
          "Bathroom Ceramics",
          "Basketwork",
          "Broadcasting Equipment",
          "Bandages",
          "Ball Bearings",
          "Buttons",
          "Broadcasting Accessories",
          "Blown Glass",
          "Breathing Appliances",
          "Baked Goods",
          "Antiknock",
          "Antiques",
          "Apples and Pears",
          "Beer",
          "Bells and Other Metal Ornaments",
          "Bricks",
          "Bi-Wheel Vehicle Parts",
          "Bitumen and asphalt",
          "Blank Audio Media",
          "Blankets",
          "Boiler Plants",
          "Book-binding Machines",
          "Bovine, Sheep, and Goat Fat",
          "Bicycles, delivery tricycles, other cycles",
          "Baby Carriages",
          "Beauty Products",
          "Audio and Video Recording Accessories",
          "Aqueous Paints",
          "Awnings, Tents, and Sails",
          "Architectural Plans",
          "Artificial Filament Sewing Thread",
          "Artificial Filament Yarn Woven Fabric",
          "Artificial Fur",
          "Artificial Graphite",
          "Artificial Textile Machinery",
          "Artificial Vegetation",
          "Bedspreads",
          "Asbestos Cement Articles",
          "Artistry Paints",
          "Asphalt Mixtures",
          "Audio Alarms",
          "Asphalt",
          "Asbestos Fibres",
          "Wadding",
          "Vitamins",
          "Video and Card Games",
          "Wallpaper",
          "Iron Blocks",
          "Iron Housewares",
          "Iron Gas Containers",
          "Iron Fasteners",
          "Iron Cloth",
          "Iron Chains",
          "Interior Decorative Glassware",
          "Insulated Wire",
          "Integrated Circuits",
          "Insulating Glass",
          "Instructional Models",
          "Inorganic Compounds",
          "Ink Ribbons",
          "Ink",
          "Inedible Fats and Oils",
          "Interchangeable Tool Parts",
          "Industrial Printers",
          "Animal Hides",
          "Animal Products",
          "Animal and Vegetable Bi-Products",
          "Arts and Antiques",
          "Chemical Products",
          "Foodstuffs",
          "Footwear and Headwear",
          "Instruments",
          "Machines",
          "Metals",
          "Mineral Products",
          "Miscellaneous",
          "Paper Goods",
          "Plastics and Rubbers",
          "Precious Metals",
          "Stone And Glass",
          "Textiles",
          "Transportation",
          "Vegetable Products",
          "Weapons",
          "Wood Products"
         ],
         "marker": {
          "colors": [
           "#f4ce0f",
           "#aa7329",
           "#2e97ff",
           "#2e97ff",
           "#ed40f2",
           "#9e0071",
           "#892eff",
           "#9e0071",
           "#ed40f2",
           "#2e97ff",
           "#ed40f2",
           "#ed40f2",
           "#2e97ff",
           "#02a347",
           "#aa7329",
           "#ed40f2",
           "#a0d447",
           "#ed40f2",
           "#ed40f2",
           "#a0d447",
           "#f57d41",
           "#aa7329",
           "#ff73ff",
           "#ed40f2",
           "#ed40f2",
           "#2e97ff",
           "#2e97ff",
           "#69c8ed",
           "#a0d447",
           "#ed40f2",
           "#aa7329",
           "#aa7329",
           "#aa7329",
           "#aa7329",
           "#aa7329",
           "#aa7329",
           "#aa7329",
           "#aa7329",
           "#aa7329",
           "#ff73ff",
           "#a0d447",
           "#efdc81",
           "#ed40f2",
           "#9e0071",
           "#efdc81",
           "#f4ce0f",
           "#2e97ff",
           "#2e97ff",
           "#ed40f2",
           "#aa7329",
           "#9e0071",
           "#a53200",
           "#9c9fb2",
           "#ff73ff",
           "#2e97ff",
           "#2e97ff",
           "#2e97ff",
           "#ed40f2",
           "#ed40f2",
           "#ed40f2",
           "#2e97ff",
           "#f4ce0f",
           "#f4ce0f",
           "#f4ce0f",
           "#9e0071",
           "#efdc81",
           "#2e97ff",
           "#892eff",
           "#ed40f2",
           "#a0d447",
           "#02a347",
           "#02a347",
           "#aa7329",
           "#75f1b4",
           "#dd0e31",
           "#a0d447",
           "#f4ce0f",
           "#2e97ff",
           "#f4ce0f",
           "#2e97ff",
           "#2e97ff",
           "#f4ce0f",
           "#2cba0f",
           "#f57d41",
           "#aa7329",
           "#f57d41",
           "#2e97ff",
           "#2e97ff",
           "#2e97ff",
           "#69c8ed",
           "#ed40f2",
           "#ed40f2",
           "#ed40f2",
           "#aa7329",
           "#aa7329",
           "#ed40f2",
           "#02a347",
           "#02a347",
           "#02a347",
           "#f57d41",
           "#9e0071",
           "#9e0071",
           "#9cf2cf",
           "#2e97ff",
           "#aa7329",
           "#ed40f2",
           "#2e97ff",
           "#2e97ff",
           "#2e97ff",
           "#2e97ff",
           "#2e97ff",
           "#2e97ff",
           "#2e97ff",
           "#2e97ff",
           "#2e97ff",
           "#a53200",
           "#2e97ff",
           "#02a347",
           "#2e97ff",
           "#75f1b4",
           "#2e97ff",
           "#9c9fb2",
           "#2e97ff",
           "#f57d41",
           "#aa7329",
           "#02a347",
           "#aa7329",
           "#aa7329",
           "#a53200",
           "#a53200",
           "#9e0071",
           "#ed40f2",
           "#a0d447",
           "#a53200",
           "#f4ce0f",
           "#efdc81",
           "#a53200",
           "#a0d447",
           "#efdc81",
           "#9e0071",
           "#ed40f2",
           "#75f1b4",
           "#f4ce0f",
           "#a53200",
           "#a0d447",
           "#f57d41",
           "#ed40f2",
           "#02a347",
           "#69c8ed",
           "#ed40f2",
           "#f4ce0f",
           "#f4ce0f",
           "#f57d41",
           "#f4ce0f",
           "#ff73ff",
           "#efdc81",
           "#a53200",
           "#f57d41",
           "#2e97ff",
           "#2e97ff",
           "#a0d447",
           "#2e97ff",
           "#f4ce0f",
           "#ed40f2",
           "#f4ce0f",
           "#2e97ff",
           "#ed40f2",
           "#02a347",
           "#ed40f2",
           "#02a347",
           "#ed40f2",
           "#ed40f2",
           "#02a347",
           "#02a347",
           "#02a347",
           "#02a347",
           "#69c8ed",
           "#02a347",
           "#02a347",
           "#02a347",
           "#02a347",
           "#2e97ff",
           "#efdc81",
           "#2e97ff",
           "#f4ce0f",
           "#f4ce0f",
           "#9c9fb2",
           "#aa7329",
           "#2cba0f",
           "#69c8ed",
           "#2e97ff",
           "#75f1b4",
           "#efdc81",
           "#dd0e31",
           "#02a347",
           "#2e97ff",
           "#69c8ed",
           "#ed40f2",
           "#9c9fb2",
           "#f4ce0f",
           "#f4ce0f",
           "#f57d41",
           "#2e97ff",
           "#9c9fb2",
           "#2e97ff",
           "#ed40f2",
           "#9e0071",
           "#ff73ff",
           "#a0d447",
           "#ff73ff",
           "#f57d41",
           "#02a347",
           "#aa7329",
           "#efdc81",
           "#9e0071",
           "#2e97ff",
           "#2e97ff",
           "#ed40f2",
           "#dd0e31",
           "#efdc81",
           "#edbd53",
           "#a53200",
           "#2e97ff",
           "#ff73ff",
           "#a0d447",
           "#a0d447",
           "#a0d447",
           "#a0d447",
           "#ed40f2",
           "#ed40f2",
           "#75f1b4",
           "#2e97ff",
           "#2e97ff",
           "#f4ce0f",
           "#ed40f2",
           "#a0d447",
           "#9c9fb2",
           "#892eff",
           "#9e0071",
           "#892eff",
           "#69c8ed",
           "#a0d447",
           "#69c8ed",
           "#ff73ff",
           "#892eff",
           "#02a347",
           "#ed40f2",
           "#ed40f2",
           "#9e0071",
           "#aa7329",
           "#aa7329",
           "#2e97ff",
           "#2e97ff",
           "#aa7329",
           "#aa7329",
           "#2e97ff",
           "#9c9fb2",
           "#f4ce0f",
           "#f4ce0f",
           "#69c8ed",
           "#ed40f2",
           "#2e97ff",
           "#f4ce0f",
           "#a0d447",
           "#2e97ff",
           "#2e97ff",
           "#2e97ff",
           "#ed40f2",
           "#ed40f2",
           "#9c9fb2",
           "#aa7329",
           "#a53200",
           "#02a347",
           "#ff73ff",
           "#ff73ff",
           "#aa7329",
           "#75f1b4",
           "#2e97ff",
           "#ff73ff",
           "#02a347",
           "#02a347",
           "#9c9fb2",
           "#ff73ff",
           "#ff73ff",
           "#ff73ff",
           "#2cba0f",
           "#ff73ff",
           "#efdc81",
           "#69c8ed",
           "#a53200",
           "#f57d41",
           "#ed40f2",
           "#2e97ff",
           "#02a347",
           "#02a347",
           "#847290",
           "#9e0071",
           "#f4ce0f",
           "#f57d41",
           "#a0d447",
           "#2e97ff",
           "#f57d41",
           "#f4ce0f",
           "#aa7329",
           "#aa7329",
           "#f57d41",
           "#a53200",
           "#ff73ff",
           "#a0d447",
           "#a0d447",
           "#ed40f2",
           "#ff73ff",
           "#2e97ff",
           "#2e97ff",
           "#aa7329",
           "#ff73ff",
           "#edbd53",
           "#9c9fb2",
           "#847290",
           "#aa7329",
           "#ff73ff",
           "#ff73ff",
           "#aa7329",
           "#aa7329",
           "#aa7329",
           "#aa7329",
           "#ed40f2",
           "#9c9fb2",
           "#02a347",
           "#2e97ff",
           "#dd0e31",
           "#a0d447",
           "#a0d447",
           "#ed40f2",
           "#a53200",
           "#aa7329",
           "#69c8ed",
           "#2e97ff",
           "#f4ce0f",
           "#ed40f2",
           "#2e97ff",
           "#ff73ff",
           "#ff73ff",
           "#892eff",
           "#efdc81",
           "#a0d447",
           "#a0d447",
           "#edbd53",
           "#ff73ff",
           "#aa7329",
           "#aa7329",
           "#f57d41",
           "#a0d447",
           "#02a347",
           "#efdc81",
           "#02a347",
           "#edbd53",
           "#f4ce0f",
           "#a53200",
           "#f4ce0f",
           "#2e97ff",
           "#f4ce0f",
           "#ed40f2",
           "#f4ce0f",
           "#efdc81",
           "#2e97ff",
           "#f57d41",
           "#ff73ff",
           "#ed40f2",
           "#ff73ff",
           "#ff73ff",
           "#ed40f2",
           "#dd0e31",
           "#ff73ff",
           "#ff73ff",
           "#ff73ff",
           "#ff73ff",
           "#ff73ff",
           "#02a347",
           "#02a347",
           "#2e97ff",
           "#a0d447",
           "#ed40f2",
           "#a0d447",
           "#ff73ff",
           "#f4ce0f",
           "#f4ce0f",
           "#ed40f2",
           "#ed40f2",
           "#a53200",
           "#a53200",
           "#ff73ff",
           "#9e0071",
           "#ed40f2",
           "#ed40f2",
           "#9e0071",
           "#a0d447",
           "#ed40f2",
           "#edbd53",
           "#02a347",
           "#f4ce0f",
           "#dd0e31",
           "#69c8ed",
           "#f4ce0f",
           "#9c9fb2",
           "#9c9fb2",
           "#a53200",
           "#892eff",
           "#02a347",
           "#dd0e31",
           "#aa7329",
           "#f4ce0f",
           "#9c9fb2",
           "#ed40f2",
           "#ed40f2",
           "#02a347",
           "#02a347",
           "#f4ce0f",
           "#aa7329",
           "#efdc81",
           "#efdc81",
           "#efdc81",
           "#efdc81",
           "#2e97ff",
           "#dd0e31",
           "#9c9fb2",
           "#a0d447",
           "#75f1b4",
           "#847290",
           "#f57d41",
           "#ff73ff",
           "#a0d447",
           "#aa7329",
           "#a53200",
           "#aa7329",
           "#aa7329",
           "#aa7329",
           "#ed40f2",
           "#efdc81",
           "#02a347",
           "#2e97ff",
           "#a53200",
           "#ed40f2",
           "#f4ce0f",
           "#f57d41",
           "#f4ce0f",
           "#aa7329",
           "#aa7329",
           "#2e97ff",
           "#efdc81",
           "#69c8ed",
           "#02a347",
           "#ed40f2",
           "#aa7329",
           "#aa7329",
           "#dd0e31",
           "#847290",
           "#2e97ff",
           "#ff73ff",
           "#efdc81",
           "#9e0071",
           "#2e97ff",
           "#9c9fb2",
           "#02a347",
           "#aa7329",
           "#a53200",
           "#892eff",
           "#aa7329",
           "#9e0071",
           "#9e0071",
           "#dd0e31",
           "#02a347",
           "#dd0e31",
           "#2e97ff",
           "#02a347",
           "#dd0e31",
           "#69c8ed",
           "#02a347",
           "#a0d447",
           "#dd0e31",
           "#f57d41",
           "#ed40f2",
           "#9e0071",
           "#9cf2cf",
           "#f4ce0f",
           "#2e97ff",
           "#a0d447",
           "#9e0071",
           "#dd0e31",
           "#dd0e31",
           "#2e97ff",
           "#02a347",
           "#2cba0f",
           "#dd0e31",
           "#aa7329",
           "#aa7329",
           "#aa7329",
           "#ed40f2",
           "#aa7329",
           "#aa7329",
           "#aa7329",
           "#aa7329",
           "#aa7329",
           "#a0d447",
           "#a53200",
           "#aa7329",
           "#aa7329",
           "#892eff",
           "#02a347",
           "#efdc81",
           "#02a347",
           "#02a347",
           "#02a347",
           "#02a347",
           "#a53200",
           "#02a347",
           "#02a347",
           "#02a347",
           "#02a347",
           "#02a347",
           "#02a347",
           "#02a347",
           "#02a347",
           "#ed40f2",
           "#02a347",
           "#2cba0f",
           "#ed40f2",
           "#2e97ff",
           "#02a347",
           "#02a347",
           "#02a347",
           "#2cba0f",
           "#2e97ff",
           "#2e97ff",
           "#9e0071",
           "#2e97ff",
           "#ed40f2",
           "#f57d41",
           "#f57d41",
           "#f57d41",
           "#f57d41",
           "#2cba0f",
           "#f57d41",
           "#f57d41",
           "#f57d41",
           "#ed40f2",
           "#892eff",
           "#f57d41",
           "#f4ce0f",
           "#a53200",
           "#a0d447",
           "#02a347",
           "#9cf2cf",
           "#02a347",
           "#aa7329",
           "#ed40f2",
           "#ed40f2",
           "#a53200",
           "#02a347",
           "#a53200",
           "#a53200",
           "#aa7329",
           "#aa7329",
           "#aa7329",
           "#02a347",
           "#02a347",
           "#ed40f2",
           "#9e0071",
           "#aa7329",
           "#aa7329",
           "#a53200",
           "#75f1b4",
           "#aa7329",
           "#69c8ed",
           "#ed40f2",
           "#9e0071",
           "#f57d41",
           "#aa7329",
           "#02a347",
           "#efdc81",
           "#02a347",
           "#ed40f2",
           "#aa7329",
           "#2e97ff",
           "#9e0071",
           "#9e0071",
           "#02a347",
           "#f57d41",
           "#ed40f2",
           "#9e0071",
           "#9e0071",
           "#f4ce0f",
           "#9e0071",
           "#02a347",
           "#ed40f2",
           "#2e97ff",
           "#75f1b4",
           "#2e97ff",
           "#2cba0f",
           "#aa7329",
           "#f57d41",
           "#9c9fb2",
           "#f4ce0f",
           "#a0d447",
           "#ed40f2",
           "#2cba0f",
           "#2e97ff",
           "#2e97ff",
           "#a0d447",
           "#ed40f2",
           "#2e97ff",
           "#aa7329",
           "#02a347",
           "#aa7329",
           "#9cf2cf",
           "#02a347",
           "#ed40f2",
           "#efdc81",
           "#02a347",
           "#02a347",
           "#02a347",
           "#02a347",
           "#9c9fb2",
           "#a53200",
           "#a53200",
           "#2e97ff",
           "#2e97ff",
           "#2e97ff",
           "#69c8ed",
           "#f4ce0f",
           "#2e97ff",
           "#ed40f2",
           "#2e97ff",
           "#2e97ff",
           "#aa7329",
           "#a53200",
           "#a0d447",
           "#efdc81",
           "#a53200",
           "#9c9fb2",
           "#2e97ff",
           "#f4ce0f",
           "#2e97ff",
           "#02a347",
           "#aa7329",
           "#2e97ff",
           "#2e97ff",
           "#efdc81",
           "#9e0071",
           "#02a347",
           "#f57d41",
           "#f57d41",
           "#ed40f2",
           "#9c9fb2",
           "#aa7329",
           "#aa7329",
           "#aa7329",
           "#a53200",
           "#aa7329",
           "#75f1b4",
           "#2cba0f",
           "#2e97ff",
           "#75f1b4",
           "#f4ce0f",
           "#f4ce0f",
           "#2e97ff",
           "#f4ce0f",
           "#9c9fb2",
           "#9e0071",
           "#2e97ff",
           "#9c9fb2",
           "#9e0071",
           "#02a347",
           "#2e97ff",
           "#02a347",
           "#efdc81",
           "#efdc81",
           "#a53200",
           "#ed40f2",
           "#69c8ed",
           "#ed40f2",
           "#02a347",
           "#02a347",
           "#02a347",
           "#02a347",
           "#02a347",
           "#02a347",
           "#02a347",
           "#02a347",
           "#02a347",
           "#02a347",
           "#a53200",
           "#ff73ff",
           "#69c8ed",
           "#2cba0f",
           "#f4ce0f",
           "#2e97ff",
           "#2e97ff",
           "#2e97ff",
           "#2e97ff",
           "#aa7329",
           "#a53200",
           "#aa7329",
           "#aa7329",
           "#892eff",
           "#aa7329",
           "#2e97ff",
           "#ed40f2",
           "#2e97ff",
           "#f57d41",
           "#2e97ff",
           "#9e0071",
           "#9e0071",
           "#2e97ff",
           "#ed40f2",
           "#2e97ff",
           "#ed40f2",
           "#02a347",
           "#9e0071",
           "#9e0071",
           "#02a347",
           "#02a347",
           "#02a347",
           "#2e97ff",
           "#2cba0f",
           "#9e0071",
           "#9e0071",
           "#f4ce0f",
           "#2e97ff",
           "#ed40f2",
           "#02a347",
           "#02a347",
           "#ff73ff",
           "#02a347",
           "#75f1b4",
           "#75f1b4",
           "#75f1b4",
           "#75f1b4",
           "#ed40f2",
           "#69c8ed",
           "#efdc81",
           "#9c9fb2",
           "#f57d41",
           "#f4ce0f",
           "#ed40f2",
           "#9e0071",
           "#2e97ff",
           "#f57d41",
           "#dd0e31",
           "#2e97ff",
           "#ed40f2",
           "#2e97ff",
           "#9c9fb2",
           "#2e97ff",
           "#f57d41",
           "#9e0071",
           "#a0d447",
           "#ed40f2",
           "#847290",
           "#f4ce0f",
           "#a0d447",
           "#aa7329",
           "#f57d41",
           "#69c8ed",
           "#a53200",
           "#2e97ff",
           "#02a347",
           "#2e97ff",
           "#2e97ff",
           "#edbd53",
           "#69c8ed",
           "#69c8ed",
           "#ed40f2",
           "#2e97ff",
           "#ed40f2",
           "#02a347",
           "#efdc81",
           "#02a347",
           "#02a347",
           "#75f1b4",
           "#ed40f2",
           "#2e97ff",
           "#2cba0f",
           "#02a347",
           "#f57d41",
           "#ed40f2",
           "#a53200",
           "#2e97ff",
           "#f57d41",
           "#f57d41",
           "#02a347",
           "#ed40f2",
           "#9c9fb2",
           "#efdc81",
           "#aa7329",
           "#aa7329",
           "#aa7329",
           "#aa7329",
           "#aa7329",
           "#aa7329",
           "#f57d41",
           "#2e97ff",
           "#2e97ff",
           "#f57d41",
           "#9e0071",
           "#ed40f2",
           "#9c9fb2",
           "#ed40f2",
           "#edbd53",
           "#aa7329",
           "#2e97ff",
           "#75f1b4",
           "#ed40f2",
           "#edbd53",
           "#847290",
           "#ed40f2",
           "#a0d447",
           "#2cba0f",
           "#9e0071",
           "#2e97ff",
           "#aa7329",
           "#a53200",
           "#9c9fb2",
           "#efdc81",
           "#ff73ff",
           "#892eff",
           "#f57d41",
           "#02a347",
           "#69c8ed",
           "#f4ce0f",
           "#9cf2cf",
           "#dd0e31"
          ]
         },
         "name": "",
         "parents": [
          "Vegetable Products",
          "Metals",
          "Machines",
          "Machines",
          "Chemical Products",
          "Instruments",
          "Precious Metals",
          "Instruments",
          "Chemical Products",
          "Machines",
          "Chemical Products",
          "Animal Products",
          "Machines",
          "Textiles",
          "Metals",
          "Chemical Products",
          "Foodstuffs",
          "Chemical Products",
          "Animal Products",
          "Foodstuffs",
          "Stone And Glass",
          "Metals",
          "Plastics and Rubbers",
          "Chemical Products",
          "Chemical Products",
          "Machines",
          "Machines",
          "Transportation",
          "Foodstuffs",
          "Chemical Products",
          "Metals",
          "Metals",
          "Metals",
          "Metals",
          "Metals",
          "Metals",
          "Metals",
          "Metals",
          "Metals",
          "Plastics and Rubbers",
          "Foodstuffs",
          "Paper Goods",
          "Chemical Products",
          "Instruments",
          "Paper Goods",
          "Vegetable Products",
          "Machines",
          "Machines",
          "Chemical Products",
          "Metals",
          "Instruments",
          "Mineral Products",
          "Miscellaneous",
          "Plastics and Rubbers",
          "Machines",
          "Machines",
          "Machines",
          "Animal Products",
          "Animal Products",
          "Chemical Products",
          "Machines",
          "Vegetable Products",
          "Vegetable Products",
          "Vegetable Products",
          "Instruments",
          "Paper Goods",
          "Machines",
          "Precious Metals",
          "Chemical Products",
          "Foodstuffs",
          "Textiles",
          "Textiles",
          "Metals",
          "Animal Hides",
          "Wood Products",
          "Foodstuffs",
          "Vegetable Products",
          "Machines",
          "Vegetable Products",
          "Machines",
          "Machines",
          "Vegetable Products",
          "Footwear and Headwear",
          "Stone And Glass",
          "Metals",
          "Stone And Glass",
          "Machines",
          "Machines",
          "Machines",
          "Transportation",
          "Animal Products",
          "Animal Products",
          "Chemical Products",
          "Metals",
          "Metals",
          "Animal Products",
          "Textiles",
          "Textiles",
          "Textiles",
          "Stone And Glass",
          "Instruments",
          "Instruments",
          "Weapons",
          "Machines",
          "Metals",
          "Chemical Products",
          "Machines",
          "Machines",
          "Machines",
          "Machines",
          "Machines",
          "Machines",
          "Machines",
          "Machines",
          "Machines",
          "Mineral Products",
          "Machines",
          "Textiles",
          "Machines",
          "Animal Hides",
          "Machines",
          "Miscellaneous",
          "Machines",
          "Stone And Glass",
          "Metals",
          "Textiles",
          "Metals",
          "Metals",
          "Mineral Products",
          "Mineral Products",
          "Instruments",
          "Chemical Products",
          "Foodstuffs",
          "Mineral Products",
          "Vegetable Products",
          "Paper Goods",
          "Mineral Products",
          "Foodstuffs",
          "Paper Goods",
          "Instruments",
          "Animal Products",
          "Animal Hides",
          "Vegetable Products",
          "Mineral Products",
          "Foodstuffs",
          "Stone And Glass",
          "Chemical Products",
          "Textiles",
          "Transportation",
          "Chemical Products",
          "Vegetable Products",
          "Vegetable Products",
          "Stone And Glass",
          "Vegetable Products",
          "Plastics and Rubbers",
          "Paper Goods",
          "Mineral Products",
          "Stone And Glass",
          "Machines",
          "Machines",
          "Foodstuffs",
          "Machines",
          "Vegetable Products",
          "Chemical Products",
          "Vegetable Products",
          "Machines",
          "Chemical Products",
          "Textiles",
          "Chemical Products",
          "Textiles",
          "Animal Products",
          "Animal Products",
          "Textiles",
          "Textiles",
          "Textiles",
          "Textiles",
          "Transportation",
          "Textiles",
          "Textiles",
          "Textiles",
          "Textiles",
          "Machines",
          "Paper Goods",
          "Machines",
          "Vegetable Products",
          "Vegetable Products",
          "Miscellaneous",
          "Metals",
          "Footwear and Headwear",
          "Transportation",
          "Machines",
          "Animal Hides",
          "Paper Goods",
          "Wood Products",
          "Textiles",
          "Machines",
          "Transportation",
          "Chemical Products",
          "Miscellaneous",
          "Vegetable Products",
          "Vegetable Products",
          "Stone And Glass",
          "Machines",
          "Miscellaneous",
          "Machines",
          "Chemical Products",
          "Instruments",
          "Plastics and Rubbers",
          "Foodstuffs",
          "Plastics and Rubbers",
          "Stone And Glass",
          "Textiles",
          "Metals",
          "Paper Goods",
          "Instruments",
          "Machines",
          "Machines",
          "Chemical Products",
          "Wood Products",
          "Paper Goods",
          "Animal and Vegetable Bi-Products",
          "Mineral Products",
          "Machines",
          "Plastics and Rubbers",
          "Foodstuffs",
          "Foodstuffs",
          "Foodstuffs",
          "Foodstuffs",
          "Animal Products",
          "Animal Products",
          "Animal Hides",
          "Machines",
          "Machines",
          "Vegetable Products",
          "Chemical Products",
          "Foodstuffs",
          "Miscellaneous",
          "Precious Metals",
          "Instruments",
          "Precious Metals",
          "Transportation",
          "Foodstuffs",
          "Transportation",
          "Plastics and Rubbers",
          "Precious Metals",
          "Textiles",
          "Chemical Products",
          "Chemical Products",
          "Instruments",
          "Metals",
          "Metals",
          "Machines",
          "Machines",
          "Metals",
          "Metals",
          "Machines",
          "Miscellaneous",
          "Vegetable Products",
          "Vegetable Products",
          "Transportation",
          "Chemical Products",
          "Machines",
          "Vegetable Products",
          "Foodstuffs",
          "Machines",
          "Machines",
          "Machines",
          "Chemical Products",
          "Chemical Products",
          "Miscellaneous",
          "Metals",
          "Mineral Products",
          "Textiles",
          "Plastics and Rubbers",
          "Plastics and Rubbers",
          "Metals",
          "Animal Hides",
          "Machines",
          "Plastics and Rubbers",
          "Textiles",
          "Textiles",
          "Miscellaneous",
          "Plastics and Rubbers",
          "Plastics and Rubbers",
          "Plastics and Rubbers",
          "Footwear and Headwear",
          "Plastics and Rubbers",
          "Paper Goods",
          "Transportation",
          "Mineral Products",
          "Stone And Glass",
          "Chemical Products",
          "Machines",
          "Textiles",
          "Textiles",
          "Arts and Antiques",
          "Instruments",
          "Vegetable Products",
          "Stone And Glass",
          "Foodstuffs",
          "Machines",
          "Stone And Glass",
          "Vegetable Products",
          "Metals",
          "Metals",
          "Stone And Glass",
          "Mineral Products",
          "Plastics and Rubbers",
          "Foodstuffs",
          "Foodstuffs",
          "Chemical Products",
          "Plastics and Rubbers",
          "Machines",
          "Machines",
          "Metals",
          "Plastics and Rubbers",
          "Animal and Vegetable Bi-Products",
          "Miscellaneous",
          "Arts and Antiques",
          "Metals",
          "Plastics and Rubbers",
          "Plastics and Rubbers",
          "Metals",
          "Metals",
          "Metals",
          "Metals",
          "Chemical Products",
          "Miscellaneous",
          "Textiles",
          "Machines",
          "Wood Products",
          "Foodstuffs",
          "Foodstuffs",
          "Chemical Products",
          "Mineral Products",
          "Metals",
          "Transportation",
          "Machines",
          "Vegetable Products",
          "Chemical Products",
          "Machines",
          "Plastics and Rubbers",
          "Plastics and Rubbers",
          "Precious Metals",
          "Paper Goods",
          "Foodstuffs",
          "Foodstuffs",
          "Animal and Vegetable Bi-Products",
          "Plastics and Rubbers",
          "Metals",
          "Metals",
          "Stone And Glass",
          "Foodstuffs",
          "Textiles",
          "Paper Goods",
          "Textiles",
          "Animal and Vegetable Bi-Products",
          "Vegetable Products",
          "Mineral Products",
          "Vegetable Products",
          "Machines",
          "Vegetable Products",
          "Animal Products",
          "Vegetable Products",
          "Paper Goods",
          "Machines",
          "Stone And Glass",
          "Plastics and Rubbers",
          "Chemical Products",
          "Plastics and Rubbers",
          "Plastics and Rubbers",
          "Chemical Products",
          "Wood Products",
          "Plastics and Rubbers",
          "Plastics and Rubbers",
          "Plastics and Rubbers",
          "Plastics and Rubbers",
          "Plastics and Rubbers",
          "Textiles",
          "Textiles",
          "Machines",
          "Foodstuffs",
          "Chemical Products",
          "Foodstuffs",
          "Plastics and Rubbers",
          "Vegetable Products",
          "Vegetable Products",
          "Chemical Products",
          "Chemical Products",
          "Mineral Products",
          "Mineral Products",
          "Plastics and Rubbers",
          "Instruments",
          "Chemical Products",
          "Chemical Products",
          "Instruments",
          "Foodstuffs",
          "Animal Products",
          "Animal and Vegetable Bi-Products",
          "Textiles",
          "Vegetable Products",
          "Wood Products",
          "Transportation",
          "Vegetable Products",
          "Miscellaneous",
          "Miscellaneous",
          "Mineral Products",
          "Precious Metals",
          "Textiles",
          "Wood Products",
          "Metals",
          "Vegetable Products",
          "Miscellaneous",
          "Chemical Products",
          "Chemical Products",
          "Textiles",
          "Textiles",
          "Vegetable Products",
          "Metals",
          "Paper Goods",
          "Paper Goods",
          "Paper Goods",
          "Paper Goods",
          "Machines",
          "Wood Products",
          "Miscellaneous",
          "Foodstuffs",
          "Animal Hides",
          "Arts and Antiques",
          "Stone And Glass",
          "Plastics and Rubbers",
          "Foodstuffs",
          "Metals",
          "Mineral Products",
          "Metals",
          "Metals",
          "Metals",
          "Animal Products",
          "Paper Goods",
          "Textiles",
          "Machines",
          "Mineral Products",
          "Animal Products",
          "Vegetable Products",
          "Stone And Glass",
          "Vegetable Products",
          "Metals",
          "Metals",
          "Machines",
          "Paper Goods",
          "Transportation",
          "Textiles",
          "Chemical Products",
          "Metals",
          "Metals",
          "Wood Products",
          "Arts and Antiques",
          "Machines",
          "Plastics and Rubbers",
          "Paper Goods",
          "Instruments",
          "Machines",
          "Miscellaneous",
          "Textiles",
          "Metals",
          "Mineral Products",
          "Precious Metals",
          "Metals",
          "Instruments",
          "Instruments",
          "Wood Products",
          "Textiles",
          "Wood Products",
          "Machines",
          "Textiles",
          "Wood Products",
          "Transportation",
          "Textiles",
          "Foodstuffs",
          "Wood Products",
          "Stone And Glass",
          "Animal Products",
          "Instruments",
          "Weapons",
          "Vegetable Products",
          "Machines",
          "Foodstuffs",
          "Instruments",
          "Wood Products",
          "Wood Products",
          "Machines",
          "Textiles",
          "Footwear and Headwear",
          "Wood Products",
          "Metals",
          "Metals",
          "Metals",
          "Chemical Products",
          "Metals",
          "Metals",
          "Metals",
          "Metals",
          "Metals",
          "Foodstuffs",
          "Mineral Products",
          "Metals",
          "Metals",
          "Precious Metals",
          "Textiles",
          "Paper Goods",
          "Textiles",
          "Textiles",
          "Textiles",
          "Textiles",
          "Mineral Products",
          "Textiles",
          "Textiles",
          "Textiles",
          "Textiles",
          "Textiles",
          "Textiles",
          "Textiles",
          "Textiles",
          "Chemical Products",
          "Textiles",
          "Footwear and Headwear",
          "Animal Products",
          "Machines",
          "Textiles",
          "Textiles",
          "Textiles",
          "Footwear and Headwear",
          "Machines",
          "Machines",
          "Instruments",
          "Machines",
          "Chemical Products",
          "Stone And Glass",
          "Stone And Glass",
          "Stone And Glass",
          "Stone And Glass",
          "Footwear and Headwear",
          "Stone And Glass",
          "Stone And Glass",
          "Stone And Glass",
          "Chemical Products",
          "Precious Metals",
          "Stone And Glass",
          "Vegetable Products",
          "Mineral Products",
          "Foodstuffs",
          "Textiles",
          "Weapons",
          "Textiles",
          "Metals",
          "Chemical Products",
          "Chemical Products",
          "Mineral Products",
          "Textiles",
          "Mineral Products",
          "Mineral Products",
          "Metals",
          "Metals",
          "Metals",
          "Textiles",
          "Textiles",
          "Animal Products",
          "Instruments",
          "Metals",
          "Metals",
          "Mineral Products",
          "Animal Hides",
          "Metals",
          "Transportation",
          "Animal Products",
          "Instruments",
          "Stone And Glass",
          "Metals",
          "Textiles",
          "Paper Goods",
          "Textiles",
          "Animal Products",
          "Metals",
          "Machines",
          "Instruments",
          "Instruments",
          "Textiles",
          "Stone And Glass",
          "Chemical Products",
          "Instruments",
          "Instruments",
          "Vegetable Products",
          "Instruments",
          "Textiles",
          "Chemical Products",
          "Machines",
          "Animal Hides",
          "Machines",
          "Footwear and Headwear",
          "Metals",
          "Stone And Glass",
          "Miscellaneous",
          "Vegetable Products",
          "Foodstuffs",
          "Chemical Products",
          "Footwear and Headwear",
          "Machines",
          "Machines",
          "Foodstuffs",
          "Animal Products",
          "Machines",
          "Metals",
          "Textiles",
          "Metals",
          "Weapons",
          "Textiles",
          "Animal Products",
          "Paper Goods",
          "Textiles",
          "Textiles",
          "Textiles",
          "Textiles",
          "Miscellaneous",
          "Mineral Products",
          "Mineral Products",
          "Machines",
          "Machines",
          "Machines",
          "Transportation",
          "Vegetable Products",
          "Machines",
          "Chemical Products",
          "Machines",
          "Machines",
          "Metals",
          "Mineral Products",
          "Foodstuffs",
          "Paper Goods",
          "Mineral Products",
          "Miscellaneous",
          "Machines",
          "Vegetable Products",
          "Machines",
          "Textiles",
          "Metals",
          "Machines",
          "Machines",
          "Paper Goods",
          "Instruments",
          "Textiles",
          "Stone And Glass",
          "Stone And Glass",
          "Chemical Products",
          "Miscellaneous",
          "Metals",
          "Metals",
          "Metals",
          "Mineral Products",
          "Metals",
          "Animal Hides",
          "Footwear and Headwear",
          "Machines",
          "Animal Hides",
          "Vegetable Products",
          "Vegetable Products",
          "Machines",
          "Vegetable Products",
          "Miscellaneous",
          "Instruments",
          "Machines",
          "Miscellaneous",
          "Instruments",
          "Textiles",
          "Machines",
          "Textiles",
          "Paper Goods",
          "Paper Goods",
          "Mineral Products",
          "Chemical Products",
          "Transportation",
          "Chemical Products",
          "Textiles",
          "Textiles",
          "Textiles",
          "Textiles",
          "Textiles",
          "Textiles",
          "Textiles",
          "Textiles",
          "Textiles",
          "Textiles",
          "Mineral Products",
          "Plastics and Rubbers",
          "Transportation",
          "Footwear and Headwear",
          "Vegetable Products",
          "Machines",
          "Machines",
          "Machines",
          "Machines",
          "Metals",
          "Mineral Products",
          "Metals",
          "Metals",
          "Precious Metals",
          "Metals",
          "Machines",
          "Chemical Products",
          "Machines",
          "Stone And Glass",
          "Machines",
          "Instruments",
          "Instruments",
          "Machines",
          "Chemical Products",
          "Machines",
          "Animal Products",
          "Textiles",
          "Instruments",
          "Instruments",
          "Textiles",
          "Textiles",
          "Textiles",
          "Machines",
          "Footwear and Headwear",
          "Instruments",
          "Instruments",
          "Vegetable Products",
          "Machines",
          "Chemical Products",
          "Textiles",
          "Textiles",
          "Plastics and Rubbers",
          "Textiles",
          "Animal Hides",
          "Animal Hides",
          "Animal Hides",
          "Animal Hides",
          "Chemical Products",
          "Transportation",
          "Paper Goods",
          "Miscellaneous",
          "Stone And Glass",
          "Vegetable Products",
          "Animal Products",
          "Instruments",
          "Machines",
          "Stone And Glass",
          "Wood Products",
          "Machines",
          "Chemical Products",
          "Machines",
          "Miscellaneous",
          "Machines",
          "Stone And Glass",
          "Instruments",
          "Foodstuffs",
          "Chemical Products",
          "Arts and Antiques",
          "Vegetable Products",
          "Foodstuffs",
          "Metals",
          "Stone And Glass",
          "Transportation",
          "Mineral Products",
          "Machines",
          "Textiles",
          "Machines",
          "Machines",
          "Animal and Vegetable Bi-Products",
          "Transportation",
          "Transportation",
          "Chemical Products",
          "Machines",
          "Chemical Products",
          "Textiles",
          "Paper Goods",
          "Textiles",
          "Textiles",
          "Animal Hides",
          "Chemical Products",
          "Machines",
          "Footwear and Headwear",
          "Textiles",
          "Stone And Glass",
          "Chemical Products",
          "Mineral Products",
          "Machines",
          "Stone And Glass",
          "Stone And Glass",
          "Textiles",
          "Chemical Products",
          "Miscellaneous",
          "Paper Goods",
          "Metals",
          "Metals",
          "Metals",
          "Metals",
          "Metals",
          "Metals",
          "Stone And Glass",
          "Machines",
          "Machines",
          "Stone And Glass",
          "Instruments",
          "Chemical Products",
          "Miscellaneous",
          "Chemical Products",
          "Animal and Vegetable Bi-Products",
          "Metals",
          "Machines",
          "",
          "",
          "",
          "",
          "",
          "",
          "",
          "",
          "",
          "",
          "",
          "",
          "",
          "",
          "",
          "",
          "",
          "",
          "",
          "",
          ""
         ],
         "type": "treemap",
         "values": [
          203,
          273691,
          1331102,
          4033827,
          5886993,
          128,
          331155,
          47766,
          1139256,
          34315,
          32610,
          231,
          210620,
          6213254,
          5085415,
          616499,
          75309,
          522849.00000000006,
          1701201,
          214266,
          154.00000000000003,
          15543097,
          4390,
          307,
          16091.999999999998,
          1240538,
          1095358,
          1612087.0000000002,
          166,
          383,
          20631396,
          323463,
          40959,
          892612,
          1758814,
          74304,
          746051,
          211914,
          22732,
          22528,
          17102,
          95204,
          23519,
          13411,
          576,
          7615015,
          20752,
          24700,
          467709,
          59290,
          82828,
          8454405,
          23840,
          111878,
          389750,
          40003.00000000001,
          46301,
          581546,
          155475,
          1628,
          1436.9999999999998,
          1088170,
          564384,
          3085009,
          3350,
          4319105,
          100,
          2025698,
          6988,
          3162405,
          117871,
          506548,
          2340,
          224939,
          7219828,
          49504,
          12265,
          3534378,
          1473355,
          124944,
          704333,
          505988,
          272192263,
          491220.00000000006,
          1151,
          4354,
          412875,
          223014,
          36329481,
          650507,
          29180981,
          1133711,
          1929537,
          128,
          156803482,
          4110,
          16452913,
          467,
          36829,
          41836,
          373483,
          66245,
          828584,
          4989927,
          29540,
          8616764,
          90632,
          24409,
          2010427,
          49801,
          200693,
          11485,
          17592758.000000004,
          3574385,
          8035246,
          204370608,
          15092.000000000002,
          23997,
          123392,
          37292,
          18256,
          2993,
          569,
          3107005,
          18766,
          477.00000000000006,
          39820,
          84163,
          2902542,
          328122,
          7433,
          379759,
          4391,
          15427,
          3776169,
          963858,
          58933761,
          771591,
          10.000000000000002,
          320268,
          884046.9999999999,
          7750,
          31287,
          221,
          3351.0000000000005,
          2819,
          37140,
          14240,
          1824726,
          50740,
          54218,
          23054.000000000004,
          4028,
          570900,
          10610,
          252122,
          49371444,
          335831,
          993037,
          2305498,
          34459,
          336871,
          15494,
          45933,
          18324,
          419385,
          3724,
          5489,
          12573,
          36718,
          4153728,
          14481356,
          10002,
          32560.000000000004,
          16450,
          6868,
          298023,
          138580,
          2329531,
          88365.99999999999,
          4972,
          122639,
          7021744,
          504798,
          28474039,
          782925,
          492,
          588,
          54589,
          216341,
          13389.000000000002,
          4171599,
          1272333,
          6219.000000000001,
          6920,
          113,
          2129301,
          1143,
          3617,
          227377,
          270003,
          1892,
          953244,
          24.000000000000004,
          142360,
          132190,
          174276,
          69894,
          5562,
          13875,
          2601589,
          51792.99999999999,
          714.0000000000001,
          2316,
          1706,
          166887,
          119162,
          176475,
          744638,
          1194378,
          448814,
          133,
          7835,
          101083,
          6854,
          29159,
          1446,
          29373788,
          9793,
          2431,
          555887,
          9371,
          11772.999999999998,
          106272,
          15207,
          118660,
          1880034,
          55829.99999999999,
          12186,
          31389253,
          6065,
          47168757,
          770,
          125,
          134954,
          6600,
          514,
          1559779,
          123,
          4933,
          82046,
          53464,
          392578,
          14774,
          90906,
          130,
          182131,
          5893903,
          5113356,
          258251,
          949147,
          6186,
          256,
          10903,
          278,
          264,
          595024,
          12602,
          933921,
          288844,
          204996,
          36068,
          2675,
          76467,
          288313,
          9630385,
          5501,
          90957,
          13650,
          3605,
          28169,
          553,
          108967,
          15629,
          920,
          19794058,
          58159,
          1061555,
          348686,
          14646356.999999998,
          150871,
          64753,
          610723,
          474,
          1116976.9999999998,
          42184,
          8372,
          25970,
          50074,
          64828.00000000001,
          4251,
          5351,
          110178,
          38313,
          68005024,
          1141276,
          6524,
          1416045,
          203,
          4186969,
          6653,
          2518.0000000000005,
          119119,
          603178.0000000001,
          14144076,
          135887,
          38994,
          18477295,
          10318,
          219669,
          17061,
          1856464,
          9983037,
          28278661,
          17003035,
          2,
          6458.000000000001,
          1058,
          779824,
          6071,
          4904946,
          5810,
          155200,
          788737,
          1456328,
          58723839,
          5473,
          2477,
          134,
          38378.99999999999,
          158470,
          8712222,
          14452203,
          6926,
          67849,
          147496,
          30292000,
          68248,
          6522742,
          5106874,
          118363,
          51817,
          5846,
          13112,
          495467,
          2570,
          18.000000000000004,
          6526,
          160,
          57885,
          18810,
          2672046,
          54931,
          227823,
          19.000000000000004,
          993,
          4517,
          2798,
          25538,
          25261,
          2940291,
          278,
          3548,
          287545,
          1550622,
          3549543,
          1701009,
          5220.999999999999,
          158042,
          6755505,
          53703,
          11778,
          266,
          127370,
          2435,
          16488,
          53497239,
          948775,
          72438,
          15813422,
          15539241,
          48678.00000000001,
          2980,
          936,
          1483,
          2037,
          346465,
          187728,
          274228,
          37647,
          1522202,
          542333,
          90,
          579607,
          6921,
          56,
          29071,
          655,
          7131381,
          9198385,
          385997,
          5495466,
          3335799,
          16846,
          843594,
          3965,
          21912302,
          19328762,
          35002916,
          50174077,
          72131,
          1021,
          741,
          11330.999999999998,
          577143,
          94588,
          693046,
          17267,
          274862,
          204038,
          4393265,
          151769,
          342,
          38797768,
          1464,
          1000,
          203803,
          218819,
          7054,
          6939,
          100307,
          203881179,
          3069352,
          17888478,
          844066,
          11648,
          3643,
          1292337,
          55251,
          108750,
          1893386,
          63078.99999999999,
          838841,
          25139,
          380,
          202871,
          238418,
          257698,
          7048.999999999999,
          8570,
          13933,
          184819,
          14329.000000000002,
          50993,
          24834,
          14004.000000000002,
          34,
          5065,
          532,
          621,
          166742,
          9987,
          2718709,
          1128332,
          17916,
          3623479,
          28,
          42732,
          1243149.9999999998,
          1498129,
          8,
          40.99999999999999,
          118,
          89.00000000000001,
          85524,
          8000,
          1367591,
          662,
          6067,
          771051,
          80222,
          84415,
          756178,
          7064233,
          22600275,
          395542,
          18981428,
          19,
          2454692,
          40.00000000000001,
          148252,
          38414,
          111913,
          81152,
          6518,
          646304,
          2451490,
          1928984,
          18764,
          1953854,
          50097465,
          61368455,
          13082299,
          3340746,
          32,
          35401384,
          9043586,
          57973494,
          14002652,
          5118100,
          1573005,
          3435162,
          29842449,
          5967,
          33137243,
          7005123,
          12696,
          153013,
          4447,
          169961,
          7257,
          117331,
          3749,
          158792,
          82883,
          194456.00000000003,
          83,
          239171,
          86287,
          16211,
          142,
          276,
          100514,
          1075,
          34967,
          588789,
          9382876,
          681278,
          410115,
          5487554,
          2471799,
          3928,
          1244,
          8663,
          13084.999999999998,
          4814683,
          47277,
          7683,
          3379.9999999999995,
          1781132.0000000002,
          7093.999999999999,
          2129,
          10350,
          10768044,
          902740,
          18766989,
          3182,
          283332,
          1126498,
          6477,
          125,
          562615,
          616,
          36216,
          125038,
          137,
          16742,
          22116,
          17770,
          21560,
          258,
          930431,
          1319938,
          38674,
          729972,
          143222,
          5667,
          7109,
          139,
          138745,
          17545,
          3897214,
          470,
          6929756,
          55511,
          267943,
          123402,
          106726,
          289447,
          57876,
          90077,
          27832256,
          4949489,
          4162,
          625849,
          7158950,
          233324,
          455765,
          1456760,
          3,
          16788,
          10414.000000000002,
          6,
          305750,
          922,
          854775,
          11371402.000000002,
          267553,
          18207,
          1036153,
          1127313,
          1881,
          254,
          71428,
          2080,
          770314,
          179401,
          989443,
          166051,
          1167792,
          17775748,
          4311,
          1665685,
          1384275,
          40266,
          11685,
          49786.00000000001,
          117,
          14038707,
          639977,
          1125874,
          547144,
          4184,
          36.00000000000001,
          15271,
          2839,
          134359,
          36309,
          627,
          37392,
          624,
          131,
          301097,
          3907794,
          6400,
          4100,
          201043,
          234,
          93061,
          7380826,
          254071408,
          266338,
          988800,
          11692,
          542434,
          208301,
          134,
          13.999999999999998,
          3263982,
          19569,
          205085.00000000003,
          62,
          208326,
          8295684,
          8378,
          139,
          77211,
          6971017,
          8478,
          13300996,
          395686,
          16231959,
          355513,
          17028,
          7445538,
          41164294,
          111788803,
          298389,
          18227529,
          13461212,
          74883307,
          3215093.9999999995,
          6770,
          28147,
          1060288,
          8372888,
          6127.000000000001,
          20947,
          27238,
          350114,
          13917904,
          32,
          34,
          44596,
          1929761,
          14033,
          13612,
          6443,
          552644,
          19501,
          19539,
          2786,
          1170,
          27611,
          1798,
          20343,
          87592,
          3143.9999999999995,
          2856931,
          99119,
          301411,
          132795,
          104702,
          44470,
          30301112,
          321027,
          204107.00000000003,
          72526,
          572201,
          320921,
          134753,
          202624,
          18672,
          1301,
          10146169,
          38259,
          50813.00000000001,
          346743,
          885.9999999999999,
          422530,
          423175,
          44002,
          6684443,
          142,
          208.00000000000003,
          56282,
          6811,
          37338,
          7738,
          2411629,
          486913,
          13473,
          34825,
          107571,
          2923.0000000000005,
          118961,
          9369160,
          102464,
          17093,
          1079115,
          377812,
          5997,
          56048,
          4570278,
          2451035,
          40649,
          48120,
          1559.0000000000002,
          473,
          111249,
          29243,
          12630,
          97563,
          13642.999999999998,
          586570,
          80393,
          262,
          5190,
          3285,
          80403,
          478140,
          603,
          671,
          25650,
          1757,
          3060,
          1951,
          178121,
          400850,
          314,
          80606,
          95,
          318117,
          14028,
          280163,
          20460,
          437795,
          122935,
          16243398,
          18250,
          105121,
          97898428,
          3266929.9999999995,
          128341,
          39771,
          473,
          641,
          16316,
          1611574,
          122922,
          1449407,
          24738265,
          68350033,
          2553125,
          582875,
          36175487,
          133657825,
          592801694,
          9493589,
          238679285,
          544300554,
          648650186,
          57295539,
          69913088,
          48550789,
          47186126,
          17753710,
          696869387,
          27809825,
          182278627,
          830839,
          39256059
         ]
        }
       ],
       "layout": {
        "height": 400,
        "legend": {
         "tracegroupgap": 0
        },
        "template": {
         "data": {
          "bar": [
           {
            "error_x": {
             "color": "#2a3f5f"
            },
            "error_y": {
             "color": "#2a3f5f"
            },
            "marker": {
             "line": {
              "color": "#E5ECF6",
              "width": 0.5
             },
             "pattern": {
              "fillmode": "overlay",
              "size": 10,
              "solidity": 0.2
             }
            },
            "type": "bar"
           }
          ],
          "barpolar": [
           {
            "marker": {
             "line": {
              "color": "#E5ECF6",
              "width": 0.5
             },
             "pattern": {
              "fillmode": "overlay",
              "size": 10,
              "solidity": 0.2
             }
            },
            "type": "barpolar"
           }
          ],
          "carpet": [
           {
            "aaxis": {
             "endlinecolor": "#2a3f5f",
             "gridcolor": "white",
             "linecolor": "white",
             "minorgridcolor": "white",
             "startlinecolor": "#2a3f5f"
            },
            "baxis": {
             "endlinecolor": "#2a3f5f",
             "gridcolor": "white",
             "linecolor": "white",
             "minorgridcolor": "white",
             "startlinecolor": "#2a3f5f"
            },
            "type": "carpet"
           }
          ],
          "choropleth": [
           {
            "colorbar": {
             "outlinewidth": 0,
             "ticks": ""
            },
            "type": "choropleth"
           }
          ],
          "contour": [
           {
            "colorbar": {
             "outlinewidth": 0,
             "ticks": ""
            },
            "colorscale": [
             [
              0,
              "#0d0887"
             ],
             [
              0.1111111111111111,
              "#46039f"
             ],
             [
              0.2222222222222222,
              "#7201a8"
             ],
             [
              0.3333333333333333,
              "#9c179e"
             ],
             [
              0.4444444444444444,
              "#bd3786"
             ],
             [
              0.5555555555555556,
              "#d8576b"
             ],
             [
              0.6666666666666666,
              "#ed7953"
             ],
             [
              0.7777777777777778,
              "#fb9f3a"
             ],
             [
              0.8888888888888888,
              "#fdca26"
             ],
             [
              1,
              "#f0f921"
             ]
            ],
            "type": "contour"
           }
          ],
          "contourcarpet": [
           {
            "colorbar": {
             "outlinewidth": 0,
             "ticks": ""
            },
            "type": "contourcarpet"
           }
          ],
          "heatmap": [
           {
            "colorbar": {
             "outlinewidth": 0,
             "ticks": ""
            },
            "colorscale": [
             [
              0,
              "#0d0887"
             ],
             [
              0.1111111111111111,
              "#46039f"
             ],
             [
              0.2222222222222222,
              "#7201a8"
             ],
             [
              0.3333333333333333,
              "#9c179e"
             ],
             [
              0.4444444444444444,
              "#bd3786"
             ],
             [
              0.5555555555555556,
              "#d8576b"
             ],
             [
              0.6666666666666666,
              "#ed7953"
             ],
             [
              0.7777777777777778,
              "#fb9f3a"
             ],
             [
              0.8888888888888888,
              "#fdca26"
             ],
             [
              1,
              "#f0f921"
             ]
            ],
            "type": "heatmap"
           }
          ],
          "heatmapgl": [
           {
            "colorbar": {
             "outlinewidth": 0,
             "ticks": ""
            },
            "colorscale": [
             [
              0,
              "#0d0887"
             ],
             [
              0.1111111111111111,
              "#46039f"
             ],
             [
              0.2222222222222222,
              "#7201a8"
             ],
             [
              0.3333333333333333,
              "#9c179e"
             ],
             [
              0.4444444444444444,
              "#bd3786"
             ],
             [
              0.5555555555555556,
              "#d8576b"
             ],
             [
              0.6666666666666666,
              "#ed7953"
             ],
             [
              0.7777777777777778,
              "#fb9f3a"
             ],
             [
              0.8888888888888888,
              "#fdca26"
             ],
             [
              1,
              "#f0f921"
             ]
            ],
            "type": "heatmapgl"
           }
          ],
          "histogram": [
           {
            "marker": {
             "pattern": {
              "fillmode": "overlay",
              "size": 10,
              "solidity": 0.2
             }
            },
            "type": "histogram"
           }
          ],
          "histogram2d": [
           {
            "colorbar": {
             "outlinewidth": 0,
             "ticks": ""
            },
            "colorscale": [
             [
              0,
              "#0d0887"
             ],
             [
              0.1111111111111111,
              "#46039f"
             ],
             [
              0.2222222222222222,
              "#7201a8"
             ],
             [
              0.3333333333333333,
              "#9c179e"
             ],
             [
              0.4444444444444444,
              "#bd3786"
             ],
             [
              0.5555555555555556,
              "#d8576b"
             ],
             [
              0.6666666666666666,
              "#ed7953"
             ],
             [
              0.7777777777777778,
              "#fb9f3a"
             ],
             [
              0.8888888888888888,
              "#fdca26"
             ],
             [
              1,
              "#f0f921"
             ]
            ],
            "type": "histogram2d"
           }
          ],
          "histogram2dcontour": [
           {
            "colorbar": {
             "outlinewidth": 0,
             "ticks": ""
            },
            "colorscale": [
             [
              0,
              "#0d0887"
             ],
             [
              0.1111111111111111,
              "#46039f"
             ],
             [
              0.2222222222222222,
              "#7201a8"
             ],
             [
              0.3333333333333333,
              "#9c179e"
             ],
             [
              0.4444444444444444,
              "#bd3786"
             ],
             [
              0.5555555555555556,
              "#d8576b"
             ],
             [
              0.6666666666666666,
              "#ed7953"
             ],
             [
              0.7777777777777778,
              "#fb9f3a"
             ],
             [
              0.8888888888888888,
              "#fdca26"
             ],
             [
              1,
              "#f0f921"
             ]
            ],
            "type": "histogram2dcontour"
           }
          ],
          "mesh3d": [
           {
            "colorbar": {
             "outlinewidth": 0,
             "ticks": ""
            },
            "type": "mesh3d"
           }
          ],
          "parcoords": [
           {
            "line": {
             "colorbar": {
              "outlinewidth": 0,
              "ticks": ""
             }
            },
            "type": "parcoords"
           }
          ],
          "pie": [
           {
            "automargin": true,
            "type": "pie"
           }
          ],
          "scatter": [
           {
            "fillpattern": {
             "fillmode": "overlay",
             "size": 10,
             "solidity": 0.2
            },
            "type": "scatter"
           }
          ],
          "scatter3d": [
           {
            "line": {
             "colorbar": {
              "outlinewidth": 0,
              "ticks": ""
             }
            },
            "marker": {
             "colorbar": {
              "outlinewidth": 0,
              "ticks": ""
             }
            },
            "type": "scatter3d"
           }
          ],
          "scattercarpet": [
           {
            "marker": {
             "colorbar": {
              "outlinewidth": 0,
              "ticks": ""
             }
            },
            "type": "scattercarpet"
           }
          ],
          "scattergeo": [
           {
            "marker": {
             "colorbar": {
              "outlinewidth": 0,
              "ticks": ""
             }
            },
            "type": "scattergeo"
           }
          ],
          "scattergl": [
           {
            "marker": {
             "colorbar": {
              "outlinewidth": 0,
              "ticks": ""
             }
            },
            "type": "scattergl"
           }
          ],
          "scattermapbox": [
           {
            "marker": {
             "colorbar": {
              "outlinewidth": 0,
              "ticks": ""
             }
            },
            "type": "scattermapbox"
           }
          ],
          "scatterpolar": [
           {
            "marker": {
             "colorbar": {
              "outlinewidth": 0,
              "ticks": ""
             }
            },
            "type": "scatterpolar"
           }
          ],
          "scatterpolargl": [
           {
            "marker": {
             "colorbar": {
              "outlinewidth": 0,
              "ticks": ""
             }
            },
            "type": "scatterpolargl"
           }
          ],
          "scatterternary": [
           {
            "marker": {
             "colorbar": {
              "outlinewidth": 0,
              "ticks": ""
             }
            },
            "type": "scatterternary"
           }
          ],
          "surface": [
           {
            "colorbar": {
             "outlinewidth": 0,
             "ticks": ""
            },
            "colorscale": [
             [
              0,
              "#0d0887"
             ],
             [
              0.1111111111111111,
              "#46039f"
             ],
             [
              0.2222222222222222,
              "#7201a8"
             ],
             [
              0.3333333333333333,
              "#9c179e"
             ],
             [
              0.4444444444444444,
              "#bd3786"
             ],
             [
              0.5555555555555556,
              "#d8576b"
             ],
             [
              0.6666666666666666,
              "#ed7953"
             ],
             [
              0.7777777777777778,
              "#fb9f3a"
             ],
             [
              0.8888888888888888,
              "#fdca26"
             ],
             [
              1,
              "#f0f921"
             ]
            ],
            "type": "surface"
           }
          ],
          "table": [
           {
            "cells": {
             "fill": {
              "color": "#EBF0F8"
             },
             "line": {
              "color": "white"
             }
            },
            "header": {
             "fill": {
              "color": "#C8D4E3"
             },
             "line": {
              "color": "white"
             }
            },
            "type": "table"
           }
          ]
         },
         "layout": {
          "annotationdefaults": {
           "arrowcolor": "#2a3f5f",
           "arrowhead": 0,
           "arrowwidth": 1
          },
          "autotypenumbers": "strict",
          "coloraxis": {
           "colorbar": {
            "outlinewidth": 0,
            "ticks": ""
           }
          },
          "colorscale": {
           "diverging": [
            [
             0,
             "#8e0152"
            ],
            [
             0.1,
             "#c51b7d"
            ],
            [
             0.2,
             "#de77ae"
            ],
            [
             0.3,
             "#f1b6da"
            ],
            [
             0.4,
             "#fde0ef"
            ],
            [
             0.5,
             "#f7f7f7"
            ],
            [
             0.6,
             "#e6f5d0"
            ],
            [
             0.7,
             "#b8e186"
            ],
            [
             0.8,
             "#7fbc41"
            ],
            [
             0.9,
             "#4d9221"
            ],
            [
             1,
             "#276419"
            ]
           ],
           "sequential": [
            [
             0,
             "#0d0887"
            ],
            [
             0.1111111111111111,
             "#46039f"
            ],
            [
             0.2222222222222222,
             "#7201a8"
            ],
            [
             0.3333333333333333,
             "#9c179e"
            ],
            [
             0.4444444444444444,
             "#bd3786"
            ],
            [
             0.5555555555555556,
             "#d8576b"
            ],
            [
             0.6666666666666666,
             "#ed7953"
            ],
            [
             0.7777777777777778,
             "#fb9f3a"
            ],
            [
             0.8888888888888888,
             "#fdca26"
            ],
            [
             1,
             "#f0f921"
            ]
           ],
           "sequentialminus": [
            [
             0,
             "#0d0887"
            ],
            [
             0.1111111111111111,
             "#46039f"
            ],
            [
             0.2222222222222222,
             "#7201a8"
            ],
            [
             0.3333333333333333,
             "#9c179e"
            ],
            [
             0.4444444444444444,
             "#bd3786"
            ],
            [
             0.5555555555555556,
             "#d8576b"
            ],
            [
             0.6666666666666666,
             "#ed7953"
            ],
            [
             0.7777777777777778,
             "#fb9f3a"
            ],
            [
             0.8888888888888888,
             "#fdca26"
            ],
            [
             1,
             "#f0f921"
            ]
           ]
          },
          "colorway": [
           "#636efa",
           "#EF553B",
           "#00cc96",
           "#ab63fa",
           "#FFA15A",
           "#19d3f3",
           "#FF6692",
           "#B6E880",
           "#FF97FF",
           "#FECB52"
          ],
          "font": {
           "color": "#2a3f5f"
          },
          "geo": {
           "bgcolor": "white",
           "lakecolor": "white",
           "landcolor": "#E5ECF6",
           "showlakes": true,
           "showland": true,
           "subunitcolor": "white"
          },
          "hoverlabel": {
           "align": "left"
          },
          "hovermode": "closest",
          "mapbox": {
           "style": "light"
          },
          "paper_bgcolor": "white",
          "plot_bgcolor": "#E5ECF6",
          "polar": {
           "angularaxis": {
            "gridcolor": "white",
            "linecolor": "white",
            "ticks": ""
           },
           "bgcolor": "#E5ECF6",
           "radialaxis": {
            "gridcolor": "white",
            "linecolor": "white",
            "ticks": ""
           }
          },
          "scene": {
           "xaxis": {
            "backgroundcolor": "#E5ECF6",
            "gridcolor": "white",
            "gridwidth": 2,
            "linecolor": "white",
            "showbackground": true,
            "ticks": "",
            "zerolinecolor": "white"
           },
           "yaxis": {
            "backgroundcolor": "#E5ECF6",
            "gridcolor": "white",
            "gridwidth": 2,
            "linecolor": "white",
            "showbackground": true,
            "ticks": "",
            "zerolinecolor": "white"
           },
           "zaxis": {
            "backgroundcolor": "#E5ECF6",
            "gridcolor": "white",
            "gridwidth": 2,
            "linecolor": "white",
            "showbackground": true,
            "ticks": "",
            "zerolinecolor": "white"
           }
          },
          "shapedefaults": {
           "line": {
            "color": "#2a3f5f"
           }
          },
          "ternary": {
           "aaxis": {
            "gridcolor": "white",
            "linecolor": "white",
            "ticks": ""
           },
           "baxis": {
            "gridcolor": "white",
            "linecolor": "white",
            "ticks": ""
           },
           "bgcolor": "#E5ECF6",
           "caxis": {
            "gridcolor": "white",
            "linecolor": "white",
            "ticks": ""
           }
          },
          "title": {
           "x": 0.05
          },
          "xaxis": {
           "automargin": true,
           "gridcolor": "white",
           "linecolor": "white",
           "ticks": "",
           "title": {
            "standoff": 15
           },
           "zerolinecolor": "white",
           "zerolinewidth": 2
          },
          "yaxis": {
           "automargin": true,
           "gridcolor": "white",
           "linecolor": "white",
           "ticks": "",
           "title": {
            "standoff": 15
           },
           "zerolinecolor": "white",
           "zerolinewidth": 2
          }
         }
        },
        "title": {
         "text": "3.49B"
        },
        "width": 1000
       }
      }
     },
     "metadata": {},
     "output_type": "display_data"
    }
   ],
   "source": [
    "#Extrae nombre random\n",
    "country_name= random.choice(tradle_df.country.unique())\n",
    "show_country(country_name)\n"
   ]
  },
  {
   "cell_type": "code",
   "execution_count": 5,
   "metadata": {},
   "outputs": [],
   "source": [
    "tradle_df.country.unique().sort()\n"
   ]
  },
  {
   "cell_type": "code",
   "execution_count": 478,
   "metadata": {},
   "outputs": [],
   "source": [
    "grouped_df = tradle_df.groupby('country')['Trade Value'].sum()\n",
    "\n",
    "# Calcular el título según la condición\n",
    "grouped_df['title_format'] = grouped_df.apply(lambda x: str(round(x / 1e9, 2)) + 'B' if x > 1e9 else str(round(x / 1e6, 2)) + 'M')\n",
    "result = tradle_df.groupby('country').apply(lambda x: x.loc[x['Trade Value'].idxmax()]['HS4'])\n"
   ]
  },
  {
   "cell_type": "code",
   "execution_count": 232,
   "metadata": {},
   "outputs": [],
   "source": [
    "result_df = result.reset_index()\n",
    "result_df.columns = ['country' ,'HS4']\n",
    "\n",
    "title_df = grouped_df.reset_index()\n",
    "title_df.columns = ['country' ,'value']\n",
    "\n",
    "# Combinar los DataFrames result_df y title_df por la columna 'country'\n",
    "merged_df = result_df.merge(title_df, on='country')\n",
    "merged_df['value_format']= merged_df['value'].apply(lambda x: str(round(x / 1e9, 2)) + 'B' if x > 1e9 else str(round(x / 1e6, 2)) + 'M')\n",
    "juice_info=merged_df.sort_values(by=['value'],ascending=False).reset_index()[[\"country\",\"HS4\",\"value_format\"]]\n",
    "\n"
   ]
  },
  {
   "cell_type": "code",
   "execution_count": 525,
   "metadata": {},
   "outputs": [
    {
     "data": {
      "text/html": [
       "<div>\n",
       "<style scoped>\n",
       "    .dataframe tbody tr th:only-of-type {\n",
       "        vertical-align: middle;\n",
       "    }\n",
       "\n",
       "    .dataframe tbody tr th {\n",
       "        vertical-align: top;\n",
       "    }\n",
       "\n",
       "    .dataframe thead th {\n",
       "        text-align: right;\n",
       "    }\n",
       "</style>\n",
       "<table border=\"1\" class=\"dataframe\">\n",
       "  <thead>\n",
       "    <tr style=\"text-align: right;\">\n",
       "      <th></th>\n",
       "      <th>country</th>\n",
       "      <th>HS4</th>\n",
       "      <th>value_format</th>\n",
       "    </tr>\n",
       "  </thead>\n",
       "  <tbody>\n",
       "    <tr>\n",
       "      <th>0</th>\n",
       "      <td>China</td>\n",
       "      <td>Broadcasting Equipment</td>\n",
       "      <td>3337.97B</td>\n",
       "    </tr>\n",
       "    <tr>\n",
       "      <th>1</th>\n",
       "      <td>Vietnam</td>\n",
       "      <td>Broadcasting Equipment</td>\n",
       "      <td>355.57B</td>\n",
       "    </tr>\n",
       "    <tr>\n",
       "      <th>2</th>\n",
       "      <td>Estonia</td>\n",
       "      <td>Broadcasting Equipment</td>\n",
       "      <td>21.9B</td>\n",
       "    </tr>\n",
       "    <tr>\n",
       "      <th>3</th>\n",
       "      <td>Saint Kitts and Nevis</td>\n",
       "      <td>Broadcasting Equipment</td>\n",
       "      <td>63.59M</td>\n",
       "    </tr>\n",
       "  </tbody>\n",
       "</table>\n",
       "</div>"
      ],
      "text/plain": [
       "                 country                     HS4 value_format\n",
       "0                  China  Broadcasting Equipment     3337.97B\n",
       "1                Vietnam  Broadcasting Equipment      355.57B\n",
       "2                Estonia  Broadcasting Equipment        21.9B\n",
       "3  Saint Kitts and Nevis  Broadcasting Equipment       63.59M"
      ]
     },
     "metadata": {},
     "output_type": "display_data"
    },
    {
     "data": {
      "text/html": [
       "<div>\n",
       "<style scoped>\n",
       "    .dataframe tbody tr th:only-of-type {\n",
       "        vertical-align: middle;\n",
       "    }\n",
       "\n",
       "    .dataframe tbody tr th {\n",
       "        vertical-align: top;\n",
       "    }\n",
       "\n",
       "    .dataframe thead th {\n",
       "        text-align: right;\n",
       "    }\n",
       "</style>\n",
       "<table border=\"1\" class=\"dataframe\">\n",
       "  <thead>\n",
       "    <tr style=\"text-align: right;\">\n",
       "      <th></th>\n",
       "      <th>country</th>\n",
       "      <th>HS4</th>\n",
       "      <th>value_format</th>\n",
       "    </tr>\n",
       "  </thead>\n",
       "  <tbody>\n",
       "    <tr>\n",
       "      <th>0</th>\n",
       "      <td>United States</td>\n",
       "      <td>Refined Petroleum</td>\n",
       "      <td>1628.14B</td>\n",
       "    </tr>\n",
       "    <tr>\n",
       "      <th>1</th>\n",
       "      <td>Netherlands</td>\n",
       "      <td>Refined Petroleum</td>\n",
       "      <td>642.38B</td>\n",
       "    </tr>\n",
       "    <tr>\n",
       "      <th>2</th>\n",
       "      <td>India</td>\n",
       "      <td>Refined Petroleum</td>\n",
       "      <td>403.07B</td>\n",
       "    </tr>\n",
       "    <tr>\n",
       "      <th>3</th>\n",
       "      <td>Finland</td>\n",
       "      <td>Refined Petroleum</td>\n",
       "      <td>83.08B</td>\n",
       "    </tr>\n",
       "    <tr>\n",
       "      <th>4</th>\n",
       "      <td>Greece</td>\n",
       "      <td>Refined Petroleum</td>\n",
       "      <td>82.04B</td>\n",
       "    </tr>\n",
       "    <tr>\n",
       "      <th>5</th>\n",
       "      <td>Egypt</td>\n",
       "      <td>Refined Petroleum</td>\n",
       "      <td>44.51B</td>\n",
       "    </tr>\n",
       "    <tr>\n",
       "      <th>6</th>\n",
       "      <td>Lithuania</td>\n",
       "      <td>Refined Petroleum</td>\n",
       "      <td>40.81B</td>\n",
       "    </tr>\n",
       "    <tr>\n",
       "      <th>7</th>\n",
       "      <td>Croatia</td>\n",
       "      <td>Refined Petroleum</td>\n",
       "      <td>22.81B</td>\n",
       "    </tr>\n",
       "    <tr>\n",
       "      <th>8</th>\n",
       "      <td>Bahrain</td>\n",
       "      <td>Refined Petroleum</td>\n",
       "      <td>14.99B</td>\n",
       "    </tr>\n",
       "    <tr>\n",
       "      <th>9</th>\n",
       "      <td>Brunei</td>\n",
       "      <td>Refined Petroleum</td>\n",
       "      <td>11.32B</td>\n",
       "    </tr>\n",
       "    <tr>\n",
       "      <th>10</th>\n",
       "      <td>Togo</td>\n",
       "      <td>Refined Petroleum</td>\n",
       "      <td>3.42B</td>\n",
       "    </tr>\n",
       "    <tr>\n",
       "      <th>11</th>\n",
       "      <td>Bahamas</td>\n",
       "      <td>Refined Petroleum</td>\n",
       "      <td>1.02B</td>\n",
       "    </tr>\n",
       "    <tr>\n",
       "      <th>12</th>\n",
       "      <td>Curaçao</td>\n",
       "      <td>Refined Petroleum</td>\n",
       "      <td>326.19M</td>\n",
       "    </tr>\n",
       "    <tr>\n",
       "      <th>13</th>\n",
       "      <td>Antigua and Barbuda</td>\n",
       "      <td>Refined Petroleum</td>\n",
       "      <td>208.59M</td>\n",
       "    </tr>\n",
       "    <tr>\n",
       "      <th>14</th>\n",
       "      <td>North Korea</td>\n",
       "      <td>Refined Petroleum</td>\n",
       "      <td>180.52M</td>\n",
       "    </tr>\n",
       "    <tr>\n",
       "      <th>15</th>\n",
       "      <td>Bonaire</td>\n",
       "      <td>Refined Petroleum</td>\n",
       "      <td>74.81M</td>\n",
       "    </tr>\n",
       "    <tr>\n",
       "      <th>16</th>\n",
       "      <td>American Samoa</td>\n",
       "      <td>Refined Petroleum</td>\n",
       "      <td>34.46M</td>\n",
       "    </tr>\n",
       "    <tr>\n",
       "      <th>17</th>\n",
       "      <td>Saint Maarten</td>\n",
       "      <td>Refined Petroleum</td>\n",
       "      <td>23.73M</td>\n",
       "    </tr>\n",
       "  </tbody>\n",
       "</table>\n",
       "</div>"
      ],
      "text/plain": [
       "                country                HS4 value_format\n",
       "0         United States  Refined Petroleum     1628.14B\n",
       "1           Netherlands  Refined Petroleum      642.38B\n",
       "2                 India  Refined Petroleum      403.07B\n",
       "3               Finland  Refined Petroleum       83.08B\n",
       "4                Greece  Refined Petroleum       82.04B\n",
       "5                 Egypt  Refined Petroleum       44.51B\n",
       "6             Lithuania  Refined Petroleum       40.81B\n",
       "7               Croatia  Refined Petroleum       22.81B\n",
       "8               Bahrain  Refined Petroleum       14.99B\n",
       "9                Brunei  Refined Petroleum       11.32B\n",
       "10                 Togo  Refined Petroleum        3.42B\n",
       "11              Bahamas  Refined Petroleum        1.02B\n",
       "12              Curaçao  Refined Petroleum      326.19M\n",
       "13  Antigua and Barbuda  Refined Petroleum      208.59M\n",
       "14          North Korea  Refined Petroleum      180.52M\n",
       "15              Bonaire  Refined Petroleum       74.81M\n",
       "16       American Samoa  Refined Petroleum       34.46M\n",
       "17        Saint Maarten  Refined Petroleum       23.73M"
      ]
     },
     "metadata": {},
     "output_type": "display_data"
    },
    {
     "data": {
      "text/html": [
       "<div>\n",
       "<style scoped>\n",
       "    .dataframe tbody tr th:only-of-type {\n",
       "        vertical-align: middle;\n",
       "    }\n",
       "\n",
       "    .dataframe tbody tr th {\n",
       "        vertical-align: top;\n",
       "    }\n",
       "\n",
       "    .dataframe thead th {\n",
       "        text-align: right;\n",
       "    }\n",
       "</style>\n",
       "<table border=\"1\" class=\"dataframe\">\n",
       "  <thead>\n",
       "    <tr style=\"text-align: right;\">\n",
       "      <th></th>\n",
       "      <th>country</th>\n",
       "      <th>HS4</th>\n",
       "      <th>value_format</th>\n",
       "    </tr>\n",
       "  </thead>\n",
       "  <tbody>\n",
       "    <tr>\n",
       "      <th>0</th>\n",
       "      <td>Germany</td>\n",
       "      <td>Cars</td>\n",
       "      <td>1563.45B</td>\n",
       "    </tr>\n",
       "    <tr>\n",
       "      <th>1</th>\n",
       "      <td>Japan</td>\n",
       "      <td>Cars</td>\n",
       "      <td>731.33B</td>\n",
       "    </tr>\n",
       "    <tr>\n",
       "      <th>2</th>\n",
       "      <td>Mexico</td>\n",
       "      <td>Cars</td>\n",
       "      <td>473.57B</td>\n",
       "    </tr>\n",
       "    <tr>\n",
       "      <th>3</th>\n",
       "      <td>United Kingdom</td>\n",
       "      <td>Cars</td>\n",
       "      <td>420.17B</td>\n",
       "    </tr>\n",
       "    <tr>\n",
       "      <th>4</th>\n",
       "      <td>Spain</td>\n",
       "      <td>Cars</td>\n",
       "      <td>372.47B</td>\n",
       "    </tr>\n",
       "    <tr>\n",
       "      <th>5</th>\n",
       "      <td>Turkey</td>\n",
       "      <td>Cars</td>\n",
       "      <td>233.58B</td>\n",
       "    </tr>\n",
       "    <tr>\n",
       "      <th>6</th>\n",
       "      <td>Czechia</td>\n",
       "      <td>Cars</td>\n",
       "      <td>224.55B</td>\n",
       "    </tr>\n",
       "    <tr>\n",
       "      <th>7</th>\n",
       "      <td>Sweden</td>\n",
       "      <td>Cars</td>\n",
       "      <td>184.79B</td>\n",
       "    </tr>\n",
       "    <tr>\n",
       "      <th>8</th>\n",
       "      <td>Hungary</td>\n",
       "      <td>Cars</td>\n",
       "      <td>137.41B</td>\n",
       "    </tr>\n",
       "    <tr>\n",
       "      <th>9</th>\n",
       "      <td>Slovakia</td>\n",
       "      <td>Cars</td>\n",
       "      <td>104.47B</td>\n",
       "    </tr>\n",
       "    <tr>\n",
       "      <th>10</th>\n",
       "      <td>Portugal</td>\n",
       "      <td>Cars</td>\n",
       "      <td>75.58B</td>\n",
       "    </tr>\n",
       "    <tr>\n",
       "      <th>11</th>\n",
       "      <td>Morocco</td>\n",
       "      <td>Cars</td>\n",
       "      <td>41.91B</td>\n",
       "    </tr>\n",
       "    <tr>\n",
       "      <th>12</th>\n",
       "      <td>Gibraltar</td>\n",
       "      <td>Cars</td>\n",
       "      <td>123.81M</td>\n",
       "    </tr>\n",
       "  </tbody>\n",
       "</table>\n",
       "</div>"
      ],
      "text/plain": [
       "           country   HS4 value_format\n",
       "0          Germany  Cars     1563.45B\n",
       "1            Japan  Cars      731.33B\n",
       "2           Mexico  Cars      473.57B\n",
       "3   United Kingdom  Cars      420.17B\n",
       "4            Spain  Cars      372.47B\n",
       "5           Turkey  Cars      233.58B\n",
       "6          Czechia  Cars      224.55B\n",
       "7           Sweden  Cars      184.79B\n",
       "8          Hungary  Cars      137.41B\n",
       "9         Slovakia  Cars      104.47B\n",
       "10        Portugal  Cars       75.58B\n",
       "11         Morocco  Cars       41.91B\n",
       "12       Gibraltar  Cars      123.81M"
      ]
     },
     "metadata": {},
     "output_type": "display_data"
    },
    {
     "data": {
      "text/html": [
       "<div>\n",
       "<style scoped>\n",
       "    .dataframe tbody tr th:only-of-type {\n",
       "        vertical-align: middle;\n",
       "    }\n",
       "\n",
       "    .dataframe tbody tr th {\n",
       "        vertical-align: top;\n",
       "    }\n",
       "\n",
       "    .dataframe thead th {\n",
       "        text-align: right;\n",
       "    }\n",
       "</style>\n",
       "<table border=\"1\" class=\"dataframe\">\n",
       "  <thead>\n",
       "    <tr style=\"text-align: right;\">\n",
       "      <th></th>\n",
       "      <th>country</th>\n",
       "      <th>HS4</th>\n",
       "      <th>value_format</th>\n",
       "    </tr>\n",
       "  </thead>\n",
       "  <tbody>\n",
       "    <tr>\n",
       "      <th>0</th>\n",
       "      <td>South Korea</td>\n",
       "      <td>Integrated Circuits</td>\n",
       "      <td>653.16B</td>\n",
       "    </tr>\n",
       "    <tr>\n",
       "      <th>1</th>\n",
       "      <td>Other Asia</td>\n",
       "      <td>Integrated Circuits</td>\n",
       "      <td>478.27B</td>\n",
       "    </tr>\n",
       "    <tr>\n",
       "      <th>2</th>\n",
       "      <td>Singapore</td>\n",
       "      <td>Integrated Circuits</td>\n",
       "      <td>350.77B</td>\n",
       "    </tr>\n",
       "    <tr>\n",
       "      <th>3</th>\n",
       "      <td>Malaysia</td>\n",
       "      <td>Integrated Circuits</td>\n",
       "      <td>333.49B</td>\n",
       "    </tr>\n",
       "    <tr>\n",
       "      <th>4</th>\n",
       "      <td>Philippines</td>\n",
       "      <td>Integrated Circuits</td>\n",
       "      <td>93.71B</td>\n",
       "    </tr>\n",
       "    <tr>\n",
       "      <th>5</th>\n",
       "      <td>Malta</td>\n",
       "      <td>Integrated Circuits</td>\n",
       "      <td>5.04B</td>\n",
       "    </tr>\n",
       "    <tr>\n",
       "      <th>6</th>\n",
       "      <td>Andorra</td>\n",
       "      <td>Integrated Circuits</td>\n",
       "      <td>110.43M</td>\n",
       "    </tr>\n",
       "    <tr>\n",
       "      <th>7</th>\n",
       "      <td>Cocos (Keeling) Islands</td>\n",
       "      <td>Integrated Circuits</td>\n",
       "      <td>8.54M</td>\n",
       "    </tr>\n",
       "    <tr>\n",
       "      <th>8</th>\n",
       "      <td>Pitcairn Islands</td>\n",
       "      <td>Integrated Circuits</td>\n",
       "      <td>6.29M</td>\n",
       "    </tr>\n",
       "    <tr>\n",
       "      <th>9</th>\n",
       "      <td>Wallis and Futuna</td>\n",
       "      <td>Integrated Circuits</td>\n",
       "      <td>0.46M</td>\n",
       "    </tr>\n",
       "  </tbody>\n",
       "</table>\n",
       "</div>"
      ],
      "text/plain": [
       "                   country                  HS4 value_format\n",
       "0              South Korea  Integrated Circuits      653.16B\n",
       "1               Other Asia  Integrated Circuits      478.27B\n",
       "2                Singapore  Integrated Circuits      350.77B\n",
       "3                 Malaysia  Integrated Circuits      333.49B\n",
       "4              Philippines  Integrated Circuits       93.71B\n",
       "5                    Malta  Integrated Circuits        5.04B\n",
       "6                  Andorra  Integrated Circuits      110.43M\n",
       "7  Cocos (Keeling) Islands  Integrated Circuits        8.54M\n",
       "8         Pitcairn Islands  Integrated Circuits        6.29M\n",
       "9        Wallis and Futuna  Integrated Circuits        0.46M"
      ]
     },
     "metadata": {},
     "output_type": "display_data"
    },
    {
     "data": {
      "text/html": [
       "<div>\n",
       "<style scoped>\n",
       "    .dataframe tbody tr th:only-of-type {\n",
       "        vertical-align: middle;\n",
       "    }\n",
       "\n",
       "    .dataframe tbody tr th {\n",
       "        vertical-align: top;\n",
       "    }\n",
       "\n",
       "    .dataframe thead th {\n",
       "        text-align: right;\n",
       "    }\n",
       "</style>\n",
       "<table border=\"1\" class=\"dataframe\">\n",
       "  <thead>\n",
       "    <tr style=\"text-align: right;\">\n",
       "      <th></th>\n",
       "      <th>country</th>\n",
       "      <th>HS4</th>\n",
       "      <th>value_format</th>\n",
       "    </tr>\n",
       "  </thead>\n",
       "  <tbody>\n",
       "    <tr>\n",
       "      <th>0</th>\n",
       "      <td>Italy</td>\n",
       "      <td>Packaged Medicaments</td>\n",
       "      <td>596.89B</td>\n",
       "    </tr>\n",
       "    <tr>\n",
       "      <th>1</th>\n",
       "      <td>Denmark</td>\n",
       "      <td>Packaged Medicaments</td>\n",
       "      <td>119.7B</td>\n",
       "    </tr>\n",
       "    <tr>\n",
       "      <th>2</th>\n",
       "      <td>Slovenia</td>\n",
       "      <td>Packaged Medicaments</td>\n",
       "      <td>46.73B</td>\n",
       "    </tr>\n",
       "    <tr>\n",
       "      <th>3</th>\n",
       "      <td>Anguilla</td>\n",
       "      <td>Packaged Medicaments</td>\n",
       "      <td>30.47M</td>\n",
       "    </tr>\n",
       "  </tbody>\n",
       "</table>\n",
       "</div>"
      ],
      "text/plain": [
       "    country                   HS4 value_format\n",
       "0     Italy  Packaged Medicaments      596.89B\n",
       "1   Denmark  Packaged Medicaments       119.7B\n",
       "2  Slovenia  Packaged Medicaments       46.73B\n",
       "3  Anguilla  Packaged Medicaments       30.47M"
      ]
     },
     "metadata": {},
     "output_type": "display_data"
    },
    {
     "data": {
      "text/html": [
       "<div>\n",
       "<style scoped>\n",
       "    .dataframe tbody tr th:only-of-type {\n",
       "        vertical-align: middle;\n",
       "    }\n",
       "\n",
       "    .dataframe tbody tr th {\n",
       "        vertical-align: top;\n",
       "    }\n",
       "\n",
       "    .dataframe thead th {\n",
       "        text-align: right;\n",
       "    }\n",
       "</style>\n",
       "<table border=\"1\" class=\"dataframe\">\n",
       "  <thead>\n",
       "    <tr style=\"text-align: right;\">\n",
       "      <th></th>\n",
       "      <th>country</th>\n",
       "      <th>HS4</th>\n",
       "      <th>value_format</th>\n",
       "    </tr>\n",
       "  </thead>\n",
       "  <tbody>\n",
       "    <tr>\n",
       "      <th>0</th>\n",
       "      <td>France</td>\n",
       "      <td>Planes, Helicopters, and/or Spacecraft</td>\n",
       "      <td>568.6B</td>\n",
       "    </tr>\n",
       "    <tr>\n",
       "      <th>1</th>\n",
       "      <td>British Virgin Islands</td>\n",
       "      <td>Planes, Helicopters, and/or Spacecraft</td>\n",
       "      <td>253.42M</td>\n",
       "    </tr>\n",
       "  </tbody>\n",
       "</table>\n",
       "</div>"
      ],
      "text/plain": [
       "                  country                                     HS4 value_format\n",
       "0                  France  Planes, Helicopters, and/or Spacecraft       568.6B\n",
       "1  British Virgin Islands  Planes, Helicopters, and/or Spacecraft      253.42M"
      ]
     },
     "metadata": {},
     "output_type": "display_data"
    },
    {
     "data": {
      "text/html": [
       "<div>\n",
       "<style scoped>\n",
       "    .dataframe tbody tr th:only-of-type {\n",
       "        vertical-align: middle;\n",
       "    }\n",
       "\n",
       "    .dataframe tbody tr th {\n",
       "        vertical-align: top;\n",
       "    }\n",
       "\n",
       "    .dataframe thead th {\n",
       "        text-align: right;\n",
       "    }\n",
       "</style>\n",
       "<table border=\"1\" class=\"dataframe\">\n",
       "  <thead>\n",
       "    <tr style=\"text-align: right;\">\n",
       "      <th></th>\n",
       "      <th>country</th>\n",
       "      <th>HS4</th>\n",
       "      <th>value_format</th>\n",
       "    </tr>\n",
       "  </thead>\n",
       "  <tbody>\n",
       "    <tr>\n",
       "      <th>0</th>\n",
       "      <td>Canada</td>\n",
       "      <td>Crude Petroleum</td>\n",
       "      <td>483.77B</td>\n",
       "    </tr>\n",
       "    <tr>\n",
       "      <th>1</th>\n",
       "      <td>Russia</td>\n",
       "      <td>Crude Petroleum</td>\n",
       "      <td>483.56B</td>\n",
       "    </tr>\n",
       "    <tr>\n",
       "      <th>2</th>\n",
       "      <td>United Arab Emirates</td>\n",
       "      <td>Crude Petroleum</td>\n",
       "      <td>295.56B</td>\n",
       "    </tr>\n",
       "    <tr>\n",
       "      <th>3</th>\n",
       "      <td>Saudi Arabia</td>\n",
       "      <td>Crude Petroleum</td>\n",
       "      <td>255.98B</td>\n",
       "    </tr>\n",
       "    <tr>\n",
       "      <th>4</th>\n",
       "      <td>Iraq</td>\n",
       "      <td>Crude Petroleum</td>\n",
       "      <td>81.11B</td>\n",
       "    </tr>\n",
       "    <tr>\n",
       "      <th>5</th>\n",
       "      <td>Kuwait</td>\n",
       "      <td>Crude Petroleum</td>\n",
       "      <td>58.18B</td>\n",
       "    </tr>\n",
       "    <tr>\n",
       "      <th>6</th>\n",
       "      <td>Nigeria</td>\n",
       "      <td>Crude Petroleum</td>\n",
       "      <td>57.71B</td>\n",
       "    </tr>\n",
       "    <tr>\n",
       "      <th>7</th>\n",
       "      <td>Oman</td>\n",
       "      <td>Crude Petroleum</td>\n",
       "      <td>56.88B</td>\n",
       "    </tr>\n",
       "    <tr>\n",
       "      <th>8</th>\n",
       "      <td>Kazakhstan</td>\n",
       "      <td>Crude Petroleum</td>\n",
       "      <td>53.6B</td>\n",
       "    </tr>\n",
       "    <tr>\n",
       "      <th>9</th>\n",
       "      <td>Colombia</td>\n",
       "      <td>Crude Petroleum</td>\n",
       "      <td>42.53B</td>\n",
       "    </tr>\n",
       "    <tr>\n",
       "      <th>10</th>\n",
       "      <td>Angola</td>\n",
       "      <td>Crude Petroleum</td>\n",
       "      <td>34.96B</td>\n",
       "    </tr>\n",
       "    <tr>\n",
       "      <th>11</th>\n",
       "      <td>Libya</td>\n",
       "      <td>Crude Petroleum</td>\n",
       "      <td>30.81B</td>\n",
       "    </tr>\n",
       "    <tr>\n",
       "      <th>12</th>\n",
       "      <td>Ecuador</td>\n",
       "      <td>Crude Petroleum</td>\n",
       "      <td>27.26B</td>\n",
       "    </tr>\n",
       "    <tr>\n",
       "      <th>13</th>\n",
       "      <td>Azerbaijan</td>\n",
       "      <td>Crude Petroleum</td>\n",
       "      <td>22.81B</td>\n",
       "    </tr>\n",
       "    <tr>\n",
       "      <th>14</th>\n",
       "      <td>Gabon</td>\n",
       "      <td>Crude Petroleum</td>\n",
       "      <td>5.94B</td>\n",
       "    </tr>\n",
       "    <tr>\n",
       "      <th>15</th>\n",
       "      <td>Cameroon</td>\n",
       "      <td>Crude Petroleum</td>\n",
       "      <td>4.92B</td>\n",
       "    </tr>\n",
       "    <tr>\n",
       "      <th>16</th>\n",
       "      <td>Guyana</td>\n",
       "      <td>Crude Petroleum</td>\n",
       "      <td>4.89B</td>\n",
       "    </tr>\n",
       "    <tr>\n",
       "      <th>17</th>\n",
       "      <td>Equatorial Guinea</td>\n",
       "      <td>Crude Petroleum</td>\n",
       "      <td>4.51B</td>\n",
       "    </tr>\n",
       "    <tr>\n",
       "      <th>18</th>\n",
       "      <td>Saint Lucia</td>\n",
       "      <td>Crude Petroleum</td>\n",
       "      <td>2.75B</td>\n",
       "    </tr>\n",
       "    <tr>\n",
       "      <th>19</th>\n",
       "      <td>Chad</td>\n",
       "      <td>Crude Petroleum</td>\n",
       "      <td>2.71B</td>\n",
       "    </tr>\n",
       "    <tr>\n",
       "      <th>20</th>\n",
       "      <td>Yemen</td>\n",
       "      <td>Crude Petroleum</td>\n",
       "      <td>1.97B</td>\n",
       "    </tr>\n",
       "    <tr>\n",
       "      <th>21</th>\n",
       "      <td>South Sudan</td>\n",
       "      <td>Crude Petroleum</td>\n",
       "      <td>563.82M</td>\n",
       "    </tr>\n",
       "    <tr>\n",
       "      <th>22</th>\n",
       "      <td>Timor-Leste</td>\n",
       "      <td>Crude Petroleum</td>\n",
       "      <td>296.5M</td>\n",
       "    </tr>\n",
       "    <tr>\n",
       "      <th>23</th>\n",
       "      <td>Aruba</td>\n",
       "      <td>Crude Petroleum</td>\n",
       "      <td>190.38M</td>\n",
       "    </tr>\n",
       "  </tbody>\n",
       "</table>\n",
       "</div>"
      ],
      "text/plain": [
       "                 country              HS4 value_format\n",
       "0                 Canada  Crude Petroleum      483.77B\n",
       "1                 Russia  Crude Petroleum      483.56B\n",
       "2   United Arab Emirates  Crude Petroleum      295.56B\n",
       "3           Saudi Arabia  Crude Petroleum      255.98B\n",
       "4                   Iraq  Crude Petroleum       81.11B\n",
       "5                 Kuwait  Crude Petroleum       58.18B\n",
       "6                Nigeria  Crude Petroleum       57.71B\n",
       "7                   Oman  Crude Petroleum       56.88B\n",
       "8             Kazakhstan  Crude Petroleum        53.6B\n",
       "9               Colombia  Crude Petroleum       42.53B\n",
       "10                Angola  Crude Petroleum       34.96B\n",
       "11                 Libya  Crude Petroleum       30.81B\n",
       "12               Ecuador  Crude Petroleum       27.26B\n",
       "13            Azerbaijan  Crude Petroleum       22.81B\n",
       "14                 Gabon  Crude Petroleum        5.94B\n",
       "15              Cameroon  Crude Petroleum        4.92B\n",
       "16                Guyana  Crude Petroleum        4.89B\n",
       "17     Equatorial Guinea  Crude Petroleum        4.51B\n",
       "18           Saint Lucia  Crude Petroleum        2.75B\n",
       "19                  Chad  Crude Petroleum        2.71B\n",
       "20                 Yemen  Crude Petroleum        1.97B\n",
       "21           South Sudan  Crude Petroleum      563.82M\n",
       "22           Timor-Leste  Crude Petroleum       296.5M\n",
       "23                 Aruba  Crude Petroleum      190.38M"
      ]
     },
     "metadata": {},
     "output_type": "display_data"
    },
    {
     "data": {
      "text/html": [
       "<div>\n",
       "<style scoped>\n",
       "    .dataframe tbody tr th:only-of-type {\n",
       "        vertical-align: middle;\n",
       "    }\n",
       "\n",
       "    .dataframe tbody tr th {\n",
       "        vertical-align: top;\n",
       "    }\n",
       "\n",
       "    .dataframe thead th {\n",
       "        text-align: right;\n",
       "    }\n",
       "</style>\n",
       "<table border=\"1\" class=\"dataframe\">\n",
       "  <thead>\n",
       "    <tr style=\"text-align: right;\">\n",
       "      <th></th>\n",
       "      <th>country</th>\n",
       "      <th>HS4</th>\n",
       "      <th>value_format</th>\n",
       "    </tr>\n",
       "  </thead>\n",
       "  <tbody>\n",
       "    <tr>\n",
       "      <th>0</th>\n",
       "      <td>Belgium</td>\n",
       "      <td>Vaccines, blood, antisera, toxins and cultures</td>\n",
       "      <td>402.99B</td>\n",
       "    </tr>\n",
       "    <tr>\n",
       "      <th>1</th>\n",
       "      <td>Ireland</td>\n",
       "      <td>Vaccines, blood, antisera, toxins and cultures</td>\n",
       "      <td>212.18B</td>\n",
       "    </tr>\n",
       "    <tr>\n",
       "      <th>2</th>\n",
       "      <td>Austria</td>\n",
       "      <td>Vaccines, blood, antisera, toxins and cultures</td>\n",
       "      <td>197.9B</td>\n",
       "    </tr>\n",
       "  </tbody>\n",
       "</table>\n",
       "</div>"
      ],
      "text/plain": [
       "   country                                             HS4 value_format\n",
       "0  Belgium  Vaccines, blood, antisera, toxins and cultures      402.99B\n",
       "1  Ireland  Vaccines, blood, antisera, toxins and cultures      212.18B\n",
       "2  Austria  Vaccines, blood, antisera, toxins and cultures       197.9B"
      ]
     },
     "metadata": {},
     "output_type": "display_data"
    },
    {
     "data": {
      "text/html": [
       "<div>\n",
       "<style scoped>\n",
       "    .dataframe tbody tr th:only-of-type {\n",
       "        vertical-align: middle;\n",
       "    }\n",
       "\n",
       "    .dataframe tbody tr th {\n",
       "        vertical-align: top;\n",
       "    }\n",
       "\n",
       "    .dataframe thead th {\n",
       "        text-align: right;\n",
       "    }\n",
       "</style>\n",
       "<table border=\"1\" class=\"dataframe\">\n",
       "  <thead>\n",
       "    <tr style=\"text-align: right;\">\n",
       "      <th></th>\n",
       "      <th>country</th>\n",
       "      <th>HS4</th>\n",
       "      <th>value_format</th>\n",
       "    </tr>\n",
       "  </thead>\n",
       "  <tbody>\n",
       "    <tr>\n",
       "      <th>0</th>\n",
       "      <td>Switzerland</td>\n",
       "      <td>Gold</td>\n",
       "      <td>370.7B</td>\n",
       "    </tr>\n",
       "    <tr>\n",
       "      <th>1</th>\n",
       "      <td>Hong Kong</td>\n",
       "      <td>Gold</td>\n",
       "      <td>124.33B</td>\n",
       "    </tr>\n",
       "    <tr>\n",
       "      <th>2</th>\n",
       "      <td>Uzbekistan</td>\n",
       "      <td>Gold</td>\n",
       "      <td>14.68B</td>\n",
       "    </tr>\n",
       "    <tr>\n",
       "      <th>3</th>\n",
       "      <td>Ghana</td>\n",
       "      <td>Gold</td>\n",
       "      <td>14.08B</td>\n",
       "    </tr>\n",
       "    <tr>\n",
       "      <th>4</th>\n",
       "      <td>Dominican Republic</td>\n",
       "      <td>Gold</td>\n",
       "      <td>12.87B</td>\n",
       "    </tr>\n",
       "    <tr>\n",
       "      <th>5</th>\n",
       "      <td>Bolivia</td>\n",
       "      <td>Gold</td>\n",
       "      <td>11.33B</td>\n",
       "    </tr>\n",
       "    <tr>\n",
       "      <th>6</th>\n",
       "      <td>Guinea</td>\n",
       "      <td>Gold</td>\n",
       "      <td>9.49B</td>\n",
       "    </tr>\n",
       "    <tr>\n",
       "      <th>7</th>\n",
       "      <td>Mali</td>\n",
       "      <td>Gold</td>\n",
       "      <td>9.38B</td>\n",
       "    </tr>\n",
       "    <tr>\n",
       "      <th>8</th>\n",
       "      <td>Burkina Faso</td>\n",
       "      <td>Gold</td>\n",
       "      <td>9.04B</td>\n",
       "    </tr>\n",
       "    <tr>\n",
       "      <th>9</th>\n",
       "      <td>Tanzania</td>\n",
       "      <td>Gold</td>\n",
       "      <td>8.56B</td>\n",
       "    </tr>\n",
       "    <tr>\n",
       "      <th>10</th>\n",
       "      <td>Zimbabwe</td>\n",
       "      <td>Gold</td>\n",
       "      <td>7.5B</td>\n",
       "    </tr>\n",
       "    <tr>\n",
       "      <th>11</th>\n",
       "      <td>Nicaragua</td>\n",
       "      <td>Gold</td>\n",
       "      <td>6.95B</td>\n",
       "    </tr>\n",
       "    <tr>\n",
       "      <th>12</th>\n",
       "      <td>Sudan</td>\n",
       "      <td>Gold</td>\n",
       "      <td>5.44B</td>\n",
       "    </tr>\n",
       "    <tr>\n",
       "      <th>13</th>\n",
       "      <td>Senegal</td>\n",
       "      <td>Gold</td>\n",
       "      <td>5.25B</td>\n",
       "    </tr>\n",
       "    <tr>\n",
       "      <th>14</th>\n",
       "      <td>Lebanon</td>\n",
       "      <td>Gold</td>\n",
       "      <td>4.79B</td>\n",
       "    </tr>\n",
       "    <tr>\n",
       "      <th>15</th>\n",
       "      <td>Niger</td>\n",
       "      <td>Gold</td>\n",
       "      <td>3.78B</td>\n",
       "    </tr>\n",
       "    <tr>\n",
       "      <th>16</th>\n",
       "      <td>Uganda</td>\n",
       "      <td>Gold</td>\n",
       "      <td>3.55B</td>\n",
       "    </tr>\n",
       "    <tr>\n",
       "      <th>17</th>\n",
       "      <td>Suriname</td>\n",
       "      <td>Gold</td>\n",
       "      <td>2.83B</td>\n",
       "    </tr>\n",
       "    <tr>\n",
       "      <th>18</th>\n",
       "      <td>Kyrgyzstan</td>\n",
       "      <td>Gold</td>\n",
       "      <td>2.37B</td>\n",
       "    </tr>\n",
       "    <tr>\n",
       "      <th>19</th>\n",
       "      <td>Benin</td>\n",
       "      <td>Gold</td>\n",
       "      <td>2.18B</td>\n",
       "    </tr>\n",
       "    <tr>\n",
       "      <th>20</th>\n",
       "      <td>Tajikistan</td>\n",
       "      <td>Gold</td>\n",
       "      <td>2.1B</td>\n",
       "    </tr>\n",
       "    <tr>\n",
       "      <th>21</th>\n",
       "      <td>Afghanistan</td>\n",
       "      <td>Gold</td>\n",
       "      <td>1.88B</td>\n",
       "    </tr>\n",
       "    <tr>\n",
       "      <th>22</th>\n",
       "      <td>Rwanda</td>\n",
       "      <td>Gold</td>\n",
       "      <td>1.59B</td>\n",
       "    </tr>\n",
       "    <tr>\n",
       "      <th>23</th>\n",
       "      <td>Liberia</td>\n",
       "      <td>Gold</td>\n",
       "      <td>1.58B</td>\n",
       "    </tr>\n",
       "    <tr>\n",
       "      <th>24</th>\n",
       "      <td>Burundi</td>\n",
       "      <td>Gold</td>\n",
       "      <td>193.9M</td>\n",
       "    </tr>\n",
       "    <tr>\n",
       "      <th>25</th>\n",
       "      <td>Central African Republic</td>\n",
       "      <td>Gold</td>\n",
       "      <td>121.97M</td>\n",
       "    </tr>\n",
       "  </tbody>\n",
       "</table>\n",
       "</div>"
      ],
      "text/plain": [
       "                     country   HS4 value_format\n",
       "0                Switzerland  Gold       370.7B\n",
       "1                  Hong Kong  Gold      124.33B\n",
       "2                 Uzbekistan  Gold       14.68B\n",
       "3                      Ghana  Gold       14.08B\n",
       "4         Dominican Republic  Gold       12.87B\n",
       "5                    Bolivia  Gold       11.33B\n",
       "6                     Guinea  Gold        9.49B\n",
       "7                       Mali  Gold        9.38B\n",
       "8               Burkina Faso  Gold        9.04B\n",
       "9                   Tanzania  Gold        8.56B\n",
       "10                  Zimbabwe  Gold         7.5B\n",
       "11                 Nicaragua  Gold        6.95B\n",
       "12                     Sudan  Gold        5.44B\n",
       "13                   Senegal  Gold        5.25B\n",
       "14                   Lebanon  Gold        4.79B\n",
       "15                     Niger  Gold        3.78B\n",
       "16                    Uganda  Gold        3.55B\n",
       "17                  Suriname  Gold        2.83B\n",
       "18                Kyrgyzstan  Gold        2.37B\n",
       "19                     Benin  Gold        2.18B\n",
       "20                Tajikistan  Gold         2.1B\n",
       "21               Afghanistan  Gold        1.88B\n",
       "22                    Rwanda  Gold        1.59B\n",
       "23                   Liberia  Gold        1.58B\n",
       "24                   Burundi  Gold       193.9M\n",
       "25  Central African Republic  Gold      121.97M"
      ]
     },
     "metadata": {},
     "output_type": "display_data"
    },
    {
     "data": {
      "text/html": [
       "<div>\n",
       "<style scoped>\n",
       "    .dataframe tbody tr th:only-of-type {\n",
       "        vertical-align: middle;\n",
       "    }\n",
       "\n",
       "    .dataframe tbody tr th {\n",
       "        vertical-align: top;\n",
       "    }\n",
       "\n",
       "    .dataframe thead th {\n",
       "        text-align: right;\n",
       "    }\n",
       "</style>\n",
       "<table border=\"1\" class=\"dataframe\">\n",
       "  <thead>\n",
       "    <tr style=\"text-align: right;\">\n",
       "      <th></th>\n",
       "      <th>country</th>\n",
       "      <th>HS4</th>\n",
       "      <th>value_format</th>\n",
       "    </tr>\n",
       "  </thead>\n",
       "  <tbody>\n",
       "    <tr>\n",
       "      <th>0</th>\n",
       "      <td>Australia</td>\n",
       "      <td>Iron Ore</td>\n",
       "      <td>343.13B</td>\n",
       "    </tr>\n",
       "    <tr>\n",
       "      <th>1</th>\n",
       "      <td>Brazil</td>\n",
       "      <td>Iron Ore</td>\n",
       "      <td>288.38B</td>\n",
       "    </tr>\n",
       "    <tr>\n",
       "      <th>2</th>\n",
       "      <td>Ukraine</td>\n",
       "      <td>Iron Ore</td>\n",
       "      <td>69.13B</td>\n",
       "    </tr>\n",
       "    <tr>\n",
       "      <th>3</th>\n",
       "      <td>Mauritania</td>\n",
       "      <td>Iron Ore</td>\n",
       "      <td>4.14B</td>\n",
       "    </tr>\n",
       "  </tbody>\n",
       "</table>\n",
       "</div>"
      ],
      "text/plain": [
       "      country       HS4 value_format\n",
       "0   Australia  Iron Ore      343.13B\n",
       "1      Brazil  Iron Ore      288.38B\n",
       "2     Ukraine  Iron Ore       69.13B\n",
       "3  Mauritania  Iron Ore        4.14B"
      ]
     },
     "metadata": {},
     "output_type": "display_data"
    },
    {
     "data": {
      "text/html": [
       "<div>\n",
       "<style scoped>\n",
       "    .dataframe tbody tr th:only-of-type {\n",
       "        vertical-align: middle;\n",
       "    }\n",
       "\n",
       "    .dataframe tbody tr th {\n",
       "        vertical-align: top;\n",
       "    }\n",
       "\n",
       "    .dataframe thead th {\n",
       "        text-align: right;\n",
       "    }\n",
       "</style>\n",
       "<table border=\"1\" class=\"dataframe\">\n",
       "  <thead>\n",
       "    <tr style=\"text-align: right;\">\n",
       "      <th></th>\n",
       "      <th>country</th>\n",
       "      <th>HS4</th>\n",
       "      <th>value_format</th>\n",
       "    </tr>\n",
       "  </thead>\n",
       "  <tbody>\n",
       "    <tr>\n",
       "      <th>0</th>\n",
       "      <td>Poland</td>\n",
       "      <td>Motor vehicles; parts and accessories (8701 to...</td>\n",
       "      <td>322.83B</td>\n",
       "    </tr>\n",
       "    <tr>\n",
       "      <th>1</th>\n",
       "      <td>Romania</td>\n",
       "      <td>Motor vehicles; parts and accessories (8701 to...</td>\n",
       "      <td>90.78B</td>\n",
       "    </tr>\n",
       "  </tbody>\n",
       "</table>\n",
       "</div>"
      ],
      "text/plain": [
       "   country                                                HS4 value_format\n",
       "0   Poland  Motor vehicles; parts and accessories (8701 to...      322.83B\n",
       "1  Romania  Motor vehicles; parts and accessories (8701 to...       90.78B"
      ]
     },
     "metadata": {},
     "output_type": "display_data"
    },
    {
     "data": {
      "text/html": [
       "<div>\n",
       "<style scoped>\n",
       "    .dataframe tbody tr th:only-of-type {\n",
       "        vertical-align: middle;\n",
       "    }\n",
       "\n",
       "    .dataframe tbody tr th {\n",
       "        vertical-align: top;\n",
       "    }\n",
       "\n",
       "    .dataframe thead th {\n",
       "        text-align: right;\n",
       "    }\n",
       "</style>\n",
       "<table border=\"1\" class=\"dataframe\">\n",
       "  <thead>\n",
       "    <tr style=\"text-align: right;\">\n",
       "      <th></th>\n",
       "      <th>country</th>\n",
       "      <th>HS4</th>\n",
       "      <th>value_format</th>\n",
       "    </tr>\n",
       "  </thead>\n",
       "  <tbody>\n",
       "    <tr>\n",
       "      <th>0</th>\n",
       "      <td>Thailand</td>\n",
       "      <td>Office Machine Parts</td>\n",
       "      <td>284.99B</td>\n",
       "    </tr>\n",
       "  </tbody>\n",
       "</table>\n",
       "</div>"
      ],
      "text/plain": [
       "    country                   HS4 value_format\n",
       "0  Thailand  Office Machine Parts      284.99B"
      ]
     },
     "metadata": {},
     "output_type": "display_data"
    },
    {
     "data": {
      "text/html": [
       "<div>\n",
       "<style scoped>\n",
       "    .dataframe tbody tr th:only-of-type {\n",
       "        vertical-align: middle;\n",
       "    }\n",
       "\n",
       "    .dataframe tbody tr th {\n",
       "        vertical-align: top;\n",
       "    }\n",
       "\n",
       "    .dataframe thead th {\n",
       "        text-align: right;\n",
       "    }\n",
       "</style>\n",
       "<table border=\"1\" class=\"dataframe\">\n",
       "  <thead>\n",
       "    <tr style=\"text-align: right;\">\n",
       "      <th></th>\n",
       "      <th>country</th>\n",
       "      <th>HS4</th>\n",
       "      <th>value_format</th>\n",
       "    </tr>\n",
       "  </thead>\n",
       "  <tbody>\n",
       "    <tr>\n",
       "      <th>0</th>\n",
       "      <td>Indonesia</td>\n",
       "      <td>Coal Briquettes</td>\n",
       "      <td>247.62B</td>\n",
       "    </tr>\n",
       "    <tr>\n",
       "      <th>1</th>\n",
       "      <td>Mozambique</td>\n",
       "      <td>Coal Briquettes</td>\n",
       "      <td>8.5B</td>\n",
       "    </tr>\n",
       "  </tbody>\n",
       "</table>\n",
       "</div>"
      ],
      "text/plain": [
       "      country              HS4 value_format\n",
       "0   Indonesia  Coal Briquettes      247.62B\n",
       "1  Mozambique  Coal Briquettes         8.5B"
      ]
     },
     "metadata": {},
     "output_type": "display_data"
    },
    {
     "data": {
      "text/html": [
       "<div>\n",
       "<style scoped>\n",
       "    .dataframe tbody tr th:only-of-type {\n",
       "        vertical-align: middle;\n",
       "    }\n",
       "\n",
       "    .dataframe tbody tr th {\n",
       "        vertical-align: top;\n",
       "    }\n",
       "\n",
       "    .dataframe thead th {\n",
       "        text-align: right;\n",
       "    }\n",
       "</style>\n",
       "<table border=\"1\" class=\"dataframe\">\n",
       "  <thead>\n",
       "    <tr style=\"text-align: right;\">\n",
       "      <th></th>\n",
       "      <th>country</th>\n",
       "      <th>HS4</th>\n",
       "      <th>value_format</th>\n",
       "    </tr>\n",
       "  </thead>\n",
       "  <tbody>\n",
       "    <tr>\n",
       "      <th>0</th>\n",
       "      <td>Norway</td>\n",
       "      <td>Petroleum Gas</td>\n",
       "      <td>163.81B</td>\n",
       "    </tr>\n",
       "    <tr>\n",
       "      <th>1</th>\n",
       "      <td>Qatar</td>\n",
       "      <td>Petroleum Gas</td>\n",
       "      <td>94.71B</td>\n",
       "    </tr>\n",
       "    <tr>\n",
       "      <th>2</th>\n",
       "      <td>Algeria</td>\n",
       "      <td>Petroleum Gas</td>\n",
       "      <td>35.39B</td>\n",
       "    </tr>\n",
       "    <tr>\n",
       "      <th>3</th>\n",
       "      <td>Burma</td>\n",
       "      <td>Petroleum Gas</td>\n",
       "      <td>20.37B</td>\n",
       "    </tr>\n",
       "    <tr>\n",
       "      <th>4</th>\n",
       "      <td>Papua New Guinea</td>\n",
       "      <td>Petroleum Gas</td>\n",
       "      <td>10.97B</td>\n",
       "    </tr>\n",
       "    <tr>\n",
       "      <th>5</th>\n",
       "      <td>Turkmenistan</td>\n",
       "      <td>Petroleum Gas</td>\n",
       "      <td>7.2B</td>\n",
       "    </tr>\n",
       "    <tr>\n",
       "      <th>6</th>\n",
       "      <td>Tonga</td>\n",
       "      <td>Petroleum Gas</td>\n",
       "      <td>14.8M</td>\n",
       "    </tr>\n",
       "  </tbody>\n",
       "</table>\n",
       "</div>"
      ],
      "text/plain": [
       "            country            HS4 value_format\n",
       "0            Norway  Petroleum Gas      163.81B\n",
       "1             Qatar  Petroleum Gas       94.71B\n",
       "2           Algeria  Petroleum Gas       35.39B\n",
       "3             Burma  Petroleum Gas       20.37B\n",
       "4  Papua New Guinea  Petroleum Gas       10.97B\n",
       "5      Turkmenistan  Petroleum Gas         7.2B\n",
       "6             Tonga  Petroleum Gas        14.8M"
      ]
     },
     "metadata": {},
     "output_type": "display_data"
    },
    {
     "data": {
      "text/html": [
       "<div>\n",
       "<style scoped>\n",
       "    .dataframe tbody tr th:only-of-type {\n",
       "        vertical-align: middle;\n",
       "    }\n",
       "\n",
       "    .dataframe tbody tr th {\n",
       "        vertical-align: top;\n",
       "    }\n",
       "\n",
       "    .dataframe thead th {\n",
       "        text-align: right;\n",
       "    }\n",
       "</style>\n",
       "<table border=\"1\" class=\"dataframe\">\n",
       "  <thead>\n",
       "    <tr style=\"text-align: right;\">\n",
       "      <th></th>\n",
       "      <th>country</th>\n",
       "      <th>HS4</th>\n",
       "      <th>value_format</th>\n",
       "    </tr>\n",
       "  </thead>\n",
       "  <tbody>\n",
       "    <tr>\n",
       "      <th>0</th>\n",
       "      <td>South Africa</td>\n",
       "      <td>Platinum</td>\n",
       "      <td>143.46B</td>\n",
       "    </tr>\n",
       "  </tbody>\n",
       "</table>\n",
       "</div>"
      ],
      "text/plain": [
       "        country       HS4 value_format\n",
       "0  South Africa  Platinum      143.46B"
      ]
     },
     "metadata": {},
     "output_type": "display_data"
    },
    {
     "data": {
      "text/html": [
       "<div>\n",
       "<style scoped>\n",
       "    .dataframe tbody tr th:only-of-type {\n",
       "        vertical-align: middle;\n",
       "    }\n",
       "\n",
       "    .dataframe tbody tr th {\n",
       "        vertical-align: top;\n",
       "    }\n",
       "\n",
       "    .dataframe thead th {\n",
       "        text-align: right;\n",
       "    }\n",
       "</style>\n",
       "<table border=\"1\" class=\"dataframe\">\n",
       "  <thead>\n",
       "    <tr style=\"text-align: right;\">\n",
       "      <th></th>\n",
       "      <th>country</th>\n",
       "      <th>HS4</th>\n",
       "      <th>value_format</th>\n",
       "    </tr>\n",
       "  </thead>\n",
       "  <tbody>\n",
       "    <tr>\n",
       "      <th>0</th>\n",
       "      <td>Chile</td>\n",
       "      <td>Copper Ore</td>\n",
       "      <td>96.08B</td>\n",
       "    </tr>\n",
       "    <tr>\n",
       "      <th>1</th>\n",
       "      <td>Peru</td>\n",
       "      <td>Copper Ore</td>\n",
       "      <td>56.61B</td>\n",
       "    </tr>\n",
       "    <tr>\n",
       "      <th>2</th>\n",
       "      <td>Mongolia</td>\n",
       "      <td>Copper Ore</td>\n",
       "      <td>10.46B</td>\n",
       "    </tr>\n",
       "    <tr>\n",
       "      <th>3</th>\n",
       "      <td>Panama</td>\n",
       "      <td>Copper Ore</td>\n",
       "      <td>6.77B</td>\n",
       "    </tr>\n",
       "    <tr>\n",
       "      <th>4</th>\n",
       "      <td>Georgia</td>\n",
       "      <td>Copper Ore</td>\n",
       "      <td>5.02B</td>\n",
       "    </tr>\n",
       "    <tr>\n",
       "      <th>5</th>\n",
       "      <td>Armenia</td>\n",
       "      <td>Copper Ore</td>\n",
       "      <td>3.36B</td>\n",
       "    </tr>\n",
       "    <tr>\n",
       "      <th>6</th>\n",
       "      <td>Montenegro</td>\n",
       "      <td>Copper Ore</td>\n",
       "      <td>828.31M</td>\n",
       "    </tr>\n",
       "  </tbody>\n",
       "</table>\n",
       "</div>"
      ],
      "text/plain": [
       "      country         HS4 value_format\n",
       "0       Chile  Copper Ore       96.08B\n",
       "1        Peru  Copper Ore       56.61B\n",
       "2    Mongolia  Copper Ore       10.46B\n",
       "3      Panama  Copper Ore        6.77B\n",
       "4     Georgia  Copper Ore        5.02B\n",
       "5     Armenia  Copper Ore        3.36B\n",
       "6  Montenegro  Copper Ore      828.31M"
      ]
     },
     "metadata": {},
     "output_type": "display_data"
    },
    {
     "data": {
      "text/html": [
       "<div>\n",
       "<style scoped>\n",
       "    .dataframe tbody tr th:only-of-type {\n",
       "        vertical-align: middle;\n",
       "    }\n",
       "\n",
       "    .dataframe tbody tr th {\n",
       "        vertical-align: top;\n",
       "    }\n",
       "\n",
       "    .dataframe thead th {\n",
       "        text-align: right;\n",
       "    }\n",
       "</style>\n",
       "<table border=\"1\" class=\"dataframe\">\n",
       "  <thead>\n",
       "    <tr style=\"text-align: right;\">\n",
       "      <th></th>\n",
       "      <th>country</th>\n",
       "      <th>HS4</th>\n",
       "      <th>value_format</th>\n",
       "    </tr>\n",
       "  </thead>\n",
       "  <tbody>\n",
       "    <tr>\n",
       "      <th>0</th>\n",
       "      <td>Argentina</td>\n",
       "      <td>Corn</td>\n",
       "      <td>68.65B</td>\n",
       "    </tr>\n",
       "  </tbody>\n",
       "</table>\n",
       "</div>"
      ],
      "text/plain": [
       "     country   HS4 value_format\n",
       "0  Argentina  Corn       68.65B"
      ]
     },
     "metadata": {},
     "output_type": "display_data"
    },
    {
     "data": {
      "text/html": [
       "<div>\n",
       "<style scoped>\n",
       "    .dataframe tbody tr th:only-of-type {\n",
       "        vertical-align: middle;\n",
       "    }\n",
       "\n",
       "    .dataframe tbody tr th {\n",
       "        vertical-align: top;\n",
       "    }\n",
       "\n",
       "    .dataframe thead th {\n",
       "        text-align: right;\n",
       "    }\n",
       "</style>\n",
       "<table border=\"1\" class=\"dataframe\">\n",
       "  <thead>\n",
       "    <tr style=\"text-align: right;\">\n",
       "      <th></th>\n",
       "      <th>country</th>\n",
       "      <th>HS4</th>\n",
       "      <th>value_format</th>\n",
       "    </tr>\n",
       "  </thead>\n",
       "  <tbody>\n",
       "    <tr>\n",
       "      <th>0</th>\n",
       "      <td>New Zealand</td>\n",
       "      <td>Concentrated Milk</td>\n",
       "      <td>68.39B</td>\n",
       "    </tr>\n",
       "  </tbody>\n",
       "</table>\n",
       "</div>"
      ],
      "text/plain": [
       "       country                HS4 value_format\n",
       "0  New Zealand  Concentrated Milk       68.39B"
      ]
     },
     "metadata": {},
     "output_type": "display_data"
    },
    {
     "data": {
      "text/html": [
       "<div>\n",
       "<style scoped>\n",
       "    .dataframe tbody tr th:only-of-type {\n",
       "        vertical-align: middle;\n",
       "    }\n",
       "\n",
       "    .dataframe tbody tr th {\n",
       "        vertical-align: top;\n",
       "    }\n",
       "\n",
       "    .dataframe thead th {\n",
       "        text-align: right;\n",
       "    }\n",
       "</style>\n",
       "<table border=\"1\" class=\"dataframe\">\n",
       "  <thead>\n",
       "    <tr style=\"text-align: right;\">\n",
       "      <th></th>\n",
       "      <th>country</th>\n",
       "      <th>HS4</th>\n",
       "      <th>value_format</th>\n",
       "    </tr>\n",
       "  </thead>\n",
       "  <tbody>\n",
       "    <tr>\n",
       "      <th>0</th>\n",
       "      <td>Israel</td>\n",
       "      <td>Diamonds</td>\n",
       "      <td>64.08B</td>\n",
       "    </tr>\n",
       "    <tr>\n",
       "      <th>1</th>\n",
       "      <td>Botswana</td>\n",
       "      <td>Diamonds</td>\n",
       "      <td>7.66B</td>\n",
       "    </tr>\n",
       "    <tr>\n",
       "      <th>2</th>\n",
       "      <td>Namibia</td>\n",
       "      <td>Diamonds</td>\n",
       "      <td>4.72B</td>\n",
       "    </tr>\n",
       "    <tr>\n",
       "      <th>3</th>\n",
       "      <td>Lesotho</td>\n",
       "      <td>Diamonds</td>\n",
       "      <td>1.07B</td>\n",
       "    </tr>\n",
       "  </tbody>\n",
       "</table>\n",
       "</div>"
      ],
      "text/plain": [
       "    country       HS4 value_format\n",
       "0    Israel  Diamonds       64.08B\n",
       "1  Botswana  Diamonds        7.66B\n",
       "2   Namibia  Diamonds        4.72B\n",
       "3   Lesotho  Diamonds        1.07B"
      ]
     },
     "metadata": {},
     "output_type": "display_data"
    },
    {
     "data": {
      "text/html": [
       "<div>\n",
       "<style scoped>\n",
       "    .dataframe tbody tr th:only-of-type {\n",
       "        vertical-align: middle;\n",
       "    }\n",
       "\n",
       "    .dataframe tbody tr th {\n",
       "        vertical-align: top;\n",
       "    }\n",
       "\n",
       "    .dataframe thead th {\n",
       "        text-align: right;\n",
       "    }\n",
       "</style>\n",
       "<table border=\"1\" class=\"dataframe\">\n",
       "  <thead>\n",
       "    <tr style=\"text-align: right;\">\n",
       "      <th></th>\n",
       "      <th>country</th>\n",
       "      <th>HS4</th>\n",
       "      <th>value_format</th>\n",
       "    </tr>\n",
       "  </thead>\n",
       "  <tbody>\n",
       "    <tr>\n",
       "      <th>0</th>\n",
       "      <td>Bangladesh</td>\n",
       "      <td>Knit T-shirts</td>\n",
       "      <td>51.77B</td>\n",
       "    </tr>\n",
       "    <tr>\n",
       "      <th>1</th>\n",
       "      <td>El Salvador</td>\n",
       "      <td>Knit T-shirts</td>\n",
       "      <td>6.86B</td>\n",
       "    </tr>\n",
       "    <tr>\n",
       "      <th>2</th>\n",
       "      <td>Haiti</td>\n",
       "      <td>Knit T-shirts</td>\n",
       "      <td>1.36B</td>\n",
       "    </tr>\n",
       "  </tbody>\n",
       "</table>\n",
       "</div>"
      ],
      "text/plain": [
       "       country            HS4 value_format\n",
       "0   Bangladesh  Knit T-shirts       51.77B\n",
       "1  El Salvador  Knit T-shirts        6.86B\n",
       "2        Haiti  Knit T-shirts        1.36B"
      ]
     },
     "metadata": {},
     "output_type": "display_data"
    },
    {
     "data": {
      "text/html": [
       "<div>\n",
       "<style scoped>\n",
       "    .dataframe tbody tr th:only-of-type {\n",
       "        vertical-align: middle;\n",
       "    }\n",
       "\n",
       "    .dataframe tbody tr th {\n",
       "        vertical-align: top;\n",
       "    }\n",
       "\n",
       "    .dataframe thead th {\n",
       "        text-align: right;\n",
       "    }\n",
       "</style>\n",
       "<table border=\"1\" class=\"dataframe\">\n",
       "  <thead>\n",
       "    <tr style=\"text-align: right;\">\n",
       "      <th></th>\n",
       "      <th>country</th>\n",
       "      <th>HS4</th>\n",
       "      <th>value_format</th>\n",
       "    </tr>\n",
       "  </thead>\n",
       "  <tbody>\n",
       "    <tr>\n",
       "      <th>0</th>\n",
       "      <td>Bulgaria</td>\n",
       "      <td>Refined Copper</td>\n",
       "      <td>43.28B</td>\n",
       "    </tr>\n",
       "    <tr>\n",
       "      <th>1</th>\n",
       "      <td>Democratic Republic of the Congo</td>\n",
       "      <td>Refined Copper</td>\n",
       "      <td>16.72B</td>\n",
       "    </tr>\n",
       "    <tr>\n",
       "      <th>2</th>\n",
       "      <td>Republic of the Congo</td>\n",
       "      <td>Refined Copper</td>\n",
       "      <td>6.74B</td>\n",
       "    </tr>\n",
       "  </tbody>\n",
       "</table>\n",
       "</div>"
      ],
      "text/plain": [
       "                            country             HS4 value_format\n",
       "0                          Bulgaria  Refined Copper       43.28B\n",
       "1  Democratic Republic of the Congo  Refined Copper       16.72B\n",
       "2             Republic of the Congo  Refined Copper        6.74B"
      ]
     },
     "metadata": {},
     "output_type": "display_data"
    },
    {
     "data": {
      "text/html": [
       "<div>\n",
       "<style scoped>\n",
       "    .dataframe tbody tr th:only-of-type {\n",
       "        vertical-align: middle;\n",
       "    }\n",
       "\n",
       "    .dataframe tbody tr th {\n",
       "        vertical-align: top;\n",
       "    }\n",
       "\n",
       "    .dataframe thead th {\n",
       "        text-align: right;\n",
       "    }\n",
       "</style>\n",
       "<table border=\"1\" class=\"dataframe\">\n",
       "  <thead>\n",
       "    <tr style=\"text-align: right;\">\n",
       "      <th></th>\n",
       "      <th>country</th>\n",
       "      <th>HS4</th>\n",
       "      <th>value_format</th>\n",
       "    </tr>\n",
       "  </thead>\n",
       "  <tbody>\n",
       "    <tr>\n",
       "      <th>0</th>\n",
       "      <td>Belarus</td>\n",
       "      <td>Potassic Fertilizers</td>\n",
       "      <td>34.63B</td>\n",
       "    </tr>\n",
       "    <tr>\n",
       "      <th>1</th>\n",
       "      <td>Jordan</td>\n",
       "      <td>Potassic Fertilizers</td>\n",
       "      <td>12.05B</td>\n",
       "    </tr>\n",
       "  </tbody>\n",
       "</table>\n",
       "</div>"
      ],
      "text/plain": [
       "   country                   HS4 value_format\n",
       "0  Belarus  Potassic Fertilizers       34.63B\n",
       "1   Jordan  Potassic Fertilizers       12.05B"
      ]
     },
     "metadata": {},
     "output_type": "display_data"
    },
    {
     "data": {
      "text/html": [
       "<div>\n",
       "<style scoped>\n",
       "    .dataframe tbody tr th:only-of-type {\n",
       "        vertical-align: middle;\n",
       "    }\n",
       "\n",
       "    .dataframe tbody tr th {\n",
       "        vertical-align: top;\n",
       "    }\n",
       "\n",
       "    .dataframe thead th {\n",
       "        text-align: right;\n",
       "    }\n",
       "</style>\n",
       "<table border=\"1\" class=\"dataframe\">\n",
       "  <thead>\n",
       "    <tr style=\"text-align: right;\">\n",
       "      <th></th>\n",
       "      <th>country</th>\n",
       "      <th>HS4</th>\n",
       "      <th>value_format</th>\n",
       "    </tr>\n",
       "  </thead>\n",
       "  <tbody>\n",
       "    <tr>\n",
       "      <th>0</th>\n",
       "      <td>Pakistan</td>\n",
       "      <td>House Linens</td>\n",
       "      <td>32.75B</td>\n",
       "    </tr>\n",
       "  </tbody>\n",
       "</table>\n",
       "</div>"
      ],
      "text/plain": [
       "    country           HS4 value_format\n",
       "0  Pakistan  House Linens       32.75B"
      ]
     },
     "metadata": {},
     "output_type": "display_data"
    },
    {
     "data": {
      "text/html": [
       "<div>\n",
       "<style scoped>\n",
       "    .dataframe tbody tr th:only-of-type {\n",
       "        vertical-align: middle;\n",
       "    }\n",
       "\n",
       "    .dataframe tbody tr th {\n",
       "        vertical-align: top;\n",
       "    }\n",
       "\n",
       "    .dataframe thead th {\n",
       "        text-align: right;\n",
       "    }\n",
       "</style>\n",
       "<table border=\"1\" class=\"dataframe\">\n",
       "  <thead>\n",
       "    <tr style=\"text-align: right;\">\n",
       "      <th></th>\n",
       "      <th>country</th>\n",
       "      <th>HS4</th>\n",
       "      <th>value_format</th>\n",
       "    </tr>\n",
       "  </thead>\n",
       "  <tbody>\n",
       "    <tr>\n",
       "      <th>0</th>\n",
       "      <td>Cambodia</td>\n",
       "      <td>Knit Sweaters</td>\n",
       "      <td>27.26B</td>\n",
       "    </tr>\n",
       "  </tbody>\n",
       "</table>\n",
       "</div>"
      ],
      "text/plain": [
       "    country            HS4 value_format\n",
       "0  Cambodia  Knit Sweaters       27.26B"
      ]
     },
     "metadata": {},
     "output_type": "display_data"
    },
    {
     "data": {
      "text/html": [
       "<div>\n",
       "<style scoped>\n",
       "    .dataframe tbody tr th:only-of-type {\n",
       "        vertical-align: middle;\n",
       "    }\n",
       "\n",
       "    .dataframe tbody tr th {\n",
       "        vertical-align: top;\n",
       "    }\n",
       "\n",
       "    .dataframe thead th {\n",
       "        text-align: right;\n",
       "    }\n",
       "</style>\n",
       "<table border=\"1\" class=\"dataframe\">\n",
       "  <thead>\n",
       "    <tr style=\"text-align: right;\">\n",
       "      <th></th>\n",
       "      <th>country</th>\n",
       "      <th>HS4</th>\n",
       "      <th>value_format</th>\n",
       "    </tr>\n",
       "  </thead>\n",
       "  <tbody>\n",
       "    <tr>\n",
       "      <th>0</th>\n",
       "      <td>Serbia</td>\n",
       "      <td>Insulated Wire</td>\n",
       "      <td>26.84B</td>\n",
       "    </tr>\n",
       "    <tr>\n",
       "      <th>1</th>\n",
       "      <td>Tunisia</td>\n",
       "      <td>Insulated Wire</td>\n",
       "      <td>18.82B</td>\n",
       "    </tr>\n",
       "    <tr>\n",
       "      <th>2</th>\n",
       "      <td>Moldova</td>\n",
       "      <td>Insulated Wire</td>\n",
       "      <td>3.89B</td>\n",
       "    </tr>\n",
       "  </tbody>\n",
       "</table>\n",
       "</div>"
      ],
      "text/plain": [
       "   country             HS4 value_format\n",
       "0   Serbia  Insulated Wire       26.84B\n",
       "1  Tunisia  Insulated Wire       18.82B\n",
       "2  Moldova  Insulated Wire        3.89B"
      ]
     },
     "metadata": {},
     "output_type": "display_data"
    },
    {
     "data": {
      "text/html": [
       "<div>\n",
       "<style scoped>\n",
       "    .dataframe tbody tr th:only-of-type {\n",
       "        vertical-align: middle;\n",
       "    }\n",
       "\n",
       "    .dataframe tbody tr th {\n",
       "        vertical-align: top;\n",
       "    }\n",
       "\n",
       "    .dataframe thead th {\n",
       "        text-align: right;\n",
       "    }\n",
       "</style>\n",
       "<table border=\"1\" class=\"dataframe\">\n",
       "  <thead>\n",
       "    <tr style=\"text-align: right;\">\n",
       "      <th></th>\n",
       "      <th>country</th>\n",
       "      <th>HS4</th>\n",
       "      <th>value_format</th>\n",
       "    </tr>\n",
       "  </thead>\n",
       "  <tbody>\n",
       "    <tr>\n",
       "      <th>0</th>\n",
       "      <td>Latvia</td>\n",
       "      <td>Sawn Wood</td>\n",
       "      <td>19.98B</td>\n",
       "    </tr>\n",
       "  </tbody>\n",
       "</table>\n",
       "</div>"
      ],
      "text/plain": [
       "  country        HS4 value_format\n",
       "0  Latvia  Sawn Wood       19.98B"
      ]
     },
     "metadata": {},
     "output_type": "display_data"
    },
    {
     "data": {
      "text/html": [
       "<div>\n",
       "<style scoped>\n",
       "    .dataframe tbody tr th:only-of-type {\n",
       "        vertical-align: middle;\n",
       "    }\n",
       "\n",
       "    .dataframe tbody tr th {\n",
       "        vertical-align: top;\n",
       "    }\n",
       "\n",
       "    .dataframe thead th {\n",
       "        text-align: right;\n",
       "    }\n",
       "</style>\n",
       "<table border=\"1\" class=\"dataframe\">\n",
       "  <thead>\n",
       "    <tr style=\"text-align: right;\">\n",
       "      <th></th>\n",
       "      <th>country</th>\n",
       "      <th>HS4</th>\n",
       "      <th>value_format</th>\n",
       "    </tr>\n",
       "  </thead>\n",
       "  <tbody>\n",
       "    <tr>\n",
       "      <th>0</th>\n",
       "      <td>Luxembourg</td>\n",
       "      <td>Iron Blocks</td>\n",
       "      <td>19.42B</td>\n",
       "    </tr>\n",
       "  </tbody>\n",
       "</table>\n",
       "</div>"
      ],
      "text/plain": [
       "      country          HS4 value_format\n",
       "0  Luxembourg  Iron Blocks       19.42B"
      ]
     },
     "metadata": {},
     "output_type": "display_data"
    },
    {
     "data": {
      "text/html": [
       "<div>\n",
       "<style scoped>\n",
       "    .dataframe tbody tr th:only-of-type {\n",
       "        vertical-align: middle;\n",
       "    }\n",
       "\n",
       "    .dataframe tbody tr th {\n",
       "        vertical-align: top;\n",
       "    }\n",
       "\n",
       "    .dataframe thead th {\n",
       "        text-align: right;\n",
       "    }\n",
       "</style>\n",
       "<table border=\"1\" class=\"dataframe\">\n",
       "  <thead>\n",
       "    <tr style=\"text-align: right;\">\n",
       "      <th></th>\n",
       "      <th>country</th>\n",
       "      <th>HS4</th>\n",
       "      <th>value_format</th>\n",
       "    </tr>\n",
       "  </thead>\n",
       "  <tbody>\n",
       "    <tr>\n",
       "      <th>0</th>\n",
       "      <td>Costa Rica</td>\n",
       "      <td>Medical Instruments</td>\n",
       "      <td>16.16B</td>\n",
       "    </tr>\n",
       "    <tr>\n",
       "      <th>1</th>\n",
       "      <td>Dominica</td>\n",
       "      <td>Medical Instruments</td>\n",
       "      <td>30.86M</td>\n",
       "    </tr>\n",
       "  </tbody>\n",
       "</table>\n",
       "</div>"
      ],
      "text/plain": [
       "      country                  HS4 value_format\n",
       "0  Costa Rica  Medical Instruments       16.16B\n",
       "1    Dominica  Medical Instruments       30.86M"
      ]
     },
     "metadata": {},
     "output_type": "display_data"
    },
    {
     "data": {
      "text/html": [
       "<div>\n",
       "<style scoped>\n",
       "    .dataframe tbody tr th:only-of-type {\n",
       "        vertical-align: middle;\n",
       "    }\n",
       "\n",
       "    .dataframe tbody tr th {\n",
       "        vertical-align: top;\n",
       "    }\n",
       "\n",
       "    .dataframe thead th {\n",
       "        text-align: right;\n",
       "    }\n",
       "</style>\n",
       "<table border=\"1\" class=\"dataframe\">\n",
       "  <thead>\n",
       "    <tr style=\"text-align: right;\">\n",
       "      <th></th>\n",
       "      <th>country</th>\n",
       "      <th>HS4</th>\n",
       "      <th>value_format</th>\n",
       "    </tr>\n",
       "  </thead>\n",
       "  <tbody>\n",
       "    <tr>\n",
       "      <th>0</th>\n",
       "      <td>Guatemala</td>\n",
       "      <td>Bananas</td>\n",
       "      <td>14.18B</td>\n",
       "    </tr>\n",
       "  </tbody>\n",
       "</table>\n",
       "</div>"
      ],
      "text/plain": [
       "     country      HS4 value_format\n",
       "0  Guatemala  Bananas       14.18B"
      ]
     },
     "metadata": {},
     "output_type": "display_data"
    },
    {
     "data": {
      "text/html": [
       "<div>\n",
       "<style scoped>\n",
       "    .dataframe tbody tr th:only-of-type {\n",
       "        vertical-align: middle;\n",
       "    }\n",
       "\n",
       "    .dataframe tbody tr th {\n",
       "        vertical-align: top;\n",
       "    }\n",
       "\n",
       "    .dataframe thead th {\n",
       "        text-align: right;\n",
       "    }\n",
       "</style>\n",
       "<table border=\"1\" class=\"dataframe\">\n",
       "  <thead>\n",
       "    <tr style=\"text-align: right;\">\n",
       "      <th></th>\n",
       "      <th>country</th>\n",
       "      <th>HS4</th>\n",
       "      <th>value_format</th>\n",
       "    </tr>\n",
       "  </thead>\n",
       "  <tbody>\n",
       "    <tr>\n",
       "      <th>0</th>\n",
       "      <td>Sri Lanka</td>\n",
       "      <td>Tea</td>\n",
       "      <td>14.09B</td>\n",
       "    </tr>\n",
       "    <tr>\n",
       "      <th>1</th>\n",
       "      <td>Kenya</td>\n",
       "      <td>Tea</td>\n",
       "      <td>7.15B</td>\n",
       "    </tr>\n",
       "  </tbody>\n",
       "</table>\n",
       "</div>"
      ],
      "text/plain": [
       "     country  HS4 value_format\n",
       "0  Sri Lanka  Tea       14.09B\n",
       "1      Kenya  Tea        7.15B"
      ]
     },
     "metadata": {},
     "output_type": "display_data"
    },
    {
     "data": {
      "text/html": [
       "<div>\n",
       "<style scoped>\n",
       "    .dataframe tbody tr th:only-of-type {\n",
       "        vertical-align: middle;\n",
       "    }\n",
       "\n",
       "    .dataframe tbody tr th {\n",
       "        vertical-align: top;\n",
       "    }\n",
       "\n",
       "    .dataframe thead th {\n",
       "        text-align: right;\n",
       "    }\n",
       "</style>\n",
       "<table border=\"1\" class=\"dataframe\">\n",
       "  <thead>\n",
       "    <tr style=\"text-align: right;\">\n",
       "      <th></th>\n",
       "      <th>country</th>\n",
       "      <th>HS4</th>\n",
       "      <th>value_format</th>\n",
       "    </tr>\n",
       "  </thead>\n",
       "  <tbody>\n",
       "    <tr>\n",
       "      <th>0</th>\n",
       "      <td>Iran</td>\n",
       "      <td>Ethylene Polymers</td>\n",
       "      <td>14.0B</td>\n",
       "    </tr>\n",
       "  </tbody>\n",
       "</table>\n",
       "</div>"
      ],
      "text/plain": [
       "  country                HS4 value_format\n",
       "0    Iran  Ethylene Polymers        14.0B"
      ]
     },
     "metadata": {},
     "output_type": "display_data"
    },
    {
     "data": {
      "text/html": [
       "<div>\n",
       "<style scoped>\n",
       "    .dataframe tbody tr th:only-of-type {\n",
       "        vertical-align: middle;\n",
       "    }\n",
       "\n",
       "    .dataframe tbody tr th {\n",
       "        vertical-align: top;\n",
       "    }\n",
       "\n",
       "    .dataframe thead th {\n",
       "        text-align: right;\n",
       "    }\n",
       "</style>\n",
       "<table border=\"1\" class=\"dataframe\">\n",
       "  <thead>\n",
       "    <tr style=\"text-align: right;\">\n",
       "      <th></th>\n",
       "      <th>country</th>\n",
       "      <th>HS4</th>\n",
       "      <th>value_format</th>\n",
       "    </tr>\n",
       "  </thead>\n",
       "  <tbody>\n",
       "    <tr>\n",
       "      <th>0</th>\n",
       "      <td>Zambia</td>\n",
       "      <td>Raw Copper</td>\n",
       "      <td>13.39B</td>\n",
       "    </tr>\n",
       "  </tbody>\n",
       "</table>\n",
       "</div>"
      ],
      "text/plain": [
       "  country         HS4 value_format\n",
       "0  Zambia  Raw Copper       13.39B"
      ]
     },
     "metadata": {},
     "output_type": "display_data"
    },
    {
     "data": {
      "text/html": [
       "<div>\n",
       "<style scoped>\n",
       "    .dataframe tbody tr th:only-of-type {\n",
       "        vertical-align: middle;\n",
       "    }\n",
       "\n",
       "    .dataframe tbody tr th {\n",
       "        vertical-align: top;\n",
       "    }\n",
       "\n",
       "    .dataframe thead th {\n",
       "        text-align: right;\n",
       "    }\n",
       "</style>\n",
       "<table border=\"1\" class=\"dataframe\">\n",
       "  <thead>\n",
       "    <tr style=\"text-align: right;\">\n",
       "      <th></th>\n",
       "      <th>country</th>\n",
       "      <th>HS4</th>\n",
       "      <th>value_format</th>\n",
       "    </tr>\n",
       "  </thead>\n",
       "  <tbody>\n",
       "    <tr>\n",
       "      <th>0</th>\n",
       "      <td>Cote d'Ivoire</td>\n",
       "      <td>Cocoa Beans</td>\n",
       "      <td>12.4B</td>\n",
       "    </tr>\n",
       "    <tr>\n",
       "      <th>1</th>\n",
       "      <td>Sao Tome and Principe</td>\n",
       "      <td>Cocoa Beans</td>\n",
       "      <td>39.26M</td>\n",
       "    </tr>\n",
       "  </tbody>\n",
       "</table>\n",
       "</div>"
      ],
      "text/plain": [
       "                 country          HS4 value_format\n",
       "0          Cote d'Ivoire  Cocoa Beans        12.4B\n",
       "1  Sao Tome and Principe  Cocoa Beans       39.26M"
      ]
     },
     "metadata": {},
     "output_type": "display_data"
    },
    {
     "data": {
      "text/html": [
       "<div>\n",
       "<style scoped>\n",
       "    .dataframe tbody tr th:only-of-type {\n",
       "        vertical-align: middle;\n",
       "    }\n",
       "\n",
       "    .dataframe tbody tr th {\n",
       "        vertical-align: top;\n",
       "    }\n",
       "\n",
       "    .dataframe thead th {\n",
       "        text-align: right;\n",
       "    }\n",
       "</style>\n",
       "<table border=\"1\" class=\"dataframe\">\n",
       "  <thead>\n",
       "    <tr style=\"text-align: right;\">\n",
       "      <th></th>\n",
       "      <th>country</th>\n",
       "      <th>HS4</th>\n",
       "      <th>value_format</th>\n",
       "    </tr>\n",
       "  </thead>\n",
       "  <tbody>\n",
       "    <tr>\n",
       "      <th>0</th>\n",
       "      <td>Paraguay</td>\n",
       "      <td>Soybeans</td>\n",
       "      <td>10.77B</td>\n",
       "    </tr>\n",
       "  </tbody>\n",
       "</table>\n",
       "</div>"
      ],
      "text/plain": [
       "    country       HS4 value_format\n",
       "0  Paraguay  Soybeans       10.77B"
      ]
     },
     "metadata": {},
     "output_type": "display_data"
    },
    {
     "data": {
      "text/html": [
       "<div>\n",
       "<style scoped>\n",
       "    .dataframe tbody tr th:only-of-type {\n",
       "        vertical-align: middle;\n",
       "    }\n",
       "\n",
       "    .dataframe tbody tr th {\n",
       "        vertical-align: top;\n",
       "    }\n",
       "\n",
       "    .dataframe thead th {\n",
       "        text-align: right;\n",
       "    }\n",
       "</style>\n",
       "<table border=\"1\" class=\"dataframe\">\n",
       "  <thead>\n",
       "    <tr style=\"text-align: right;\">\n",
       "      <th></th>\n",
       "      <th>country</th>\n",
       "      <th>HS4</th>\n",
       "      <th>value_format</th>\n",
       "    </tr>\n",
       "  </thead>\n",
       "  <tbody>\n",
       "    <tr>\n",
       "      <th>0</th>\n",
       "      <td>Uruguay</td>\n",
       "      <td>Frozen Bovine Meat</td>\n",
       "      <td>10.63B</td>\n",
       "    </tr>\n",
       "  </tbody>\n",
       "</table>\n",
       "</div>"
      ],
      "text/plain": [
       "   country                 HS4 value_format\n",
       "0  Uruguay  Frozen Bovine Meat       10.63B"
      ]
     },
     "metadata": {},
     "output_type": "display_data"
    },
    {
     "data": {
      "text/html": [
       "<div>\n",
       "<style scoped>\n",
       "    .dataframe tbody tr th:only-of-type {\n",
       "        vertical-align: middle;\n",
       "    }\n",
       "\n",
       "    .dataframe tbody tr th {\n",
       "        vertical-align: top;\n",
       "    }\n",
       "\n",
       "    .dataframe thead th {\n",
       "        text-align: right;\n",
       "    }\n",
       "</style>\n",
       "<table border=\"1\" class=\"dataframe\">\n",
       "  <thead>\n",
       "    <tr style=\"text-align: right;\">\n",
       "      <th></th>\n",
       "      <th>country</th>\n",
       "      <th>HS4</th>\n",
       "      <th>value_format</th>\n",
       "    </tr>\n",
       "  </thead>\n",
       "  <tbody>\n",
       "    <tr>\n",
       "      <th>0</th>\n",
       "      <td>Trinidad and Tobago</td>\n",
       "      <td>Ammonia</td>\n",
       "      <td>9.86B</td>\n",
       "    </tr>\n",
       "  </tbody>\n",
       "</table>\n",
       "</div>"
      ],
      "text/plain": [
       "               country      HS4 value_format\n",
       "0  Trinidad and Tobago  Ammonia        9.86B"
      ]
     },
     "metadata": {},
     "output_type": "display_data"
    },
    {
     "data": {
      "text/html": [
       "<div>\n",
       "<style scoped>\n",
       "    .dataframe tbody tr th:only-of-type {\n",
       "        vertical-align: middle;\n",
       "    }\n",
       "\n",
       "    .dataframe tbody tr th {\n",
       "        vertical-align: top;\n",
       "    }\n",
       "\n",
       "    .dataframe thead th {\n",
       "        text-align: right;\n",
       "    }\n",
       "</style>\n",
       "<table border=\"1\" class=\"dataframe\">\n",
       "  <thead>\n",
       "    <tr style=\"text-align: right;\">\n",
       "      <th></th>\n",
       "      <th>country</th>\n",
       "      <th>HS4</th>\n",
       "      <th>value_format</th>\n",
       "    </tr>\n",
       "  </thead>\n",
       "  <tbody>\n",
       "    <tr>\n",
       "      <th>0</th>\n",
       "      <td>Bosnia and Herzegovina</td>\n",
       "      <td>Electricity</td>\n",
       "      <td>9.57B</td>\n",
       "    </tr>\n",
       "    <tr>\n",
       "      <th>1</th>\n",
       "      <td>Laos</td>\n",
       "      <td>Electricity</td>\n",
       "      <td>9.22B</td>\n",
       "    </tr>\n",
       "  </tbody>\n",
       "</table>\n",
       "</div>"
      ],
      "text/plain": [
       "                  country          HS4 value_format\n",
       "0  Bosnia and Herzegovina  Electricity        9.57B\n",
       "1                    Laos  Electricity        9.22B"
      ]
     },
     "metadata": {},
     "output_type": "display_data"
    },
    {
     "data": {
      "text/html": [
       "<div>\n",
       "<style scoped>\n",
       "    .dataframe tbody tr th:only-of-type {\n",
       "        vertical-align: middle;\n",
       "    }\n",
       "\n",
       "    .dataframe tbody tr th {\n",
       "        vertical-align: top;\n",
       "    }\n",
       "\n",
       "    .dataframe thead th {\n",
       "        text-align: right;\n",
       "    }\n",
       "</style>\n",
       "<table border=\"1\" class=\"dataframe\">\n",
       "  <thead>\n",
       "    <tr style=\"text-align: right;\">\n",
       "      <th></th>\n",
       "      <th>country</th>\n",
       "      <th>HS4</th>\n",
       "      <th>value_format</th>\n",
       "    </tr>\n",
       "  </thead>\n",
       "  <tbody>\n",
       "    <tr>\n",
       "      <th>0</th>\n",
       "      <td>Honduras</td>\n",
       "      <td>Coffee</td>\n",
       "      <td>9.22B</td>\n",
       "    </tr>\n",
       "    <tr>\n",
       "      <th>1</th>\n",
       "      <td>Ethiopia</td>\n",
       "      <td>Coffee</td>\n",
       "      <td>4.41B</td>\n",
       "    </tr>\n",
       "  </tbody>\n",
       "</table>\n",
       "</div>"
      ],
      "text/plain": [
       "    country     HS4 value_format\n",
       "0  Honduras  Coffee        9.22B\n",
       "1  Ethiopia  Coffee        4.41B"
      ]
     },
     "metadata": {},
     "output_type": "display_data"
    },
    {
     "data": {
      "text/html": [
       "<div>\n",
       "<style scoped>\n",
       "    .dataframe tbody tr th:only-of-type {\n",
       "        vertical-align: middle;\n",
       "    }\n",
       "\n",
       "    .dataframe tbody tr th {\n",
       "        vertical-align: top;\n",
       "    }\n",
       "\n",
       "    .dataframe thead th {\n",
       "        text-align: right;\n",
       "    }\n",
       "</style>\n",
       "<table border=\"1\" class=\"dataframe\">\n",
       "  <thead>\n",
       "    <tr style=\"text-align: right;\">\n",
       "      <th></th>\n",
       "      <th>country</th>\n",
       "      <th>HS4</th>\n",
       "      <th>value_format</th>\n",
       "    </tr>\n",
       "  </thead>\n",
       "  <tbody>\n",
       "    <tr>\n",
       "      <th>0</th>\n",
       "      <td>North Macedonia</td>\n",
       "      <td>Reaction and Catalytic Products</td>\n",
       "      <td>8.62B</td>\n",
       "    </tr>\n",
       "  </tbody>\n",
       "</table>\n",
       "</div>"
      ],
      "text/plain": [
       "           country                              HS4 value_format\n",
       "0  North Macedonia  Reaction and Catalytic Products        8.62B"
      ]
     },
     "metadata": {},
     "output_type": "display_data"
    },
    {
     "data": {
      "text/html": [
       "<div>\n",
       "<style scoped>\n",
       "    .dataframe tbody tr th:only-of-type {\n",
       "        vertical-align: middle;\n",
       "    }\n",
       "\n",
       "    .dataframe tbody tr th {\n",
       "        vertical-align: top;\n",
       "    }\n",
       "\n",
       "    .dataframe thead th {\n",
       "        text-align: right;\n",
       "    }\n",
       "</style>\n",
       "<table border=\"1\" class=\"dataframe\">\n",
       "  <thead>\n",
       "    <tr style=\"text-align: right;\">\n",
       "      <th></th>\n",
       "      <th>country</th>\n",
       "      <th>HS4</th>\n",
       "      <th>value_format</th>\n",
       "    </tr>\n",
       "  </thead>\n",
       "  <tbody>\n",
       "    <tr>\n",
       "      <th>0</th>\n",
       "      <td>Iceland</td>\n",
       "      <td>Raw Aluminium</td>\n",
       "      <td>6.76B</td>\n",
       "    </tr>\n",
       "  </tbody>\n",
       "</table>\n",
       "</div>"
      ],
      "text/plain": [
       "   country            HS4 value_format\n",
       "0  Iceland  Raw Aluminium        6.76B"
      ]
     },
     "metadata": {},
     "output_type": "display_data"
    },
    {
     "data": {
      "text/html": [
       "<div>\n",
       "<style scoped>\n",
       "    .dataframe tbody tr th:only-of-type {\n",
       "        vertical-align: middle;\n",
       "    }\n",
       "\n",
       "    .dataframe tbody tr th {\n",
       "        vertical-align: top;\n",
       "    }\n",
       "\n",
       "    .dataframe thead th {\n",
       "        text-align: right;\n",
       "    }\n",
       "</style>\n",
       "<table border=\"1\" class=\"dataframe\">\n",
       "  <thead>\n",
       "    <tr style=\"text-align: right;\">\n",
       "      <th></th>\n",
       "      <th>country</th>\n",
       "      <th>HS4</th>\n",
       "      <th>value_format</th>\n",
       "    </tr>\n",
       "  </thead>\n",
       "  <tbody>\n",
       "    <tr>\n",
       "      <th>0</th>\n",
       "      <td>Cyprus</td>\n",
       "      <td>Passenger and Cargo Ships</td>\n",
       "      <td>5.16B</td>\n",
       "    </tr>\n",
       "    <tr>\n",
       "      <th>1</th>\n",
       "      <td>Marshall Islands</td>\n",
       "      <td>Passenger and Cargo Ships</td>\n",
       "      <td>1.37B</td>\n",
       "    </tr>\n",
       "    <tr>\n",
       "      <th>2</th>\n",
       "      <td>Niue</td>\n",
       "      <td>Passenger and Cargo Ships</td>\n",
       "      <td>5.68M</td>\n",
       "    </tr>\n",
       "  </tbody>\n",
       "</table>\n",
       "</div>"
      ],
      "text/plain": [
       "            country                        HS4 value_format\n",
       "0            Cyprus  Passenger and Cargo Ships        5.16B\n",
       "1  Marshall Islands  Passenger and Cargo Ships        1.37B\n",
       "2              Niue  Passenger and Cargo Ships        5.68M"
      ]
     },
     "metadata": {},
     "output_type": "display_data"
    },
    {
     "data": {
      "text/html": [
       "<div>\n",
       "<style scoped>\n",
       "    .dataframe tbody tr th:only-of-type {\n",
       "        vertical-align: middle;\n",
       "    }\n",
       "\n",
       "    .dataframe tbody tr th {\n",
       "        vertical-align: top;\n",
       "    }\n",
       "\n",
       "    .dataframe thead th {\n",
       "        text-align: right;\n",
       "    }\n",
       "</style>\n",
       "<table border=\"1\" class=\"dataframe\">\n",
       "  <thead>\n",
       "    <tr style=\"text-align: right;\">\n",
       "      <th></th>\n",
       "      <th>country</th>\n",
       "      <th>HS4</th>\n",
       "      <th>value_format</th>\n",
       "    </tr>\n",
       "  </thead>\n",
       "  <tbody>\n",
       "    <tr>\n",
       "      <th>0</th>\n",
       "      <td>Albania</td>\n",
       "      <td>Footwear Parts</td>\n",
       "      <td>3.49B</td>\n",
       "    </tr>\n",
       "  </tbody>\n",
       "</table>\n",
       "</div>"
      ],
      "text/plain": [
       "   country             HS4 value_format\n",
       "0  Albania  Footwear Parts        3.49B"
      ]
     },
     "metadata": {},
     "output_type": "display_data"
    },
    {
     "data": {
      "text/html": [
       "<div>\n",
       "<style scoped>\n",
       "    .dataframe tbody tr th:only-of-type {\n",
       "        vertical-align: middle;\n",
       "    }\n",
       "\n",
       "    .dataframe tbody tr th {\n",
       "        vertical-align: top;\n",
       "    }\n",
       "\n",
       "    .dataframe thead th {\n",
       "        text-align: right;\n",
       "    }\n",
       "</style>\n",
       "<table border=\"1\" class=\"dataframe\">\n",
       "  <thead>\n",
       "    <tr style=\"text-align: right;\">\n",
       "      <th></th>\n",
       "      <th>country</th>\n",
       "      <th>HS4</th>\n",
       "      <th>value_format</th>\n",
       "    </tr>\n",
       "  </thead>\n",
       "  <tbody>\n",
       "    <tr>\n",
       "      <th>0</th>\n",
       "      <td>Madagascar</td>\n",
       "      <td>Vanilla</td>\n",
       "      <td>3.22B</td>\n",
       "    </tr>\n",
       "  </tbody>\n",
       "</table>\n",
       "</div>"
      ],
      "text/plain": [
       "      country      HS4 value_format\n",
       "0  Madagascar  Vanilla        3.22B"
      ]
     },
     "metadata": {},
     "output_type": "display_data"
    },
    {
     "data": {
      "text/html": [
       "<div>\n",
       "<style scoped>\n",
       "    .dataframe tbody tr th:only-of-type {\n",
       "        vertical-align: middle;\n",
       "    }\n",
       "\n",
       "    .dataframe tbody tr th {\n",
       "        vertical-align: top;\n",
       "    }\n",
       "\n",
       "    .dataframe thead th {\n",
       "        text-align: right;\n",
       "    }\n",
       "</style>\n",
       "<table border=\"1\" class=\"dataframe\">\n",
       "  <thead>\n",
       "    <tr style=\"text-align: right;\">\n",
       "      <th></th>\n",
       "      <th>country</th>\n",
       "      <th>HS4</th>\n",
       "      <th>value_format</th>\n",
       "    </tr>\n",
       "  </thead>\n",
       "  <tbody>\n",
       "    <tr>\n",
       "      <th>0</th>\n",
       "      <td>Venezuela</td>\n",
       "      <td>Scrap Iron</td>\n",
       "      <td>3.2B</td>\n",
       "    </tr>\n",
       "    <tr>\n",
       "      <th>1</th>\n",
       "      <td>Guam</td>\n",
       "      <td>Scrap Iron</td>\n",
       "      <td>23.59M</td>\n",
       "    </tr>\n",
       "    <tr>\n",
       "      <th>2</th>\n",
       "      <td>Northern Mariana Islands</td>\n",
       "      <td>Scrap Iron</td>\n",
       "      <td>3.16M</td>\n",
       "    </tr>\n",
       "  </tbody>\n",
       "</table>\n",
       "</div>"
      ],
      "text/plain": [
       "                    country         HS4 value_format\n",
       "0                 Venezuela  Scrap Iron         3.2B\n",
       "1                      Guam  Scrap Iron       23.59M\n",
       "2  Northern Mariana Islands  Scrap Iron        3.16M"
      ]
     },
     "metadata": {},
     "output_type": "display_data"
    },
    {
     "data": {
      "text/html": [
       "<div>\n",
       "<style scoped>\n",
       "    .dataframe tbody tr th:only-of-type {\n",
       "        vertical-align: middle;\n",
       "    }\n",
       "\n",
       "    .dataframe tbody tr th {\n",
       "        vertical-align: top;\n",
       "    }\n",
       "\n",
       "    .dataframe thead th {\n",
       "        text-align: right;\n",
       "    }\n",
       "</style>\n",
       "<table border=\"1\" class=\"dataframe\">\n",
       "  <thead>\n",
       "    <tr style=\"text-align: right;\">\n",
       "      <th></th>\n",
       "      <th>country</th>\n",
       "      <th>HS4</th>\n",
       "      <th>value_format</th>\n",
       "    </tr>\n",
       "  </thead>\n",
       "  <tbody>\n",
       "    <tr>\n",
       "      <th>0</th>\n",
       "      <td>Eswatini</td>\n",
       "      <td>Scented Mixtures</td>\n",
       "      <td>2.51B</td>\n",
       "    </tr>\n",
       "  </tbody>\n",
       "</table>\n",
       "</div>"
      ],
      "text/plain": [
       "    country               HS4 value_format\n",
       "0  Eswatini  Scented Mixtures        2.51B"
      ]
     },
     "metadata": {},
     "output_type": "display_data"
    },
    {
     "data": {
      "text/html": [
       "<div>\n",
       "<style scoped>\n",
       "    .dataframe tbody tr th:only-of-type {\n",
       "        vertical-align: middle;\n",
       "    }\n",
       "\n",
       "    .dataframe tbody tr th {\n",
       "        vertical-align: top;\n",
       "    }\n",
       "\n",
       "    .dataframe thead th {\n",
       "        text-align: right;\n",
       "    }\n",
       "</style>\n",
       "<table border=\"1\" class=\"dataframe\">\n",
       "  <thead>\n",
       "    <tr style=\"text-align: right;\">\n",
       "      <th></th>\n",
       "      <th>country</th>\n",
       "      <th>HS4</th>\n",
       "      <th>value_format</th>\n",
       "    </tr>\n",
       "  </thead>\n",
       "  <tbody>\n",
       "    <tr>\n",
       "      <th>0</th>\n",
       "      <td>Cayman Islands</td>\n",
       "      <td>Recreational Boats</td>\n",
       "      <td>2.43B</td>\n",
       "    </tr>\n",
       "    <tr>\n",
       "      <th>1</th>\n",
       "      <td>Seychelles</td>\n",
       "      <td>Recreational Boats</td>\n",
       "      <td>2.2B</td>\n",
       "    </tr>\n",
       "    <tr>\n",
       "      <th>2</th>\n",
       "      <td>Bermuda</td>\n",
       "      <td>Recreational Boats</td>\n",
       "      <td>234.8M</td>\n",
       "    </tr>\n",
       "    <tr>\n",
       "      <th>3</th>\n",
       "      <td>Saint Vincent and the Grenadines</td>\n",
       "      <td>Recreational Boats</td>\n",
       "      <td>121.7M</td>\n",
       "    </tr>\n",
       "  </tbody>\n",
       "</table>\n",
       "</div>"
      ],
      "text/plain": [
       "                            country                 HS4 value_format\n",
       "0                    Cayman Islands  Recreational Boats        2.43B\n",
       "1                        Seychelles  Recreational Boats         2.2B\n",
       "2                           Bermuda  Recreational Boats       234.8M\n",
       "3  Saint Vincent and the Grenadines  Recreational Boats       121.7M"
      ]
     },
     "metadata": {},
     "output_type": "display_data"
    },
    {
     "data": {
      "text/html": [
       "<div>\n",
       "<style scoped>\n",
       "    .dataframe tbody tr th:only-of-type {\n",
       "        vertical-align: middle;\n",
       "    }\n",
       "\n",
       "    .dataframe tbody tr th {\n",
       "        vertical-align: top;\n",
       "    }\n",
       "\n",
       "    .dataframe thead th {\n",
       "        text-align: right;\n",
       "    }\n",
       "</style>\n",
       "<table border=\"1\" class=\"dataframe\">\n",
       "  <thead>\n",
       "    <tr style=\"text-align: right;\">\n",
       "      <th></th>\n",
       "      <th>country</th>\n",
       "      <th>HS4</th>\n",
       "      <th>value_format</th>\n",
       "    </tr>\n",
       "  </thead>\n",
       "  <tbody>\n",
       "    <tr>\n",
       "      <th>0</th>\n",
       "      <td>Mauritius</td>\n",
       "      <td>Processed Fish</td>\n",
       "      <td>2.26B</td>\n",
       "    </tr>\n",
       "    <tr>\n",
       "      <th>1</th>\n",
       "      <td>Cape Verde</td>\n",
       "      <td>Processed Fish</td>\n",
       "      <td>123.15M</td>\n",
       "    </tr>\n",
       "  </tbody>\n",
       "</table>\n",
       "</div>"
      ],
      "text/plain": [
       "      country             HS4 value_format\n",
       "0   Mauritius  Processed Fish        2.26B\n",
       "1  Cape Verde  Processed Fish      123.15M"
      ]
     },
     "metadata": {},
     "output_type": "display_data"
    },
    {
     "data": {
      "text/html": [
       "<div>\n",
       "<style scoped>\n",
       "    .dataframe tbody tr th:only-of-type {\n",
       "        vertical-align: middle;\n",
       "    }\n",
       "\n",
       "    .dataframe tbody tr th {\n",
       "        vertical-align: top;\n",
       "    }\n",
       "\n",
       "    .dataframe thead th {\n",
       "        text-align: right;\n",
       "    }\n",
       "</style>\n",
       "<table border=\"1\" class=\"dataframe\">\n",
       "  <thead>\n",
       "    <tr style=\"text-align: right;\">\n",
       "      <th></th>\n",
       "      <th>country</th>\n",
       "      <th>HS4</th>\n",
       "      <th>value_format</th>\n",
       "    </tr>\n",
       "  </thead>\n",
       "  <tbody>\n",
       "    <tr>\n",
       "      <th>0</th>\n",
       "      <td>New Caledonia</td>\n",
       "      <td>Ferroalloys</td>\n",
       "      <td>1.92B</td>\n",
       "    </tr>\n",
       "    <tr>\n",
       "      <th>1</th>\n",
       "      <td>Bhutan</td>\n",
       "      <td>Ferroalloys</td>\n",
       "      <td>344.74M</td>\n",
       "    </tr>\n",
       "  </tbody>\n",
       "</table>\n",
       "</div>"
      ],
      "text/plain": [
       "         country          HS4 value_format\n",
       "0  New Caledonia  Ferroalloys        1.92B\n",
       "1         Bhutan  Ferroalloys      344.74M"
      ]
     },
     "metadata": {},
     "output_type": "display_data"
    },
    {
     "data": {
      "text/html": [
       "<div>\n",
       "<style scoped>\n",
       "    .dataframe tbody tr th:only-of-type {\n",
       "        vertical-align: middle;\n",
       "    }\n",
       "\n",
       "    .dataframe tbody tr th {\n",
       "        vertical-align: top;\n",
       "    }\n",
       "\n",
       "    .dataframe thead th {\n",
       "        text-align: right;\n",
       "    }\n",
       "</style>\n",
       "<table border=\"1\" class=\"dataframe\">\n",
       "  <thead>\n",
       "    <tr style=\"text-align: right;\">\n",
       "      <th></th>\n",
       "      <th>country</th>\n",
       "      <th>HS4</th>\n",
       "      <th>value_format</th>\n",
       "    </tr>\n",
       "  </thead>\n",
       "  <tbody>\n",
       "    <tr>\n",
       "      <th>0</th>\n",
       "      <td>Macau</td>\n",
       "      <td>Jewellery</td>\n",
       "      <td>1.76B</td>\n",
       "    </tr>\n",
       "  </tbody>\n",
       "</table>\n",
       "</div>"
      ],
      "text/plain": [
       "  country        HS4 value_format\n",
       "0   Macau  Jewellery        1.76B"
      ]
     },
     "metadata": {},
     "output_type": "display_data"
    },
    {
     "data": {
      "text/html": [
       "<div>\n",
       "<style scoped>\n",
       "    .dataframe tbody tr th:only-of-type {\n",
       "        vertical-align: middle;\n",
       "    }\n",
       "\n",
       "    .dataframe tbody tr th {\n",
       "        vertical-align: top;\n",
       "    }\n",
       "\n",
       "    .dataframe thead th {\n",
       "        text-align: right;\n",
       "    }\n",
       "</style>\n",
       "<table border=\"1\" class=\"dataframe\">\n",
       "  <thead>\n",
       "    <tr style=\"text-align: right;\">\n",
       "      <th></th>\n",
       "      <th>country</th>\n",
       "      <th>HS4</th>\n",
       "      <th>value_format</th>\n",
       "    </tr>\n",
       "  </thead>\n",
       "  <tbody>\n",
       "    <tr>\n",
       "      <th>0</th>\n",
       "      <td>Nepal</td>\n",
       "      <td>Soybean Oil</td>\n",
       "      <td>1.74B</td>\n",
       "    </tr>\n",
       "  </tbody>\n",
       "</table>\n",
       "</div>"
      ],
      "text/plain": [
       "  country          HS4 value_format\n",
       "0   Nepal  Soybean Oil        1.74B"
      ]
     },
     "metadata": {},
     "output_type": "display_data"
    },
    {
     "data": {
      "text/html": [
       "<div>\n",
       "<style scoped>\n",
       "    .dataframe tbody tr th:only-of-type {\n",
       "        vertical-align: middle;\n",
       "    }\n",
       "\n",
       "    .dataframe tbody tr th {\n",
       "        vertical-align: top;\n",
       "    }\n",
       "\n",
       "    .dataframe thead th {\n",
       "        text-align: right;\n",
       "    }\n",
       "</style>\n",
       "<table border=\"1\" class=\"dataframe\">\n",
       "  <thead>\n",
       "    <tr style=\"text-align: right;\">\n",
       "      <th></th>\n",
       "      <th>country</th>\n",
       "      <th>HS4</th>\n",
       "      <th>value_format</th>\n",
       "    </tr>\n",
       "  </thead>\n",
       "  <tbody>\n",
       "    <tr>\n",
       "      <th>0</th>\n",
       "      <td>Jamaica</td>\n",
       "      <td>Aluminium Oxide</td>\n",
       "      <td>1.55B</td>\n",
       "    </tr>\n",
       "  </tbody>\n",
       "</table>\n",
       "</div>"
      ],
      "text/plain": [
       "   country              HS4 value_format\n",
       "0  Jamaica  Aluminium Oxide        1.55B"
      ]
     },
     "metadata": {},
     "output_type": "display_data"
    },
    {
     "data": {
      "text/html": [
       "<div>\n",
       "<style scoped>\n",
       "    .dataframe tbody tr th:only-of-type {\n",
       "        vertical-align: middle;\n",
       "    }\n",
       "\n",
       "    .dataframe tbody tr th {\n",
       "        vertical-align: top;\n",
       "    }\n",
       "\n",
       "    .dataframe thead th {\n",
       "        text-align: right;\n",
       "    }\n",
       "</style>\n",
       "<table border=\"1\" class=\"dataframe\">\n",
       "  <thead>\n",
       "    <tr style=\"text-align: right;\">\n",
       "      <th></th>\n",
       "      <th>country</th>\n",
       "      <th>HS4</th>\n",
       "      <th>value_format</th>\n",
       "    </tr>\n",
       "  </thead>\n",
       "  <tbody>\n",
       "    <tr>\n",
       "      <th>0</th>\n",
       "      <td>Palestine</td>\n",
       "      <td>Building Stone</td>\n",
       "      <td>1.45B</td>\n",
       "    </tr>\n",
       "  </tbody>\n",
       "</table>\n",
       "</div>"
      ],
      "text/plain": [
       "     country             HS4 value_format\n",
       "0  Palestine  Building Stone        1.45B"
      ]
     },
     "metadata": {},
     "output_type": "display_data"
    },
    {
     "data": {
      "text/html": [
       "<div>\n",
       "<style scoped>\n",
       "    .dataframe tbody tr th:only-of-type {\n",
       "        vertical-align: middle;\n",
       "    }\n",
       "\n",
       "    .dataframe tbody tr th {\n",
       "        vertical-align: top;\n",
       "    }\n",
       "\n",
       "    .dataframe thead th {\n",
       "        text-align: right;\n",
       "    }\n",
       "</style>\n",
       "<table border=\"1\" class=\"dataframe\">\n",
       "  <thead>\n",
       "    <tr style=\"text-align: right;\">\n",
       "      <th></th>\n",
       "      <th>country</th>\n",
       "      <th>HS4</th>\n",
       "      <th>value_format</th>\n",
       "    </tr>\n",
       "  </thead>\n",
       "  <tbody>\n",
       "    <tr>\n",
       "      <th>0</th>\n",
       "      <td>Greenland</td>\n",
       "      <td>Crustaceans</td>\n",
       "      <td>1.39B</td>\n",
       "    </tr>\n",
       "  </tbody>\n",
       "</table>\n",
       "</div>"
      ],
      "text/plain": [
       "     country          HS4 value_format\n",
       "0  Greenland  Crustaceans        1.39B"
      ]
     },
     "metadata": {},
     "output_type": "display_data"
    },
    {
     "data": {
      "text/html": [
       "<div>\n",
       "<style scoped>\n",
       "    .dataframe tbody tr th:only-of-type {\n",
       "        vertical-align: middle;\n",
       "    }\n",
       "\n",
       "    .dataframe tbody tr th {\n",
       "        vertical-align: top;\n",
       "    }\n",
       "\n",
       "    .dataframe thead th {\n",
       "        text-align: right;\n",
       "    }\n",
       "</style>\n",
       "<table border=\"1\" class=\"dataframe\">\n",
       "  <thead>\n",
       "    <tr style=\"text-align: right;\">\n",
       "      <th></th>\n",
       "      <th>country</th>\n",
       "      <th>HS4</th>\n",
       "      <th>value_format</th>\n",
       "    </tr>\n",
       "  </thead>\n",
       "  <tbody>\n",
       "    <tr>\n",
       "      <th>0</th>\n",
       "      <td>Cuba</td>\n",
       "      <td>Rolled Tobacco</td>\n",
       "      <td>1.09B</td>\n",
       "    </tr>\n",
       "  </tbody>\n",
       "</table>\n",
       "</div>"
      ],
      "text/plain": [
       "  country             HS4 value_format\n",
       "0    Cuba  Rolled Tobacco        1.09B"
      ]
     },
     "metadata": {},
     "output_type": "display_data"
    },
    {
     "data": {
      "text/html": [
       "<div>\n",
       "<style scoped>\n",
       "    .dataframe tbody tr th:only-of-type {\n",
       "        vertical-align: middle;\n",
       "    }\n",
       "\n",
       "    .dataframe tbody tr th {\n",
       "        vertical-align: top;\n",
       "    }\n",
       "\n",
       "    .dataframe thead th {\n",
       "        text-align: right;\n",
       "    }\n",
       "</style>\n",
       "<table border=\"1\" class=\"dataframe\">\n",
       "  <thead>\n",
       "    <tr style=\"text-align: right;\">\n",
       "      <th></th>\n",
       "      <th>country</th>\n",
       "      <th>HS4</th>\n",
       "      <th>value_format</th>\n",
       "    </tr>\n",
       "  </thead>\n",
       "  <tbody>\n",
       "    <tr>\n",
       "      <th>0</th>\n",
       "      <td>Fiji</td>\n",
       "      <td>Water</td>\n",
       "      <td>1.08B</td>\n",
       "    </tr>\n",
       "  </tbody>\n",
       "</table>\n",
       "</div>"
      ],
      "text/plain": [
       "  country    HS4 value_format\n",
       "0    Fiji  Water        1.08B"
      ]
     },
     "metadata": {},
     "output_type": "display_data"
    },
    {
     "data": {
      "text/html": [
       "<div>\n",
       "<style scoped>\n",
       "    .dataframe tbody tr th:only-of-type {\n",
       "        vertical-align: middle;\n",
       "    }\n",
       "\n",
       "    .dataframe tbody tr th {\n",
       "        vertical-align: top;\n",
       "    }\n",
       "\n",
       "    .dataframe thead th {\n",
       "        text-align: right;\n",
       "    }\n",
       "</style>\n",
       "<table border=\"1\" class=\"dataframe\">\n",
       "  <thead>\n",
       "    <tr style=\"text-align: right;\">\n",
       "      <th></th>\n",
       "      <th>country</th>\n",
       "      <th>HS4</th>\n",
       "      <th>value_format</th>\n",
       "    </tr>\n",
       "  </thead>\n",
       "  <tbody>\n",
       "    <tr>\n",
       "      <th>0</th>\n",
       "      <td>Syria</td>\n",
       "      <td>Pure Olive Oil</td>\n",
       "      <td>1.01B</td>\n",
       "    </tr>\n",
       "  </tbody>\n",
       "</table>\n",
       "</div>"
      ],
      "text/plain": [
       "  country             HS4 value_format\n",
       "0   Syria  Pure Olive Oil        1.01B"
      ]
     },
     "metadata": {},
     "output_type": "display_data"
    },
    {
     "data": {
      "text/html": [
       "<div>\n",
       "<style scoped>\n",
       "    .dataframe tbody tr th:only-of-type {\n",
       "        vertical-align: middle;\n",
       "    }\n",
       "\n",
       "    .dataframe tbody tr th {\n",
       "        vertical-align: top;\n",
       "    }\n",
       "\n",
       "    .dataframe thead th {\n",
       "        text-align: right;\n",
       "    }\n",
       "</style>\n",
       "<table border=\"1\" class=\"dataframe\">\n",
       "  <thead>\n",
       "    <tr style=\"text-align: right;\">\n",
       "      <th></th>\n",
       "      <th>country</th>\n",
       "      <th>HS4</th>\n",
       "      <th>value_format</th>\n",
       "    </tr>\n",
       "  </thead>\n",
       "  <tbody>\n",
       "    <tr>\n",
       "      <th>0</th>\n",
       "      <td>Malawi</td>\n",
       "      <td>Raw Tobacco</td>\n",
       "      <td>947.22M</td>\n",
       "    </tr>\n",
       "  </tbody>\n",
       "</table>\n",
       "</div>"
      ],
      "text/plain": [
       "  country          HS4 value_format\n",
       "0  Malawi  Raw Tobacco      947.22M"
      ]
     },
     "metadata": {},
     "output_type": "display_data"
    },
    {
     "data": {
      "text/html": [
       "<div>\n",
       "<style scoped>\n",
       "    .dataframe tbody tr th:only-of-type {\n",
       "        vertical-align: middle;\n",
       "    }\n",
       "\n",
       "    .dataframe tbody tr th {\n",
       "        vertical-align: top;\n",
       "    }\n",
       "\n",
       "    .dataframe thead th {\n",
       "        text-align: right;\n",
       "    }\n",
       "</style>\n",
       "<table border=\"1\" class=\"dataframe\">\n",
       "  <thead>\n",
       "    <tr style=\"text-align: right;\">\n",
       "      <th></th>\n",
       "      <th>country</th>\n",
       "      <th>HS4</th>\n",
       "      <th>value_format</th>\n",
       "    </tr>\n",
       "  </thead>\n",
       "  <tbody>\n",
       "    <tr>\n",
       "      <th>0</th>\n",
       "      <td>Sierra Leone</td>\n",
       "      <td>Titanium Ore</td>\n",
       "      <td>874.43M</td>\n",
       "    </tr>\n",
       "  </tbody>\n",
       "</table>\n",
       "</div>"
      ],
      "text/plain": [
       "        country           HS4 value_format\n",
       "0  Sierra Leone  Titanium Ore      874.43M"
      ]
     },
     "metadata": {},
     "output_type": "display_data"
    },
    {
     "data": {
      "text/html": [
       "<div>\n",
       "<style scoped>\n",
       "    .dataframe tbody tr th:only-of-type {\n",
       "        vertical-align: middle;\n",
       "    }\n",
       "\n",
       "    .dataframe tbody tr th {\n",
       "        vertical-align: top;\n",
       "    }\n",
       "\n",
       "    .dataframe thead th {\n",
       "        text-align: right;\n",
       "    }\n",
       "</style>\n",
       "<table border=\"1\" class=\"dataframe\">\n",
       "  <thead>\n",
       "    <tr style=\"text-align: right;\">\n",
       "      <th></th>\n",
       "      <th>country</th>\n",
       "      <th>HS4</th>\n",
       "      <th>value_format</th>\n",
       "    </tr>\n",
       "  </thead>\n",
       "  <tbody>\n",
       "    <tr>\n",
       "      <th>0</th>\n",
       "      <td>Eritrea</td>\n",
       "      <td>Zinc Ore</td>\n",
       "      <td>619.99M</td>\n",
       "    </tr>\n",
       "  </tbody>\n",
       "</table>\n",
       "</div>"
      ],
      "text/plain": [
       "   country       HS4 value_format\n",
       "0  Eritrea  Zinc Ore      619.99M"
      ]
     },
     "metadata": {},
     "output_type": "display_data"
    },
    {
     "data": {
      "text/html": [
       "<div>\n",
       "<style scoped>\n",
       "    .dataframe tbody tr th:only-of-type {\n",
       "        vertical-align: middle;\n",
       "    }\n",
       "\n",
       "    .dataframe tbody tr th {\n",
       "        vertical-align: top;\n",
       "    }\n",
       "\n",
       "    .dataframe thead th {\n",
       "        text-align: right;\n",
       "    }\n",
       "</style>\n",
       "<table border=\"1\" class=\"dataframe\">\n",
       "  <thead>\n",
       "    <tr style=\"text-align: right;\">\n",
       "      <th></th>\n",
       "      <th>country</th>\n",
       "      <th>HS4</th>\n",
       "      <th>value_format</th>\n",
       "    </tr>\n",
       "  </thead>\n",
       "  <tbody>\n",
       "    <tr>\n",
       "      <th>0</th>\n",
       "      <td>Somalia</td>\n",
       "      <td>Sheep and Goats</td>\n",
       "      <td>482.41M</td>\n",
       "    </tr>\n",
       "  </tbody>\n",
       "</table>\n",
       "</div>"
      ],
      "text/plain": [
       "   country              HS4 value_format\n",
       "0  Somalia  Sheep and Goats      482.41M"
      ]
     },
     "metadata": {},
     "output_type": "display_data"
    },
    {
     "data": {
      "text/html": [
       "<div>\n",
       "<style scoped>\n",
       "    .dataframe tbody tr th:only-of-type {\n",
       "        vertical-align: middle;\n",
       "    }\n",
       "\n",
       "    .dataframe tbody tr th {\n",
       "        vertical-align: top;\n",
       "    }\n",
       "\n",
       "    .dataframe thead th {\n",
       "        text-align: right;\n",
       "    }\n",
       "</style>\n",
       "<table border=\"1\" class=\"dataframe\">\n",
       "  <thead>\n",
       "    <tr style=\"text-align: right;\">\n",
       "      <th></th>\n",
       "      <th>country</th>\n",
       "      <th>HS4</th>\n",
       "      <th>value_format</th>\n",
       "    </tr>\n",
       "  </thead>\n",
       "  <tbody>\n",
       "    <tr>\n",
       "      <th>0</th>\n",
       "      <td>Solomon Islands</td>\n",
       "      <td>Rough Wood</td>\n",
       "      <td>479.5M</td>\n",
       "    </tr>\n",
       "  </tbody>\n",
       "</table>\n",
       "</div>"
      ],
      "text/plain": [
       "           country         HS4 value_format\n",
       "0  Solomon Islands  Rough Wood       479.5M"
      ]
     },
     "metadata": {},
     "output_type": "display_data"
    },
    {
     "data": {
      "text/html": [
       "<div>\n",
       "<style scoped>\n",
       "    .dataframe tbody tr th:only-of-type {\n",
       "        vertical-align: middle;\n",
       "    }\n",
       "\n",
       "    .dataframe tbody tr th {\n",
       "        vertical-align: top;\n",
       "    }\n",
       "\n",
       "    .dataframe thead th {\n",
       "        text-align: right;\n",
       "    }\n",
       "</style>\n",
       "<table border=\"1\" class=\"dataframe\">\n",
       "  <thead>\n",
       "    <tr style=\"text-align: right;\">\n",
       "      <th></th>\n",
       "      <th>country</th>\n",
       "      <th>HS4</th>\n",
       "      <th>value_format</th>\n",
       "    </tr>\n",
       "  </thead>\n",
       "  <tbody>\n",
       "    <tr>\n",
       "      <th>0</th>\n",
       "      <td>Belize</td>\n",
       "      <td>Raw Sugar</td>\n",
       "      <td>411.13M</td>\n",
       "    </tr>\n",
       "  </tbody>\n",
       "</table>\n",
       "</div>"
      ],
      "text/plain": [
       "  country        HS4 value_format\n",
       "0  Belize  Raw Sugar      411.13M"
      ]
     },
     "metadata": {},
     "output_type": "display_data"
    },
    {
     "data": {
      "text/html": [
       "<div>\n",
       "<style scoped>\n",
       "    .dataframe tbody tr th:only-of-type {\n",
       "        vertical-align: middle;\n",
       "    }\n",
       "\n",
       "    .dataframe tbody tr th {\n",
       "        vertical-align: top;\n",
       "    }\n",
       "\n",
       "    .dataframe thead th {\n",
       "        text-align: right;\n",
       "    }\n",
       "</style>\n",
       "<table border=\"1\" class=\"dataframe\">\n",
       "  <thead>\n",
       "    <tr style=\"text-align: right;\">\n",
       "      <th></th>\n",
       "      <th>country</th>\n",
       "      <th>HS4</th>\n",
       "      <th>value_format</th>\n",
       "    </tr>\n",
       "  </thead>\n",
       "  <tbody>\n",
       "    <tr>\n",
       "      <th>0</th>\n",
       "      <td>Barbados</td>\n",
       "      <td>Hard Liquor</td>\n",
       "      <td>357.25M</td>\n",
       "    </tr>\n",
       "  </tbody>\n",
       "</table>\n",
       "</div>"
      ],
      "text/plain": [
       "    country          HS4 value_format\n",
       "0  Barbados  Hard Liquor      357.25M"
      ]
     },
     "metadata": {},
     "output_type": "display_data"
    },
    {
     "data": {
      "text/html": [
       "<div>\n",
       "<style scoped>\n",
       "    .dataframe tbody tr th:only-of-type {\n",
       "        vertical-align: middle;\n",
       "    }\n",
       "\n",
       "    .dataframe tbody tr th {\n",
       "        vertical-align: top;\n",
       "    }\n",
       "\n",
       "    .dataframe thead th {\n",
       "        text-align: right;\n",
       "    }\n",
       "</style>\n",
       "<table border=\"1\" class=\"dataframe\">\n",
       "  <thead>\n",
       "    <tr style=\"text-align: right;\">\n",
       "      <th></th>\n",
       "      <th>country</th>\n",
       "      <th>HS4</th>\n",
       "      <th>value_format</th>\n",
       "    </tr>\n",
       "  </thead>\n",
       "  <tbody>\n",
       "    <tr>\n",
       "      <th>0</th>\n",
       "      <td>Djibouti</td>\n",
       "      <td>Palm Oil</td>\n",
       "      <td>329.96M</td>\n",
       "    </tr>\n",
       "  </tbody>\n",
       "</table>\n",
       "</div>"
      ],
      "text/plain": [
       "    country       HS4 value_format\n",
       "0  Djibouti  Palm Oil      329.96M"
      ]
     },
     "metadata": {},
     "output_type": "display_data"
    },
    {
     "data": {
      "text/html": [
       "<div>\n",
       "<style scoped>\n",
       "    .dataframe tbody tr th:only-of-type {\n",
       "        vertical-align: middle;\n",
       "    }\n",
       "\n",
       "    .dataframe tbody tr th {\n",
       "        vertical-align: top;\n",
       "    }\n",
       "\n",
       "    .dataframe thead th {\n",
       "        text-align: right;\n",
       "    }\n",
       "</style>\n",
       "<table border=\"1\" class=\"dataframe\">\n",
       "  <thead>\n",
       "    <tr style=\"text-align: right;\">\n",
       "      <th></th>\n",
       "      <th>country</th>\n",
       "      <th>HS4</th>\n",
       "      <th>value_format</th>\n",
       "    </tr>\n",
       "  </thead>\n",
       "  <tbody>\n",
       "    <tr>\n",
       "      <th>0</th>\n",
       "      <td>Falkland Islands</td>\n",
       "      <td>Molluscs</td>\n",
       "      <td>307.5M</td>\n",
       "    </tr>\n",
       "    <tr>\n",
       "      <th>1</th>\n",
       "      <td>Turks and Caicos Islands</td>\n",
       "      <td>Molluscs</td>\n",
       "      <td>7.81M</td>\n",
       "    </tr>\n",
       "  </tbody>\n",
       "</table>\n",
       "</div>"
      ],
      "text/plain": [
       "                    country       HS4 value_format\n",
       "0          Falkland Islands  Molluscs       307.5M\n",
       "1  Turks and Caicos Islands  Molluscs        7.81M"
      ]
     },
     "metadata": {},
     "output_type": "display_data"
    },
    {
     "data": {
      "text/html": [
       "<div>\n",
       "<style scoped>\n",
       "    .dataframe tbody tr th:only-of-type {\n",
       "        vertical-align: middle;\n",
       "    }\n",
       "\n",
       "    .dataframe tbody tr th {\n",
       "        vertical-align: top;\n",
       "    }\n",
       "\n",
       "    .dataframe thead th {\n",
       "        text-align: right;\n",
       "    }\n",
       "</style>\n",
       "<table border=\"1\" class=\"dataframe\">\n",
       "  <thead>\n",
       "    <tr style=\"text-align: right;\">\n",
       "      <th></th>\n",
       "      <th>country</th>\n",
       "      <th>HS4</th>\n",
       "      <th>value_format</th>\n",
       "    </tr>\n",
       "  </thead>\n",
       "  <tbody>\n",
       "    <tr>\n",
       "      <th>0</th>\n",
       "      <td>Vanuatu</td>\n",
       "      <td>Non-fillet Frozen Fish</td>\n",
       "      <td>270.23M</td>\n",
       "    </tr>\n",
       "    <tr>\n",
       "      <th>1</th>\n",
       "      <td>Maldives</td>\n",
       "      <td>Non-fillet Frozen Fish</td>\n",
       "      <td>238.49M</td>\n",
       "    </tr>\n",
       "    <tr>\n",
       "      <th>2</th>\n",
       "      <td>Nauru</td>\n",
       "      <td>Non-fillet Frozen Fish</td>\n",
       "      <td>186.96M</td>\n",
       "    </tr>\n",
       "    <tr>\n",
       "      <th>3</th>\n",
       "      <td>Micronesia</td>\n",
       "      <td>Non-fillet Frozen Fish</td>\n",
       "      <td>179.45M</td>\n",
       "    </tr>\n",
       "    <tr>\n",
       "      <th>4</th>\n",
       "      <td>Kiribati</td>\n",
       "      <td>Non-fillet Frozen Fish</td>\n",
       "      <td>94.52M</td>\n",
       "    </tr>\n",
       "    <tr>\n",
       "      <th>5</th>\n",
       "      <td>Saint Helena</td>\n",
       "      <td>Non-fillet Frozen Fish</td>\n",
       "      <td>37.47M</td>\n",
       "    </tr>\n",
       "    <tr>\n",
       "      <th>6</th>\n",
       "      <td>Cook Islands</td>\n",
       "      <td>Non-fillet Frozen Fish</td>\n",
       "      <td>31.4M</td>\n",
       "    </tr>\n",
       "    <tr>\n",
       "      <th>7</th>\n",
       "      <td>French South Antarctic Territory</td>\n",
       "      <td>Non-fillet Frozen Fish</td>\n",
       "      <td>11.54M</td>\n",
       "    </tr>\n",
       "    <tr>\n",
       "      <th>8</th>\n",
       "      <td>British Indian Ocean Territory</td>\n",
       "      <td>Non-fillet Frozen Fish</td>\n",
       "      <td>4.01M</td>\n",
       "    </tr>\n",
       "  </tbody>\n",
       "</table>\n",
       "</div>"
      ],
      "text/plain": [
       "                            country                     HS4 value_format\n",
       "0                           Vanuatu  Non-fillet Frozen Fish      270.23M\n",
       "1                          Maldives  Non-fillet Frozen Fish      238.49M\n",
       "2                             Nauru  Non-fillet Frozen Fish      186.96M\n",
       "3                        Micronesia  Non-fillet Frozen Fish      179.45M\n",
       "4                          Kiribati  Non-fillet Frozen Fish       94.52M\n",
       "5                      Saint Helena  Non-fillet Frozen Fish       37.47M\n",
       "6                      Cook Islands  Non-fillet Frozen Fish        31.4M\n",
       "7  French South Antarctic Territory  Non-fillet Frozen Fish       11.54M\n",
       "8    British Indian Ocean Territory  Non-fillet Frozen Fish        4.01M"
      ]
     },
     "metadata": {},
     "output_type": "display_data"
    },
    {
     "data": {
      "text/html": [
       "<div>\n",
       "<style scoped>\n",
       "    .dataframe tbody tr th:only-of-type {\n",
       "        vertical-align: middle;\n",
       "    }\n",
       "\n",
       "    .dataframe tbody tr th {\n",
       "        vertical-align: top;\n",
       "    }\n",
       "\n",
       "    .dataframe thead th {\n",
       "        text-align: right;\n",
       "    }\n",
       "</style>\n",
       "<table border=\"1\" class=\"dataframe\">\n",
       "  <thead>\n",
       "    <tr style=\"text-align: right;\">\n",
       "      <th></th>\n",
       "      <th>country</th>\n",
       "      <th>HS4</th>\n",
       "      <th>value_format</th>\n",
       "    </tr>\n",
       "  </thead>\n",
       "  <tbody>\n",
       "    <tr>\n",
       "      <th>0</th>\n",
       "      <td>San Marino</td>\n",
       "      <td>Washing and Bottling Machines</td>\n",
       "      <td>221.52M</td>\n",
       "    </tr>\n",
       "  </tbody>\n",
       "</table>\n",
       "</div>"
      ],
      "text/plain": [
       "      country                            HS4 value_format\n",
       "0  San Marino  Washing and Bottling Machines      221.52M"
      ]
     },
     "metadata": {},
     "output_type": "display_data"
    },
    {
     "data": {
      "text/html": [
       "<div>\n",
       "<style scoped>\n",
       "    .dataframe tbody tr th:only-of-type {\n",
       "        vertical-align: middle;\n",
       "    }\n",
       "\n",
       "    .dataframe tbody tr th {\n",
       "        vertical-align: top;\n",
       "    }\n",
       "\n",
       "    .dataframe thead th {\n",
       "        text-align: right;\n",
       "    }\n",
       "</style>\n",
       "<table border=\"1\" class=\"dataframe\">\n",
       "  <thead>\n",
       "    <tr style=\"text-align: right;\">\n",
       "      <th></th>\n",
       "      <th>country</th>\n",
       "      <th>HS4</th>\n",
       "      <th>value_format</th>\n",
       "    </tr>\n",
       "  </thead>\n",
       "  <tbody>\n",
       "    <tr>\n",
       "      <th>0</th>\n",
       "      <td>Guinea-Bissau</td>\n",
       "      <td>Coconuts, Brazil Nuts, and Cashews</td>\n",
       "      <td>172.31M</td>\n",
       "    </tr>\n",
       "    <tr>\n",
       "      <th>1</th>\n",
       "      <td>Gambia</td>\n",
       "      <td>Coconuts, Brazil Nuts, and Cashews</td>\n",
       "      <td>152.7M</td>\n",
       "    </tr>\n",
       "  </tbody>\n",
       "</table>\n",
       "</div>"
      ],
      "text/plain": [
       "         country                                 HS4 value_format\n",
       "0  Guinea-Bissau  Coconuts, Brazil Nuts, and Cashews      172.31M\n",
       "1         Gambia  Coconuts, Brazil Nuts, and Cashews       152.7M"
      ]
     },
     "metadata": {},
     "output_type": "display_data"
    },
    {
     "data": {
      "text/html": [
       "<div>\n",
       "<style scoped>\n",
       "    .dataframe tbody tr th:only-of-type {\n",
       "        vertical-align: middle;\n",
       "    }\n",
       "\n",
       "    .dataframe tbody tr th {\n",
       "        vertical-align: top;\n",
       "    }\n",
       "\n",
       "    .dataframe thead th {\n",
       "        text-align: right;\n",
       "    }\n",
       "</style>\n",
       "<table border=\"1\" class=\"dataframe\">\n",
       "  <thead>\n",
       "    <tr style=\"text-align: right;\">\n",
       "      <th></th>\n",
       "      <th>country</th>\n",
       "      <th>HS4</th>\n",
       "      <th>value_format</th>\n",
       "    </tr>\n",
       "  </thead>\n",
       "  <tbody>\n",
       "    <tr>\n",
       "      <th>0</th>\n",
       "      <td>French Polynesia</td>\n",
       "      <td>Paintings</td>\n",
       "      <td>161.59M</td>\n",
       "    </tr>\n",
       "  </tbody>\n",
       "</table>\n",
       "</div>"
      ],
      "text/plain": [
       "            country        HS4 value_format\n",
       "0  French Polynesia  Paintings      161.59M"
      ]
     },
     "metadata": {},
     "output_type": "display_data"
    },
    {
     "data": {
      "text/html": [
       "<div>\n",
       "<style scoped>\n",
       "    .dataframe tbody tr th:only-of-type {\n",
       "        vertical-align: middle;\n",
       "    }\n",
       "\n",
       "    .dataframe tbody tr th {\n",
       "        vertical-align: top;\n",
       "    }\n",
       "\n",
       "    .dataframe thead th {\n",
       "        text-align: right;\n",
       "    }\n",
       "</style>\n",
       "<table border=\"1\" class=\"dataframe\">\n",
       "  <thead>\n",
       "    <tr style=\"text-align: right;\">\n",
       "      <th></th>\n",
       "      <th>country</th>\n",
       "      <th>HS4</th>\n",
       "      <th>value_format</th>\n",
       "    </tr>\n",
       "  </thead>\n",
       "  <tbody>\n",
       "    <tr>\n",
       "      <th>0</th>\n",
       "      <td>Tuvalu</td>\n",
       "      <td>Tug Boats</td>\n",
       "      <td>128.54M</td>\n",
       "    </tr>\n",
       "  </tbody>\n",
       "</table>\n",
       "</div>"
      ],
      "text/plain": [
       "  country        HS4 value_format\n",
       "0  Tuvalu  Tug Boats      128.54M"
      ]
     },
     "metadata": {},
     "output_type": "display_data"
    },
    {
     "data": {
      "text/html": [
       "<div>\n",
       "<style scoped>\n",
       "    .dataframe tbody tr th:only-of-type {\n",
       "        vertical-align: middle;\n",
       "    }\n",
       "\n",
       "    .dataframe tbody tr th {\n",
       "        vertical-align: top;\n",
       "    }\n",
       "\n",
       "    .dataframe thead th {\n",
       "        text-align: right;\n",
       "    }\n",
       "</style>\n",
       "<table border=\"1\" class=\"dataframe\">\n",
       "  <thead>\n",
       "    <tr style=\"text-align: right;\">\n",
       "      <th></th>\n",
       "      <th>country</th>\n",
       "      <th>HS4</th>\n",
       "      <th>value_format</th>\n",
       "    </tr>\n",
       "  </thead>\n",
       "  <tbody>\n",
       "    <tr>\n",
       "      <th>0</th>\n",
       "      <td>Comoros</td>\n",
       "      <td>Cloves</td>\n",
       "      <td>60.82M</td>\n",
       "    </tr>\n",
       "  </tbody>\n",
       "</table>\n",
       "</div>"
      ],
      "text/plain": [
       "   country     HS4 value_format\n",
       "0  Comoros  Cloves       60.82M"
      ]
     },
     "metadata": {},
     "output_type": "display_data"
    },
    {
     "data": {
      "text/html": [
       "<div>\n",
       "<style scoped>\n",
       "    .dataframe tbody tr th:only-of-type {\n",
       "        vertical-align: middle;\n",
       "    }\n",
       "\n",
       "    .dataframe tbody tr th {\n",
       "        vertical-align: top;\n",
       "    }\n",
       "\n",
       "    .dataframe thead th {\n",
       "        text-align: right;\n",
       "    }\n",
       "</style>\n",
       "<table border=\"1\" class=\"dataframe\">\n",
       "  <thead>\n",
       "    <tr style=\"text-align: right;\">\n",
       "      <th></th>\n",
       "      <th>country</th>\n",
       "      <th>HS4</th>\n",
       "      <th>value_format</th>\n",
       "    </tr>\n",
       "  </thead>\n",
       "  <tbody>\n",
       "    <tr>\n",
       "      <th>0</th>\n",
       "      <td>Samoa</td>\n",
       "      <td>Coconut Oil</td>\n",
       "      <td>58.08M</td>\n",
       "    </tr>\n",
       "  </tbody>\n",
       "</table>\n",
       "</div>"
      ],
      "text/plain": [
       "  country          HS4 value_format\n",
       "0   Samoa  Coconut Oil       58.08M"
      ]
     },
     "metadata": {},
     "output_type": "display_data"
    },
    {
     "data": {
      "text/html": [
       "<div>\n",
       "<style scoped>\n",
       "    .dataframe tbody tr th:only-of-type {\n",
       "        vertical-align: middle;\n",
       "    }\n",
       "\n",
       "    .dataframe tbody tr th {\n",
       "        vertical-align: top;\n",
       "    }\n",
       "\n",
       "    .dataframe thead th {\n",
       "        text-align: right;\n",
       "    }\n",
       "</style>\n",
       "<table border=\"1\" class=\"dataframe\">\n",
       "  <thead>\n",
       "    <tr style=\"text-align: right;\">\n",
       "      <th></th>\n",
       "      <th>country</th>\n",
       "      <th>HS4</th>\n",
       "      <th>value_format</th>\n",
       "    </tr>\n",
       "  </thead>\n",
       "  <tbody>\n",
       "    <tr>\n",
       "      <th>0</th>\n",
       "      <td>Grenada</td>\n",
       "      <td>Nutmeg, mace and cardamons</td>\n",
       "      <td>29.92M</td>\n",
       "    </tr>\n",
       "  </tbody>\n",
       "</table>\n",
       "</div>"
      ],
      "text/plain": [
       "   country                         HS4 value_format\n",
       "0  Grenada  Nutmeg, mace and cardamons       29.92M"
      ]
     },
     "metadata": {},
     "output_type": "display_data"
    },
    {
     "data": {
      "text/html": [
       "<div>\n",
       "<style scoped>\n",
       "    .dataframe tbody tr th:only-of-type {\n",
       "        vertical-align: middle;\n",
       "    }\n",
       "\n",
       "    .dataframe tbody tr th {\n",
       "        vertical-align: top;\n",
       "    }\n",
       "\n",
       "    .dataframe thead th {\n",
       "        text-align: right;\n",
       "    }\n",
       "</style>\n",
       "<table border=\"1\" class=\"dataframe\">\n",
       "  <thead>\n",
       "    <tr style=\"text-align: right;\">\n",
       "      <th></th>\n",
       "      <th>country</th>\n",
       "      <th>HS4</th>\n",
       "      <th>value_format</th>\n",
       "    </tr>\n",
       "  </thead>\n",
       "  <tbody>\n",
       "    <tr>\n",
       "      <th>0</th>\n",
       "      <td>Tokelau</td>\n",
       "      <td>Other Glass Articles</td>\n",
       "      <td>23.89M</td>\n",
       "    </tr>\n",
       "  </tbody>\n",
       "</table>\n",
       "</div>"
      ],
      "text/plain": [
       "   country                   HS4 value_format\n",
       "0  Tokelau  Other Glass Articles       23.89M"
      ]
     },
     "metadata": {},
     "output_type": "display_data"
    },
    {
     "data": {
      "text/html": [
       "<div>\n",
       "<style scoped>\n",
       "    .dataframe tbody tr th:only-of-type {\n",
       "        vertical-align: middle;\n",
       "    }\n",
       "\n",
       "    .dataframe tbody tr th {\n",
       "        vertical-align: top;\n",
       "    }\n",
       "\n",
       "    .dataframe thead th {\n",
       "        text-align: right;\n",
       "    }\n",
       "</style>\n",
       "<table border=\"1\" class=\"dataframe\">\n",
       "  <thead>\n",
       "    <tr style=\"text-align: right;\">\n",
       "      <th></th>\n",
       "      <th>country</th>\n",
       "      <th>HS4</th>\n",
       "      <th>value_format</th>\n",
       "    </tr>\n",
       "  </thead>\n",
       "  <tbody>\n",
       "    <tr>\n",
       "      <th>0</th>\n",
       "      <td>Christmas Island</td>\n",
       "      <td>Calcium Phosphates</td>\n",
       "      <td>13.4M</td>\n",
       "    </tr>\n",
       "  </tbody>\n",
       "</table>\n",
       "</div>"
      ],
      "text/plain": [
       "            country                 HS4 value_format\n",
       "0  Christmas Island  Calcium Phosphates        13.4M"
      ]
     },
     "metadata": {},
     "output_type": "display_data"
    },
    {
     "data": {
      "text/html": [
       "<div>\n",
       "<style scoped>\n",
       "    .dataframe tbody tr th:only-of-type {\n",
       "        vertical-align: middle;\n",
       "    }\n",
       "\n",
       "    .dataframe tbody tr th {\n",
       "        vertical-align: top;\n",
       "    }\n",
       "\n",
       "    .dataframe thead th {\n",
       "        text-align: right;\n",
       "    }\n",
       "</style>\n",
       "<table border=\"1\" class=\"dataframe\">\n",
       "  <thead>\n",
       "    <tr style=\"text-align: right;\">\n",
       "      <th></th>\n",
       "      <th>country</th>\n",
       "      <th>HS4</th>\n",
       "      <th>value_format</th>\n",
       "    </tr>\n",
       "  </thead>\n",
       "  <tbody>\n",
       "    <tr>\n",
       "      <th>0</th>\n",
       "      <td>Montserrat</td>\n",
       "      <td>Semi-Finished Iron</td>\n",
       "      <td>11.95M</td>\n",
       "    </tr>\n",
       "  </tbody>\n",
       "</table>\n",
       "</div>"
      ],
      "text/plain": [
       "      country                 HS4 value_format\n",
       "0  Montserrat  Semi-Finished Iron       11.95M"
      ]
     },
     "metadata": {},
     "output_type": "display_data"
    },
    {
     "data": {
      "text/html": [
       "<div>\n",
       "<style scoped>\n",
       "    .dataframe tbody tr th:only-of-type {\n",
       "        vertical-align: middle;\n",
       "    }\n",
       "\n",
       "    .dataframe tbody tr th {\n",
       "        vertical-align: top;\n",
       "    }\n",
       "\n",
       "    .dataframe thead th {\n",
       "        text-align: right;\n",
       "    }\n",
       "</style>\n",
       "<table border=\"1\" class=\"dataframe\">\n",
       "  <thead>\n",
       "    <tr style=\"text-align: right;\">\n",
       "      <th></th>\n",
       "      <th>country</th>\n",
       "      <th>HS4</th>\n",
       "      <th>value_format</th>\n",
       "    </tr>\n",
       "  </thead>\n",
       "  <tbody>\n",
       "    <tr>\n",
       "      <th>0</th>\n",
       "      <td>Saint Pierre and Miquelon</td>\n",
       "      <td>Processed Crustaceans</td>\n",
       "      <td>8.87M</td>\n",
       "    </tr>\n",
       "  </tbody>\n",
       "</table>\n",
       "</div>"
      ],
      "text/plain": [
       "                     country                    HS4 value_format\n",
       "0  Saint Pierre and Miquelon  Processed Crustaceans        8.87M"
      ]
     },
     "metadata": {},
     "output_type": "display_data"
    },
    {
     "data": {
      "text/html": [
       "<div>\n",
       "<style scoped>\n",
       "    .dataframe tbody tr th:only-of-type {\n",
       "        vertical-align: middle;\n",
       "    }\n",
       "\n",
       "    .dataframe tbody tr th {\n",
       "        vertical-align: top;\n",
       "    }\n",
       "\n",
       "    .dataframe thead th {\n",
       "        text-align: right;\n",
       "    }\n",
       "</style>\n",
       "<table border=\"1\" class=\"dataframe\">\n",
       "  <thead>\n",
       "    <tr style=\"text-align: right;\">\n",
       "      <th></th>\n",
       "      <th>country</th>\n",
       "      <th>HS4</th>\n",
       "      <th>value_format</th>\n",
       "    </tr>\n",
       "  </thead>\n",
       "  <tbody>\n",
       "    <tr>\n",
       "      <th>0</th>\n",
       "      <td>Palau</td>\n",
       "      <td>Computers</td>\n",
       "      <td>5.31M</td>\n",
       "    </tr>\n",
       "  </tbody>\n",
       "</table>\n",
       "</div>"
      ],
      "text/plain": [
       "  country        HS4 value_format\n",
       "0   Palau  Computers        5.31M"
      ]
     },
     "metadata": {},
     "output_type": "display_data"
    },
    {
     "data": {
      "text/html": [
       "<div>\n",
       "<style scoped>\n",
       "    .dataframe tbody tr th:only-of-type {\n",
       "        vertical-align: middle;\n",
       "    }\n",
       "\n",
       "    .dataframe tbody tr th {\n",
       "        vertical-align: top;\n",
       "    }\n",
       "\n",
       "    .dataframe thead th {\n",
       "        text-align: right;\n",
       "    }\n",
       "</style>\n",
       "<table border=\"1\" class=\"dataframe\">\n",
       "  <thead>\n",
       "    <tr style=\"text-align: right;\">\n",
       "      <th></th>\n",
       "      <th>country</th>\n",
       "      <th>HS4</th>\n",
       "      <th>value_format</th>\n",
       "    </tr>\n",
       "  </thead>\n",
       "  <tbody>\n",
       "    <tr>\n",
       "      <th>0</th>\n",
       "      <td>Saint Barthélemy</td>\n",
       "      <td>Wine</td>\n",
       "      <td>4.25M</td>\n",
       "    </tr>\n",
       "  </tbody>\n",
       "</table>\n",
       "</div>"
      ],
      "text/plain": [
       "            country   HS4 value_format\n",
       "0  Saint Barthélemy  Wine        4.25M"
      ]
     },
     "metadata": {},
     "output_type": "display_data"
    },
    {
     "data": {
      "text/html": [
       "<div>\n",
       "<style scoped>\n",
       "    .dataframe tbody tr th:only-of-type {\n",
       "        vertical-align: middle;\n",
       "    }\n",
       "\n",
       "    .dataframe tbody tr th {\n",
       "        vertical-align: top;\n",
       "    }\n",
       "\n",
       "    .dataframe thead th {\n",
       "        text-align: right;\n",
       "    }\n",
       "</style>\n",
       "<table border=\"1\" class=\"dataframe\">\n",
       "  <thead>\n",
       "    <tr style=\"text-align: right;\">\n",
       "      <th></th>\n",
       "      <th>country</th>\n",
       "      <th>HS4</th>\n",
       "      <th>value_format</th>\n",
       "    </tr>\n",
       "  </thead>\n",
       "  <tbody>\n",
       "    <tr>\n",
       "      <th>0</th>\n",
       "      <td>Norfolk Island</td>\n",
       "      <td>Sowing Seeds</td>\n",
       "      <td>1.98M</td>\n",
       "    </tr>\n",
       "  </tbody>\n",
       "</table>\n",
       "</div>"
      ],
      "text/plain": [
       "          country           HS4 value_format\n",
       "0  Norfolk Island  Sowing Seeds        1.98M"
      ]
     },
     "metadata": {},
     "output_type": "display_data"
    }
   ],
   "source": [
    "import time\n",
    "\n",
    "from IPython.display import display, clear_output\n",
    "\n",
    "\n",
    "for tipe in juice_info['HS4'].unique():\n",
    "    a_df=juice_info[juice_info['HS4']==tipe].reset_index(drop=True)\n",
    "    display(a_df)\n",
    "    # if len(a_df)>4:\n",
    "    #     time.sleep(10)\n",
    "    #     clear_output()\n",
    "\n"
   ]
  },
  {
   "cell_type": "code",
   "execution_count": 549,
   "metadata": {},
   "outputs": [
    {
     "data": {
      "application/vnd.plotly.v1+json": {
       "config": {
        "plotlyServerURL": "https://plot.ly"
       },
       "data": [
        {
         "branchvalues": "total",
         "customdata": [
          [
           "Footwear and Headwear"
          ],
          [
           "Instruments"
          ],
          [
           "Paper Goods"
          ],
          [
           "Textiles"
          ],
          [
           "Metals"
          ],
          [
           "Machines"
          ],
          [
           "Machines"
          ],
          [
           "Textiles"
          ],
          [
           "Textiles"
          ],
          [
           "Textiles"
          ],
          [
           "Textiles"
          ],
          [
           "Textiles"
          ],
          [
           "Textiles"
          ],
          [
           "Textiles"
          ],
          [
           "Textiles"
          ],
          [
           "Textiles"
          ],
          [
           "Textiles"
          ],
          [
           "Textiles"
          ],
          [
           "Textiles"
          ],
          [
           "Animal Products"
          ],
          [
           "Chemical Products"
          ],
          [
           "Foodstuffs"
          ],
          [
           "Stone And Glass"
          ],
          [
           "Chemical Products"
          ],
          [
           "Plastics and Rubbers"
          ],
          [
           "Animal Products"
          ],
          [
           "Chemical Products"
          ],
          [
           "Foodstuffs"
          ],
          [
           "Metals"
          ],
          [
           "Plastics and Rubbers"
          ],
          [
           "Chemical Products"
          ],
          [
           "Chemical Products"
          ],
          [
           "Chemical Products"
          ],
          [
           "Wood Products"
          ],
          [
           "Machines"
          ],
          [
           "Machines"
          ],
          [
           "Transportation"
          ],
          [
           "Transportation"
          ],
          [
           "Foodstuffs"
          ],
          [
           "Chemical Products"
          ],
          [
           "Chemical Products"
          ],
          [
           "Metals"
          ],
          [
           "Chemical Products"
          ],
          [
           "Metals"
          ],
          [
           "Chemical Products"
          ],
          [
           "Metals"
          ],
          [
           "Metals"
          ],
          [
           "Metals"
          ],
          [
           "Mineral Products"
          ],
          [
           "Chemical Products"
          ],
          [
           "Metals"
          ],
          [
           "Metals"
          ],
          [
           "Metals"
          ],
          [
           "Metals"
          ],
          [
           "Metals"
          ],
          [
           "Chemical Products"
          ],
          [
           "Chemical Products"
          ],
          [
           "Chemical Products"
          ],
          [
           "Machines"
          ],
          [
           "Paper Goods"
          ],
          [
           "Chemical Products"
          ],
          [
           "Instruments"
          ],
          [
           "Chemical Products"
          ],
          [
           "Chemical Products"
          ],
          [
           "Chemical Products"
          ],
          [
           "Paper Goods"
          ],
          [
           "Textiles"
          ],
          [
           "Mineral Products"
          ],
          [
           "Chemical Products"
          ],
          [
           "Vegetable Products"
          ],
          [
           "Metals"
          ],
          [
           "Stone And Glass"
          ],
          [
           "Machines"
          ],
          [
           "Machines"
          ],
          [
           "Machines"
          ],
          [
           "Transportation"
          ],
          [
           "Mineral Products"
          ],
          [
           "Chemical Products"
          ],
          [
           "Metals"
          ],
          [
           "Metals"
          ],
          [
           "Miscellaneous"
          ],
          [
           "Metals"
          ],
          [
           "Textiles"
          ],
          [
           "Machines"
          ],
          [
           "Machines"
          ],
          [
           "Machines"
          ],
          [
           "Machines"
          ],
          [
           "Machines"
          ],
          [
           "Machines"
          ],
          [
           "Machines"
          ],
          [
           "Machines"
          ],
          [
           "Machines"
          ],
          [
           "Machines"
          ],
          [
           "Mineral Products"
          ],
          [
           "Machines"
          ],
          [
           "Textiles"
          ],
          [
           "Machines"
          ],
          [
           "Instruments"
          ],
          [
           "Chemical Products"
          ],
          [
           "Animal Hides"
          ],
          [
           "Chemical Products"
          ],
          [
           "Chemical Products"
          ],
          [
           "Plastics and Rubbers"
          ],
          [
           "Machines"
          ],
          [
           "Weapons"
          ],
          [
           "Instruments"
          ],
          [
           "Instruments"
          ],
          [
           "Stone And Glass"
          ],
          [
           "Miscellaneous"
          ],
          [
           "Footwear and Headwear"
          ],
          [
           "Animal and Vegetable Bi-Products"
          ],
          [
           "Textiles"
          ],
          [
           "Textiles"
          ],
          [
           "Chemical Products"
          ],
          [
           "Machines"
          ],
          [
           "Machines"
          ],
          [
           "Machines"
          ],
          [
           "Textiles"
          ],
          [
           "Textiles"
          ],
          [
           "Textiles"
          ],
          [
           "Textiles"
          ],
          [
           "Footwear and Headwear"
          ],
          [
           "Footwear and Headwear"
          ],
          [
           "Footwear and Headwear"
          ],
          [
           "Footwear and Headwear"
          ],
          [
           "Machines"
          ],
          [
           "Plastics and Rubbers"
          ],
          [
           "Foodstuffs"
          ],
          [
           "Textiles"
          ],
          [
           "Weapons"
          ],
          [
           "Textiles"
          ],
          [
           "Metals"
          ],
          [
           "Miscellaneous"
          ],
          [
           "Metals"
          ],
          [
           "Machines"
          ],
          [
           "Machines"
          ],
          [
           "Machines"
          ],
          [
           "Machines"
          ],
          [
           "Animal Products"
          ],
          [
           "Animal Products"
          ],
          [
           "Machines"
          ],
          [
           "Chemical Products"
          ],
          [
           "Vegetable Products"
          ],
          [
           "Vegetable Products"
          ],
          [
           "Vegetable Products"
          ],
          [
           "Instruments"
          ],
          [
           "Chemical Products"
          ],
          [
           "Chemical Products"
          ],
          [
           "Machines"
          ],
          [
           "Textiles"
          ],
          [
           "Animal Products"
          ],
          [
           "Metals"
          ],
          [
           "Machines"
          ],
          [
           "Textiles"
          ],
          [
           "Chemical Products"
          ],
          [
           "Textiles"
          ],
          [
           "Chemical Products"
          ],
          [
           "Stone And Glass"
          ],
          [
           "Stone And Glass"
          ],
          [
           "Stone And Glass"
          ],
          [
           "Stone And Glass"
          ],
          [
           "Stone And Glass"
          ],
          [
           "Stone And Glass"
          ],
          [
           "Stone And Glass"
          ],
          [
           "Stone And Glass"
          ],
          [
           "Machines"
          ],
          [
           "Stone And Glass"
          ],
          [
           "Chemical Products"
          ],
          [
           "Chemical Products"
          ],
          [
           "Chemical Products"
          ],
          [
           "Mineral Products"
          ],
          [
           "Textiles"
          ],
          [
           "Vegetable Products"
          ],
          [
           "Animal and Vegetable Bi-Products"
          ],
          [
           "Foodstuffs"
          ],
          [
           "Instruments"
          ],
          [
           "Mineral Products"
          ],
          [
           "Vegetable Products"
          ],
          [
           "Mineral Products"
          ],
          [
           "Mineral Products"
          ],
          [
           "Precious Metals"
          ],
          [
           "Chemical Products"
          ],
          [
           "Animal and Vegetable Bi-Products"
          ],
          [
           "Mineral Products"
          ],
          [
           "Machines"
          ],
          [
           "Machines"
          ],
          [
           "Textiles"
          ],
          [
           "Metals"
          ],
          [
           "Chemical Products"
          ],
          [
           "Chemical Products"
          ],
          [
           "Animal Products"
          ],
          [
           "Animal and Vegetable Bi-Products"
          ],
          [
           "Animal Products"
          ],
          [
           "Miscellaneous"
          ],
          [
           "Metals"
          ],
          [
           "Machines"
          ],
          [
           "Metals"
          ],
          [
           "Metals"
          ],
          [
           "Foodstuffs"
          ],
          [
           "Textiles"
          ],
          [
           "Textiles"
          ],
          [
           "Textiles"
          ],
          [
           "Metals"
          ],
          [
           "Stone And Glass"
          ],
          [
           "Metals"
          ],
          [
           "Animal Hides"
          ],
          [
           "Wood Products"
          ],
          [
           "Machines"
          ],
          [
           "Foodstuffs"
          ],
          [
           "Vegetable Products"
          ],
          [
           "Textiles"
          ],
          [
           "Vegetable Products"
          ],
          [
           "Stone And Glass"
          ],
          [
           "Machines"
          ],
          [
           "Machines"
          ],
          [
           "Vegetable Products"
          ],
          [
           "Footwear and Headwear"
          ],
          [
           "Chemical Products"
          ],
          [
           "Animal Products"
          ],
          [
           "Animal Products"
          ],
          [
           "Vegetable Products"
          ],
          [
           "Chemical Products"
          ],
          [
           "Machines"
          ],
          [
           "Chemical Products"
          ],
          [
           "Miscellaneous"
          ],
          [
           "Chemical Products"
          ],
          [
           "Animal and Vegetable Bi-Products"
          ],
          [
           "Machines"
          ],
          [
           "Machines"
          ],
          [
           "Machines"
          ],
          [
           "Chemical Products"
          ],
          [
           "Instruments"
          ],
          [
           "Precious Metals"
          ],
          [
           "Instruments"
          ],
          [
           "Foodstuffs"
          ],
          [
           "Chemical Products"
          ],
          [
           "Instruments"
          ],
          [
           "Chemical Products"
          ],
          [
           "Chemical Products"
          ],
          [
           "Textiles"
          ],
          [
           "Chemical Products"
          ],
          [
           "Animal Products"
          ],
          [
           "Textiles"
          ],
          [
           "Metals"
          ],
          [
           "Metals"
          ],
          [
           "Metals"
          ],
          [
           "Machines"
          ],
          [
           "Chemical Products"
          ],
          [
           "Machines"
          ],
          [
           "Chemical Products"
          ],
          [
           "Chemical Products"
          ],
          [
           "Chemical Products"
          ],
          [
           "Textiles"
          ],
          [
           "Paper Goods"
          ],
          [
           "Animal Products"
          ],
          [
           "Instruments"
          ],
          [
           "Chemical Products"
          ],
          [
           "Vegetable Products"
          ],
          [
           "Foodstuffs"
          ],
          [
           "Mineral Products"
          ],
          [
           "Chemical Products"
          ],
          [
           "Paper Goods"
          ],
          [
           "Animal Hides"
          ],
          [
           "Chemical Products"
          ],
          [
           "Miscellaneous"
          ],
          [
           "Stone And Glass"
          ],
          [
           "Metals"
          ],
          [
           "Vegetable Products"
          ],
          [
           "Vegetable Products"
          ],
          [
           "Stone And Glass"
          ],
          [
           "Vegetable Products"
          ],
          [
           "Stone And Glass"
          ],
          [
           "Machines"
          ],
          [
           "Machines"
          ],
          [
           "Stone And Glass"
          ],
          [
           "Mineral Products"
          ],
          [
           "Paper Goods"
          ],
          [
           "Plastics and Rubbers"
          ],
          [
           "Mineral Products"
          ],
          [
           "Vegetable Products"
          ],
          [
           "Vegetable Products"
          ],
          [
           "Chemical Products"
          ],
          [
           "Mineral Products"
          ],
          [
           "Arts and Antiques"
          ],
          [
           "Metals"
          ],
          [
           "Mineral Products"
          ],
          [
           "Precious Metals"
          ],
          [
           "Foodstuffs"
          ],
          [
           "Vegetable Products"
          ],
          [
           "Vegetable Products"
          ],
          [
           "Textiles"
          ],
          [
           "Animal and Vegetable Bi-Products"
          ],
          [
           "Foodstuffs"
          ],
          [
           "Foodstuffs"
          ],
          [
           "Chemical Products"
          ],
          [
           "Foodstuffs"
          ],
          [
           "Instruments"
          ],
          [
           "Foodstuffs"
          ],
          [
           "Instruments"
          ],
          [
           "Vegetable Products"
          ],
          [
           "Mineral Products"
          ],
          [
           "Instruments"
          ],
          [
           "Metals"
          ],
          [
           "Metals"
          ],
          [
           "Textiles"
          ],
          [
           "Metals"
          ],
          [
           "Mineral Products"
          ],
          [
           "Transportation"
          ],
          [
           "Chemical Products"
          ],
          [
           "Metals"
          ],
          [
           "Instruments"
          ],
          [
           "Mineral Products"
          ],
          [
           "Metals"
          ],
          [
           "Instruments"
          ],
          [
           "Animal Hides"
          ],
          [
           "Metals"
          ],
          [
           "Metals"
          ],
          [
           "Textiles"
          ],
          [
           "Machines"
          ],
          [
           "Vegetable Products"
          ],
          [
           "Machines"
          ],
          [
           "Vegetable Products"
          ],
          [
           "Chemical Products"
          ],
          [
           "Chemical Products"
          ],
          [
           "Mineral Products"
          ],
          [
           "Chemical Products"
          ],
          [
           "Chemical Products"
          ],
          [
           "Footwear and Headwear"
          ],
          [
           "Footwear and Headwear"
          ],
          [
           "Textiles"
          ],
          [
           "Metals"
          ],
          [
           "Chemical Products"
          ],
          [
           "Stone And Glass"
          ],
          [
           "Textiles"
          ],
          [
           "Transportation"
          ],
          [
           "Textiles"
          ],
          [
           "Chemical Products"
          ],
          [
           "Miscellaneous"
          ],
          [
           "Textiles"
          ],
          [
           "Wood Products"
          ],
          [
           "Machines"
          ],
          [
           "Transportation"
          ],
          [
           "Animal and Vegetable Bi-Products"
          ],
          [
           "Chemical Products"
          ],
          [
           "Miscellaneous"
          ],
          [
           "Vegetable Products"
          ],
          [
           "Vegetable Products"
          ],
          [
           "Paper Goods"
          ],
          [
           "Stone And Glass"
          ],
          [
           "Chemical Products"
          ],
          [
           "Machines"
          ],
          [
           "Machines"
          ],
          [
           "Chemical Products"
          ],
          [
           "Instruments"
          ],
          [
           "Plastics and Rubbers"
          ],
          [
           "Textiles"
          ],
          [
           "Plastics and Rubbers"
          ],
          [
           "Chemical Products"
          ],
          [
           "Textiles"
          ],
          [
           "Chemical Products"
          ],
          [
           "Paper Goods"
          ],
          [
           "Foodstuffs"
          ],
          [
           "Plastics and Rubbers"
          ],
          [
           "Footwear and Headwear"
          ],
          [
           "Miscellaneous"
          ],
          [
           "Machines"
          ],
          [
           "Machines"
          ],
          [
           "Instruments"
          ],
          [
           "Foodstuffs"
          ],
          [
           "Paper Goods"
          ],
          [
           "Machines"
          ],
          [
           "Instruments"
          ],
          [
           "Instruments"
          ],
          [
           "Instruments"
          ],
          [
           "Foodstuffs"
          ],
          [
           "Chemical Products"
          ],
          [
           "Machines"
          ],
          [
           "Footwear and Headwear"
          ],
          [
           "Chemical Products"
          ],
          [
           "Textiles"
          ],
          [
           "Machines"
          ],
          [
           "Machines"
          ],
          [
           "Metals"
          ],
          [
           "Plastics and Rubbers"
          ],
          [
           "Metals"
          ],
          [
           "Metals"
          ],
          [
           "Metals"
          ],
          [
           "Animal and Vegetable Bi-Products"
          ],
          [
           "Machines"
          ],
          [
           "Machines"
          ],
          [
           "Vegetable Products"
          ],
          [
           "Foodstuffs"
          ],
          [
           "Metals"
          ],
          [
           "Metals"
          ],
          [
           "Miscellaneous"
          ],
          [
           "Vegetable Products"
          ],
          [
           "Metals"
          ],
          [
           "Vegetable Products"
          ],
          [
           "Metals"
          ],
          [
           "Plastics and Rubbers"
          ],
          [
           "Plastics and Rubbers"
          ],
          [
           "Precious Metals"
          ],
          [
           "Textiles"
          ],
          [
           "Textiles"
          ],
          [
           "Textiles"
          ],
          [
           "Textiles"
          ],
          [
           "Plastics and Rubbers"
          ],
          [
           "Plastics and Rubbers"
          ],
          [
           "Wood Products"
          ],
          [
           "Chemical Products"
          ],
          [
           "Vegetable Products"
          ],
          [
           "Stone And Glass"
          ],
          [
           "Machines"
          ],
          [
           "Foodstuffs"
          ],
          [
           "Stone And Glass"
          ],
          [
           "Chemical Products"
          ],
          [
           "Instruments"
          ],
          [
           "Transportation"
          ],
          [
           "Animal Hides"
          ],
          [
           "Foodstuffs"
          ],
          [
           "Paper Goods"
          ],
          [
           "Chemical Products"
          ],
          [
           "Chemical Products"
          ],
          [
           "Paper Goods"
          ],
          [
           "Chemical Products"
          ],
          [
           "Chemical Products"
          ],
          [
           "Chemical Products"
          ],
          [
           "Chemical Products"
          ],
          [
           "Chemical Products"
          ],
          [
           "Mineral Products"
          ],
          [
           "Vegetable Products"
          ],
          [
           "Instruments"
          ],
          [
           "Chemical Products"
          ],
          [
           "Animal Hides"
          ],
          [
           "Animal Hides"
          ],
          [
           "Transportation"
          ],
          [
           "Weapons"
          ],
          [
           "Chemical Products"
          ],
          [
           "Wood Products"
          ],
          [
           "Machines"
          ],
          [
           "Textiles"
          ],
          [
           "Miscellaneous"
          ],
          [
           "Chemical Products"
          ],
          [
           "Metals"
          ],
          [
           "Metals"
          ],
          [
           "Metals"
          ],
          [
           "Metals"
          ],
          [
           "Metals"
          ],
          [
           "Metals"
          ],
          [
           "Plastics and Rubbers"
          ],
          [
           "Plastics and Rubbers"
          ],
          [
           "Transportation"
          ],
          [
           "Metals"
          ],
          [
           "Foodstuffs"
          ],
          [
           "Arts and Antiques"
          ],
          [
           "Foodstuffs"
          ],
          [
           "Mineral Products"
          ],
          [
           "Plastics and Rubbers"
          ],
          [
           "Plastics and Rubbers"
          ],
          [
           "Plastics and Rubbers"
          ],
          [
           "Miscellaneous"
          ],
          [
           "Footwear and Headwear"
          ],
          [
           "Textiles"
          ],
          [
           "Textiles"
          ],
          [
           "Plastics and Rubbers"
          ],
          [
           "Plastics and Rubbers"
          ],
          [
           "Machines"
          ],
          [
           "Vegetable Products"
          ],
          [
           "Animal Hides"
          ],
          [
           "Metals"
          ],
          [
           "Stone And Glass"
          ],
          [
           "Mineral Products"
          ],
          [
           "Chemical Products"
          ],
          [
           "Miscellaneous"
          ],
          [
           "Metals"
          ],
          [
           "Transportation"
          ],
          [
           "Metals"
          ],
          [
           "Miscellaneous"
          ],
          [
           "Animal and Vegetable Bi-Products"
          ],
          [
           "Mineral Products"
          ],
          [
           "Chemical Products"
          ],
          [
           "Machines"
          ],
          [
           "Machines"
          ],
          [
           "Vegetable Products"
          ],
          [
           "Machines"
          ],
          [
           "Foodstuffs"
          ],
          [
           "Vegetable Products"
          ],
          [
           "Foodstuffs"
          ],
          [
           "Animal and Vegetable Bi-Products"
          ],
          [
           "Vegetable Products"
          ],
          [
           "Machines"
          ],
          [
           "Mineral Products"
          ],
          [
           "Mineral Products"
          ],
          [
           "Chemical Products"
          ],
          [
           "Textiles"
          ],
          [
           "Plastics and Rubbers"
          ],
          [
           "Metals"
          ],
          [
           "Precious Metals"
          ],
          [
           "Machines"
          ],
          [
           "Paper Goods"
          ],
          [
           "Wood Products"
          ],
          [
           "Chemical Products"
          ],
          [
           "Machines"
          ],
          [
           "Animal Products"
          ],
          [
           "Animal Products"
          ],
          [
           "Paper Goods"
          ],
          [
           "Stone And Glass"
          ],
          [
           "Chemical Products"
          ],
          [
           "Mineral Products"
          ],
          [
           "Plastics and Rubbers"
          ],
          [
           "Animal Hides"
          ],
          [
           "Textiles"
          ],
          [
           "Textiles"
          ],
          [
           "Textiles"
          ],
          [
           "Textiles"
          ],
          [
           "Vegetable Products"
          ],
          [
           "Arts and Antiques"
          ],
          [
           "Instruments"
          ],
          [
           "Machines"
          ],
          [
           "Textiles"
          ],
          [
           "Stone And Glass"
          ],
          [
           "Plastics and Rubbers"
          ],
          [
           "Stone And Glass"
          ],
          [
           "Chemical Products"
          ],
          [
           "Textiles"
          ],
          [
           "Vegetable Products"
          ],
          [
           "Animal Products"
          ],
          [
           "Vegetable Products"
          ],
          [
           "Machines"
          ],
          [
           "Machines"
          ],
          [
           "Arts and Antiques"
          ],
          [
           "Textiles"
          ],
          [
           "Animal Products"
          ],
          [
           "Vegetable Products"
          ],
          [
           "Foodstuffs"
          ],
          [
           "Animal Products"
          ],
          [
           "Chemical Products"
          ],
          [
           "Foodstuffs"
          ],
          [
           "Stone And Glass"
          ],
          [
           "Foodstuffs"
          ],
          [
           "Plastics and Rubbers"
          ],
          [
           "Stone And Glass"
          ],
          [
           "Vegetable Products"
          ],
          [
           "Transportation"
          ],
          [
           "Wood Products"
          ],
          [
           "Vegetable Products"
          ],
          [
           "Mineral Products"
          ],
          [
           "Textiles"
          ],
          [
           "Animal and Vegetable Bi-Products"
          ],
          [
           "Animal Products"
          ],
          [
           "Metals"
          ],
          [
           "Footwear and Headwear"
          ],
          [
           "Chemical Products"
          ],
          [
           "Chemical Products"
          ],
          [
           "Textiles"
          ],
          [
           "Plastics and Rubbers"
          ],
          [
           "Plastics and Rubbers"
          ],
          [
           "Plastics and Rubbers"
          ],
          [
           "Plastics and Rubbers"
          ],
          [
           "Precious Metals"
          ],
          [
           "Precious Metals"
          ],
          [
           "Wood Products"
          ],
          [
           "Chemical Products"
          ],
          [
           "Plastics and Rubbers"
          ],
          [
           "Textiles"
          ],
          [
           "Plastics and Rubbers"
          ],
          [
           "Chemical Products"
          ],
          [
           "Plastics and Rubbers"
          ],
          [
           "Stone And Glass"
          ],
          [
           "Machines"
          ],
          [
           "Paper Goods"
          ],
          [
           "Chemical Products"
          ],
          [
           "Vegetable Products"
          ],
          [
           "Vegetable Products"
          ],
          [
           "Animal Products"
          ],
          [
           "Animal Products"
          ],
          [
           "Chemical Products"
          ],
          [
           "Mineral Products"
          ],
          [
           "Precious Metals"
          ],
          [
           "Instruments"
          ],
          [
           "Precious Metals"
          ],
          [
           "Metals"
          ],
          [
           "Miscellaneous"
          ],
          [
           "Foodstuffs"
          ],
          [
           "Foodstuffs"
          ],
          [
           "Instruments"
          ],
          [
           "Chemical Products"
          ],
          [
           "Chemical Products"
          ],
          [
           "Chemical Products"
          ],
          [
           "Wood Products"
          ],
          [
           "Transportation"
          ],
          [
           "Transportation"
          ],
          [
           "Transportation"
          ],
          [
           "Transportation"
          ],
          [
           "Vegetable Products"
          ],
          [
           "Animal and Vegetable Bi-Products"
          ],
          [
           "Chemical Products"
          ],
          [
           "Metals"
          ],
          [
           "Animal Products"
          ],
          [
           "Metals"
          ],
          [
           "Wood Products"
          ],
          [
           "Textiles"
          ],
          [
           "Animal Hides"
          ],
          [
           "Textiles"
          ],
          [
           "Metals"
          ],
          [
           "Metals"
          ],
          [
           "Plastics and Rubbers"
          ],
          [
           "Foodstuffs"
          ],
          [
           "Metals"
          ],
          [
           "Metals"
          ],
          [
           "Chemical Products"
          ],
          [
           "Plastics and Rubbers"
          ],
          [
           "Paper Goods"
          ],
          [
           "Paper Goods"
          ],
          [
           "Transportation"
          ],
          [
           "Metals"
          ],
          [
           "Mineral Products"
          ],
          [
           "Machines"
          ],
          [
           "Chemical Products"
          ],
          [
           "Textiles"
          ],
          [
           "Chemical Products"
          ],
          [
           "Chemical Products"
          ],
          [
           "Chemical Products"
          ],
          [
           "Instruments"
          ],
          [
           "Instruments"
          ],
          [
           "Chemical Products"
          ],
          [
           "Chemical Products"
          ],
          [
           "Chemical Products"
          ],
          [
           "Chemical Products"
          ],
          [
           "Chemical Products"
          ],
          [
           "Chemical Products"
          ],
          [
           "Plastics and Rubbers"
          ],
          [
           "Plastics and Rubbers"
          ],
          [
           "Mineral Products"
          ],
          [
           "Mineral Products"
          ],
          [
           "Mineral Products"
          ],
          [
           "Chemical Products"
          ],
          [
           "Chemical Products"
          ],
          [
           "Vegetable Products"
          ],
          [
           "Instruments"
          ],
          [
           "Textiles"
          ],
          [
           "Foodstuffs"
          ],
          [
           "Foodstuffs"
          ],
          [
           "Chemical Products"
          ],
          [
           "Plastics and Rubbers"
          ],
          [
           "Machines"
          ],
          [
           "Mineral Products"
          ],
          [
           "Animal and Vegetable Bi-Products"
          ],
          [
           "Chemical Products"
          ],
          [
           "Mineral Products"
          ],
          [
           "Mineral Products"
          ],
          [
           "Metals"
          ],
          [
           "Foodstuffs"
          ],
          [
           "Metals"
          ],
          [
           "Metals"
          ],
          [
           "Textiles"
          ],
          [
           "Paper Goods"
          ],
          [
           "Vegetable Products"
          ],
          [
           "Animal Products"
          ],
          [
           "Metals"
          ],
          [
           "Metals"
          ],
          [
           "Metals"
          ],
          [
           "Metals"
          ],
          [
           "Metals"
          ],
          [
           "Metals"
          ],
          [
           "Metals"
          ],
          [
           "Metals"
          ],
          [
           "Metals"
          ],
          [
           "Textiles"
          ],
          [
           "Foodstuffs"
          ],
          [
           "Animal Products"
          ],
          [
           "Machines"
          ],
          [
           "Plastics and Rubbers"
          ],
          [
           "Paper Goods"
          ],
          [
           "Instruments"
          ],
          [
           "Machines"
          ],
          [
           "Miscellaneous"
          ],
          [
           "Textiles"
          ],
          [
           "Metals"
          ],
          [
           "Textiles"
          ],
          [
           "Mineral Products"
          ],
          [
           "Machines"
          ],
          [
           "Vegetable Products"
          ],
          [
           "Mineral Products"
          ],
          [
           "Paper Goods"
          ],
          [
           "Chemical Products"
          ],
          [
           "Paper Goods"
          ],
          [
           "Chemical Products"
          ],
          [
           "Machines"
          ],
          [
           "Chemical Products"
          ],
          [
           "Precious Metals"
          ],
          [
           "Chemical Products"
          ],
          [
           "Chemical Products"
          ],
          [
           "Mineral Products"
          ],
          [
           "Animal Products"
          ],
          [
           "Chemical Products"
          ],
          [
           "Chemical Products"
          ],
          [
           "Transportation"
          ],
          [
           "Stone And Glass"
          ],
          [
           "Vegetable Products"
          ],
          [
           "Metals"
          ],
          [
           "Wood Products"
          ],
          [
           "Chemical Products"
          ],
          [
           "Metals"
          ],
          [
           "Chemical Products"
          ],
          [
           "Machines"
          ],
          [
           "Instruments"
          ],
          [
           "Wood Products"
          ],
          [
           "Paper Goods"
          ],
          [
           "Chemical Products"
          ],
          [
           "Instruments"
          ],
          [
           "Textiles"
          ],
          [
           "Wood Products"
          ],
          [
           "Foodstuffs"
          ],
          [
           "Wood Products"
          ],
          [
           "Foodstuffs"
          ],
          [
           "Wood Products"
          ],
          [
           "Metals"
          ],
          [
           "Foodstuffs"
          ],
          [
           "Instruments"
          ],
          [
           "Metals"
          ],
          [
           "Textiles"
          ],
          [
           "Stone And Glass"
          ],
          [
           "Miscellaneous"
          ],
          [
           "Transportation"
          ],
          [
           "Textiles"
          ],
          [
           "Wood Products"
          ],
          [
           "Animal and Vegetable Bi-Products"
          ],
          [
           "Machines"
          ],
          [
           "Wood Products"
          ],
          [
           "Wood Products"
          ],
          [
           "Chemical Products"
          ],
          [
           "Wood Products"
          ],
          [
           "Chemical Products"
          ],
          [
           "Wood Products"
          ],
          [
           "Wood Products"
          ],
          [
           "Wood Products"
          ],
          [
           "Wood Products"
          ],
          [
           "Textiles"
          ],
          [
           "Textiles"
          ],
          [
           "Machines"
          ],
          [
           "Machines"
          ],
          [
           "Textiles"
          ],
          [
           "Chemical Products"
          ],
          [
           "Foodstuffs"
          ],
          [
           "Metals"
          ],
          [
           "Chemical Products"
          ],
          [
           "Miscellaneous"
          ],
          [
           "Paper Goods"
          ],
          [
           "Mineral Products"
          ],
          [
           "Animal and Vegetable Bi-Products"
          ],
          [
           "Chemical Products"
          ],
          [
           "Miscellaneous"
          ],
          [
           "Vegetable Products"
          ],
          [
           "Paper Goods"
          ],
          [
           "Miscellaneous"
          ],
          [
           "Instruments"
          ],
          [
           "Vegetable Products"
          ],
          [
           "Mineral Products"
          ],
          [
           "Metals"
          ],
          [
           "Vegetable Products"
          ],
          [
           "Machines"
          ],
          [
           "Textiles"
          ],
          [
           "Textiles"
          ],
          [
           "Miscellaneous"
          ],
          [
           "Mineral Products"
          ],
          [
           "Mineral Products"
          ],
          [
           "Machines"
          ],
          [
           "Vegetable Products"
          ],
          [
           "Machines"
          ],
          [
           "Textiles"
          ],
          [
           "Machines"
          ],
          [
           "Animal Products"
          ],
          [
           "Transportation"
          ],
          [
           "Vegetable Products"
          ],
          [
           "Machines"
          ],
          [
           "Machines"
          ],
          [
           "Chemical Products"
          ],
          [
           "Machines"
          ],
          [
           "Metals"
          ],
          [
           "Chemical Products"
          ],
          [
           "Vegetable Products"
          ],
          [
           "Instruments"
          ],
          [
           "Machines"
          ],
          [
           "Stone And Glass"
          ],
          [
           "Machines"
          ],
          [
           "Stone And Glass"
          ],
          [
           "Metals"
          ],
          [
           "Metals"
          ],
          [
           "Metals"
          ],
          [
           "Metals"
          ],
          [
           "Metals"
          ],
          [
           "Foodstuffs"
          ],
          [
           "Metals"
          ],
          [
           "Precious Metals"
          ],
          [
           "Metals"
          ],
          [
           "Textiles"
          ],
          [
           "Textiles"
          ],
          [
           "Mineral Products"
          ],
          [
           "Paper Goods"
          ],
          [
           "Chemical Products"
          ],
          [
           "Textiles"
          ],
          [
           "Textiles"
          ],
          [
           "Textiles"
          ],
          [
           "Metals"
          ],
          [
           "Metals"
          ],
          [
           "Metals"
          ],
          [
           "Metals"
          ],
          [
           "Metals"
          ],
          [
           "Metals"
          ],
          [
           "Metals"
          ],
          [
           "Metals"
          ],
          [
           "Metals"
          ],
          [
           "Metals"
          ],
          [
           "Mineral Products"
          ],
          [
           "Chemical Products"
          ],
          [
           "Metals"
          ],
          [
           "Metals"
          ],
          [
           "Metals"
          ],
          [
           "Mineral Products"
          ],
          [
           "Metals"
          ],
          [
           "Metals"
          ],
          [
           "Machines"
          ],
          [
           "Transportation"
          ],
          [
           "Foodstuffs"
          ],
          [
           "Miscellaneous"
          ],
          [
           "Wood Products"
          ],
          [
           "Chemical Products"
          ],
          [
           "Miscellaneous"
          ],
          [
           "Miscellaneous"
          ],
          [
           "Mineral Products"
          ],
          [
           "Vegetable Products"
          ],
          [
           "Animal Hides"
          ],
          [
           "Chemical Products"
          ],
          [
           "Transportation"
          ],
          [
           "Precious Metals"
          ],
          [
           "Plastics and Rubbers"
          ],
          [
           "Stone And Glass"
          ],
          [
           "Metals"
          ],
          [
           "Metals"
          ],
          [
           "Metals"
          ],
          [
           "Mineral Products"
          ],
          [
           "Transportation"
          ],
          [
           "Animal and Vegetable Bi-Products"
          ],
          [
           "Precious Metals"
          ],
          [
           "Foodstuffs"
          ],
          [
           "Paper Goods"
          ],
          [
           "Foodstuffs"
          ],
          [
           "Plastics and Rubbers"
          ],
          [
           "Plastics and Rubbers"
          ],
          [
           "Machines"
          ],
          [
           "Foodstuffs"
          ],
          [
           "Foodstuffs"
          ],
          [
           "Textiles"
          ],
          [
           "Textiles"
          ],
          [
           "Paper Goods"
          ],
          [
           "Paper Goods"
          ],
          [
           "Paper Goods"
          ],
          [
           "Paper Goods"
          ],
          [
           "Paper Goods"
          ],
          [
           "Paper Goods"
          ],
          [
           "Animal and Vegetable Bi-Products"
          ],
          [
           "Arts and Antiques"
          ],
          [
           "Metals"
          ],
          [
           "Textiles"
          ],
          [
           "Chemical Products"
          ],
          [
           "Chemical Products"
          ],
          [
           "Chemical Products"
          ],
          [
           "Metals"
          ],
          [
           "Chemical Products"
          ],
          [
           "Vegetable Products"
          ],
          [
           "Metals"
          ],
          [
           "Wood Products"
          ],
          [
           "Textiles"
          ],
          [
           "Plastics and Rubbers"
          ],
          [
           "Vegetable Products"
          ],
          [
           "Foodstuffs"
          ],
          [
           "Foodstuffs"
          ],
          [
           "Vegetable Products"
          ],
          [
           "Animal and Vegetable Bi-Products"
          ],
          [
           "Textiles"
          ],
          [
           "Textiles"
          ],
          [
           "Miscellaneous"
          ],
          [
           "Chemical Products"
          ],
          [
           "Metals"
          ],
          [
           "Textiles"
          ],
          [
           "Plastics and Rubbers"
          ],
          [
           "Machines"
          ],
          [
           "Textiles"
          ],
          [
           "Paper Goods"
          ],
          [
           "Paper Goods"
          ],
          [
           "Metals"
          ],
          [
           "Mineral Products"
          ],
          [
           "Metals"
          ],
          [
           "Metals"
          ],
          [
           "Mineral Products"
          ],
          [
           "Chemical Products"
          ],
          [
           "Chemical Products"
          ],
          [
           "Chemical Products"
          ],
          [
           "Chemical Products"
          ],
          [
           "Chemical Products"
          ],
          [
           "Mineral Products"
          ],
          [
           "Textiles"
          ],
          [
           "Textiles"
          ],
          [
           "Textiles"
          ],
          [
           "Textiles"
          ],
          [
           "Machines"
          ],
          [
           "Textiles"
          ],
          [
           "Textiles"
          ],
          [
           "Wood Products"
          ],
          [
           "Textiles"
          ],
          [
           "Textiles"
          ],
          [
           "Textiles"
          ],
          [
           "Textiles"
          ],
          [
           "Textiles"
          ],
          [
           "Textiles"
          ],
          [
           "Textiles"
          ],
          [
           "Textiles"
          ],
          [
           "Textiles"
          ],
          [
           "Instruments"
          ],
          [
           "Transportation"
          ],
          [
           "Machines"
          ],
          [
           "Machines"
          ],
          [
           "Textiles"
          ],
          [
           "Textiles"
          ],
          [
           "Machines"
          ],
          [
           "Precious Metals"
          ],
          [
           "Machines"
          ],
          [
           "Metals"
          ],
          [
           "Chemical Products"
          ],
          [
           "Metals"
          ],
          [
           "Metals"
          ],
          [
           "Machines"
          ],
          [
           "Machines"
          ],
          [
           "Textiles"
          ],
          [
           "Metals"
          ],
          [
           "Textiles"
          ],
          [
           "Mineral Products"
          ],
          [
           "Machines"
          ],
          [
           "Machines"
          ],
          [
           "Transportation"
          ],
          [
           "Transportation"
          ],
          [
           "Plastics and Rubbers"
          ],
          [
           "Metals"
          ],
          [
           "Animal Products"
          ],
          [
           "Chemical Products"
          ],
          [
           "Foodstuffs"
          ],
          [
           "Instruments"
          ],
          [
           "Stone And Glass"
          ],
          [
           "Machines"
          ],
          [
           "Animal Products"
          ],
          [
           "Weapons"
          ],
          [
           "Instruments"
          ],
          [
           "Chemical Products"
          ],
          [
           "Textiles"
          ],
          [
           "Chemical Products"
          ],
          [
           "Textiles"
          ],
          [
           "Chemical Products"
          ],
          [
           "Machines"
          ],
          [
           "Machines"
          ],
          [
           "Foodstuffs"
          ],
          [
           "Animal Products"
          ],
          [
           "Machines"
          ],
          [
           "Foodstuffs"
          ],
          [
           "Metals"
          ],
          [
           "Metals"
          ],
          [
           "Machines"
          ],
          [
           "Chemical Products"
          ],
          [
           "Textiles"
          ],
          [
           "Instruments"
          ],
          [
           "Instruments"
          ],
          [
           "Textiles"
          ],
          [
           "Stone And Glass"
          ],
          [
           "Weapons"
          ],
          [
           "Footwear and Headwear"
          ],
          [
           "Textiles"
          ],
          [
           "Chemical Products"
          ],
          [
           "Metals"
          ],
          [
           "Metals"
          ],
          [
           "Chemical Products"
          ],
          [
           "Chemical Products"
          ],
          [
           "Transportation"
          ],
          [
           "Animal Products"
          ],
          [
           "Footwear and Headwear"
          ],
          [
           "Metals"
          ],
          [
           "Stone And Glass"
          ],
          [
           "Miscellaneous"
          ],
          [
           "Vegetable Products"
          ],
          [
           "Foodstuffs"
          ],
          [
           "Animal Hides"
          ],
          [
           "Metals"
          ],
          [
           "Machines"
          ],
          [
           "Paper Goods"
          ],
          [
           "Machines"
          ],
          [
           "Vegetable Products"
          ],
          [
           "Vegetable Products"
          ],
          [
           "Chemical Products"
          ],
          [
           "Chemical Products"
          ],
          [
           "Chemical Products"
          ],
          [
           "Vegetable Products"
          ],
          [
           "Transportation"
          ],
          [
           "Animal Products"
          ],
          [
           "Animal Products"
          ],
          [
           "Textiles"
          ],
          [
           "Textiles"
          ],
          [
           "Textiles"
          ],
          [
           "Textiles"
          ],
          [
           "Instruments"
          ],
          [
           "Animal and Vegetable Bi-Products"
          ],
          [
           "Textiles"
          ],
          [
           "Instruments"
          ],
          [
           "Animal Products"
          ],
          [
           "Textiles"
          ],
          [
           "Vegetable Products"
          ],
          [
           "Animal and Vegetable Bi-Products"
          ],
          [
           "Metals"
          ],
          [
           "Machines"
          ],
          [
           "Instruments"
          ],
          [
           "Textiles"
          ],
          [
           "Stone And Glass"
          ],
          [
           "Chemical Products"
          ],
          [
           "Chemical Products"
          ],
          [
           "Instruments"
          ],
          [
           "Instruments"
          ],
          [
           "Instruments"
          ],
          [
           "Instruments"
          ],
          [
           "Instruments"
          ],
          [
           "Machines"
          ],
          [
           "Metals"
          ],
          [
           "Instruments"
          ],
          [
           "Paper Goods"
          ],
          [
           "Metals"
          ],
          [
           "Chemical Products"
          ],
          [
           "Paper Goods"
          ],
          [
           "Machines"
          ],
          [
           "Metals"
          ],
          [
           "Metals"
          ],
          [
           "Transportation"
          ],
          [
           "Transportation"
          ],
          [
           "Machines"
          ],
          [
           "Textiles"
          ],
          [
           "Animal Hides"
          ],
          [
           "Textiles"
          ],
          [
           "Miscellaneous"
          ],
          [
           "Vegetable Products"
          ],
          [
           "Vegetable Products"
          ],
          [
           "Textiles"
          ],
          [
           "Animal Hides"
          ],
          [
           "Textiles"
          ],
          [
           "Machines"
          ],
          [
           "Footwear and Headwear"
          ],
          [
           "Machines"
          ],
          [
           "Textiles"
          ],
          [
           "Instruments"
          ],
          [
           "Machines"
          ],
          [
           "Vegetable Products"
          ],
          [
           "Foodstuffs"
          ],
          [
           "Textiles"
          ],
          [
           "Metals"
          ],
          [
           "Transportation"
          ],
          [
           "Transportation"
          ],
          [
           "Vegetable Products"
          ],
          [
           "Vegetable Products"
          ],
          [
           "Animal Products"
          ],
          [
           "Transportation"
          ],
          [
           "Foodstuffs"
          ],
          [
           "Stone And Glass"
          ],
          [
           "Miscellaneous"
          ],
          [
           "Chemical Products"
          ],
          [
           "Mineral Products"
          ],
          [
           "Machines"
          ],
          [
           "Vegetable Products"
          ],
          [
           "Metals"
          ],
          [
           "Vegetable Products"
          ],
          [
           "Instruments"
          ],
          [
           "Wood Products"
          ],
          [
           "Stone And Glass"
          ],
          [
           "Machines"
          ],
          [
           "Chemical Products"
          ],
          [
           "Textiles"
          ],
          [
           "Vegetable Products"
          ],
          [
           "Miscellaneous"
          ],
          [
           "Machines"
          ],
          [
           "Machines"
          ],
          [
           "Chemical Products"
          ],
          [
           "Chemical Products"
          ],
          [
           "Instruments"
          ],
          [
           "Chemical Products"
          ],
          [
           "Metals"
          ],
          [
           "Footwear and Headwear"
          ],
          [
           "Mineral Products"
          ],
          [
           "Weapons"
          ],
          [
           "Textiles"
          ],
          [
           "Stone And Glass"
          ],
          [
           "Paper Goods"
          ],
          [
           "Machines"
          ],
          [
           "Chemical Products"
          ],
          [
           "Mineral Products"
          ],
          [
           "Chemical Products"
          ],
          [
           "Animal Products"
          ],
          [
           "Animal Products"
          ],
          [
           "Animal and Vegetable Bi-Products"
          ],
          [
           "Foodstuffs"
          ],
          [
           "Instruments"
          ],
          [
           "Stone And Glass"
          ],
          [
           "Machines"
          ],
          [
           "Machines"
          ],
          [
           "Foodstuffs"
          ],
          [
           "Animal Products"
          ],
          [
           "Textiles"
          ],
          [
           "Textiles"
          ],
          [
           "Paper Goods"
          ],
          [
           "Chemical Products"
          ],
          [
           "Vegetable Products"
          ],
          [
           "Transportation"
          ],
          [
           "Instruments"
          ],
          [
           "Arts and Antiques"
          ],
          [
           "Textiles"
          ],
          [
           "Animal Hides"
          ],
          [
           "Chemical Products"
          ],
          [
           "Textiles"
          ],
          [
           "Machines"
          ],
          [
           "Footwear and Headwear"
          ],
          [
           "Chemical Products"
          ],
          [
           "Mineral Products"
          ],
          [
           "Stone And Glass"
          ],
          [
           "Stone And Glass"
          ],
          [
           "Stone And Glass"
          ],
          [
           "Mineral Products"
          ],
          [
           "Machines"
          ],
          [
           "Machines"
          ],
          [
           "Textiles"
          ],
          [
           "Textiles"
          ],
          [
           "Transportation"
          ],
          [
           "Vegetable Products"
          ],
          [
           "Vegetable Products"
          ],
          [
           "Vegetable Products"
          ],
          [
           "Weapons"
          ],
          [
           "Chemical Products"
          ],
          [
           "Animal Products"
          ],
          [
           "Machines"
          ],
          [
           "Animal Hides"
          ],
          [
           "Animal Hides"
          ],
          [
           "Animal Hides"
          ],
          [
           "Vegetable Products"
          ],
          [
           "Vegetable Products"
          ],
          [
           "Paper Goods"
          ],
          [
           "Machines"
          ],
          [
           "Miscellaneous"
          ],
          [
           "Vegetable Products"
          ],
          [
           "Footwear and Headwear"
          ],
          [
           "Textiles"
          ],
          [
           "Metals"
          ],
          [
           "Chemical Products"
          ],
          [
           "Mineral Products"
          ],
          [
           "Metals"
          ],
          [
           "Metals"
          ],
          [
           "Metals"
          ],
          [
           "Machines"
          ],
          [
           "Metals"
          ],
          [
           "Metals"
          ],
          [
           "Chemical Products"
          ],
          [
           "Chemical Products"
          ],
          [
           "Stone And Glass"
          ],
          [
           "Stone And Glass"
          ],
          [
           "Animal Hides"
          ],
          [
           "Textiles"
          ],
          [
           "Animal Hides"
          ],
          [
           "Animal Products"
          ],
          [
           "Animal and Vegetable Bi-Products"
          ],
          [
           "Arts and Antiques"
          ],
          [
           "Chemical Products"
          ],
          [
           "Foodstuffs"
          ],
          [
           "Footwear and Headwear"
          ],
          [
           "Instruments"
          ],
          [
           "Machines"
          ],
          [
           "Metals"
          ],
          [
           "Mineral Products"
          ],
          [
           "Miscellaneous"
          ],
          [
           "Paper Goods"
          ],
          [
           "Plastics and Rubbers"
          ],
          [
           "Precious Metals"
          ],
          [
           "Stone And Glass"
          ],
          [
           "Textiles"
          ],
          [
           "Transportation"
          ],
          [
           "Vegetable Products"
          ],
          [
           "Weapons"
          ],
          [
           "Wood Products"
          ]
         ],
         "domain": {
          "x": [
           0,
           1
          ],
          "y": [
           0,
           1
          ]
         },
         "hovertemplate": "labels=%{label}<br>Trade Value=%{value}<br>parent=%{parent}<br>id=%{id}<br>Categoría=%{customdata[0]}<extra></extra>",
         "ids": [
          "Footwear and Headwear/Knitted Hats",
          "Instruments/LCDs",
          "Paper Goods/Kraft Paper",
          "Textiles/Knotted Carpets",
          "Metals/Knives",
          "Machines/Knitting Machines",
          "Machines/Knitting Machine Accessories",
          "Textiles/Knit Women's Undergarments",
          "Textiles/Knit Women's Suits",
          "Textiles/Knit Women's Shirts",
          "Textiles/Knit T-shirts",
          "Textiles/Knit Sweaters",
          "Textiles/Knit Socks and Hosiery",
          "Textiles/Knit Men's Undergarments",
          "Textiles/Knit Men's Suits",
          "Textiles/Knit Men's Shirts",
          "Textiles/Knit Men's Coats",
          "Textiles/Knit Gloves",
          "Textiles/Knit Women's Coats",
          "Animal Products/Animal Fat",
          "Chemical Products/Ammonia",
          "Foodstuffs/Animal Food",
          "Stone And Glass/Abrasive Powder",
          "Chemical Products/Animal or Vegetable Fertilizers",
          "Plastics and Rubbers/Amino-resins",
          "Animal Products/Animal Organs",
          "Chemical Products/Amine Compounds",
          "Foodstuffs/Animal Meal and Pellets",
          "Metals/Aluminium Structures",
          "Plastics and Rubbers/Acrylic Polymers",
          "Chemical Products/Activated Carbon",
          "Chemical Products/Acyclic Alcohols",
          "Chemical Products/Acyclic Hydrocarbons",
          "Wood Products/Agglomerated Cork",
          "Machines/Air Conditioners",
          "Machines/Air Pumps",
          "Transportation/Aircraft Launch Gear",
          "Transportation/Aircraft Parts",
          "Foodstuffs/Alcohol > 80% ABV",
          "Chemical Products/Aldehyde Derivatives",
          "Chemical Products/Aldehydes",
          "Metals/Aluminium Wire",
          "Chemical Products/Alkylbenzenes and Alkylnaphthalenes",
          "Metals/Aluminium Bars",
          "Chemical Products/Alkaline Metals",
          "Metals/Aluminium Foil",
          "Metals/Aluminium Gas Containers",
          "Metals/Aluminium Housewares",
          "Mineral Products/Aluminium Ore",
          "Chemical Products/Aluminium Oxide",
          "Metals/Aluminium Cans",
          "Metals/Aluminium Pipe Fittings",
          "Metals/Aluminium Pipes",
          "Metals/Aluminium Plating",
          "Metals/Aluminium Powder",
          "Chemical Products/Carboxyimide Compounds",
          "Chemical Products/Carboxyamide Compounds",
          "Chemical Products/Carbonates",
          "Machines/Carbon-based Electronics",
          "Paper Goods/Carbon Paper",
          "Chemical Products/Carboxylic Acids",
          "Instruments/Cameras",
          "Chemical Products/Candles",
          "Chemical Products/Carbides",
          "Chemical Products/Carbon",
          "Paper Goods/Calendars",
          "Textiles/Carded Wool or Animal Hair Fabric",
          "Mineral Products/Calcium Phosphates",
          "Chemical Products/Casein",
          "Vegetable Products/Cassava",
          "Metals/Cast Iron Pipes",
          "Stone And Glass/Cast or Rolled Glass",
          "Machines/Casting Machines",
          "Machines/Cathode Tubes",
          "Machines/Calculators",
          "Transportation/Cars",
          "Mineral Products/Zinc Ore",
          "Chemical Products/Zinc Oxide and Peroxide",
          "Metals/Zinc Powder",
          "Metals/Zinc Sheets",
          "Miscellaneous/Zippers",
          "Metals/Zirconium",
          "Textiles/Hand-Woven Tapestries",
          "Machines/Electric Soldering Equipment",
          "Machines/Electrical Capacitors",
          "Machines/Electrical Control Boards",
          "Machines/Electrical Ignitions",
          "Machines/Electrical Insulators",
          "Machines/Electrical Lighting and Signalling Equipment",
          "Machines/Electrical Parts",
          "Machines/Electrical Power Accessories",
          "Machines/Electrical Resistors",
          "Machines/Electrical Transformers",
          "Mineral Products/Electricity",
          "Machines/Electromagnets",
          "Textiles/Embroidery",
          "Machines/Engine Parts",
          "Instruments/Electric Musical Instruments",
          "Chemical Products/Enzymes",
          "Animal Hides/Equine and Bovine Hides",
          "Chemical Products/Essential Oils",
          "Chemical Products/Ethers",
          "Plastics and Rubbers/Ethylene Polymers",
          "Machines/Excavation Machinery",
          "Weapons/Explosive Ammunition",
          "Instruments/Eyewear",
          "Instruments/Eyewear Frames",
          "Stone And Glass/Eyewear and Clock Glass",
          "Miscellaneous/Fairground Amusements",
          "Footwear and Headwear/Fake Hair",
          "Animal and Vegetable Bi-Products/Fat and Oil Residues",
          "Textiles/Felt",
          "Textiles/Felt Carpets",
          "Chemical Products/Epoxides",
          "Machines/Electric Motors",
          "Machines/Electric Motor Parts",
          "Machines/Electric Heaters",
          "Textiles/Hemp Fibers",
          "Textiles/Heavy Synthetic Cotton Fabrics",
          "Textiles/Heavy Pure Woven Cotton",
          "Textiles/Heavy Mixed Woven Cotton",
          "Footwear and Headwear/Headbands and Linings",
          "Footwear and Headwear/Hats",
          "Footwear and Headwear/Hat Shapes",
          "Footwear and Headwear/Hat Forms",
          "Machines/Harvesting Machinery",
          "Plastics and Rubbers/Hard Rubber",
          "Foodstuffs/Hard Liquor",
          "Textiles/Handkerchiefs",
          "Weapons/Handguns",
          "Textiles/Hand-Woven Rugs",
          "Metals/Hand Tools",
          "Miscellaneous/Hand Sifters",
          "Metals/Hand Saws",
          "Machines/Electric Generating Sets",
          "Machines/Electric Furnaces",
          "Machines/Electric Filament",
          "Machines/Electric Batteries",
          "Animal Products/Eggs",
          "Animal Products/Edible Offal",
          "Machines/Felt Machinery",
          "Chemical Products/Dyeing Finishing Agents",
          "Vegetable Products/Dried Vegetables",
          "Vegetable Products/Dried Legumes",
          "Vegetable Products/Dried Fruits",
          "Instruments/Drafting Tools",
          "Chemical Products/Halogenated Hydrocarbons",
          "Chemical Products/Halogens",
          "Machines/Drilling Machines",
          "Textiles/Felt or Coated Fabric Garments",
          "Animal Products/Fermented Milk Products",
          "Metals/Ferroalloys",
          "Machines/Gaskets",
          "Textiles/Gauze",
          "Chemical Products/Gelatin",
          "Textiles/Gimp Yarn",
          "Chemical Products/Glands and Other Organs",
          "Stone And Glass/Glass Balls",
          "Stone And Glass/Glass Beads",
          "Stone And Glass/Glass Bottles",
          "Stone And Glass/Glass Bricks",
          "Stone And Glass/Glass Bulbs",
          "Stone And Glass/Glass Fibers",
          "Stone And Glass/Glass Mirrors",
          "Stone And Glass/Glass Scraps",
          "Machines/Glass Working Machines",
          "Stone And Glass/Glass with Edge Workings",
          "Chemical Products/Glaziers Putty",
          "Chemical Products/Glues",
          "Chemical Products/Hair Products",
          "Mineral Products/Gypsum",
          "Textiles/Gum Coated Textile Fabric",
          "Vegetable Products/Ground Nuts",
          "Animal and Vegetable Bi-Products/Ground Nut Oil",
          "Foodstuffs/Ground Nut Meal",
          "Instruments/Gas and Liquid Flow Measuring Instruments",
          "Mineral Products/Gravel and Crushed Stone",
          "Vegetable Products/Grapes",
          "Mineral Products/Granulated Slag",
          "Mineral Products/Granite",
          "Precious Metals/Gold",
          "Chemical Products/Glycosides",
          "Animal and Vegetable Bi-Products/Glycerol",
          "Mineral Products/Graphite",
          "Machines/High-voltage Protection Equipment",
          "Machines/Gas Turbines",
          "Textiles/Garments of Impregnated Fabric",
          "Metals/Filing Cabinets",
          "Chemical Products/Fire Extinguishers Preparations",
          "Chemical Products/Fireworks",
          "Animal Products/Fish Fillets",
          "Animal and Vegetable Bi-Products/Fish oil",
          "Animal Products/Fish: dried, salted, smoked or in brine",
          "Miscellaneous/Fishing and Hunting Equipment",
          "Metals/Flat Flat-Rolled Steel",
          "Machines/Flat panel display modules, whether or not incorporating touch-sensitive screens",
          "Metals/Flat-Rolled Iron",
          "Metals/Flat-Rolled Stainless Steel",
          "Foodstuffs/Flavored Water",
          "Textiles/Flax Fibers",
          "Textiles/Flax Woven Fabric",
          "Textiles/Flax Yarn",
          "Metals/Flexible Metal Tubing",
          "Stone And Glass/Float Glass",
          "Metals/Garden Tools",
          "Animal Hides/Furskin Apparel",
          "Wood Products/Fuel Wood",
          "Machines/Fruit Pressing Machinery",
          "Foodstuffs/Fruit Juice",
          "Vegetable Products/Frozen Vegetables",
          "Textiles/Garnetted Wool or Animal Hair",
          "Vegetable Products/Frozen Fruits and Nuts",
          "Stone And Glass/Friction Material",
          "Machines/Fork-Lifts",
          "Machines/Forging Machines",
          "Vegetable Products/Forage Crops",
          "Footwear and Headwear/Footwear Parts",
          "Chemical Products/Fluorides",
          "Animal Products/Frozen Bovine Meat",
          "Animal Products/Honey",
          "Vegetable Products/Hops",
          "Chemical Products/Hormones",
          "Machines/Hair Trimmers",
          "Chemical Products/Inorganic Compounds",
          "Miscellaneous/Ink Ribbons",
          "Chemical Products/Ink",
          "Animal and Vegetable Bi-Products/Inedible Fats and Oils",
          "Machines/Industrial Printers",
          "Machines/Industrial Furnaces",
          "Machines/Industrial Food Preperation Machinery",
          "Chemical Products/Industrial Fatty Acids, Oils and Alcohols",
          "Instruments/Incomplete Movement Sets",
          "Precious Metals/Imitation Jewellery",
          "Instruments/Image Projectors",
          "Foodstuffs/Ice Cream",
          "Chemical Products/Hypochlorites",
          "Instruments/Hydrometers",
          "Chemical Products/Halides",
          "Chemical Products/Hydrogen",
          "Textiles/Horsehair Yarn",
          "Chemical Products/Hydrogen peroxide",
          "Animal Products/Horses",
          "Textiles/Hose Piping Textiles",
          "Metals/Hot-Rolled Iron",
          "Metals/Hot-Rolled Stainless Steel Bars",
          "Metals/Hot-Rolled Iron Bars",
          "Machines/Household Washing Machines",
          "Chemical Products/Hydraulic Brake Fluid",
          "Machines/Hydraulic Turbines",
          "Chemical Products/Hydrazine or Hydroxylamine Derivatives",
          "Chemical Products/Hydrides and other anions",
          "Chemical Products/Hydrochloric Acid",
          "Textiles/House Linens",
          "Paper Goods/Children's Picture Books",
          "Animal Products/Cheese",
          "Instruments/Chemical Analysis Instruments",
          "Chemical Products/Chlorates and Perchlorates",
          "Vegetable Products/Cinnamon",
          "Foodstuffs/Chocolate",
          "Mineral Products/Chromium Ore",
          "Chemical Products/Chromium Oxides and Hydroxides",
          "Paper Goods/Cigarette Paper",
          "Animal Hides/Chamois Leather",
          "Chemical Products/Chlorides",
          "Miscellaneous/Chalkboards",
          "Stone And Glass/Ceramic Pipes",
          "Metals/Cermets",
          "Vegetable Products/Cereal Straws",
          "Vegetable Products/Cereal Flours",
          "Stone And Glass/Ceramic Tableware",
          "Vegetable Products/Citrus",
          "Stone And Glass/Ceramic Bricks",
          "Machines/Centrifuges",
          "Machines/Central Heating Boilers",
          "Stone And Glass/Cement Articles",
          "Mineral Products/Cement",
          "Paper Goods/Cellulose Fibers Paper",
          "Plastics and Rubbers/Cellulose",
          "Mineral Products/Chalk",
          "Vegetable Products/Citrus and Melon Peels",
          "Vegetable Products/Cereal Meal and Pellets",
          "Chemical Products/Cleaning Products",
          "Mineral Products/Clays",
          "Arts and Antiques/Collector's Items",
          "Metals/Cold-Rolled Iron",
          "Mineral Products/Coke",
          "Precious Metals/Coin",
          "Foodstuffs/Coffee and Tea Extracts",
          "Vegetable Products/Coffee",
          "Vegetable Products/Coconuts, Brazil Nuts, and Cashews",
          "Textiles/Coconut and Other Vegetable Fibers",
          "Animal and Vegetable Bi-Products/Coconut Oil",
          "Foodstuffs/Cocoa Powder",
          "Foodstuffs/Cocoa Paste",
          "Chemical Products/Chemically Pure Sugars",
          "Foodstuffs/Cocoa Beans",
          "Instruments/Clock Cases and Parts",
          "Foodstuffs/Cocoa Butter",
          "Instruments/Clocks with Watch Movements",
          "Vegetable Products/Cloves",
          "Mineral Products/Coal Briquettes",
          "Instruments/Clock Movements",
          "Metals/Coated Flat-Rolled Iron",
          "Metals/Coated Metal Soldering Products",
          "Textiles/Coated Textile Fabric",
          "Metals/Cobalt",
          "Mineral Products/Coal Tar Oil",
          "Transportation/Other Locomotives",
          "Chemical Products/Other Nitrogen Compounds",
          "Metals/Other Nickel Products",
          "Instruments/Other Musical Instruments",
          "Mineral Products/Other Mineral",
          "Metals/Other Metal Fasteners",
          "Instruments/Other Measuring Instruments",
          "Animal Hides/Other Leather Articles",
          "Metals/Other Lead Products",
          "Metals/Other Large Iron Pipes",
          "Textiles/Other Non-Knit Clothing Accessories",
          "Machines/Other Non-Metal Removal Machinery",
          "Vegetable Products/Other Nuts",
          "Machines/Other Office Machines",
          "Vegetable Products/Other Oily Seeds",
          "Chemical Products/Other Paints",
          "Chemical Products/Other Organo-Inorganic Compounds",
          "Mineral Products/Other Ores",
          "Chemical Products/Other Organic Compounds",
          "Chemical Products/Undeveloped Exposed Photographic Material",
          "Footwear and Headwear/Umbrellas",
          "Footwear and Headwear/Umbrella and Walking Stick Accessories",
          "Textiles/Twine, cordage or rope; knotted netting, made up fishing nets and other made up nets, of textile materials",
          "Metals/Tungsten",
          "Chemical Products/Turpentine",
          "Stone And Glass/Unglazed Ceramics",
          "Textiles/Tulles and Net Fabric",
          "Transportation/Tug Boats",
          "Textiles/Twine and Rope",
          "Chemical Products/Unpackaged Medicaments",
          "Miscellaneous/Vacuum Flask",
          "Textiles/Unprocessed Synthetic Staple Fibers",
          "Wood Products/Veneer Sheets",
          "Machines/Vending Machines",
          "Transportation/Vehicle Bodies (including cabs) for the motor vehicles (8701 to 8705)",
          "Animal and Vegetable Bi-Products/Vegetable waxes and beeswax",
          "Chemical Products/Vegetable or Animal Dyes",
          "Miscellaneous/Vegetable and Mineral Carvings",
          "Vegetable Products/Vegetable Saps",
          "Vegetable Products/Vegetable Plaiting Materials",
          "Paper Goods/Vegetable Parchment",
          "Stone And Glass/Vegetable Fiber",
          "Chemical Products/Vegetable Alkaloids",
          "Machines/Valves",
          "Machines/Vacuum Cleaners",
          "Chemical Products/Vaccines, blood, antisera, toxins and cultures",
          "Instruments/Utility Meters",
          "Plastics and Rubbers/Used Rubber Tires",
          "Textiles/Used Clothing",
          "Plastics and Rubbers/Unvulcanised Rubber Products",
          "Chemical Products/Unsaturated Acyclic Monocarboxylic Acids",
          "Textiles/Unprocessed Artificial Staple Fibers",
          "Chemical Products/Vegetable Tanning Extracts",
          "Paper Goods/Uncoated Paper",
          "Foodstuffs/Vinegar",
          "Plastics and Rubbers/Vinyl Chloride Polymers",
          "Footwear and Headwear/Walking Sticks",
          "Miscellaneous/Video and Card Games",
          "Machines/Video Recording Equipment",
          "Machines/Video Displays",
          "Instruments/Video Cameras",
          "Foodstuffs/Vermouth",
          "Paper Goods/Wallpaper",
          "Machines/Washing and Bottling Machines",
          "Instruments/Watch Cases and Parts",
          "Instruments/Watch Movements",
          "Instruments/Watch Straps",
          "Foodstuffs/Water",
          "Chemical Products/Water Soluble Proteins",
          "Machines/Water and Gas Generators",
          "Footwear and Headwear/Waterproof Footwear",
          "Chemical Products/Vitamins",
          "Textiles/Wadding",
          "Machines/Stone Processing Machines",
          "Machines/Stone Working Machines",
          "Metals/Stranded Aluminium Wire",
          "Plastics and Rubbers/Rubber Belting",
          "Metals/Steel Wire",
          "Metals/Steel Ingots",
          "Metals/Steel Bars",
          "Animal and Vegetable Bi-Products/Stearic Acid",
          "Machines/Steam Turbines",
          "Machines/Steam Boilers",
          "Vegetable Products/Starches",
          "Foodstuffs/Starch Residue",
          "Metals/Stainless Steel Wire",
          "Metals/Stainless Steel Ingots",
          "Miscellaneous/Sports Equipment",
          "Vegetable Products/Spices",
          "Metals/Stranded Copper Wire",
          "Vegetable Products/Spice Seeds",
          "Metals/Stranded Iron Wire",
          "Plastics and Rubbers/Styrene Polymers",
          "Plastics and Rubbers/Synthetic Rubber",
          "Precious Metals/Synthetic Reconstructed Jewellery Stones",
          "Textiles/Synthetic Monofilament",
          "Textiles/Synthetic Filament Yarn Woven Fabric",
          "Textiles/Synthetic Filament Tow",
          "Textiles/Synthetic Fabrics",
          "Plastics and Rubbers/Rubber Apparel",
          "Plastics and Rubbers/Rubber",
          "Wood Products/Rough Wood",
          "Chemical Products/Rosin",
          "Vegetable Products/Root Vegetables",
          "Stone And Glass/Roofing Tiles",
          "Machines/Rolling Machines",
          "Foodstuffs/Rolled Tobacco",
          "Stone And Glass/Rock Wool",
          "Chemical Products/Synthetic Tanning Extracts",
          "Instruments/String Instruments",
          "Transportation/Tanks and Armored vehicles",
          "Animal Hides/Tanned Furskins",
          "Foodstuffs/Sugar Preserved Foods",
          "Paper Goods/Sulfate Chemical Woodpulp",
          "Chemical Products/Sulfates",
          "Chemical Products/Sulfides",
          "Paper Goods/Sulfite Chemical Woodpulp",
          "Chemical Products/Sulfites",
          "Chemical Products/Sulfonamides",
          "Chemical Products/Sulfonated, Nitrated or Nitrosated Hydrocarbons",
          "Chemical Products/Sulfur",
          "Chemical Products/Sulfuric Acid",
          "Mineral Products/Sulphur",
          "Vegetable Products/Sunflower Seeds",
          "Instruments/Surveying Equipment",
          "Chemical Products/Synthetic Coloring Matter",
          "Animal Hides/Tanned Goat Hides",
          "Animal Hides/Tanned Equine and Bovine Hides",
          "Transportation/Special purpose motor vehicles",
          "Weapons/Spring, Air, and Gas Guns",
          "Chemical Products/Special Pharmaceuticals",
          "Wood Products/Sawn Wood",
          "Machines/Scales",
          "Textiles/Scarves",
          "Miscellaneous/Scent Sprays",
          "Chemical Products/Scented Mixtures",
          "Metals/Scissors",
          "Metals/Scrap Aluminium",
          "Metals/Scrap Copper",
          "Metals/Scrap Iron",
          "Metals/Scrap Lead",
          "Metals/Scrap Nickel",
          "Plastics and Rubbers/Scrap Plastic",
          "Plastics and Rubbers/Scrap Rubber",
          "Transportation/Special Purpose Ships",
          "Metals/Scrap Waste",
          "Foodstuffs/Sausages",
          "Arts and Antiques/Sculptures",
          "Foodstuffs/Sauces and Seasonings",
          "Mineral Products/Sand",
          "Plastics and Rubbers/Rubber Inner Tubes",
          "Plastics and Rubbers/Rubber Pipes",
          "Plastics and Rubbers/Rubber Sheets",
          "Miscellaneous/Rubber Stamps",
          "Footwear and Headwear/Rubber Footwear",
          "Textiles/Rubber Textile Fabric",
          "Textiles/Rubber Textiles",
          "Plastics and Rubbers/Rubber Thread",
          "Plastics and Rubbers/Rubber Tires",
          "Machines/Rubberworking Machinery",
          "Vegetable Products/Rye",
          "Animal Hides/Saddlery",
          "Metals/Safes",
          "Stone And Glass/Safety Glass",
          "Mineral Products/Salt",
          "Chemical Products/Saturated Acyclic Monocarboxylic Acids",
          "Miscellaneous/Seats",
          "Metals/Scrap Tin",
          "Transportation/Self-Propelled Rail Transport",
          "Metals/Small Iron Containers",
          "Miscellaneous/Smoking Pipes",
          "Animal and Vegetable Bi-Products/Seed Oils",
          "Mineral Products/Soapstone",
          "Chemical Products/Sodium or Potassium Peroxides",
          "Machines/Soil Preparation Machinery",
          "Machines/Soldering and Welding Machinery",
          "Vegetable Products/Sorghum",
          "Machines/Sound Recording Equipment",
          "Foodstuffs/Soups and Broths",
          "Vegetable Products/Sowing Seeds",
          "Foodstuffs/Soybean Meal",
          "Animal and Vegetable Bi-Products/Soybean Oil",
          "Vegetable Products/Soybeans",
          "Machines/Spark-Ignition Engines",
          "Mineral Products/Slate",
          "Mineral Products/Slag Dross",
          "Chemical Products/Soap",
          "Textiles/Silk Fabrics",
          "Plastics and Rubbers/Self-adhesive Plastics",
          "Metals/Semi-Finished Iron",
          "Precious Metals/Silver",
          "Machines/Sewing Machines",
          "Paper Goods/Shaped Paper",
          "Wood Products/Shaped Wood",
          "Chemical Products/Shaving Products",
          "Machines/Semiconductor Devices",
          "Animal Products/Sheep and Goat Meat",
          "Animal Products/Sheep and Goats",
          "Paper Goods/Sheet Music",
          "Stone And Glass/Signaling Glassware",
          "Chemical Products/Silicates",
          "Mineral Products/Siliceous Fossil Meals",
          "Plastics and Rubbers/Silicone",
          "Animal Hides/Sheep Hides",
          "Textiles/Retail Artificial Filament Yarn",
          "Textiles/Retail Artificial Staple Fibers Yarn",
          "Textiles/Retail Cotton Yarn",
          "Textiles/Retail Silk Yarn",
          "Vegetable Products/Rice",
          "Arts and Antiques/Revenue Stamps",
          "Instruments/Revolution Counters",
          "Machines/Refrigerators",
          "Textiles/Retail Wool or Animal Hair Yarn",
          "Stone And Glass/Refractory Ceramics",
          "Plastics and Rubbers/Plastic Floor Coverings",
          "Stone And Glass/Refractory Bricks",
          "Chemical Products/Prepared Rubber Accelerators",
          "Textiles/Prepared Wool or Animal Hair",
          "Vegetable Products/Preserved Fruits and Nuts",
          "Animal Products/Preserved Meat",
          "Vegetable Products/Preserved Vegetables",
          "Machines/Print Production Machinery",
          "Machines/Printed Circuit Boards",
          "Arts and Antiques/Prints",
          "Textiles/Processed Artificial Staple Fibers",
          "Animal Products/Processed Bones",
          "Vegetable Products/Processed Cereals",
          "Foodstuffs/Processed Crustaceans",
          "Animal Products/Processed Egg Products",
          "Chemical Products/Prepared Pigments",
          "Foodstuffs/Processed Fish",
          "Stone And Glass/Processed Mica",
          "Foodstuffs/Processed Mushrooms",
          "Plastics and Rubbers/Plastic Building Materials",
          "Stone And Glass/Plaster Articles",
          "Vegetable Products/Plant foliage",
          "Transportation/Planes, Helicopters, and/or Spacecraft",
          "Wood Products/Plaiting Products",
          "Vegetable Products/Pitted Fruits",
          "Mineral Products/Pitch Coke",
          "Textiles/Pile Fabric",
          "Animal and Vegetable Bi-Products/Pig and Poultry Fat",
          "Animal Products/Pig Meat",
          "Metals/Pig Iron",
          "Footwear and Headwear/Processed Hair",
          "Chemical Products/Prepared Paint Driers",
          "Chemical Products/Prepared Explosives",
          "Textiles/Prepared Cotton",
          "Plastics and Rubbers/Plastic Housewares",
          "Plastics and Rubbers/Plastic Lids",
          "Plastics and Rubbers/Plastic Pipes",
          "Plastics and Rubbers/Plastic Wash Basins",
          "Precious Metals/Platinum",
          "Precious Metals/Platinum Clad Metals",
          "Wood Products/Plywood",
          "Chemical Products/Polishes and Creams",
          "Plastics and Rubbers/Polyacetals",
          "Textiles/Polyamide Fabric",
          "Plastics and Rubbers/Polyamides",
          "Chemical Products/Polycarboxylic Acids",
          "Plastics and Rubbers/Polymer Ion-Exchangers",
          "Stone And Glass/Porcelain Tableware",
          "Machines/Portable Lighting",
          "Paper Goods/Postcards",
          "Chemical Products/Potassic Fertilizers",
          "Vegetable Products/Potato Flours",
          "Vegetable Products/Potatoes",
          "Animal Products/Poultry",
          "Animal Products/Poultry Meat",
          "Chemical Products/Precious Metal Compounds",
          "Mineral Products/Precious Metal Ore",
          "Precious Metals/Precious Metal Scraps",
          "Instruments/Precious Metal Watches",
          "Precious Metals/Precious Stones",
          "Metals/Precipitated Copper",
          "Miscellaneous/Prefabricated Buildings",
          "Foodstuffs/Prepared Cereals",
          "Foodstuffs/Pickled Foods",
          "Instruments/Pianos",
          "Chemical Products/Photographic Plates",
          "Chemical Products/Photographic Paper",
          "Chemical Products/Radioactive Chemicals",
          "Wood Products/Railroad Ties",
          "Transportation/Railway Cargo Containers",
          "Transportation/Railway Freight Cars",
          "Transportation/Railway Maintenance Vehicles",
          "Transportation/Railway Track Fixtures",
          "Vegetable Products/Rapeseed",
          "Animal and Vegetable Bi-Products/Rapeseed Oil",
          "Chemical Products/Rare-Earth Metal Compounds",
          "Metals/Raw Aluminium",
          "Animal Products/Raw Bones",
          "Metals/Raw Copper",
          "Wood Products/Raw Cork",
          "Textiles/Raw Cotton",
          "Animal Hides/Raw Furskins",
          "Textiles/Plastic Coated Textile Fabric",
          "Metals/Raw Lead",
          "Metals/Raw Nickel",
          "Plastics and Rubbers/Raw Plastic Sheeting",
          "Foodstuffs/Raw Sugar",
          "Metals/Raw Zinc",
          "Metals/Razor Blades",
          "Chemical Products/Reaction and Catalytic Products",
          "Plastics and Rubbers/Reclaimed Rubber",
          "Paper Goods/Recovered Paper",
          "Paper Goods/Recovered Paper Pulp",
          "Transportation/Recreational Boats",
          "Metals/Refined Copper",
          "Mineral Products/Refined Petroleum",
          "Machines/Radio Receivers",
          "Chemical Products/Refractory Cements",
          "Textiles/Quilted Textiles",
          "Chemical Products/Quaternary Ammonium Salts and Hydroxides",
          "Chemical Products/Photographic Film",
          "Chemical Products/Photographic Chemicals",
          "Instruments/Photocopiers",
          "Instruments/Photo Lab Equipment",
          "Chemical Products/Phosphoric Esters and Salts",
          "Chemical Products/Phosphoric Acid",
          "Chemical Products/Phosphinates (hypophosphites) and phosphonates (phosphites)",
          "Chemical Products/Phosphatic Fertilizers",
          "Chemical Products/Phenols",
          "Chemical Products/Phenol Derivatives",
          "Plastics and Rubbers/Pharmaceutical Rubber Products",
          "Plastics and Rubbers/Petroleum Resins",
          "Mineral Products/Petroleum Jelly",
          "Mineral Products/Petroleum Gas",
          "Mineral Products/Petroleum Coke",
          "Chemical Products/Pesticides",
          "Chemical Products/Perfumes",
          "Vegetable Products/Perfume Plants",
          "Instruments/Percussion",
          "Textiles/Processed Synthetic Staple Fibers",
          "Foodstuffs/Processed Tobacco",
          "Foodstuffs/Processed Tomatoes",
          "Chemical Products/Propellant Powders",
          "Plastics and Rubbers/Propylene Polymers",
          "Machines/Pulley Systems",
          "Mineral Products/Pumice",
          "Animal and Vegetable Bi-Products/Pure Olive Oil",
          "Chemical Products/Pyrophoric Alloys",
          "Mineral Products/Quartz",
          "Mineral Products/Quicklime",
          "Metals/Raw Iron Bars",
          "Foodstuffs/Raw Tobacco",
          "Metals/Raw Tin",
          "Metals/Copper Pipes",
          "Textiles/Cotton Sewing Thread",
          "Paper Goods/Corrugated Paper",
          "Vegetable Products/Corn",
          "Animal Products/Coral and Shells",
          "Metals/Copper Wire",
          "Metals/Copper Powder",
          "Metals/Copper Housewares",
          "Metals/Copper Foil",
          "Metals/Copper Fasteners",
          "Metals/Copper Bars",
          "Metals/Copper Pipe Fittings",
          "Metals/Copper Alloys",
          "Metals/Cooking Hand Tools",
          "Textiles/Conveyor Belt Textiles",
          "Foodstuffs/Confectionery Sugar",
          "Animal Products/Concentrated Milk",
          "Machines/Computers",
          "Plastics and Rubbers/Compounded Unvulcanised Rubber",
          "Paper Goods/Composite Paper",
          "Instruments/Compasses",
          "Machines/Combustion Engines",
          "Miscellaneous/Combs",
          "Textiles/Combed Wool or Animal Hair Fabric",
          "Metals/Copper Plating",
          "Textiles/Cotton Waste",
          "Mineral Products/Crude Petroleum",
          "Machines/Cranes",
          "Vegetable Products/Cucumbers",
          "Mineral Products/Dolomite",
          "Paper Goods/Documents of title (bonds etc) and unused stamps",
          "Chemical Products/Dithionites and Sulfoxylates",
          "Paper Goods/Dissolving Grades Chemical Woodpulp",
          "Chemical Products/Disc Chemicals for Electronics",
          "Machines/Dictation Machines",
          "Chemical Products/Diazo, Azo or Aoxy Compounds",
          "Precious Metals/Diamonds",
          "Chemical Products/Dextrins",
          "Chemical Products/Developed Exposed Photographic Material",
          "Mineral Products/Copper Ore",
          "Animal Products/Crustaceans",
          "Chemical Products/Dental Products",
          "Chemical Products/Detonating Fuses",
          "Transportation/Delivery Trucks",
          "Stone And Glass/Curbstones",
          "Vegetable Products/Cut Flowers",
          "Metals/Cutlery Sets",
          "Wood Products/Densified Wood",
          "Chemical Products/Cyanides",
          "Metals/Cutting Blades",
          "Chemical Products/Cyclic Hydrocarbons",
          "Machines/Dairy Machinery",
          "Instruments/Dashboard Clocks",
          "Wood Products/Debacked Cork",
          "Paper Goods/Decals",
          "Chemical Products/Cyclic Alcohols",
          "Instruments/Wind Instruments",
          "Textiles/Window Dressings",
          "Wood Products/Wood Barrels",
          "Foodstuffs/Wine Lees",
          "Wood Products/Wood Carpentry",
          "Foodstuffs/Wine",
          "Wood Products/Wood Crates",
          "Metals/Zinc Bars",
          "Foodstuffs/Yeast",
          "Instruments/X-Ray Equipment",
          "Metals/Wrenches",
          "Textiles/Woven Fabric of Synthetic Staple Fibers",
          "Stone And Glass/Worked Slate",
          "Miscellaneous/Worked Ivory and Bone",
          "Transportation/Work Trucks",
          "Textiles/Wool or Animal Hair Waste",
          "Wood Products/Wood Charcoal",
          "Animal and Vegetable Bi-Products/Wool Grease",
          "Machines/Woodworking machines",
          "Wood Products/Wooden Tool Handles",
          "Wood Products/Wood Wool",
          "Chemical Products/Wood Tar, Oils and Pitch",
          "Wood Products/Wood Stakes",
          "Chemical Products/Wood Pulp Lyes",
          "Wood Products/Wood Ornaments",
          "Wood Products/Wood Kitchenware",
          "Wood Products/Wood Frames",
          "Wood Products/Wood Fiberboard",
          "Textiles/Wool",
          "Textiles/Woven Fabrics",
          "Machines/Metal Insulating Fittings",
          "Machines/Metal Finishing Machines",
          "Textiles/Light Pure Woven Cotton",
          "Chemical Products/Magnesium Hydroxide and Peroxide",
          "Foodstuffs/Malt Extract",
          "Metals/Manganese",
          "Chemical Products/Manganese Oxides",
          "Miscellaneous/Mannequins",
          "Paper Goods/Maps",
          "Mineral Products/Marble, Travertine and Alabaster",
          "Animal and Vegetable Bi-Products/Margarine",
          "Chemical Products/Matches",
          "Miscellaneous/Mattresses",
          "Vegetable Products/Maté",
          "Paper Goods/Mechanical Wood Pulp",
          "Miscellaneous/Medical Furniture",
          "Instruments/Medical Instruments",
          "Vegetable Products/Melons",
          "Mineral Products/Magnesium Carbonate",
          "Metals/Magnesium",
          "Vegetable Products/Malt",
          "Machines/Machinery Having Individual Functions",
          "Textiles/Light Rubberized Knitted Fabric",
          "Textiles/Light Synthetic Cotton Fabrics",
          "Miscellaneous/Lighters",
          "Mineral Products/Lignite",
          "Mineral Products/Limestone",
          "Machines/Machines for additive manufacturing",
          "Vegetable Products/Linseed",
          "Machines/Liquid Dispersing Machines",
          "Textiles/Linoleum",
          "Machines/Liquid Pumps",
          "Animal Products/Live Fish",
          "Transportation/Locomotive Parts",
          "Vegetable Products/Locust beans, seaweed, sugar beet, cane, for food",
          "Machines/Looms",
          "Machines/Low-voltage Protection Equipment",
          "Chemical Products/Lubricating Products",
          "Machines/Liquid Fuel Furnaces",
          "Metals/Interchangeable Tool Parts",
          "Chemical Products/Inorganic Salts",
          "Vegetable Products/Insect Resins",
          "Instruments/Instructional Models",
          "Machines/Insulated Wire",
          "Stone And Glass/Insulating Glass",
          "Machines/Integrated Circuits",
          "Stone And Glass/Interior Decorative Glassware",
          "Metals/Iron Sheet Piling",
          "Metals/Iron Blocks",
          "Metals/Iron Structures",
          "Metals/Iron Toiletry",
          "Metals/Iron Wire",
          "Foodstuffs/Jams",
          "Metals/Iron Anchors",
          "Precious Metals/Jewellery",
          "Metals/Iron Stovetops",
          "Textiles/Jute Woven Fabric",
          "Textiles/Jute and Other Textile Fibers",
          "Mineral Products/Kaolin",
          "Paper Goods/Kaolin Coated Paper",
          "Chemical Products/Ketones and Quinones",
          "Textiles/Knit Active Wear",
          "Textiles/Knit Babies' Garments",
          "Textiles/Jute Yarn",
          "Metals/Iron Springs",
          "Metals/Iron Sewing Needles",
          "Metals/Iron Reductions",
          "Metals/Iron Chains",
          "Metals/Iron Cloth",
          "Metals/Iron Fasteners",
          "Metals/Iron Gas Containers",
          "Metals/Iron Housewares",
          "Metals/Iron Ingots",
          "Metals/Iron Nails",
          "Mineral Products/Iron Ore",
          "Chemical Products/Iron Oxides and Hydroxides",
          "Metals/Iron Pipe Fittings",
          "Metals/Iron Pipes",
          "Metals/Iron Powder",
          "Mineral Products/Iron Pyrites",
          "Metals/Iron Radiators",
          "Metals/Iron Railway Products",
          "Machines/Papermaking Machines",
          "Transportation/Parachutes",
          "Foodstuffs/Pasta",
          "Miscellaneous/Party Decorations",
          "Wood Products/Particle Board",
          "Chemical Products/Peptones",
          "Miscellaneous/Pens",
          "Miscellaneous/Pencils and Crayons",
          "Mineral Products/Peat",
          "Vegetable Products/Pepper",
          "Animal Hides/Patent Leather",
          "Chemical Products/Pastes and Waxes",
          "Transportation/Passenger and Cargo Ships",
          "Precious Metals/Pearl Products",
          "Plastics and Rubbers/Other Rubber Products",
          "Stone And Glass/Other Stone Articles",
          "Metals/Other Steel Bars",
          "Metals/Other Stainless Steel Bars",
          "Metals/Other Small Iron Pipes",
          "Mineral Products/Other Slag and Ash",
          "Transportation/Other Sea Vessels",
          "Animal and Vegetable Bi-Products/Other Pure Vegetable Oils",
          "Precious Metals/Other Precious Metal Products",
          "Foodstuffs/Other Processed Fruits and Nuts",
          "Paper Goods/Other Printed Material",
          "Foodstuffs/Other Prepared Meat",
          "Plastics and Rubbers/Other Plastic Sheetings",
          "Plastics and Rubbers/Other Plastic Products",
          "Machines/Other Paper Machinery",
          "Foodstuffs/Other Sugars",
          "Foodstuffs/Other Processed Vegetables",
          "Textiles/Other Synthetic Fabrics",
          "Textiles/Packaged Sewing Sets",
          "Paper Goods/Other Uncoated Paper",
          "Paper Goods/Paper Spools",
          "Paper Goods/Paper Pulp Filter Blocks",
          "Paper Goods/Paper Notebooks",
          "Paper Goods/Paper Labels",
          "Paper Goods/Paper Containers",
          "Animal and Vegetable Bi-Products/Palm Oil",
          "Arts and Antiques/Paintings",
          "Metals/Padlocks",
          "Textiles/Packing Bags",
          "Chemical Products/Packaged Medicaments",
          "Chemical Products/Oxygen Heterocyclic Compounds",
          "Chemical Products/Oxygen Amino Compounds",
          "Metals/Other Tin Products",
          "Chemical Products/Oxometallic or Peroxometallic Acid Salts",
          "Vegetable Products/Other live plants, cuttings and slips;\nmushroom spawn",
          "Metals/Other Zinc Products",
          "Wood Products/Other Wood Articles",
          "Textiles/Other Women's Undergarments",
          "Plastics and Rubbers/Other Vinyl Polymers",
          "Vegetable Products/Other Vegetables",
          "Foodstuffs/Other Vegetable Residues and Waste",
          "Foodstuffs/Other Vegetable Residues",
          "Vegetable Products/Other Vegetable Products",
          "Animal and Vegetable Bi-Products/Other Vegetable Oils",
          "Textiles/Other Vegetable Fibers Yarn",
          "Textiles/Other Vegetable Fibers Fabric",
          "Miscellaneous/Other toys",
          "Chemical Products/Nucleic Acids",
          "Metals/Nickel Mattes",
          "Textiles/Other Knit Clothing Accessories",
          "Plastics and Rubbers/Natural Polymers",
          "Machines/Navigation Equipment",
          "Textiles/Neck Ties",
          "Paper Goods/Newspapers",
          "Paper Goods/Newsprint",
          "Metals/Nickel Bars",
          "Mineral Products/Nickel Ore",
          "Metals/Nickel Pipes",
          "Metals/Nickel Sheets",
          "Mineral Products/Niobium, Tantalum, Vanadium and Zirconium Ore",
          "Chemical Products/Nitric Acids",
          "Chemical Products/Nitrile Compounds",
          "Chemical Products/Nitrites and Nitrates",
          "Chemical Products/Nitrogen Heterocyclic Compounds",
          "Chemical Products/Nitrogenous Fertilizers",
          "Mineral Products/Non-Iron and Steel Slag, Ash and Residues",
          "Textiles/Non-Knit Active Wear",
          "Textiles/Non-Retail Artificial Staple Fibers Sewing Thread",
          "Textiles/Non-Retail Artificial Filament Yarn",
          "Textiles/Non-Retail Animal Hair Yarn",
          "Machines/Non-Mechanical Removal Machinery",
          "Textiles/Non-Knit Women's Undergarments",
          "Textiles/Non-Knit Women's Suits",
          "Wood Products/Natural Cork Articles",
          "Textiles/Non-Knit Women's Shirts",
          "Textiles/Non-Knit Men's Undergarments",
          "Textiles/Non-Knit Men's Suits",
          "Textiles/Non-Knit Men's Shirts",
          "Textiles/Non-Knit Men's Coats",
          "Textiles/Non-Knit Gloves",
          "Textiles/Non-Knit Babies' Garments",
          "Textiles/Non-Knit Women's Coats",
          "Textiles/Narrow Woven Fabric",
          "Instruments/Musical Instrument Parts",
          "Transportation/Motorcycles and cycles",
          "Machines/Metalworking Machines",
          "Machines/Metalworking Machine Parts",
          "Textiles/Metallic Yarn",
          "Textiles/Metallic Fabric",
          "Machines/Metal-Rolling Mills",
          "Precious Metals/Metal-Clad Products",
          "Machines/Metalworking Transfer Machines",
          "Metals/Metal Stoppers",
          "Chemical Products/Metal Pickling Preparations",
          "Metals/Metal Office Supplies",
          "Metals/Metal Mountings",
          "Machines/Metal Molds",
          "Machines/Metal Lathes",
          "Textiles/Other Knit Garments",
          "Metals/Metal Signs",
          "Textiles/Non-Retail Artificial Staple Fibers Yarn",
          "Mineral Products/Mica",
          "Machines/Microphones and Headphones",
          "Machines/Motor-working Tools",
          "Transportation/Motor vehicles; parts and accessories (8701 to 8705)",
          "Transportation/Motor vehicle (8701 to 8705) chassis fitted with engine",
          "Plastics and Rubbers/Monofilament",
          "Metals/Molybdenum",
          "Animal Products/Molluscs",
          "Chemical Products/Micro-Organism Culture Preparations",
          "Foodstuffs/Molasses",
          "Instruments/Mirrors and Lenses",
          "Stone And Glass/Milling Stones",
          "Machines/Mill Machinery",
          "Animal Products/Milk",
          "Weapons/Military Weapons",
          "Instruments/Microscopes",
          "Chemical Products/Mixed Mineral or Chemical Fertilizers",
          "Textiles/Non-Retail Carded Wool Yarn",
          "Chemical Products/Motion-picture film, exposed and developed",
          "Textiles/Non-Retail Mixed Cotton Yarn",
          "Chemical Products/Other Esters",
          "Machines/Other Engines",
          "Machines/Other Electrical Machinery",
          "Foodstuffs/Other Edible Preparations",
          "Animal Products/Other Edible Animal Products",
          "Machines/Other Domestic Electric Housewares",
          "Foodstuffs/Other Fermented Beverages",
          "Metals/Other Cutlery",
          "Metals/Other Copper Products",
          "Machines/Other Construction Vehicles",
          "Chemical Products/Other Coloring Matter",
          "Textiles/Other Cloth Articles",
          "Instruments/Other Clocks and Watches",
          "Instruments/Other Clocks",
          "Textiles/Other Cotton Fabrics",
          "Stone And Glass/Other Ceramic Articles",
          "Weapons/Other Firearms",
          "Footwear and Headwear/Other Footwear",
          "Textiles/Non-Retail Combed Wool Yarn",
          "Chemical Products/Other Isotopes",
          "Metals/Other Iron Products",
          "Metals/Other Iron Bars",
          "Chemical Products/Other Inorganic Acids Salts",
          "Chemical Products/Other Inorganic Acids",
          "Transportation/Other Floating Structures",
          "Animal Products/Other Inedible Animal Products",
          "Footwear and Headwear/Other Headwear",
          "Metals/Other Hand Tools",
          "Stone And Glass/Other Glass Articles",
          "Miscellaneous/Other Furniture",
          "Vegetable Products/Other Fruits",
          "Foodstuffs/Other Frozen Vegetables",
          "Animal Hides/Other Hides and Skins",
          "Metals/Other Cast Iron Products",
          "Machines/Other Heating Machinery",
          "Paper Goods/Other Carbon Paper",
          "Machines/Office Machine Parts",
          "Vegetable Products/Oats",
          "Vegetable Products/Nutmeg, mace and cardamons",
          "Chemical Products/Nonmetal Sulfides",
          "Chemical Products/Nonaqueous Pigments",
          "Chemical Products/Nonaqueous Paints",
          "Vegetable Products/Oil Seed Flower",
          "Transportation/Non-powered Aircraft",
          "Animal Products/Non-fillet Frozen Fish",
          "Animal Products/Non-fillet Fresh Fish",
          "Textiles/Non-Retail Synthetic Staple Fibers Yarn",
          "Textiles/Non-Retail Synthetic Filament Yarn",
          "Textiles/Non-Retail Pure Cotton Yarn",
          "Textiles/Other Carpets",
          "Instruments/Non-optical Microscopes",
          "Animal and Vegetable Bi-Products/Olive Oil",
          "Textiles/Non-woven Textiles",
          "Instruments/Optical Fibers and optical fibre bundles",
          "Animal Products/Other Animals",
          "Textiles/Other Articles of Twine and Rope",
          "Vegetable Products/Onions",
          "Animal and Vegetable Bi-Products/Other Animal Fats",
          "Metals/Other Aluminium Products",
          "Machines/Other Agricultural Machinery",
          "Instruments/Oscilloscopes",
          "Textiles/Ornamental Trimmings",
          "Stone And Glass/Ornamental Ceramics",
          "Chemical Products/Organo-Sulfur Compounds",
          "Chemical Products/Organic Composite Solvents",
          "Instruments/Opto-Electric Instrument Parts",
          "Instruments/Orthopedic Appliances",
          "Instruments/Thermostats",
          "Instruments/Time Recording Instruments",
          "Instruments/Time Switches",
          "Machines/Tobacco Processing Machines",
          "Metals/Tin Bars",
          "Instruments/Therapeutic Appliances",
          "Paper Goods/Tissue",
          "Metals/Titanium",
          "Chemical Products/Titanium Oxides",
          "Paper Goods/Toilet Paper",
          "Machines/Traffic Signals",
          "Metals/Tool Plates",
          "Metals/Tool Sets",
          "Transportation/Tractors",
          "Transportation/Trailers and semi-trailers, not mechanically propelled vehicles",
          "Machines/Transmissions",
          "Textiles/Tufted Carpets",
          "Animal Hides/Trunks and Cases",
          "Textiles/Textiles for technical uses",
          "Miscellaneous/Travel Kits",
          "Vegetable Products/Tropical Fruits",
          "Vegetable Products/Tomatoes",
          "Textiles/Textile Wicks",
          "Animal Hides/Tanned Sheep Hides",
          "Textiles/Textile Scraps",
          "Machines/Textile Processing Machines",
          "Footwear and Headwear/Textile Footwear",
          "Machines/Textile Fiber Machinery",
          "Textiles/Terry Fabric",
          "Instruments/Tensile Testing Machines",
          "Machines/Telephones",
          "Vegetable Products/Tea",
          "Foodstuffs/Tapioca",
          "Textiles/Textile Wall Coverings",
          "Metals/Bells and Other Metal Ornaments",
          "Transportation/Bi-Wheel Vehicle Parts",
          "Transportation/Bicycles, delivery tricycles, other cycles",
          "Vegetable Products/Cabbages",
          "Vegetable Products/Bulbs and Roots",
          "Animal Products/Butter",
          "Transportation/Buses",
          "Foodstuffs/Beer",
          "Stone And Glass/Building Stone",
          "Miscellaneous/Buttons",
          "Chemical Products/Bandages",
          "Mineral Products/Barium Sulphate",
          "Machines/Ball Bearings",
          "Vegetable Products/Buckwheat",
          "Metals/Barbed Wire",
          "Vegetable Products/Barley",
          "Instruments/Base Metal Watches",
          "Wood Products/Basketwork",
          "Stone And Glass/Bathroom Ceramics",
          "Machines/Batteries",
          "Chemical Products/Beauty Products",
          "Textiles/Bedspreads",
          "Vegetable Products/Bananas",
          "Miscellaneous/Brooms",
          "Machines/Blank Audio Media",
          "Machines/Broadcasting Equipment",
          "Chemical Products/Antibiotics",
          "Chemical Products/Antifreeze",
          "Instruments/Balances",
          "Chemical Products/Antiknock",
          "Metals/Antimony",
          "Footwear and Headwear/Bird Skins and Feathers",
          "Mineral Products/Bitumen and asphalt",
          "Weapons/Bladed Weapons and Accessories",
          "Textiles/Blankets",
          "Stone And Glass/Blown Glass",
          "Paper Goods/Brochures",
          "Machines/Boiler Plants",
          "Chemical Products/Borates",
          "Mineral Products/Borax",
          "Chemical Products/Boron",
          "Animal Products/Bovine",
          "Animal Products/Bovine Meat",
          "Animal and Vegetable Bi-Products/Bovine, Sheep, and Goat Fat",
          "Foodstuffs/Bran",
          "Instruments/Breathing Appliances",
          "Stone And Glass/Bricks",
          "Machines/Broadcasting Accessories",
          "Machines/Book-binding Machines",
          "Foodstuffs/Baked Goods",
          "Animal Products/Bird Feathers and Skins",
          "Textiles/Awnings, Tents, and Sails",
          "Textiles/Artificial Fibers Waste",
          "Paper Goods/Architectural Plans",
          "Chemical Products/Aqueous Paints",
          "Vegetable Products/Apples and Pears",
          "Transportation/Baby Carriages",
          "Instruments/Binoculars and Telescopes",
          "Arts and Antiques/Antiques",
          "Textiles/Artificial Filament Yarn Woven Fabric",
          "Animal Hides/Artificial Fur",
          "Chemical Products/Artificial Graphite",
          "Textiles/Artificial Monofilament",
          "Machines/Artificial Textile Machinery",
          "Footwear and Headwear/Artificial Vegetation",
          "Chemical Products/Artistry Paints",
          "Mineral Products/Asbestos",
          "Stone And Glass/Asbestos Cement Articles",
          "Stone And Glass/Asbestos Fibres",
          "Stone And Glass/Asphalt",
          "Mineral Products/Asphalt Mixtures",
          "Machines/Audio Alarms",
          "Machines/Audio and Video Recording Accessories",
          "Textiles/Artificial Filament Tow",
          "Textiles/Artificial Filament Sewing Thread",
          "Transportation/Wheelchairs",
          "Vegetable Products/Wheat Gluten",
          "Vegetable Products/Wheat Flours",
          "Vegetable Products/Wheat",
          "Weapons/Weapons Parts and Accessories",
          "Chemical Products/Waxes",
          "Animal Products/Whey and other milk products",
          "Machines/Leather Machinery",
          "Animal Hides/Leather Sheets",
          "Animal Hides/Leather Waste",
          "Animal Hides/Leather of Other Animals",
          "Vegetable Products/Legume Flours",
          "Vegetable Products/Lettuce",
          "Paper Goods/Letter Stock",
          "Machines/Lifting Machinery",
          "Miscellaneous/Light Fixtures",
          "Vegetable Products/Legumes",
          "Footwear and Headwear/Leather Footwear",
          "Textiles/Labels",
          "Metals/Lead Sheets",
          "Chemical Products/Lead Oxides",
          "Mineral Products/Lead Ore",
          "Metals/Large Iron Containers",
          "Metals/Large Flat-Rolled Stainless Steel",
          "Metals/Large Flat-Rolled Iron",
          "Machines/Large Construction Vehicles",
          "Metals/Large Coated Flat-Rolled Iron",
          "Metals/Large Aluminium Containers",
          "Chemical Products/Lake Pigments",
          "Chemical Products/Laboratory Reagents",
          "Stone And Glass/Laboratory Glassware",
          "Stone And Glass/Laboratory Ceramic Ware",
          "Animal Hides/Leather Apparel",
          "Textiles/Light Mixed Woven Cotton",
          "Animal Hides",
          "Animal Products",
          "Animal and Vegetable Bi-Products",
          "Arts and Antiques",
          "Chemical Products",
          "Foodstuffs",
          "Footwear and Headwear",
          "Instruments",
          "Machines",
          "Metals",
          "Mineral Products",
          "Miscellaneous",
          "Paper Goods",
          "Plastics and Rubbers",
          "Precious Metals",
          "Stone And Glass",
          "Textiles",
          "Transportation",
          "Vegetable Products",
          "Weapons",
          "Wood Products"
         ],
         "labels": [
          "Knitted Hats",
          "LCDs",
          "Kraft Paper",
          "Knotted Carpets",
          "Knives",
          "Knitting Machines",
          "Knitting Machine Accessories",
          "Knit Women's Undergarments",
          "Knit Women's Suits",
          "Knit Women's Shirts",
          "Knit T-shirts",
          "Knit Sweaters",
          "Knit Socks and Hosiery",
          "Knit Men's Undergarments",
          "Knit Men's Suits",
          "Knit Men's Shirts",
          "Knit Men's Coats",
          "Knit Gloves",
          "Knit Women's Coats",
          "Animal Fat",
          "Ammonia",
          "Animal Food",
          "Abrasive Powder",
          "Animal or Vegetable Fertilizers",
          "Amino-resins",
          "Animal Organs",
          "Amine Compounds",
          "Animal Meal and Pellets",
          "Aluminium Structures",
          "Acrylic Polymers",
          "Activated Carbon",
          "Acyclic Alcohols",
          "Acyclic Hydrocarbons",
          "Agglomerated Cork",
          "Air Conditioners",
          "Air Pumps",
          "Aircraft Launch Gear",
          "Aircraft Parts",
          "Alcohol > 80% ABV",
          "Aldehyde Derivatives",
          "Aldehydes",
          "Aluminium Wire",
          "Alkylbenzenes and Alkylnaphthalenes",
          "Aluminium Bars",
          "Alkaline Metals",
          "Aluminium Foil",
          "Aluminium Gas Containers",
          "Aluminium Housewares",
          "Aluminium Ore",
          "Aluminium Oxide",
          "Aluminium Cans",
          "Aluminium Pipe Fittings",
          "Aluminium Pipes",
          "Aluminium Plating",
          "Aluminium Powder",
          "Carboxyimide Compounds",
          "Carboxyamide Compounds",
          "Carbonates",
          "Carbon-based Electronics",
          "Carbon Paper",
          "Carboxylic Acids",
          "Cameras",
          "Candles",
          "Carbides",
          "Carbon",
          "Calendars",
          "Carded Wool or Animal Hair Fabric",
          "Calcium Phosphates",
          "Casein",
          "Cassava",
          "Cast Iron Pipes",
          "Cast or Rolled Glass",
          "Casting Machines",
          "Cathode Tubes",
          "Calculators",
          "Cars",
          "Zinc Ore",
          "Zinc Oxide and Peroxide",
          "Zinc Powder",
          "Zinc Sheets",
          "Zippers",
          "Zirconium",
          "Hand-Woven Tapestries",
          "Electric Soldering Equipment",
          "Electrical Capacitors",
          "Electrical Control Boards",
          "Electrical Ignitions",
          "Electrical Insulators",
          "Electrical Lighting and Signalling Equipment",
          "Electrical Parts",
          "Electrical Power Accessories",
          "Electrical Resistors",
          "Electrical Transformers",
          "Electricity",
          "Electromagnets",
          "Embroidery",
          "Engine Parts",
          "Electric Musical Instruments",
          "Enzymes",
          "Equine and Bovine Hides",
          "Essential Oils",
          "Ethers",
          "Ethylene Polymers",
          "Excavation Machinery",
          "Explosive Ammunition",
          "Eyewear",
          "Eyewear Frames",
          "Eyewear and Clock Glass",
          "Fairground Amusements",
          "Fake Hair",
          "Fat and Oil Residues",
          "Felt",
          "Felt Carpets",
          "Epoxides",
          "Electric Motors",
          "Electric Motor Parts",
          "Electric Heaters",
          "Hemp Fibers",
          "Heavy Synthetic Cotton Fabrics",
          "Heavy Pure Woven Cotton",
          "Heavy Mixed Woven Cotton",
          "Headbands and Linings",
          "Hats",
          "Hat Shapes",
          "Hat Forms",
          "Harvesting Machinery",
          "Hard Rubber",
          "Hard Liquor",
          "Handkerchiefs",
          "Handguns",
          "Hand-Woven Rugs",
          "Hand Tools",
          "Hand Sifters",
          "Hand Saws",
          "Electric Generating Sets",
          "Electric Furnaces",
          "Electric Filament",
          "Electric Batteries",
          "Eggs",
          "Edible Offal",
          "Felt Machinery",
          "Dyeing Finishing Agents",
          "Dried Vegetables",
          "Dried Legumes",
          "Dried Fruits",
          "Drafting Tools",
          "Halogenated Hydrocarbons",
          "Halogens",
          "Drilling Machines",
          "Felt or Coated Fabric Garments",
          "Fermented Milk Products",
          "Ferroalloys",
          "Gaskets",
          "Gauze",
          "Gelatin",
          "Gimp Yarn",
          "Glands and Other Organs",
          "Glass Balls",
          "Glass Beads",
          "Glass Bottles",
          "Glass Bricks",
          "Glass Bulbs",
          "Glass Fibers",
          "Glass Mirrors",
          "Glass Scraps",
          "Glass Working Machines",
          "Glass with Edge Workings",
          "Glaziers Putty",
          "Glues",
          "Hair Products",
          "Gypsum",
          "Gum Coated Textile Fabric",
          "Ground Nuts",
          "Ground Nut Oil",
          "Ground Nut Meal",
          "Gas and Liquid Flow Measuring Instruments",
          "Gravel and Crushed Stone",
          "Grapes",
          "Granulated Slag",
          "Granite",
          "Gold",
          "Glycosides",
          "Glycerol",
          "Graphite",
          "High-voltage Protection Equipment",
          "Gas Turbines",
          "Garments of Impregnated Fabric",
          "Filing Cabinets",
          "Fire Extinguishers Preparations",
          "Fireworks",
          "Fish Fillets",
          "Fish oil",
          "Fish: dried, salted, smoked or in brine",
          "Fishing and Hunting Equipment",
          "Flat Flat-Rolled Steel",
          "Flat panel display modules, whether or not incorporating touch-sensitive screens",
          "Flat-Rolled Iron",
          "Flat-Rolled Stainless Steel",
          "Flavored Water",
          "Flax Fibers",
          "Flax Woven Fabric",
          "Flax Yarn",
          "Flexible Metal Tubing",
          "Float Glass",
          "Garden Tools",
          "Furskin Apparel",
          "Fuel Wood",
          "Fruit Pressing Machinery",
          "Fruit Juice",
          "Frozen Vegetables",
          "Garnetted Wool or Animal Hair",
          "Frozen Fruits and Nuts",
          "Friction Material",
          "Fork-Lifts",
          "Forging Machines",
          "Forage Crops",
          "Footwear Parts",
          "Fluorides",
          "Frozen Bovine Meat",
          "Honey",
          "Hops",
          "Hormones",
          "Hair Trimmers",
          "Inorganic Compounds",
          "Ink Ribbons",
          "Ink",
          "Inedible Fats and Oils",
          "Industrial Printers",
          "Industrial Furnaces",
          "Industrial Food Preperation Machinery",
          "Industrial Fatty Acids, Oils and Alcohols",
          "Incomplete Movement Sets",
          "Imitation Jewellery",
          "Image Projectors",
          "Ice Cream",
          "Hypochlorites",
          "Hydrometers",
          "Halides",
          "Hydrogen",
          "Horsehair Yarn",
          "Hydrogen peroxide",
          "Horses",
          "Hose Piping Textiles",
          "Hot-Rolled Iron",
          "Hot-Rolled Stainless Steel Bars",
          "Hot-Rolled Iron Bars",
          "Household Washing Machines",
          "Hydraulic Brake Fluid",
          "Hydraulic Turbines",
          "Hydrazine or Hydroxylamine Derivatives",
          "Hydrides and other anions",
          "Hydrochloric Acid",
          "House Linens",
          "Children's Picture Books",
          "Cheese",
          "Chemical Analysis Instruments",
          "Chlorates and Perchlorates",
          "Cinnamon",
          "Chocolate",
          "Chromium Ore",
          "Chromium Oxides and Hydroxides",
          "Cigarette Paper",
          "Chamois Leather",
          "Chlorides",
          "Chalkboards",
          "Ceramic Pipes",
          "Cermets",
          "Cereal Straws",
          "Cereal Flours",
          "Ceramic Tableware",
          "Citrus",
          "Ceramic Bricks",
          "Centrifuges",
          "Central Heating Boilers",
          "Cement Articles",
          "Cement",
          "Cellulose Fibers Paper",
          "Cellulose",
          "Chalk",
          "Citrus and Melon Peels",
          "Cereal Meal and Pellets",
          "Cleaning Products",
          "Clays",
          "Collector's Items",
          "Cold-Rolled Iron",
          "Coke",
          "Coin",
          "Coffee and Tea Extracts",
          "Coffee",
          "Coconuts, Brazil Nuts, and Cashews",
          "Coconut and Other Vegetable Fibers",
          "Coconut Oil",
          "Cocoa Powder",
          "Cocoa Paste",
          "Chemically Pure Sugars",
          "Cocoa Beans",
          "Clock Cases and Parts",
          "Cocoa Butter",
          "Clocks with Watch Movements",
          "Cloves",
          "Coal Briquettes",
          "Clock Movements",
          "Coated Flat-Rolled Iron",
          "Coated Metal Soldering Products",
          "Coated Textile Fabric",
          "Cobalt",
          "Coal Tar Oil",
          "Other Locomotives",
          "Other Nitrogen Compounds",
          "Other Nickel Products",
          "Other Musical Instruments",
          "Other Mineral",
          "Other Metal Fasteners",
          "Other Measuring Instruments",
          "Other Leather Articles",
          "Other Lead Products",
          "Other Large Iron Pipes",
          "Other Non-Knit Clothing Accessories",
          "Other Non-Metal Removal Machinery",
          "Other Nuts",
          "Other Office Machines",
          "Other Oily Seeds",
          "Other Paints",
          "Other Organo-Inorganic Compounds",
          "Other Ores",
          "Other Organic Compounds",
          "Undeveloped Exposed Photographic Material",
          "Umbrellas",
          "Umbrella and Walking Stick Accessories",
          "Twine, cordage or rope; knotted netting, made up fishing nets and other made up nets, of textile materials",
          "Tungsten",
          "Turpentine",
          "Unglazed Ceramics",
          "Tulles and Net Fabric",
          "Tug Boats",
          "Twine and Rope",
          "Unpackaged Medicaments",
          "Vacuum Flask",
          "Unprocessed Synthetic Staple Fibers",
          "Veneer Sheets",
          "Vending Machines",
          "Vehicle Bodies (including cabs) for the motor vehicles (8701 to 8705)",
          "Vegetable waxes and beeswax",
          "Vegetable or Animal Dyes",
          "Vegetable and Mineral Carvings",
          "Vegetable Saps",
          "Vegetable Plaiting Materials",
          "Vegetable Parchment",
          "Vegetable Fiber",
          "Vegetable Alkaloids",
          "Valves",
          "Vacuum Cleaners",
          "Vaccines, blood, antisera, toxins and cultures",
          "Utility Meters",
          "Used Rubber Tires",
          "Used Clothing",
          "Unvulcanised Rubber Products",
          "Unsaturated Acyclic Monocarboxylic Acids",
          "Unprocessed Artificial Staple Fibers",
          "Vegetable Tanning Extracts",
          "Uncoated Paper",
          "Vinegar",
          "Vinyl Chloride Polymers",
          "Walking Sticks",
          "Video and Card Games",
          "Video Recording Equipment",
          "Video Displays",
          "Video Cameras",
          "Vermouth",
          "Wallpaper",
          "Washing and Bottling Machines",
          "Watch Cases and Parts",
          "Watch Movements",
          "Watch Straps",
          "Water",
          "Water Soluble Proteins",
          "Water and Gas Generators",
          "Waterproof Footwear",
          "Vitamins",
          "Wadding",
          "Stone Processing Machines",
          "Stone Working Machines",
          "Stranded Aluminium Wire",
          "Rubber Belting",
          "Steel Wire",
          "Steel Ingots",
          "Steel Bars",
          "Stearic Acid",
          "Steam Turbines",
          "Steam Boilers",
          "Starches",
          "Starch Residue",
          "Stainless Steel Wire",
          "Stainless Steel Ingots",
          "Sports Equipment",
          "Spices",
          "Stranded Copper Wire",
          "Spice Seeds",
          "Stranded Iron Wire",
          "Styrene Polymers",
          "Synthetic Rubber",
          "Synthetic Reconstructed Jewellery Stones",
          "Synthetic Monofilament",
          "Synthetic Filament Yarn Woven Fabric",
          "Synthetic Filament Tow",
          "Synthetic Fabrics",
          "Rubber Apparel",
          "Rubber",
          "Rough Wood",
          "Rosin",
          "Root Vegetables",
          "Roofing Tiles",
          "Rolling Machines",
          "Rolled Tobacco",
          "Rock Wool",
          "Synthetic Tanning Extracts",
          "String Instruments",
          "Tanks and Armored vehicles",
          "Tanned Furskins",
          "Sugar Preserved Foods",
          "Sulfate Chemical Woodpulp",
          "Sulfates",
          "Sulfides",
          "Sulfite Chemical Woodpulp",
          "Sulfites",
          "Sulfonamides",
          "Sulfonated, Nitrated or Nitrosated Hydrocarbons",
          "Sulfur",
          "Sulfuric Acid",
          "Sulphur",
          "Sunflower Seeds",
          "Surveying Equipment",
          "Synthetic Coloring Matter",
          "Tanned Goat Hides",
          "Tanned Equine and Bovine Hides",
          "Special purpose motor vehicles",
          "Spring, Air, and Gas Guns",
          "Special Pharmaceuticals",
          "Sawn Wood",
          "Scales",
          "Scarves",
          "Scent Sprays",
          "Scented Mixtures",
          "Scissors",
          "Scrap Aluminium",
          "Scrap Copper",
          "Scrap Iron",
          "Scrap Lead",
          "Scrap Nickel",
          "Scrap Plastic",
          "Scrap Rubber",
          "Special Purpose Ships",
          "Scrap Waste",
          "Sausages",
          "Sculptures",
          "Sauces and Seasonings",
          "Sand",
          "Rubber Inner Tubes",
          "Rubber Pipes",
          "Rubber Sheets",
          "Rubber Stamps",
          "Rubber Footwear",
          "Rubber Textile Fabric",
          "Rubber Textiles",
          "Rubber Thread",
          "Rubber Tires",
          "Rubberworking Machinery",
          "Rye",
          "Saddlery",
          "Safes",
          "Safety Glass",
          "Salt",
          "Saturated Acyclic Monocarboxylic Acids",
          "Seats",
          "Scrap Tin",
          "Self-Propelled Rail Transport",
          "Small Iron Containers",
          "Smoking Pipes",
          "Seed Oils",
          "Soapstone",
          "Sodium or Potassium Peroxides",
          "Soil Preparation Machinery",
          "Soldering and Welding Machinery",
          "Sorghum",
          "Sound Recording Equipment",
          "Soups and Broths",
          "Sowing Seeds",
          "Soybean Meal",
          "Soybean Oil",
          "Soybeans",
          "Spark-Ignition Engines",
          "Slate",
          "Slag Dross",
          "Soap",
          "Silk Fabrics",
          "Self-adhesive Plastics",
          "Semi-Finished Iron",
          "Silver",
          "Sewing Machines",
          "Shaped Paper",
          "Shaped Wood",
          "Shaving Products",
          "Semiconductor Devices",
          "Sheep and Goat Meat",
          "Sheep and Goats",
          "Sheet Music",
          "Signaling Glassware",
          "Silicates",
          "Siliceous Fossil Meals",
          "Silicone",
          "Sheep Hides",
          "Retail Artificial Filament Yarn",
          "Retail Artificial Staple Fibers Yarn",
          "Retail Cotton Yarn",
          "Retail Silk Yarn",
          "Rice",
          "Revenue Stamps",
          "Revolution Counters",
          "Refrigerators",
          "Retail Wool or Animal Hair Yarn",
          "Refractory Ceramics",
          "Plastic Floor Coverings",
          "Refractory Bricks",
          "Prepared Rubber Accelerators",
          "Prepared Wool or Animal Hair",
          "Preserved Fruits and Nuts",
          "Preserved Meat",
          "Preserved Vegetables",
          "Print Production Machinery",
          "Printed Circuit Boards",
          "Prints",
          "Processed Artificial Staple Fibers",
          "Processed Bones",
          "Processed Cereals",
          "Processed Crustaceans",
          "Processed Egg Products",
          "Prepared Pigments",
          "Processed Fish",
          "Processed Mica",
          "Processed Mushrooms",
          "Plastic Building Materials",
          "Plaster Articles",
          "Plant foliage",
          "Planes, Helicopters, and/or Spacecraft",
          "Plaiting Products",
          "Pitted Fruits",
          "Pitch Coke",
          "Pile Fabric",
          "Pig and Poultry Fat",
          "Pig Meat",
          "Pig Iron",
          "Processed Hair",
          "Prepared Paint Driers",
          "Prepared Explosives",
          "Prepared Cotton",
          "Plastic Housewares",
          "Plastic Lids",
          "Plastic Pipes",
          "Plastic Wash Basins",
          "Platinum",
          "Platinum Clad Metals",
          "Plywood",
          "Polishes and Creams",
          "Polyacetals",
          "Polyamide Fabric",
          "Polyamides",
          "Polycarboxylic Acids",
          "Polymer Ion-Exchangers",
          "Porcelain Tableware",
          "Portable Lighting",
          "Postcards",
          "Potassic Fertilizers",
          "Potato Flours",
          "Potatoes",
          "Poultry",
          "Poultry Meat",
          "Precious Metal Compounds",
          "Precious Metal Ore",
          "Precious Metal Scraps",
          "Precious Metal Watches",
          "Precious Stones",
          "Precipitated Copper",
          "Prefabricated Buildings",
          "Prepared Cereals",
          "Pickled Foods",
          "Pianos",
          "Photographic Plates",
          "Photographic Paper",
          "Radioactive Chemicals",
          "Railroad Ties",
          "Railway Cargo Containers",
          "Railway Freight Cars",
          "Railway Maintenance Vehicles",
          "Railway Track Fixtures",
          "Rapeseed",
          "Rapeseed Oil",
          "Rare-Earth Metal Compounds",
          "Raw Aluminium",
          "Raw Bones",
          "Raw Copper",
          "Raw Cork",
          "Raw Cotton",
          "Raw Furskins",
          "Plastic Coated Textile Fabric",
          "Raw Lead",
          "Raw Nickel",
          "Raw Plastic Sheeting",
          "Raw Sugar",
          "Raw Zinc",
          "Razor Blades",
          "Reaction and Catalytic Products",
          "Reclaimed Rubber",
          "Recovered Paper",
          "Recovered Paper Pulp",
          "Recreational Boats",
          "Refined Copper",
          "Refined Petroleum",
          "Radio Receivers",
          "Refractory Cements",
          "Quilted Textiles",
          "Quaternary Ammonium Salts and Hydroxides",
          "Photographic Film",
          "Photographic Chemicals",
          "Photocopiers",
          "Photo Lab Equipment",
          "Phosphoric Esters and Salts",
          "Phosphoric Acid",
          "Phosphinates (hypophosphites) and phosphonates (phosphites)",
          "Phosphatic Fertilizers",
          "Phenols",
          "Phenol Derivatives",
          "Pharmaceutical Rubber Products",
          "Petroleum Resins",
          "Petroleum Jelly",
          "Petroleum Gas",
          "Petroleum Coke",
          "Pesticides",
          "Perfumes",
          "Perfume Plants",
          "Percussion",
          "Processed Synthetic Staple Fibers",
          "Processed Tobacco",
          "Processed Tomatoes",
          "Propellant Powders",
          "Propylene Polymers",
          "Pulley Systems",
          "Pumice",
          "Pure Olive Oil",
          "Pyrophoric Alloys",
          "Quartz",
          "Quicklime",
          "Raw Iron Bars",
          "Raw Tobacco",
          "Raw Tin",
          "Copper Pipes",
          "Cotton Sewing Thread",
          "Corrugated Paper",
          "Corn",
          "Coral and Shells",
          "Copper Wire",
          "Copper Powder",
          "Copper Housewares",
          "Copper Foil",
          "Copper Fasteners",
          "Copper Bars",
          "Copper Pipe Fittings",
          "Copper Alloys",
          "Cooking Hand Tools",
          "Conveyor Belt Textiles",
          "Confectionery Sugar",
          "Concentrated Milk",
          "Computers",
          "Compounded Unvulcanised Rubber",
          "Composite Paper",
          "Compasses",
          "Combustion Engines",
          "Combs",
          "Combed Wool or Animal Hair Fabric",
          "Copper Plating",
          "Cotton Waste",
          "Crude Petroleum",
          "Cranes",
          "Cucumbers",
          "Dolomite",
          "Documents of title (bonds etc) and unused stamps",
          "Dithionites and Sulfoxylates",
          "Dissolving Grades Chemical Woodpulp",
          "Disc Chemicals for Electronics",
          "Dictation Machines",
          "Diazo, Azo or Aoxy Compounds",
          "Diamonds",
          "Dextrins",
          "Developed Exposed Photographic Material",
          "Copper Ore",
          "Crustaceans",
          "Dental Products",
          "Detonating Fuses",
          "Delivery Trucks",
          "Curbstones",
          "Cut Flowers",
          "Cutlery Sets",
          "Densified Wood",
          "Cyanides",
          "Cutting Blades",
          "Cyclic Hydrocarbons",
          "Dairy Machinery",
          "Dashboard Clocks",
          "Debacked Cork",
          "Decals",
          "Cyclic Alcohols",
          "Wind Instruments",
          "Window Dressings",
          "Wood Barrels",
          "Wine Lees",
          "Wood Carpentry",
          "Wine",
          "Wood Crates",
          "Zinc Bars",
          "Yeast",
          "X-Ray Equipment",
          "Wrenches",
          "Woven Fabric of Synthetic Staple Fibers",
          "Worked Slate",
          "Worked Ivory and Bone",
          "Work Trucks",
          "Wool or Animal Hair Waste",
          "Wood Charcoal",
          "Wool Grease",
          "Woodworking machines",
          "Wooden Tool Handles",
          "Wood Wool",
          "Wood Tar, Oils and Pitch",
          "Wood Stakes",
          "Wood Pulp Lyes",
          "Wood Ornaments",
          "Wood Kitchenware",
          "Wood Frames",
          "Wood Fiberboard",
          "Wool",
          "Woven Fabrics",
          "Metal Insulating Fittings",
          "Metal Finishing Machines",
          "Light Pure Woven Cotton",
          "Magnesium Hydroxide and Peroxide",
          "Malt Extract",
          "Manganese",
          "Manganese Oxides",
          "Mannequins",
          "Maps",
          "Marble, Travertine and Alabaster",
          "Margarine",
          "Matches",
          "Mattresses",
          "Maté",
          "Mechanical Wood Pulp",
          "Medical Furniture",
          "Medical Instruments",
          "Melons",
          "Magnesium Carbonate",
          "Magnesium",
          "Malt",
          "Machinery Having Individual Functions",
          "Light Rubberized Knitted Fabric",
          "Light Synthetic Cotton Fabrics",
          "Lighters",
          "Lignite",
          "Limestone",
          "Machines for additive manufacturing",
          "Linseed",
          "Liquid Dispersing Machines",
          "Linoleum",
          "Liquid Pumps",
          "Live Fish",
          "Locomotive Parts",
          "Locust beans, seaweed, sugar beet, cane, for food",
          "Looms",
          "Low-voltage Protection Equipment",
          "Lubricating Products",
          "Liquid Fuel Furnaces",
          "Interchangeable Tool Parts",
          "Inorganic Salts",
          "Insect Resins",
          "Instructional Models",
          "Insulated Wire",
          "Insulating Glass",
          "Integrated Circuits",
          "Interior Decorative Glassware",
          "Iron Sheet Piling",
          "Iron Blocks",
          "Iron Structures",
          "Iron Toiletry",
          "Iron Wire",
          "Jams",
          "Iron Anchors",
          "Jewellery",
          "Iron Stovetops",
          "Jute Woven Fabric",
          "Jute and Other Textile Fibers",
          "Kaolin",
          "Kaolin Coated Paper",
          "Ketones and Quinones",
          "Knit Active Wear",
          "Knit Babies' Garments",
          "Jute Yarn",
          "Iron Springs",
          "Iron Sewing Needles",
          "Iron Reductions",
          "Iron Chains",
          "Iron Cloth",
          "Iron Fasteners",
          "Iron Gas Containers",
          "Iron Housewares",
          "Iron Ingots",
          "Iron Nails",
          "Iron Ore",
          "Iron Oxides and Hydroxides",
          "Iron Pipe Fittings",
          "Iron Pipes",
          "Iron Powder",
          "Iron Pyrites",
          "Iron Radiators",
          "Iron Railway Products",
          "Papermaking Machines",
          "Parachutes",
          "Pasta",
          "Party Decorations",
          "Particle Board",
          "Peptones",
          "Pens",
          "Pencils and Crayons",
          "Peat",
          "Pepper",
          "Patent Leather",
          "Pastes and Waxes",
          "Passenger and Cargo Ships",
          "Pearl Products",
          "Other Rubber Products",
          "Other Stone Articles",
          "Other Steel Bars",
          "Other Stainless Steel Bars",
          "Other Small Iron Pipes",
          "Other Slag and Ash",
          "Other Sea Vessels",
          "Other Pure Vegetable Oils",
          "Other Precious Metal Products",
          "Other Processed Fruits and Nuts",
          "Other Printed Material",
          "Other Prepared Meat",
          "Other Plastic Sheetings",
          "Other Plastic Products",
          "Other Paper Machinery",
          "Other Sugars",
          "Other Processed Vegetables",
          "Other Synthetic Fabrics",
          "Packaged Sewing Sets",
          "Other Uncoated Paper",
          "Paper Spools",
          "Paper Pulp Filter Blocks",
          "Paper Notebooks",
          "Paper Labels",
          "Paper Containers",
          "Palm Oil",
          "Paintings",
          "Padlocks",
          "Packing Bags",
          "Packaged Medicaments",
          "Oxygen Heterocyclic Compounds",
          "Oxygen Amino Compounds",
          "Other Tin Products",
          "Oxometallic or Peroxometallic Acid Salts",
          "Other live plants, cuttings and slips;\nmushroom spawn",
          "Other Zinc Products",
          "Other Wood Articles",
          "Other Women's Undergarments",
          "Other Vinyl Polymers",
          "Other Vegetables",
          "Other Vegetable Residues and Waste",
          "Other Vegetable Residues",
          "Other Vegetable Products",
          "Other Vegetable Oils",
          "Other Vegetable Fibers Yarn",
          "Other Vegetable Fibers Fabric",
          "Other toys",
          "Nucleic Acids",
          "Nickel Mattes",
          "Other Knit Clothing Accessories",
          "Natural Polymers",
          "Navigation Equipment",
          "Neck Ties",
          "Newspapers",
          "Newsprint",
          "Nickel Bars",
          "Nickel Ore",
          "Nickel Pipes",
          "Nickel Sheets",
          "Niobium, Tantalum, Vanadium and Zirconium Ore",
          "Nitric Acids",
          "Nitrile Compounds",
          "Nitrites and Nitrates",
          "Nitrogen Heterocyclic Compounds",
          "Nitrogenous Fertilizers",
          "Non-Iron and Steel Slag, Ash and Residues",
          "Non-Knit Active Wear",
          "Non-Retail Artificial Staple Fibers Sewing Thread",
          "Non-Retail Artificial Filament Yarn",
          "Non-Retail Animal Hair Yarn",
          "Non-Mechanical Removal Machinery",
          "Non-Knit Women's Undergarments",
          "Non-Knit Women's Suits",
          "Natural Cork Articles",
          "Non-Knit Women's Shirts",
          "Non-Knit Men's Undergarments",
          "Non-Knit Men's Suits",
          "Non-Knit Men's Shirts",
          "Non-Knit Men's Coats",
          "Non-Knit Gloves",
          "Non-Knit Babies' Garments",
          "Non-Knit Women's Coats",
          "Narrow Woven Fabric",
          "Musical Instrument Parts",
          "Motorcycles and cycles",
          "Metalworking Machines",
          "Metalworking Machine Parts",
          "Metallic Yarn",
          "Metallic Fabric",
          "Metal-Rolling Mills",
          "Metal-Clad Products",
          "Metalworking Transfer Machines",
          "Metal Stoppers",
          "Metal Pickling Preparations",
          "Metal Office Supplies",
          "Metal Mountings",
          "Metal Molds",
          "Metal Lathes",
          "Other Knit Garments",
          "Metal Signs",
          "Non-Retail Artificial Staple Fibers Yarn",
          "Mica",
          "Microphones and Headphones",
          "Motor-working Tools",
          "Motor vehicles; parts and accessories (8701 to 8705)",
          "Motor vehicle (8701 to 8705) chassis fitted with engine",
          "Monofilament",
          "Molybdenum",
          "Molluscs",
          "Micro-Organism Culture Preparations",
          "Molasses",
          "Mirrors and Lenses",
          "Milling Stones",
          "Mill Machinery",
          "Milk",
          "Military Weapons",
          "Microscopes",
          "Mixed Mineral or Chemical Fertilizers",
          "Non-Retail Carded Wool Yarn",
          "Motion-picture film, exposed and developed",
          "Non-Retail Mixed Cotton Yarn",
          "Other Esters",
          "Other Engines",
          "Other Electrical Machinery",
          "Other Edible Preparations",
          "Other Edible Animal Products",
          "Other Domestic Electric Housewares",
          "Other Fermented Beverages",
          "Other Cutlery",
          "Other Copper Products",
          "Other Construction Vehicles",
          "Other Coloring Matter",
          "Other Cloth Articles",
          "Other Clocks and Watches",
          "Other Clocks",
          "Other Cotton Fabrics",
          "Other Ceramic Articles",
          "Other Firearms",
          "Other Footwear",
          "Non-Retail Combed Wool Yarn",
          "Other Isotopes",
          "Other Iron Products",
          "Other Iron Bars",
          "Other Inorganic Acids Salts",
          "Other Inorganic Acids",
          "Other Floating Structures",
          "Other Inedible Animal Products",
          "Other Headwear",
          "Other Hand Tools",
          "Other Glass Articles",
          "Other Furniture",
          "Other Fruits",
          "Other Frozen Vegetables",
          "Other Hides and Skins",
          "Other Cast Iron Products",
          "Other Heating Machinery",
          "Other Carbon Paper",
          "Office Machine Parts",
          "Oats",
          "Nutmeg, mace and cardamons",
          "Nonmetal Sulfides",
          "Nonaqueous Pigments",
          "Nonaqueous Paints",
          "Oil Seed Flower",
          "Non-powered Aircraft",
          "Non-fillet Frozen Fish",
          "Non-fillet Fresh Fish",
          "Non-Retail Synthetic Staple Fibers Yarn",
          "Non-Retail Synthetic Filament Yarn",
          "Non-Retail Pure Cotton Yarn",
          "Other Carpets",
          "Non-optical Microscopes",
          "Olive Oil",
          "Non-woven Textiles",
          "Optical Fibers and optical fibre bundles",
          "Other Animals",
          "Other Articles of Twine and Rope",
          "Onions",
          "Other Animal Fats",
          "Other Aluminium Products",
          "Other Agricultural Machinery",
          "Oscilloscopes",
          "Ornamental Trimmings",
          "Ornamental Ceramics",
          "Organo-Sulfur Compounds",
          "Organic Composite Solvents",
          "Opto-Electric Instrument Parts",
          "Orthopedic Appliances",
          "Thermostats",
          "Time Recording Instruments",
          "Time Switches",
          "Tobacco Processing Machines",
          "Tin Bars",
          "Therapeutic Appliances",
          "Tissue",
          "Titanium",
          "Titanium Oxides",
          "Toilet Paper",
          "Traffic Signals",
          "Tool Plates",
          "Tool Sets",
          "Tractors",
          "Trailers and semi-trailers, not mechanically propelled vehicles",
          "Transmissions",
          "Tufted Carpets",
          "Trunks and Cases",
          "Textiles for technical uses",
          "Travel Kits",
          "Tropical Fruits",
          "Tomatoes",
          "Textile Wicks",
          "Tanned Sheep Hides",
          "Textile Scraps",
          "Textile Processing Machines",
          "Textile Footwear",
          "Textile Fiber Machinery",
          "Terry Fabric",
          "Tensile Testing Machines",
          "Telephones",
          "Tea",
          "Tapioca",
          "Textile Wall Coverings",
          "Bells and Other Metal Ornaments",
          "Bi-Wheel Vehicle Parts",
          "Bicycles, delivery tricycles, other cycles",
          "Cabbages",
          "Bulbs and Roots",
          "Butter",
          "Buses",
          "Beer",
          "Building Stone",
          "Buttons",
          "Bandages",
          "Barium Sulphate",
          "Ball Bearings",
          "Buckwheat",
          "Barbed Wire",
          "Barley",
          "Base Metal Watches",
          "Basketwork",
          "Bathroom Ceramics",
          "Batteries",
          "Beauty Products",
          "Bedspreads",
          "Bananas",
          "Brooms",
          "Blank Audio Media",
          "Broadcasting Equipment",
          "Antibiotics",
          "Antifreeze",
          "Balances",
          "Antiknock",
          "Antimony",
          "Bird Skins and Feathers",
          "Bitumen and asphalt",
          "Bladed Weapons and Accessories",
          "Blankets",
          "Blown Glass",
          "Brochures",
          "Boiler Plants",
          "Borates",
          "Borax",
          "Boron",
          "Bovine",
          "Bovine Meat",
          "Bovine, Sheep, and Goat Fat",
          "Bran",
          "Breathing Appliances",
          "Bricks",
          "Broadcasting Accessories",
          "Book-binding Machines",
          "Baked Goods",
          "Bird Feathers and Skins",
          "Awnings, Tents, and Sails",
          "Artificial Fibers Waste",
          "Architectural Plans",
          "Aqueous Paints",
          "Apples and Pears",
          "Baby Carriages",
          "Binoculars and Telescopes",
          "Antiques",
          "Artificial Filament Yarn Woven Fabric",
          "Artificial Fur",
          "Artificial Graphite",
          "Artificial Monofilament",
          "Artificial Textile Machinery",
          "Artificial Vegetation",
          "Artistry Paints",
          "Asbestos",
          "Asbestos Cement Articles",
          "Asbestos Fibres",
          "Asphalt",
          "Asphalt Mixtures",
          "Audio Alarms",
          "Audio and Video Recording Accessories",
          "Artificial Filament Tow",
          "Artificial Filament Sewing Thread",
          "Wheelchairs",
          "Wheat Gluten",
          "Wheat Flours",
          "Wheat",
          "Weapons Parts and Accessories",
          "Waxes",
          "Whey and other milk products",
          "Leather Machinery",
          "Leather Sheets",
          "Leather Waste",
          "Leather of Other Animals",
          "Legume Flours",
          "Lettuce",
          "Letter Stock",
          "Lifting Machinery",
          "Light Fixtures",
          "Legumes",
          "Leather Footwear",
          "Labels",
          "Lead Sheets",
          "Lead Oxides",
          "Lead Ore",
          "Large Iron Containers",
          "Large Flat-Rolled Stainless Steel",
          "Large Flat-Rolled Iron",
          "Large Construction Vehicles",
          "Large Coated Flat-Rolled Iron",
          "Large Aluminium Containers",
          "Lake Pigments",
          "Laboratory Reagents",
          "Laboratory Glassware",
          "Laboratory Ceramic Ware",
          "Leather Apparel",
          "Light Mixed Woven Cotton",
          "Animal Hides",
          "Animal Products",
          "Animal and Vegetable Bi-Products",
          "Arts and Antiques",
          "Chemical Products",
          "Foodstuffs",
          "Footwear and Headwear",
          "Instruments",
          "Machines",
          "Metals",
          "Mineral Products",
          "Miscellaneous",
          "Paper Goods",
          "Plastics and Rubbers",
          "Precious Metals",
          "Stone And Glass",
          "Textiles",
          "Transportation",
          "Vegetable Products",
          "Weapons",
          "Wood Products"
         ],
         "marker": {
          "colors": [
           "#636efa",
           "#EF553B",
           "#00cc96",
           "#2ABB10",
           "#AA7429",
           "#2F97FF",
           "#2F97FF",
           "#2ABB10",
           "#2ABB10",
           "#2ABB10",
           "#2ABB10",
           "#2ABB10",
           "#2ABB10",
           "#2ABB10",
           "#2ABB10",
           "#2ABB10",
           "#2ABB10",
           "#2ABB10",
           "#2ABB10",
           "#F3AA86",
           "#ED40F1",
           "#A0D647",
           "#ab63fa",
           "#ED40F1",
           "#FFA15A",
           "#F3AA86",
           "#ED40F1",
           "#A0D647",
           "#AA7429",
           "#FFA15A",
           "#ED40F1",
           "#ED40F1",
           "#ED40F1",
           "#19d3f3",
           "#2F97FF",
           "#2F97FF",
           "#69C8ED",
           "#69C8ED",
           "#A0D647",
           "#ED40F1",
           "#ED40F1",
           "#AA7429",
           "#ED40F1",
           "#AA7429",
           "#ED40F1",
           "#AA7429",
           "#AA7429",
           "#AA7429",
           "#A53200",
           "#ED40F1",
           "#AA7429",
           "#AA7429",
           "#AA7429",
           "#AA7429",
           "#AA7429",
           "#ED40F1",
           "#ED40F1",
           "#ED40F1",
           "#2F97FF",
           "#00cc96",
           "#ED40F1",
           "#EF553B",
           "#ED40F1",
           "#ED40F1",
           "#ED40F1",
           "#00cc96",
           "#2ABB10",
           "#A53200",
           "#ED40F1",
           "#F4CF0F",
           "#AA7429",
           "#ab63fa",
           "#2F97FF",
           "#2F97FF",
           "#2F97FF",
           "#69C8ED",
           "#A53200",
           "#ED40F1",
           "#AA7429",
           "#AA7429",
           "#FF6692",
           "#AA7429",
           "#2ABB10",
           "#2F97FF",
           "#2F97FF",
           "#2F97FF",
           "#2F97FF",
           "#2F97FF",
           "#2F97FF",
           "#2F97FF",
           "#2F97FF",
           "#2F97FF",
           "#2F97FF",
           "#A53200",
           "#2F97FF",
           "#2ABB10",
           "#2F97FF",
           "#EF553B",
           "#ED40F1",
           "#B6E880",
           "#ED40F1",
           "#ED40F1",
           "#FFA15A",
           "#2F97FF",
           "#FF97FF",
           "#EF553B",
           "#EF553B",
           "#ab63fa",
           "#FF6692",
           "#636efa",
           "#FECB52",
           "#2ABB10",
           "#2ABB10",
           "#ED40F1",
           "#2F97FF",
           "#2F97FF",
           "#2F97FF",
           "#2ABB10",
           "#2ABB10",
           "#2ABB10",
           "#2ABB10",
           "#636efa",
           "#636efa",
           "#636efa",
           "#636efa",
           "#2F97FF",
           "#FFA15A",
           "#A0D647",
           "#2ABB10",
           "#FF97FF",
           "#2ABB10",
           "#AA7429",
           "#FF6692",
           "#AA7429",
           "#2F97FF",
           "#2F97FF",
           "#2F97FF",
           "#2F97FF",
           "#F3AA86",
           "#F3AA86",
           "#2F97FF",
           "#ED40F1",
           "#F4CF0F",
           "#F4CF0F",
           "#F4CF0F",
           "#EF553B",
           "#ED40F1",
           "#ED40F1",
           "#2F97FF",
           "#2ABB10",
           "#F3AA86",
           "#AA7429",
           "#2F97FF",
           "#2ABB10",
           "#ED40F1",
           "#2ABB10",
           "#ED40F1",
           "#ab63fa",
           "#ab63fa",
           "#ab63fa",
           "#ab63fa",
           "#ab63fa",
           "#ab63fa",
           "#ab63fa",
           "#ab63fa",
           "#2F97FF",
           "#ab63fa",
           "#ED40F1",
           "#ED40F1",
           "#ED40F1",
           "#A53200",
           "#2ABB10",
           "#F4CF0F",
           "#FECB52",
           "#A0D647",
           "#EF553B",
           "#A53200",
           "#F4CF0F",
           "#A53200",
           "#A53200",
           "#8B2FFF",
           "#ED40F1",
           "#FECB52",
           "#A53200",
           "#2F97FF",
           "#2F97FF",
           "#2ABB10",
           "#AA7429",
           "#ED40F1",
           "#ED40F1",
           "#F3AA86",
           "#FECB52",
           "#F3AA86",
           "#FF6692",
           "#AA7429",
           "#2F97FF",
           "#AA7429",
           "#AA7429",
           "#A0D647",
           "#2ABB10",
           "#2ABB10",
           "#2ABB10",
           "#AA7429",
           "#ab63fa",
           "#AA7429",
           "#B6E880",
           "#19d3f3",
           "#2F97FF",
           "#A0D647",
           "#F4CF0F",
           "#2ABB10",
           "#F4CF0F",
           "#ab63fa",
           "#2F97FF",
           "#2F97FF",
           "#F4CF0F",
           "#636efa",
           "#ED40F1",
           "#F3AA86",
           "#F3AA86",
           "#F4CF0F",
           "#ED40F1",
           "#2F97FF",
           "#ED40F1",
           "#FF6692",
           "#ED40F1",
           "#FECB52",
           "#2F97FF",
           "#2F97FF",
           "#2F97FF",
           "#ED40F1",
           "#EF553B",
           "#8B2FFF",
           "#EF553B",
           "#A0D647",
           "#ED40F1",
           "#EF553B",
           "#ED40F1",
           "#ED40F1",
           "#2ABB10",
           "#ED40F1",
           "#F3AA86",
           "#2ABB10",
           "#AA7429",
           "#AA7429",
           "#AA7429",
           "#2F97FF",
           "#ED40F1",
           "#2F97FF",
           "#ED40F1",
           "#ED40F1",
           "#ED40F1",
           "#2ABB10",
           "#00cc96",
           "#F3AA86",
           "#EF553B",
           "#ED40F1",
           "#F4CF0F",
           "#A0D647",
           "#A53200",
           "#ED40F1",
           "#00cc96",
           "#B6E880",
           "#ED40F1",
           "#FF6692",
           "#ab63fa",
           "#AA7429",
           "#F4CF0F",
           "#F4CF0F",
           "#ab63fa",
           "#F4CF0F",
           "#ab63fa",
           "#2F97FF",
           "#2F97FF",
           "#ab63fa",
           "#A53200",
           "#00cc96",
           "#FFA15A",
           "#A53200",
           "#F4CF0F",
           "#F4CF0F",
           "#ED40F1",
           "#A53200",
           "#636efa",
           "#AA7429",
           "#A53200",
           "#8B2FFF",
           "#A0D647",
           "#F4CF0F",
           "#F4CF0F",
           "#2ABB10",
           "#FECB52",
           "#A0D647",
           "#A0D647",
           "#ED40F1",
           "#A0D647",
           "#EF553B",
           "#A0D647",
           "#EF553B",
           "#F4CF0F",
           "#A53200",
           "#EF553B",
           "#AA7429",
           "#AA7429",
           "#2ABB10",
           "#AA7429",
           "#A53200",
           "#69C8ED",
           "#ED40F1",
           "#AA7429",
           "#EF553B",
           "#A53200",
           "#AA7429",
           "#EF553B",
           "#B6E880",
           "#AA7429",
           "#AA7429",
           "#2ABB10",
           "#2F97FF",
           "#F4CF0F",
           "#2F97FF",
           "#F4CF0F",
           "#ED40F1",
           "#ED40F1",
           "#A53200",
           "#ED40F1",
           "#ED40F1",
           "#636efa",
           "#636efa",
           "#2ABB10",
           "#AA7429",
           "#ED40F1",
           "#ab63fa",
           "#2ABB10",
           "#69C8ED",
           "#2ABB10",
           "#ED40F1",
           "#FF6692",
           "#2ABB10",
           "#19d3f3",
           "#2F97FF",
           "#69C8ED",
           "#FECB52",
           "#ED40F1",
           "#FF6692",
           "#F4CF0F",
           "#F4CF0F",
           "#00cc96",
           "#ab63fa",
           "#ED40F1",
           "#2F97FF",
           "#2F97FF",
           "#ED40F1",
           "#EF553B",
           "#FFA15A",
           "#2ABB10",
           "#FFA15A",
           "#ED40F1",
           "#2ABB10",
           "#ED40F1",
           "#00cc96",
           "#A0D647",
           "#FFA15A",
           "#636efa",
           "#FF6692",
           "#2F97FF",
           "#2F97FF",
           "#EF553B",
           "#A0D647",
           "#00cc96",
           "#2F97FF",
           "#EF553B",
           "#EF553B",
           "#EF553B",
           "#A0D647",
           "#ED40F1",
           "#2F97FF",
           "#636efa",
           "#ED40F1",
           "#2ABB10",
           "#2F97FF",
           "#2F97FF",
           "#AA7429",
           "#FFA15A",
           "#AA7429",
           "#AA7429",
           "#AA7429",
           "#FECB52",
           "#2F97FF",
           "#2F97FF",
           "#F4CF0F",
           "#A0D647",
           "#AA7429",
           "#AA7429",
           "#FF6692",
           "#F4CF0F",
           "#AA7429",
           "#F4CF0F",
           "#AA7429",
           "#FFA15A",
           "#FFA15A",
           "#8B2FFF",
           "#2ABB10",
           "#2ABB10",
           "#2ABB10",
           "#2ABB10",
           "#FFA15A",
           "#FFA15A",
           "#19d3f3",
           "#ED40F1",
           "#F4CF0F",
           "#ab63fa",
           "#2F97FF",
           "#A0D647",
           "#ab63fa",
           "#ED40F1",
           "#EF553B",
           "#69C8ED",
           "#B6E880",
           "#A0D647",
           "#00cc96",
           "#ED40F1",
           "#ED40F1",
           "#00cc96",
           "#ED40F1",
           "#ED40F1",
           "#ED40F1",
           "#ED40F1",
           "#ED40F1",
           "#A53200",
           "#F4CF0F",
           "#EF553B",
           "#ED40F1",
           "#B6E880",
           "#B6E880",
           "#69C8ED",
           "#FF97FF",
           "#ED40F1",
           "#19d3f3",
           "#2F97FF",
           "#2ABB10",
           "#FF6692",
           "#ED40F1",
           "#AA7429",
           "#AA7429",
           "#AA7429",
           "#AA7429",
           "#AA7429",
           "#AA7429",
           "#FFA15A",
           "#FFA15A",
           "#69C8ED",
           "#AA7429",
           "#A0D647",
           "#636efa",
           "#A0D647",
           "#A53200",
           "#FFA15A",
           "#FFA15A",
           "#FFA15A",
           "#FF6692",
           "#636efa",
           "#2ABB10",
           "#2ABB10",
           "#FFA15A",
           "#FFA15A",
           "#2F97FF",
           "#F4CF0F",
           "#B6E880",
           "#AA7429",
           "#ab63fa",
           "#A53200",
           "#ED40F1",
           "#FF6692",
           "#AA7429",
           "#69C8ED",
           "#AA7429",
           "#FF6692",
           "#FECB52",
           "#A53200",
           "#ED40F1",
           "#2F97FF",
           "#2F97FF",
           "#F4CF0F",
           "#2F97FF",
           "#A0D647",
           "#F4CF0F",
           "#A0D647",
           "#FECB52",
           "#F4CF0F",
           "#2F97FF",
           "#A53200",
           "#A53200",
           "#ED40F1",
           "#2ABB10",
           "#FFA15A",
           "#AA7429",
           "#8B2FFF",
           "#2F97FF",
           "#00cc96",
           "#19d3f3",
           "#ED40F1",
           "#2F97FF",
           "#F3AA86",
           "#F3AA86",
           "#00cc96",
           "#ab63fa",
           "#ED40F1",
           "#A53200",
           "#FFA15A",
           "#B6E880",
           "#2ABB10",
           "#2ABB10",
           "#2ABB10",
           "#2ABB10",
           "#F4CF0F",
           "#636efa",
           "#EF553B",
           "#2F97FF",
           "#2ABB10",
           "#ab63fa",
           "#FFA15A",
           "#ab63fa",
           "#ED40F1",
           "#2ABB10",
           "#F4CF0F",
           "#F3AA86",
           "#F4CF0F",
           "#2F97FF",
           "#2F97FF",
           "#636efa",
           "#2ABB10",
           "#F3AA86",
           "#F4CF0F",
           "#A0D647",
           "#F3AA86",
           "#ED40F1",
           "#A0D647",
           "#ab63fa",
           "#A0D647",
           "#FFA15A",
           "#ab63fa",
           "#F4CF0F",
           "#69C8ED",
           "#19d3f3",
           "#F4CF0F",
           "#A53200",
           "#2ABB10",
           "#FECB52",
           "#F3AA86",
           "#AA7429",
           "#636efa",
           "#ED40F1",
           "#ED40F1",
           "#2ABB10",
           "#FFA15A",
           "#FFA15A",
           "#FFA15A",
           "#FFA15A",
           "#8B2FFF",
           "#8B2FFF",
           "#19d3f3",
           "#ED40F1",
           "#FFA15A",
           "#2ABB10",
           "#FFA15A",
           "#ED40F1",
           "#FFA15A",
           "#ab63fa",
           "#2F97FF",
           "#00cc96",
           "#ED40F1",
           "#F4CF0F",
           "#F4CF0F",
           "#F3AA86",
           "#F3AA86",
           "#ED40F1",
           "#A53200",
           "#8B2FFF",
           "#EF553B",
           "#8B2FFF",
           "#AA7429",
           "#FF6692",
           "#A0D647",
           "#A0D647",
           "#EF553B",
           "#ED40F1",
           "#ED40F1",
           "#ED40F1",
           "#19d3f3",
           "#69C8ED",
           "#69C8ED",
           "#69C8ED",
           "#69C8ED",
           "#F4CF0F",
           "#FECB52",
           "#ED40F1",
           "#AA7429",
           "#F3AA86",
           "#AA7429",
           "#19d3f3",
           "#2ABB10",
           "#B6E880",
           "#2ABB10",
           "#AA7429",
           "#AA7429",
           "#FFA15A",
           "#A0D647",
           "#AA7429",
           "#AA7429",
           "#ED40F1",
           "#FFA15A",
           "#00cc96",
           "#00cc96",
           "#69C8ED",
           "#AA7429",
           "#A53200",
           "#2F97FF",
           "#ED40F1",
           "#2ABB10",
           "#ED40F1",
           "#ED40F1",
           "#ED40F1",
           "#EF553B",
           "#EF553B",
           "#ED40F1",
           "#ED40F1",
           "#ED40F1",
           "#ED40F1",
           "#ED40F1",
           "#ED40F1",
           "#FFA15A",
           "#FFA15A",
           "#A53200",
           "#A53200",
           "#A53200",
           "#ED40F1",
           "#ED40F1",
           "#F4CF0F",
           "#EF553B",
           "#2ABB10",
           "#A0D647",
           "#A0D647",
           "#ED40F1",
           "#FFA15A",
           "#2F97FF",
           "#A53200",
           "#FECB52",
           "#ED40F1",
           "#A53200",
           "#A53200",
           "#AA7429",
           "#A0D647",
           "#AA7429",
           "#AA7429",
           "#2ABB10",
           "#00cc96",
           "#F4CF0F",
           "#F3AA86",
           "#AA7429",
           "#AA7429",
           "#AA7429",
           "#AA7429",
           "#AA7429",
           "#AA7429",
           "#AA7429",
           "#AA7429",
           "#AA7429",
           "#2ABB10",
           "#A0D647",
           "#F3AA86",
           "#2F97FF",
           "#FFA15A",
           "#00cc96",
           "#EF553B",
           "#2F97FF",
           "#FF6692",
           "#2ABB10",
           "#AA7429",
           "#2ABB10",
           "#A53200",
           "#2F97FF",
           "#F4CF0F",
           "#A53200",
           "#00cc96",
           "#ED40F1",
           "#00cc96",
           "#ED40F1",
           "#2F97FF",
           "#ED40F1",
           "#8B2FFF",
           "#ED40F1",
           "#ED40F1",
           "#A53200",
           "#F3AA86",
           "#ED40F1",
           "#ED40F1",
           "#69C8ED",
           "#ab63fa",
           "#F4CF0F",
           "#AA7429",
           "#19d3f3",
           "#ED40F1",
           "#AA7429",
           "#ED40F1",
           "#2F97FF",
           "#EF553B",
           "#19d3f3",
           "#00cc96",
           "#ED40F1",
           "#EF553B",
           "#2ABB10",
           "#19d3f3",
           "#A0D647",
           "#19d3f3",
           "#A0D647",
           "#19d3f3",
           "#AA7429",
           "#A0D647",
           "#EF553B",
           "#AA7429",
           "#2ABB10",
           "#ab63fa",
           "#FF6692",
           "#69C8ED",
           "#2ABB10",
           "#19d3f3",
           "#FECB52",
           "#2F97FF",
           "#19d3f3",
           "#19d3f3",
           "#ED40F1",
           "#19d3f3",
           "#ED40F1",
           "#19d3f3",
           "#19d3f3",
           "#19d3f3",
           "#19d3f3",
           "#2ABB10",
           "#2ABB10",
           "#2F97FF",
           "#2F97FF",
           "#2ABB10",
           "#ED40F1",
           "#A0D647",
           "#AA7429",
           "#ED40F1",
           "#FF6692",
           "#00cc96",
           "#A53200",
           "#FECB52",
           "#ED40F1",
           "#FF6692",
           "#F4CF0F",
           "#00cc96",
           "#FF6692",
           "#EF553B",
           "#F4CF0F",
           "#A53200",
           "#AA7429",
           "#F4CF0F",
           "#2F97FF",
           "#2ABB10",
           "#2ABB10",
           "#FF6692",
           "#A53200",
           "#A53200",
           "#2F97FF",
           "#F4CF0F",
           "#2F97FF",
           "#2ABB10",
           "#2F97FF",
           "#F3AA86",
           "#69C8ED",
           "#F4CF0F",
           "#2F97FF",
           "#2F97FF",
           "#ED40F1",
           "#2F97FF",
           "#AA7429",
           "#ED40F1",
           "#F4CF0F",
           "#EF553B",
           "#2F97FF",
           "#ab63fa",
           "#2F97FF",
           "#ab63fa",
           "#AA7429",
           "#AA7429",
           "#AA7429",
           "#AA7429",
           "#AA7429",
           "#A0D647",
           "#AA7429",
           "#8B2FFF",
           "#AA7429",
           "#2ABB10",
           "#2ABB10",
           "#A53200",
           "#00cc96",
           "#ED40F1",
           "#2ABB10",
           "#2ABB10",
           "#2ABB10",
           "#AA7429",
           "#AA7429",
           "#AA7429",
           "#AA7429",
           "#AA7429",
           "#AA7429",
           "#AA7429",
           "#AA7429",
           "#AA7429",
           "#AA7429",
           "#A53200",
           "#ED40F1",
           "#AA7429",
           "#AA7429",
           "#AA7429",
           "#A53200",
           "#AA7429",
           "#AA7429",
           "#2F97FF",
           "#69C8ED",
           "#A0D647",
           "#FF6692",
           "#19d3f3",
           "#ED40F1",
           "#FF6692",
           "#FF6692",
           "#A53200",
           "#F4CF0F",
           "#B6E880",
           "#ED40F1",
           "#69C8ED",
           "#8B2FFF",
           "#FFA15A",
           "#ab63fa",
           "#AA7429",
           "#AA7429",
           "#AA7429",
           "#A53200",
           "#69C8ED",
           "#FECB52",
           "#8B2FFF",
           "#A0D647",
           "#00cc96",
           "#A0D647",
           "#FFA15A",
           "#FFA15A",
           "#2F97FF",
           "#A0D647",
           "#A0D647",
           "#2ABB10",
           "#2ABB10",
           "#00cc96",
           "#00cc96",
           "#00cc96",
           "#00cc96",
           "#00cc96",
           "#00cc96",
           "#FECB52",
           "#636efa",
           "#AA7429",
           "#2ABB10",
           "#ED40F1",
           "#ED40F1",
           "#ED40F1",
           "#AA7429",
           "#ED40F1",
           "#F4CF0F",
           "#AA7429",
           "#19d3f3",
           "#2ABB10",
           "#FFA15A",
           "#F4CF0F",
           "#A0D647",
           "#A0D647",
           "#F4CF0F",
           "#FECB52",
           "#2ABB10",
           "#2ABB10",
           "#FF6692",
           "#ED40F1",
           "#AA7429",
           "#2ABB10",
           "#FFA15A",
           "#2F97FF",
           "#2ABB10",
           "#00cc96",
           "#00cc96",
           "#AA7429",
           "#A53200",
           "#AA7429",
           "#AA7429",
           "#A53200",
           "#ED40F1",
           "#ED40F1",
           "#ED40F1",
           "#ED40F1",
           "#ED40F1",
           "#A53200",
           "#2ABB10",
           "#2ABB10",
           "#2ABB10",
           "#2ABB10",
           "#2F97FF",
           "#2ABB10",
           "#2ABB10",
           "#19d3f3",
           "#2ABB10",
           "#2ABB10",
           "#2ABB10",
           "#2ABB10",
           "#2ABB10",
           "#2ABB10",
           "#2ABB10",
           "#2ABB10",
           "#2ABB10",
           "#EF553B",
           "#69C8ED",
           "#2F97FF",
           "#2F97FF",
           "#2ABB10",
           "#2ABB10",
           "#2F97FF",
           "#8B2FFF",
           "#2F97FF",
           "#AA7429",
           "#ED40F1",
           "#AA7429",
           "#AA7429",
           "#2F97FF",
           "#2F97FF",
           "#2ABB10",
           "#AA7429",
           "#2ABB10",
           "#A53200",
           "#2F97FF",
           "#2F97FF",
           "#69C8ED",
           "#69C8ED",
           "#FFA15A",
           "#AA7429",
           "#F3AA86",
           "#ED40F1",
           "#A0D647",
           "#EF553B",
           "#ab63fa",
           "#2F97FF",
           "#F3AA86",
           "#FF97FF",
           "#EF553B",
           "#ED40F1",
           "#2ABB10",
           "#ED40F1",
           "#2ABB10",
           "#ED40F1",
           "#2F97FF",
           "#2F97FF",
           "#A0D647",
           "#F3AA86",
           "#2F97FF",
           "#A0D647",
           "#AA7429",
           "#AA7429",
           "#2F97FF",
           "#ED40F1",
           "#2ABB10",
           "#EF553B",
           "#EF553B",
           "#2ABB10",
           "#ab63fa",
           "#FF97FF",
           "#636efa",
           "#2ABB10",
           "#ED40F1",
           "#AA7429",
           "#AA7429",
           "#ED40F1",
           "#ED40F1",
           "#69C8ED",
           "#F3AA86",
           "#636efa",
           "#AA7429",
           "#ab63fa",
           "#FF6692",
           "#F4CF0F",
           "#A0D647",
           "#B6E880",
           "#AA7429",
           "#2F97FF",
           "#00cc96",
           "#2F97FF",
           "#F4CF0F",
           "#F4CF0F",
           "#ED40F1",
           "#ED40F1",
           "#ED40F1",
           "#F4CF0F",
           "#69C8ED",
           "#F3AA86",
           "#F3AA86",
           "#2ABB10",
           "#2ABB10",
           "#2ABB10",
           "#2ABB10",
           "#EF553B",
           "#FECB52",
           "#2ABB10",
           "#EF553B",
           "#F3AA86",
           "#2ABB10",
           "#F4CF0F",
           "#FECB52",
           "#AA7429",
           "#2F97FF",
           "#EF553B",
           "#2ABB10",
           "#ab63fa",
           "#ED40F1",
           "#ED40F1",
           "#EF553B",
           "#EF553B",
           "#EF553B",
           "#EF553B",
           "#EF553B",
           "#2F97FF",
           "#AA7429",
           "#EF553B",
           "#00cc96",
           "#AA7429",
           "#ED40F1",
           "#00cc96",
           "#2F97FF",
           "#AA7429",
           "#AA7429",
           "#69C8ED",
           "#69C8ED",
           "#2F97FF",
           "#2ABB10",
           "#B6E880",
           "#2ABB10",
           "#FF6692",
           "#F4CF0F",
           "#F4CF0F",
           "#2ABB10",
           "#B6E880",
           "#2ABB10",
           "#2F97FF",
           "#636efa",
           "#2F97FF",
           "#2ABB10",
           "#EF553B",
           "#2F97FF",
           "#F4CF0F",
           "#A0D647",
           "#2ABB10",
           "#AA7429",
           "#69C8ED",
           "#69C8ED",
           "#F4CF0F",
           "#F4CF0F",
           "#F3AA86",
           "#69C8ED",
           "#A0D647",
           "#ab63fa",
           "#FF6692",
           "#ED40F1",
           "#A53200",
           "#2F97FF",
           "#F4CF0F",
           "#AA7429",
           "#F4CF0F",
           "#EF553B",
           "#19d3f3",
           "#ab63fa",
           "#2F97FF",
           "#ED40F1",
           "#2ABB10",
           "#F4CF0F",
           "#FF6692",
           "#2F97FF",
           "#2F97FF",
           "#ED40F1",
           "#ED40F1",
           "#EF553B",
           "#ED40F1",
           "#AA7429",
           "#636efa",
           "#A53200",
           "#FF97FF",
           "#2ABB10",
           "#ab63fa",
           "#00cc96",
           "#2F97FF",
           "#ED40F1",
           "#A53200",
           "#ED40F1",
           "#F3AA86",
           "#F3AA86",
           "#FECB52",
           "#A0D647",
           "#EF553B",
           "#ab63fa",
           "#2F97FF",
           "#2F97FF",
           "#A0D647",
           "#F3AA86",
           "#2ABB10",
           "#2ABB10",
           "#00cc96",
           "#ED40F1",
           "#F4CF0F",
           "#69C8ED",
           "#EF553B",
           "#636efa",
           "#2ABB10",
           "#B6E880",
           "#ED40F1",
           "#2ABB10",
           "#2F97FF",
           "#636efa",
           "#ED40F1",
           "#A53200",
           "#ab63fa",
           "#ab63fa",
           "#ab63fa",
           "#A53200",
           "#2F97FF",
           "#2F97FF",
           "#2ABB10",
           "#2ABB10",
           "#69C8ED",
           "#F4CF0F",
           "#F4CF0F",
           "#F4CF0F",
           "#FF97FF",
           "#ED40F1",
           "#F3AA86",
           "#2F97FF",
           "#B6E880",
           "#B6E880",
           "#B6E880",
           "#F4CF0F",
           "#F4CF0F",
           "#00cc96",
           "#2F97FF",
           "#FF6692",
           "#F4CF0F",
           "#636efa",
           "#2ABB10",
           "#AA7429",
           "#ED40F1",
           "#A53200",
           "#AA7429",
           "#AA7429",
           "#AA7429",
           "#2F97FF",
           "#AA7429",
           "#AA7429",
           "#ED40F1",
           "#ED40F1",
           "#ab63fa",
           "#ab63fa",
           "#B6E880",
           "#2ABB10",
           "#B6E880",
           "#F3AA86",
           "#FECB52",
           "#636efa",
           "#ED40F1",
           "#A0D647",
           "#636efa",
           "#EF553B",
           "#2F97FF",
           "#AA7429",
           "#A53200",
           "#FF6692",
           "#00cc96",
           "#FFA15A",
           "#8B2FFF",
           "#ab63fa",
           "#2ABB10",
           "#69C8ED",
           "#F4CF0F",
           "#FF97FF",
           "#19d3f3"
          ]
         },
         "name": "",
         "parents": [
          "Footwear and Headwear",
          "Instruments",
          "Paper Goods",
          "Textiles",
          "Metals",
          "Machines",
          "Machines",
          "Textiles",
          "Textiles",
          "Textiles",
          "Textiles",
          "Textiles",
          "Textiles",
          "Textiles",
          "Textiles",
          "Textiles",
          "Textiles",
          "Textiles",
          "Textiles",
          "Animal Products",
          "Chemical Products",
          "Foodstuffs",
          "Stone And Glass",
          "Chemical Products",
          "Plastics and Rubbers",
          "Animal Products",
          "Chemical Products",
          "Foodstuffs",
          "Metals",
          "Plastics and Rubbers",
          "Chemical Products",
          "Chemical Products",
          "Chemical Products",
          "Wood Products",
          "Machines",
          "Machines",
          "Transportation",
          "Transportation",
          "Foodstuffs",
          "Chemical Products",
          "Chemical Products",
          "Metals",
          "Chemical Products",
          "Metals",
          "Chemical Products",
          "Metals",
          "Metals",
          "Metals",
          "Mineral Products",
          "Chemical Products",
          "Metals",
          "Metals",
          "Metals",
          "Metals",
          "Metals",
          "Chemical Products",
          "Chemical Products",
          "Chemical Products",
          "Machines",
          "Paper Goods",
          "Chemical Products",
          "Instruments",
          "Chemical Products",
          "Chemical Products",
          "Chemical Products",
          "Paper Goods",
          "Textiles",
          "Mineral Products",
          "Chemical Products",
          "Vegetable Products",
          "Metals",
          "Stone And Glass",
          "Machines",
          "Machines",
          "Machines",
          "Transportation",
          "Mineral Products",
          "Chemical Products",
          "Metals",
          "Metals",
          "Miscellaneous",
          "Metals",
          "Textiles",
          "Machines",
          "Machines",
          "Machines",
          "Machines",
          "Machines",
          "Machines",
          "Machines",
          "Machines",
          "Machines",
          "Machines",
          "Mineral Products",
          "Machines",
          "Textiles",
          "Machines",
          "Instruments",
          "Chemical Products",
          "Animal Hides",
          "Chemical Products",
          "Chemical Products",
          "Plastics and Rubbers",
          "Machines",
          "Weapons",
          "Instruments",
          "Instruments",
          "Stone And Glass",
          "Miscellaneous",
          "Footwear and Headwear",
          "Animal and Vegetable Bi-Products",
          "Textiles",
          "Textiles",
          "Chemical Products",
          "Machines",
          "Machines",
          "Machines",
          "Textiles",
          "Textiles",
          "Textiles",
          "Textiles",
          "Footwear and Headwear",
          "Footwear and Headwear",
          "Footwear and Headwear",
          "Footwear and Headwear",
          "Machines",
          "Plastics and Rubbers",
          "Foodstuffs",
          "Textiles",
          "Weapons",
          "Textiles",
          "Metals",
          "Miscellaneous",
          "Metals",
          "Machines",
          "Machines",
          "Machines",
          "Machines",
          "Animal Products",
          "Animal Products",
          "Machines",
          "Chemical Products",
          "Vegetable Products",
          "Vegetable Products",
          "Vegetable Products",
          "Instruments",
          "Chemical Products",
          "Chemical Products",
          "Machines",
          "Textiles",
          "Animal Products",
          "Metals",
          "Machines",
          "Textiles",
          "Chemical Products",
          "Textiles",
          "Chemical Products",
          "Stone And Glass",
          "Stone And Glass",
          "Stone And Glass",
          "Stone And Glass",
          "Stone And Glass",
          "Stone And Glass",
          "Stone And Glass",
          "Stone And Glass",
          "Machines",
          "Stone And Glass",
          "Chemical Products",
          "Chemical Products",
          "Chemical Products",
          "Mineral Products",
          "Textiles",
          "Vegetable Products",
          "Animal and Vegetable Bi-Products",
          "Foodstuffs",
          "Instruments",
          "Mineral Products",
          "Vegetable Products",
          "Mineral Products",
          "Mineral Products",
          "Precious Metals",
          "Chemical Products",
          "Animal and Vegetable Bi-Products",
          "Mineral Products",
          "Machines",
          "Machines",
          "Textiles",
          "Metals",
          "Chemical Products",
          "Chemical Products",
          "Animal Products",
          "Animal and Vegetable Bi-Products",
          "Animal Products",
          "Miscellaneous",
          "Metals",
          "Machines",
          "Metals",
          "Metals",
          "Foodstuffs",
          "Textiles",
          "Textiles",
          "Textiles",
          "Metals",
          "Stone And Glass",
          "Metals",
          "Animal Hides",
          "Wood Products",
          "Machines",
          "Foodstuffs",
          "Vegetable Products",
          "Textiles",
          "Vegetable Products",
          "Stone And Glass",
          "Machines",
          "Machines",
          "Vegetable Products",
          "Footwear and Headwear",
          "Chemical Products",
          "Animal Products",
          "Animal Products",
          "Vegetable Products",
          "Chemical Products",
          "Machines",
          "Chemical Products",
          "Miscellaneous",
          "Chemical Products",
          "Animal and Vegetable Bi-Products",
          "Machines",
          "Machines",
          "Machines",
          "Chemical Products",
          "Instruments",
          "Precious Metals",
          "Instruments",
          "Foodstuffs",
          "Chemical Products",
          "Instruments",
          "Chemical Products",
          "Chemical Products",
          "Textiles",
          "Chemical Products",
          "Animal Products",
          "Textiles",
          "Metals",
          "Metals",
          "Metals",
          "Machines",
          "Chemical Products",
          "Machines",
          "Chemical Products",
          "Chemical Products",
          "Chemical Products",
          "Textiles",
          "Paper Goods",
          "Animal Products",
          "Instruments",
          "Chemical Products",
          "Vegetable Products",
          "Foodstuffs",
          "Mineral Products",
          "Chemical Products",
          "Paper Goods",
          "Animal Hides",
          "Chemical Products",
          "Miscellaneous",
          "Stone And Glass",
          "Metals",
          "Vegetable Products",
          "Vegetable Products",
          "Stone And Glass",
          "Vegetable Products",
          "Stone And Glass",
          "Machines",
          "Machines",
          "Stone And Glass",
          "Mineral Products",
          "Paper Goods",
          "Plastics and Rubbers",
          "Mineral Products",
          "Vegetable Products",
          "Vegetable Products",
          "Chemical Products",
          "Mineral Products",
          "Arts and Antiques",
          "Metals",
          "Mineral Products",
          "Precious Metals",
          "Foodstuffs",
          "Vegetable Products",
          "Vegetable Products",
          "Textiles",
          "Animal and Vegetable Bi-Products",
          "Foodstuffs",
          "Foodstuffs",
          "Chemical Products",
          "Foodstuffs",
          "Instruments",
          "Foodstuffs",
          "Instruments",
          "Vegetable Products",
          "Mineral Products",
          "Instruments",
          "Metals",
          "Metals",
          "Textiles",
          "Metals",
          "Mineral Products",
          "Transportation",
          "Chemical Products",
          "Metals",
          "Instruments",
          "Mineral Products",
          "Metals",
          "Instruments",
          "Animal Hides",
          "Metals",
          "Metals",
          "Textiles",
          "Machines",
          "Vegetable Products",
          "Machines",
          "Vegetable Products",
          "Chemical Products",
          "Chemical Products",
          "Mineral Products",
          "Chemical Products",
          "Chemical Products",
          "Footwear and Headwear",
          "Footwear and Headwear",
          "Textiles",
          "Metals",
          "Chemical Products",
          "Stone And Glass",
          "Textiles",
          "Transportation",
          "Textiles",
          "Chemical Products",
          "Miscellaneous",
          "Textiles",
          "Wood Products",
          "Machines",
          "Transportation",
          "Animal and Vegetable Bi-Products",
          "Chemical Products",
          "Miscellaneous",
          "Vegetable Products",
          "Vegetable Products",
          "Paper Goods",
          "Stone And Glass",
          "Chemical Products",
          "Machines",
          "Machines",
          "Chemical Products",
          "Instruments",
          "Plastics and Rubbers",
          "Textiles",
          "Plastics and Rubbers",
          "Chemical Products",
          "Textiles",
          "Chemical Products",
          "Paper Goods",
          "Foodstuffs",
          "Plastics and Rubbers",
          "Footwear and Headwear",
          "Miscellaneous",
          "Machines",
          "Machines",
          "Instruments",
          "Foodstuffs",
          "Paper Goods",
          "Machines",
          "Instruments",
          "Instruments",
          "Instruments",
          "Foodstuffs",
          "Chemical Products",
          "Machines",
          "Footwear and Headwear",
          "Chemical Products",
          "Textiles",
          "Machines",
          "Machines",
          "Metals",
          "Plastics and Rubbers",
          "Metals",
          "Metals",
          "Metals",
          "Animal and Vegetable Bi-Products",
          "Machines",
          "Machines",
          "Vegetable Products",
          "Foodstuffs",
          "Metals",
          "Metals",
          "Miscellaneous",
          "Vegetable Products",
          "Metals",
          "Vegetable Products",
          "Metals",
          "Plastics and Rubbers",
          "Plastics and Rubbers",
          "Precious Metals",
          "Textiles",
          "Textiles",
          "Textiles",
          "Textiles",
          "Plastics and Rubbers",
          "Plastics and Rubbers",
          "Wood Products",
          "Chemical Products",
          "Vegetable Products",
          "Stone And Glass",
          "Machines",
          "Foodstuffs",
          "Stone And Glass",
          "Chemical Products",
          "Instruments",
          "Transportation",
          "Animal Hides",
          "Foodstuffs",
          "Paper Goods",
          "Chemical Products",
          "Chemical Products",
          "Paper Goods",
          "Chemical Products",
          "Chemical Products",
          "Chemical Products",
          "Chemical Products",
          "Chemical Products",
          "Mineral Products",
          "Vegetable Products",
          "Instruments",
          "Chemical Products",
          "Animal Hides",
          "Animal Hides",
          "Transportation",
          "Weapons",
          "Chemical Products",
          "Wood Products",
          "Machines",
          "Textiles",
          "Miscellaneous",
          "Chemical Products",
          "Metals",
          "Metals",
          "Metals",
          "Metals",
          "Metals",
          "Metals",
          "Plastics and Rubbers",
          "Plastics and Rubbers",
          "Transportation",
          "Metals",
          "Foodstuffs",
          "Arts and Antiques",
          "Foodstuffs",
          "Mineral Products",
          "Plastics and Rubbers",
          "Plastics and Rubbers",
          "Plastics and Rubbers",
          "Miscellaneous",
          "Footwear and Headwear",
          "Textiles",
          "Textiles",
          "Plastics and Rubbers",
          "Plastics and Rubbers",
          "Machines",
          "Vegetable Products",
          "Animal Hides",
          "Metals",
          "Stone And Glass",
          "Mineral Products",
          "Chemical Products",
          "Miscellaneous",
          "Metals",
          "Transportation",
          "Metals",
          "Miscellaneous",
          "Animal and Vegetable Bi-Products",
          "Mineral Products",
          "Chemical Products",
          "Machines",
          "Machines",
          "Vegetable Products",
          "Machines",
          "Foodstuffs",
          "Vegetable Products",
          "Foodstuffs",
          "Animal and Vegetable Bi-Products",
          "Vegetable Products",
          "Machines",
          "Mineral Products",
          "Mineral Products",
          "Chemical Products",
          "Textiles",
          "Plastics and Rubbers",
          "Metals",
          "Precious Metals",
          "Machines",
          "Paper Goods",
          "Wood Products",
          "Chemical Products",
          "Machines",
          "Animal Products",
          "Animal Products",
          "Paper Goods",
          "Stone And Glass",
          "Chemical Products",
          "Mineral Products",
          "Plastics and Rubbers",
          "Animal Hides",
          "Textiles",
          "Textiles",
          "Textiles",
          "Textiles",
          "Vegetable Products",
          "Arts and Antiques",
          "Instruments",
          "Machines",
          "Textiles",
          "Stone And Glass",
          "Plastics and Rubbers",
          "Stone And Glass",
          "Chemical Products",
          "Textiles",
          "Vegetable Products",
          "Animal Products",
          "Vegetable Products",
          "Machines",
          "Machines",
          "Arts and Antiques",
          "Textiles",
          "Animal Products",
          "Vegetable Products",
          "Foodstuffs",
          "Animal Products",
          "Chemical Products",
          "Foodstuffs",
          "Stone And Glass",
          "Foodstuffs",
          "Plastics and Rubbers",
          "Stone And Glass",
          "Vegetable Products",
          "Transportation",
          "Wood Products",
          "Vegetable Products",
          "Mineral Products",
          "Textiles",
          "Animal and Vegetable Bi-Products",
          "Animal Products",
          "Metals",
          "Footwear and Headwear",
          "Chemical Products",
          "Chemical Products",
          "Textiles",
          "Plastics and Rubbers",
          "Plastics and Rubbers",
          "Plastics and Rubbers",
          "Plastics and Rubbers",
          "Precious Metals",
          "Precious Metals",
          "Wood Products",
          "Chemical Products",
          "Plastics and Rubbers",
          "Textiles",
          "Plastics and Rubbers",
          "Chemical Products",
          "Plastics and Rubbers",
          "Stone And Glass",
          "Machines",
          "Paper Goods",
          "Chemical Products",
          "Vegetable Products",
          "Vegetable Products",
          "Animal Products",
          "Animal Products",
          "Chemical Products",
          "Mineral Products",
          "Precious Metals",
          "Instruments",
          "Precious Metals",
          "Metals",
          "Miscellaneous",
          "Foodstuffs",
          "Foodstuffs",
          "Instruments",
          "Chemical Products",
          "Chemical Products",
          "Chemical Products",
          "Wood Products",
          "Transportation",
          "Transportation",
          "Transportation",
          "Transportation",
          "Vegetable Products",
          "Animal and Vegetable Bi-Products",
          "Chemical Products",
          "Metals",
          "Animal Products",
          "Metals",
          "Wood Products",
          "Textiles",
          "Animal Hides",
          "Textiles",
          "Metals",
          "Metals",
          "Plastics and Rubbers",
          "Foodstuffs",
          "Metals",
          "Metals",
          "Chemical Products",
          "Plastics and Rubbers",
          "Paper Goods",
          "Paper Goods",
          "Transportation",
          "Metals",
          "Mineral Products",
          "Machines",
          "Chemical Products",
          "Textiles",
          "Chemical Products",
          "Chemical Products",
          "Chemical Products",
          "Instruments",
          "Instruments",
          "Chemical Products",
          "Chemical Products",
          "Chemical Products",
          "Chemical Products",
          "Chemical Products",
          "Chemical Products",
          "Plastics and Rubbers",
          "Plastics and Rubbers",
          "Mineral Products",
          "Mineral Products",
          "Mineral Products",
          "Chemical Products",
          "Chemical Products",
          "Vegetable Products",
          "Instruments",
          "Textiles",
          "Foodstuffs",
          "Foodstuffs",
          "Chemical Products",
          "Plastics and Rubbers",
          "Machines",
          "Mineral Products",
          "Animal and Vegetable Bi-Products",
          "Chemical Products",
          "Mineral Products",
          "Mineral Products",
          "Metals",
          "Foodstuffs",
          "Metals",
          "Metals",
          "Textiles",
          "Paper Goods",
          "Vegetable Products",
          "Animal Products",
          "Metals",
          "Metals",
          "Metals",
          "Metals",
          "Metals",
          "Metals",
          "Metals",
          "Metals",
          "Metals",
          "Textiles",
          "Foodstuffs",
          "Animal Products",
          "Machines",
          "Plastics and Rubbers",
          "Paper Goods",
          "Instruments",
          "Machines",
          "Miscellaneous",
          "Textiles",
          "Metals",
          "Textiles",
          "Mineral Products",
          "Machines",
          "Vegetable Products",
          "Mineral Products",
          "Paper Goods",
          "Chemical Products",
          "Paper Goods",
          "Chemical Products",
          "Machines",
          "Chemical Products",
          "Precious Metals",
          "Chemical Products",
          "Chemical Products",
          "Mineral Products",
          "Animal Products",
          "Chemical Products",
          "Chemical Products",
          "Transportation",
          "Stone And Glass",
          "Vegetable Products",
          "Metals",
          "Wood Products",
          "Chemical Products",
          "Metals",
          "Chemical Products",
          "Machines",
          "Instruments",
          "Wood Products",
          "Paper Goods",
          "Chemical Products",
          "Instruments",
          "Textiles",
          "Wood Products",
          "Foodstuffs",
          "Wood Products",
          "Foodstuffs",
          "Wood Products",
          "Metals",
          "Foodstuffs",
          "Instruments",
          "Metals",
          "Textiles",
          "Stone And Glass",
          "Miscellaneous",
          "Transportation",
          "Textiles",
          "Wood Products",
          "Animal and Vegetable Bi-Products",
          "Machines",
          "Wood Products",
          "Wood Products",
          "Chemical Products",
          "Wood Products",
          "Chemical Products",
          "Wood Products",
          "Wood Products",
          "Wood Products",
          "Wood Products",
          "Textiles",
          "Textiles",
          "Machines",
          "Machines",
          "Textiles",
          "Chemical Products",
          "Foodstuffs",
          "Metals",
          "Chemical Products",
          "Miscellaneous",
          "Paper Goods",
          "Mineral Products",
          "Animal and Vegetable Bi-Products",
          "Chemical Products",
          "Miscellaneous",
          "Vegetable Products",
          "Paper Goods",
          "Miscellaneous",
          "Instruments",
          "Vegetable Products",
          "Mineral Products",
          "Metals",
          "Vegetable Products",
          "Machines",
          "Textiles",
          "Textiles",
          "Miscellaneous",
          "Mineral Products",
          "Mineral Products",
          "Machines",
          "Vegetable Products",
          "Machines",
          "Textiles",
          "Machines",
          "Animal Products",
          "Transportation",
          "Vegetable Products",
          "Machines",
          "Machines",
          "Chemical Products",
          "Machines",
          "Metals",
          "Chemical Products",
          "Vegetable Products",
          "Instruments",
          "Machines",
          "Stone And Glass",
          "Machines",
          "Stone And Glass",
          "Metals",
          "Metals",
          "Metals",
          "Metals",
          "Metals",
          "Foodstuffs",
          "Metals",
          "Precious Metals",
          "Metals",
          "Textiles",
          "Textiles",
          "Mineral Products",
          "Paper Goods",
          "Chemical Products",
          "Textiles",
          "Textiles",
          "Textiles",
          "Metals",
          "Metals",
          "Metals",
          "Metals",
          "Metals",
          "Metals",
          "Metals",
          "Metals",
          "Metals",
          "Metals",
          "Mineral Products",
          "Chemical Products",
          "Metals",
          "Metals",
          "Metals",
          "Mineral Products",
          "Metals",
          "Metals",
          "Machines",
          "Transportation",
          "Foodstuffs",
          "Miscellaneous",
          "Wood Products",
          "Chemical Products",
          "Miscellaneous",
          "Miscellaneous",
          "Mineral Products",
          "Vegetable Products",
          "Animal Hides",
          "Chemical Products",
          "Transportation",
          "Precious Metals",
          "Plastics and Rubbers",
          "Stone And Glass",
          "Metals",
          "Metals",
          "Metals",
          "Mineral Products",
          "Transportation",
          "Animal and Vegetable Bi-Products",
          "Precious Metals",
          "Foodstuffs",
          "Paper Goods",
          "Foodstuffs",
          "Plastics and Rubbers",
          "Plastics and Rubbers",
          "Machines",
          "Foodstuffs",
          "Foodstuffs",
          "Textiles",
          "Textiles",
          "Paper Goods",
          "Paper Goods",
          "Paper Goods",
          "Paper Goods",
          "Paper Goods",
          "Paper Goods",
          "Animal and Vegetable Bi-Products",
          "Arts and Antiques",
          "Metals",
          "Textiles",
          "Chemical Products",
          "Chemical Products",
          "Chemical Products",
          "Metals",
          "Chemical Products",
          "Vegetable Products",
          "Metals",
          "Wood Products",
          "Textiles",
          "Plastics and Rubbers",
          "Vegetable Products",
          "Foodstuffs",
          "Foodstuffs",
          "Vegetable Products",
          "Animal and Vegetable Bi-Products",
          "Textiles",
          "Textiles",
          "Miscellaneous",
          "Chemical Products",
          "Metals",
          "Textiles",
          "Plastics and Rubbers",
          "Machines",
          "Textiles",
          "Paper Goods",
          "Paper Goods",
          "Metals",
          "Mineral Products",
          "Metals",
          "Metals",
          "Mineral Products",
          "Chemical Products",
          "Chemical Products",
          "Chemical Products",
          "Chemical Products",
          "Chemical Products",
          "Mineral Products",
          "Textiles",
          "Textiles",
          "Textiles",
          "Textiles",
          "Machines",
          "Textiles",
          "Textiles",
          "Wood Products",
          "Textiles",
          "Textiles",
          "Textiles",
          "Textiles",
          "Textiles",
          "Textiles",
          "Textiles",
          "Textiles",
          "Textiles",
          "Instruments",
          "Transportation",
          "Machines",
          "Machines",
          "Textiles",
          "Textiles",
          "Machines",
          "Precious Metals",
          "Machines",
          "Metals",
          "Chemical Products",
          "Metals",
          "Metals",
          "Machines",
          "Machines",
          "Textiles",
          "Metals",
          "Textiles",
          "Mineral Products",
          "Machines",
          "Machines",
          "Transportation",
          "Transportation",
          "Plastics and Rubbers",
          "Metals",
          "Animal Products",
          "Chemical Products",
          "Foodstuffs",
          "Instruments",
          "Stone And Glass",
          "Machines",
          "Animal Products",
          "Weapons",
          "Instruments",
          "Chemical Products",
          "Textiles",
          "Chemical Products",
          "Textiles",
          "Chemical Products",
          "Machines",
          "Machines",
          "Foodstuffs",
          "Animal Products",
          "Machines",
          "Foodstuffs",
          "Metals",
          "Metals",
          "Machines",
          "Chemical Products",
          "Textiles",
          "Instruments",
          "Instruments",
          "Textiles",
          "Stone And Glass",
          "Weapons",
          "Footwear and Headwear",
          "Textiles",
          "Chemical Products",
          "Metals",
          "Metals",
          "Chemical Products",
          "Chemical Products",
          "Transportation",
          "Animal Products",
          "Footwear and Headwear",
          "Metals",
          "Stone And Glass",
          "Miscellaneous",
          "Vegetable Products",
          "Foodstuffs",
          "Animal Hides",
          "Metals",
          "Machines",
          "Paper Goods",
          "Machines",
          "Vegetable Products",
          "Vegetable Products",
          "Chemical Products",
          "Chemical Products",
          "Chemical Products",
          "Vegetable Products",
          "Transportation",
          "Animal Products",
          "Animal Products",
          "Textiles",
          "Textiles",
          "Textiles",
          "Textiles",
          "Instruments",
          "Animal and Vegetable Bi-Products",
          "Textiles",
          "Instruments",
          "Animal Products",
          "Textiles",
          "Vegetable Products",
          "Animal and Vegetable Bi-Products",
          "Metals",
          "Machines",
          "Instruments",
          "Textiles",
          "Stone And Glass",
          "Chemical Products",
          "Chemical Products",
          "Instruments",
          "Instruments",
          "Instruments",
          "Instruments",
          "Instruments",
          "Machines",
          "Metals",
          "Instruments",
          "Paper Goods",
          "Metals",
          "Chemical Products",
          "Paper Goods",
          "Machines",
          "Metals",
          "Metals",
          "Transportation",
          "Transportation",
          "Machines",
          "Textiles",
          "Animal Hides",
          "Textiles",
          "Miscellaneous",
          "Vegetable Products",
          "Vegetable Products",
          "Textiles",
          "Animal Hides",
          "Textiles",
          "Machines",
          "Footwear and Headwear",
          "Machines",
          "Textiles",
          "Instruments",
          "Machines",
          "Vegetable Products",
          "Foodstuffs",
          "Textiles",
          "Metals",
          "Transportation",
          "Transportation",
          "Vegetable Products",
          "Vegetable Products",
          "Animal Products",
          "Transportation",
          "Foodstuffs",
          "Stone And Glass",
          "Miscellaneous",
          "Chemical Products",
          "Mineral Products",
          "Machines",
          "Vegetable Products",
          "Metals",
          "Vegetable Products",
          "Instruments",
          "Wood Products",
          "Stone And Glass",
          "Machines",
          "Chemical Products",
          "Textiles",
          "Vegetable Products",
          "Miscellaneous",
          "Machines",
          "Machines",
          "Chemical Products",
          "Chemical Products",
          "Instruments",
          "Chemical Products",
          "Metals",
          "Footwear and Headwear",
          "Mineral Products",
          "Weapons",
          "Textiles",
          "Stone And Glass",
          "Paper Goods",
          "Machines",
          "Chemical Products",
          "Mineral Products",
          "Chemical Products",
          "Animal Products",
          "Animal Products",
          "Animal and Vegetable Bi-Products",
          "Foodstuffs",
          "Instruments",
          "Stone And Glass",
          "Machines",
          "Machines",
          "Foodstuffs",
          "Animal Products",
          "Textiles",
          "Textiles",
          "Paper Goods",
          "Chemical Products",
          "Vegetable Products",
          "Transportation",
          "Instruments",
          "Arts and Antiques",
          "Textiles",
          "Animal Hides",
          "Chemical Products",
          "Textiles",
          "Machines",
          "Footwear and Headwear",
          "Chemical Products",
          "Mineral Products",
          "Stone And Glass",
          "Stone And Glass",
          "Stone And Glass",
          "Mineral Products",
          "Machines",
          "Machines",
          "Textiles",
          "Textiles",
          "Transportation",
          "Vegetable Products",
          "Vegetable Products",
          "Vegetable Products",
          "Weapons",
          "Chemical Products",
          "Animal Products",
          "Machines",
          "Animal Hides",
          "Animal Hides",
          "Animal Hides",
          "Vegetable Products",
          "Vegetable Products",
          "Paper Goods",
          "Machines",
          "Miscellaneous",
          "Vegetable Products",
          "Footwear and Headwear",
          "Textiles",
          "Metals",
          "Chemical Products",
          "Mineral Products",
          "Metals",
          "Metals",
          "Metals",
          "Machines",
          "Metals",
          "Metals",
          "Chemical Products",
          "Chemical Products",
          "Stone And Glass",
          "Stone And Glass",
          "Animal Hides",
          "Textiles",
          "",
          "",
          "",
          "",
          "",
          "",
          "",
          "",
          "",
          "",
          "",
          "",
          "",
          "",
          "",
          "",
          "",
          "",
          "",
          "",
          ""
         ],
         "type": "treemap",
         "values": [
          3061731,
          3334093,
          4538016,
          93101,
          1061508,
          219800,
          1195484,
          46790177,
          54095838,
          8202839,
          74298604,
          51296256,
          205201349,
          8405604,
          3921407,
          1260668,
          1158537,
          896289,
          3090335,
          175995,
          439764,
          235298900,
          1720644,
          769141,
          1501533,
          2121378,
          1836614,
          6292525,
          53919280,
          2360746,
          3897189,
          37441173,
          98737694,
          254806,
          16287715,
          135096457,
          2505,
          6407109,
          527433,
          57.99999999999999,
          45182,
          525133,
          2544,
          62830260,
          123,
          10166330,
          47035,
          1546901,
          15648,
          33081,
          90870005,
          341848,
          13876591,
          204077984,
          683,
          410824,
          109613,
          1126974,
          1529967,
          746392,
          3033976,
          2241809,
          1229099,
          62,
          210706,
          1785949,
          4993,
          320678.00000000006,
          65893,
          5453,
          622910,
          161387,
          735080,
          13594918,
          1265303,
          427752656,
          39723849,
          96478,
          56447,
          105007,
          1535147,
          6313,
          14224.000000000002,
          13323672,
          1387048,
          69060968,
          61721491.99999999,
          700972,
          155524213,
          444860,
          40503580,
          1011070,
          84723458,
          277636777,
          934089,
          95435,
          126156396,
          592071,
          825276,
          149176,
          1865948,
          6792557.000000001,
          192125483,
          48549436,
          71334553,
          2850480,
          1497857,
          16910,
          686198,
          341479,
          56966,
          643296,
          5102286,
          113,
          619348794,
          244744843,
          163409771,
          23085,
          2833610,
          839900,
          2493021,
          102348,
          54533,
          61815,
          205959,
          23200545,
          632910,
          20449212,
          479049,
          5607287.000000001,
          10806768,
          738654,
          48023,
          1579629,
          5782151,
          2962559,
          826293,
          18219012,
          3372954,
          1699968,
          473,
          886489,
          31170858,
          1440954,
          39167466,
          642484,
          789264,
          69218,
          1347422,
          9206199,
          16626933,
          93965337,
          2820843,
          180830.00000000003,
          229697,
          11851025,
          2682498,
          47206,
          15527775.000000002,
          14735582,
          508095,
          27610.000000000004,
          44686791,
          2353208,
          1524767,
          1483813,
          249064,
          90338264,
          6301516,
          7546711,
          110781,
          438708,
          282487,
          1121,
          2113,
          9858496,
          7583139,
          706366,
          2582173,
          75690,
          36864348,
          7743,
          335110,
          12030,
          1769109,
          144860561,
          1417718,
          111358,
          26468,
          806620,
          14356173,
          30379,
          8433758,
          6863747,
          2201338,
          258973,
          1839534,
          422398,
          191015388,
          614,
          80260,
          108429,
          25916989,
          954483,
          1850664,
          82979,
          12907043,
          453851,
          56435029,
          43303694,
          10445,
          682054704,
          201387,
          1709126,
          8684989,
          285025,
          119454086,
          1176373,
          7240081,
          16128148,
          102522,
          1192,
          1192139,
          86126,
          836673,
          9665927,
          6545215,
          27391525,
          3266977,
          14924728,
          21298496,
          75,
          5562743,
          631796,
          76480431,
          94561,
          11493540,
          93049,
          15236185,
          899,
          175371,
          55930,
          861461,
          604134206,
          494,
          43268445,
          2589125,
          206014,
          1653472,
          62325,
          182,
          94995,
          9701750,
          1376771,
          56603746,
          18696863,
          28534,
          140921,
          80937396,
          9901,
          13731,
          1363905,
          75696,
          348978,
          115237,
          22035,
          102789,
          127937,
          1909187,
          823412,
          710503,
          24473122,
          22670566,
          37730188,
          19806458,
          8680572,
          277033176,
          2211992,
          122419,
          1773.0000000000002,
          8193595,
          431922823,
          2527464.9999999995,
          702756,
          217660987,
          12460,
          56402,
          22624982,
          10814767,
          838146,
          5207.999999999999,
          49618,
          3516265,
          123683,
          148223,
          81,
          259,
          1357829,
          13231,
          23590,
          562640,
          5151,
          152309434,
          299138,
          457843.00000000006,
          123693,
          212613,
          971103,
          2131,
          632967,
          15453,
          678645,
          464678,
          26520619,
          73092840,
          86130,
          220270,
          690539,
          3593315,
          3763929,
          3553569,
          2527004,
          553276,
          196771,
          56234.99999999999,
          805,
          4170,
          1154826,
          47013.99999999999,
          2783006,
          71841,
          11467,
          26036111,
          92698,
          3577665,
          10977322,
          734546,
          294996,
          565041,
          9951576,
          3102245,
          5794480,
          71650,
          141280,
          75013,
          4371889,
          467008.00000000006,
          508210,
          200535,
          35638,
          34463979,
          4440629,
          4329598,
          8791990,
          1710652,
          162952,
          159509,
          1971578,
          3367,
          76499,
          1870470,
          607017,
          13248841,
          13330,
          6368724,
          7230072,
          19201206,
          32522,
          441722,
          171133,
          54054430,
          558413,
          1992,
          173530,
          30132973,
          156266,
          30845,
          16668808,
          2333955,
          5665746,
          52996626,
          787115,
          1296092,
          4049690,
          137558,
          64950,
          62455,
          3204810,
          5048786,
          6185331,
          27831426,
          17085490,
          119927,
          1819185,
          6681040,
          904615,
          1454245,
          10322123,
          740699,
          5670079,
          45131844,
          24031,
          1775525,
          12546946,
          81696,
          1211094,
          10250439,
          2400548,
          32011147,
          10739,
          5664687,
          40504915,
          525062,
          278809979,
          24662814,
          18720,
          36735,
          8704,
          126472,
          1573181,
          1030524,
          5355375,
          60839,
          718.0000000000001,
          194465,
          53187,
          860934,
          1414214,
          974186,
          3927429,
          58630133,
          9558767,
          1507163,
          84579,
          58921104,
          10855756,
          842588,
          3347589,
          103432039,
          1649172,
          1979813,
          313785,
          3063260,
          112481,
          38731739,
          76302520,
          110884001,
          362065,
          352516,
          2784835,
          288670,
          7013,
          248445.00000000003,
          30517796,
          791988,
          43398491,
          4434064,
          25371541,
          80214750,
          5566919,
          101758,
          20249709,
          20879975,
          91080,
          8814,
          859266570,
          9018955,
          506472,
          137362,
          3943857,
          1952982,
          1844270,
          60845971,
          356414965,
          251217,
          58643960,
          5405816,
          65831,
          191851542,
          73190,
          617152,
          21482744,
          498502,
          35701,
          77351,
          8590244,
          6312121,
          9918850,
          82880760,
          44950265,
          2180049,
          5661,
          59451,
          19418021,
          25157,
          36027098,
          939399,
          13972900,
          1426333,
          7593024,
          15396455,
          11487015,
          38706608,
          6219176,
          20365892,
          142,
          93841,
          583330,
          4957,
          340058,
          819079,
          7421,
          10322720,
          3848560,
          1161.9999999999998,
          857250,
          29275,
          6230654,
          257114495,
          153831,
          800746,
          56144222,
          386614,
          173166,
          29320,
          6723,
          2319588,
          1926576,
          967308,
          5718477,
          93764,
          88106,
          40.99999999999999,
          4304575,
          119970,
          273941,
          63838,
          3335069,
          40978,
          2019749,
          50855623,
          1265667,
          635400,
          31404262,
          155923,
          54707430,
          802,
          3806046,
          283225,
          3613944,
          16048366,
          10929,
          186777,
          19136790,
          676,
          59352397,
          224391292,
          349378665,
          15402179,
          11760019,
          75904,
          10505356,
          1117902,
          29452923,
          5358009,
          1674152,
          330119,
          82678,
          818150,
          862386,
          149899,
          1109022,
          454484,
          3960853,
          3137707,
          12330146,
          282698,
          141047,
          4013387,
          902595,
          15264,
          287525,
          30440031,
          24703210,
          8196807,
          23138,
          1042993,
          11238,
          296001,
          1664566,
          2882663,
          34083186,
          47489,
          9449586,
          44257778,
          25329910,
          6849,
          22244472,
          688761,
          730,
          3537,
          68531,
          184250,
          3696065,
          28346844,
          266734,
          70975626,
          100453127,
          49365,
          1700697,
          662662,
          1666480,
          21335500,
          14071,
          2023765,
          470222949,
          442386824,
          169146,
          1642132,
          130982,
          3252630,
          6476,
          654575,
          119533,
          485550,
          4091,
          16515654,
          45861354,
          150955,
          463961,
          75036,
          1653641,
          424256,
          2252421,
          36388213,
          109653546,
          38960540,
          4463199,
          9348613,
          34414,
          2851,
          206051236.00000003,
          5321026,
          25771755,
          43244678,
          13435556,
          60651.99999999999,
          38363,
          9791704,
          39190,
          1369365,
          36935805,
          30572471,
          741782,
          39824897,
          28458,
          15590044,
          914614509,
          784505,
          16363379,
          18207514,
          146856,
          625768,
          904516,
          20727864,
          3556926,
          2334,
          195917,
          1199279.9999999998,
          9717642,
          409062,
          43743285,
          7944708,
          84763,
          58180,
          3791217,
          77643,
          105179,
          117104546,
          40555.99999999999,
          236568,
          15588883,
          16264012,
          11448,
          967143,
          1704,
          63811.00000000001,
          22637,
          27325,
          160,
          4397,
          7608726,
          429,
          854508748,
          25941,
          2054605,
          323642,
          44047637,
          218561,
          518080,
          337729,
          370785,
          10793,
          3112046,
          51395201,
          811806,
          3192,
          1242,
          54410,
          14022,
          9470,
          6481980,
          1085532,
          794,
          60153073,
          20957792,
          28913337,
          35683,
          8956585,
          8933379,
          347623,
          261267,
          11245,
          44880,
          277018,
          11232.999999999998,
          5395505,
          277127,
          7391074,
          655449,
          3766,
          119930,
          2883743,
          28828,
          1804578,
          2070258,
          161006,
          17690282,
          582622,
          88360,
          3226179,
          8081108,
          355390,
          97,
          17264891,
          35747,
          36488,
          66312,
          93444,
          388188,
          10206962,
          98838,
          50274387,
          4715,
          43383,
          357568,
          137287880,
          1060779,
          87934,
          8893968,
          5258362,
          73548557,
          31301437,
          53508,
          748484,
          12383086,
          6697,
          1947767,
          66688,
          15436043,
          94318,
          301210547,
          839438,
          130835735,
          267567,
          9608,
          324571080,
          4472483,
          5393263,
          24169696,
          834,
          50052,
          1090545,
          1801888685,
          1566189,
          169322694,
          68979080,
          853696,
          16771114,
          208088061,
          2391639,
          6032165,
          31994580,
          9289,
          2481400,
          78153426,
          399,
          6,
          500671,
          59844733,
          276947,
          12395703,
          2639262,
          84655,
          3790891,
          80660,
          13.999999999999998,
          8127056,
          15758885,
          33506525,
          1585440,
          20595034,
          54.00000000000001,
          3542694,
          134135,
          59127,
          19142352,
          3952630,
          1123694,
          121735,
          9076174,
          1550496,
          714144,
          303535,
          36138297,
          4677240,
          20202616,
          6321790,
          1893188,
          605957,
          337229,
          6943429,
          299619,
          593076,
          37850926,
          346063,
          113525598,
          2204459,
          448929,
          1259563,
          92033028,
          53747,
          98914,
          570265,
          578123,
          18059882,
          23169382,
          40741886,
          153047250,
          74645830,
          17460501,
          2575923,
          42758111,
          314966,
          30891,
          33000154,
          801724,
          49497,
          8992753,
          6646563,
          143048553,
          191275,
          1078458,
          10506711,
          43126250,
          316269801,
          1163108,
          2843506,
          8270,
          10158,
          35523971,
          3044919,
          40560773,
          56768289,
          2064094,
          18716058,
          69671,
          14365752,
          530963,
          3901134,
          876,
          5633,
          9269431,
          659951,
          310880,
          2498382,
          111559,
          3632790,
          108781,
          14791871,
          823011,
          560575,
          1629,
          150852,
          2882.0000000000005,
          43076,
          88379,
          105245,
          64230,
          4048509,
          26523322,
          13879100,
          17150419,
          195090,
          26860,
          3,
          1083488,
          7267651,
          52525046,
          17725,
          7006514,
          8212984,
          64498657,
          4602433,
          11697122,
          546990,
          1743777,
          13372802,
          1855270,
          416456,
          7871708,
          731327,
          19690975,
          3772,
          4317,
          3127194,
          33838,
          1189041,
          24188713,
          228983,
          338515,
          55697789,
          27029927,
          1648947,
          8708456,
          1501908,
          185245,
          19663,
          4525838,
          38508264,
          297305667,
          492955,
          11385068,
          297735,
          3544116,
          572224,
          8033031,
          645478,
          1710223,
          1689675,
          18571475,
          4382977,
          441503,
          189529912,
          176786,
          50722.99999999999,
          79287,
          1439,
          13495103,
          17324238,
          151323280,
          33582,
          16714821,
          7314999,
          999330,
          2423003,
          3505904,
          2842874,
          27740112,
          33569,
          244258,
          219082,
          483710,
          13053713.000000002,
          9788645,
          54248,
          1802,
          133312778,
          102422,
          136603,
          5491769,
          3209171,
          824464,
          8444063,
          10175687,
          2289650,
          288544211,
          59198779,
          1149341,
          32782,
          17999949,
          74139982,
          16675,
          29825801,
          384034,
          36590,
          69,
          3444765,
          27751104,
          28833463,
          65494,
          335487,
          1403368,
          259225,
          2652851,
          806940,
          13216666,
          90873,
          4068,
          11605035,
          29608171,
          1488510,
          1812460,
          4444046,
          4192082,
          22795192,
          7446760,
          6884027,
          27789,
          288604,
          7012256,
          2385288,
          454382,
          5213066,
          18816700,
          123318,
          56717.00000000001,
          638820,
          64269,
          5114807,
          11895032,
          458829,
          95519,
          58295974,
          5953190,
          1081812,
          340259,
          22187964,
          99282995,
          32940972,
          16608228,
          29383514,
          13452277,
          16410,
          458059,
          4481964,
          62144,
          3228486,
          213841,
          6382771,
          54639340,
          221874,
          10267,
          664735,
          14006169,
          724976,
          1437,
          19632,
          855312,
          2450636,
          22516416,
          911648,
          2376,
          5719060,
          12154267,
          64452153,
          4606730,
          496913,
          1781915,
          5844.999999999999,
          20793225,
          759282,
          695553,
          34863238,
          5164591,
          121574,
          1556193,
          1434277,
          28752304,
          4823130,
          376382,
          19303999,
          5016857,
          50256986,
          2116284,
          4052124,
          38621,
          1061386,
          115752,
          2659,
          415994,
          41288,
          757705,
          38175,
          25679003,
          989738,
          7712,
          5258,
          31686,
          40970014,
          8137241,
          852394,
          13742164,
          1397895,
          574091,
          3697470,
          596872,
          133805881,
          2457629,
          7575230,
          130300,
          387485,
          13656489,
          134384800,
          961075,
          2221302,
          132273,
          171244,
          3349.0000000000005,
          324303,
          4470,
          16199,
          102734,
          883530,
          2755,
          153840,
          12041,
          13801253,
          1550334,
          8055760,
          10657,
          133127,
          246306,
          49174,
          1367234,
          40276933,
          308789661,
          1606456,
          197922,
          733893,
          1926305,
          8618,
          873,
          376096,
          2038923,
          1920247,
          984059,
          23275694,
          107313936,
          24695,
          127006565,
          644874,
          67888,
          2026,
          107986042,
          14712290.999999998,
          880487,
          2515453,
          10057854,
          16767321,
          486191,
          72275,
          12460614,
          189640,
          204108,
          2286464,
          241469,
          169293338,
          262042045,
          330873976,
          2828514,
          1771864378,
          2120333767,
          361410573,
          330357225,
          5921533649,
          3514055689,
          1936244679,
          894531727,
          724841367,
          2558746440,
          75788819,
          323491081,
          1065340111,
          1275873189,
          2732123518,
          96868862,
          368373692
         ]
        }
       ],
       "layout": {
        "height": 400,
        "legend": {
         "tracegroupgap": 0
        },
        "template": {
         "data": {
          "bar": [
           {
            "error_x": {
             "color": "#2a3f5f"
            },
            "error_y": {
             "color": "#2a3f5f"
            },
            "marker": {
             "line": {
              "color": "#E5ECF6",
              "width": 0.5
             },
             "pattern": {
              "fillmode": "overlay",
              "size": 10,
              "solidity": 0.2
             }
            },
            "type": "bar"
           }
          ],
          "barpolar": [
           {
            "marker": {
             "line": {
              "color": "#E5ECF6",
              "width": 0.5
             },
             "pattern": {
              "fillmode": "overlay",
              "size": 10,
              "solidity": 0.2
             }
            },
            "type": "barpolar"
           }
          ],
          "carpet": [
           {
            "aaxis": {
             "endlinecolor": "#2a3f5f",
             "gridcolor": "white",
             "linecolor": "white",
             "minorgridcolor": "white",
             "startlinecolor": "#2a3f5f"
            },
            "baxis": {
             "endlinecolor": "#2a3f5f",
             "gridcolor": "white",
             "linecolor": "white",
             "minorgridcolor": "white",
             "startlinecolor": "#2a3f5f"
            },
            "type": "carpet"
           }
          ],
          "choropleth": [
           {
            "colorbar": {
             "outlinewidth": 0,
             "ticks": ""
            },
            "type": "choropleth"
           }
          ],
          "contour": [
           {
            "colorbar": {
             "outlinewidth": 0,
             "ticks": ""
            },
            "colorscale": [
             [
              0,
              "#0d0887"
             ],
             [
              0.1111111111111111,
              "#46039f"
             ],
             [
              0.2222222222222222,
              "#7201a8"
             ],
             [
              0.3333333333333333,
              "#9c179e"
             ],
             [
              0.4444444444444444,
              "#bd3786"
             ],
             [
              0.5555555555555556,
              "#d8576b"
             ],
             [
              0.6666666666666666,
              "#ed7953"
             ],
             [
              0.7777777777777778,
              "#fb9f3a"
             ],
             [
              0.8888888888888888,
              "#fdca26"
             ],
             [
              1,
              "#f0f921"
             ]
            ],
            "type": "contour"
           }
          ],
          "contourcarpet": [
           {
            "colorbar": {
             "outlinewidth": 0,
             "ticks": ""
            },
            "type": "contourcarpet"
           }
          ],
          "heatmap": [
           {
            "colorbar": {
             "outlinewidth": 0,
             "ticks": ""
            },
            "colorscale": [
             [
              0,
              "#0d0887"
             ],
             [
              0.1111111111111111,
              "#46039f"
             ],
             [
              0.2222222222222222,
              "#7201a8"
             ],
             [
              0.3333333333333333,
              "#9c179e"
             ],
             [
              0.4444444444444444,
              "#bd3786"
             ],
             [
              0.5555555555555556,
              "#d8576b"
             ],
             [
              0.6666666666666666,
              "#ed7953"
             ],
             [
              0.7777777777777778,
              "#fb9f3a"
             ],
             [
              0.8888888888888888,
              "#fdca26"
             ],
             [
              1,
              "#f0f921"
             ]
            ],
            "type": "heatmap"
           }
          ],
          "heatmapgl": [
           {
            "colorbar": {
             "outlinewidth": 0,
             "ticks": ""
            },
            "colorscale": [
             [
              0,
              "#0d0887"
             ],
             [
              0.1111111111111111,
              "#46039f"
             ],
             [
              0.2222222222222222,
              "#7201a8"
             ],
             [
              0.3333333333333333,
              "#9c179e"
             ],
             [
              0.4444444444444444,
              "#bd3786"
             ],
             [
              0.5555555555555556,
              "#d8576b"
             ],
             [
              0.6666666666666666,
              "#ed7953"
             ],
             [
              0.7777777777777778,
              "#fb9f3a"
             ],
             [
              0.8888888888888888,
              "#fdca26"
             ],
             [
              1,
              "#f0f921"
             ]
            ],
            "type": "heatmapgl"
           }
          ],
          "histogram": [
           {
            "marker": {
             "pattern": {
              "fillmode": "overlay",
              "size": 10,
              "solidity": 0.2
             }
            },
            "type": "histogram"
           }
          ],
          "histogram2d": [
           {
            "colorbar": {
             "outlinewidth": 0,
             "ticks": ""
            },
            "colorscale": [
             [
              0,
              "#0d0887"
             ],
             [
              0.1111111111111111,
              "#46039f"
             ],
             [
              0.2222222222222222,
              "#7201a8"
             ],
             [
              0.3333333333333333,
              "#9c179e"
             ],
             [
              0.4444444444444444,
              "#bd3786"
             ],
             [
              0.5555555555555556,
              "#d8576b"
             ],
             [
              0.6666666666666666,
              "#ed7953"
             ],
             [
              0.7777777777777778,
              "#fb9f3a"
             ],
             [
              0.8888888888888888,
              "#fdca26"
             ],
             [
              1,
              "#f0f921"
             ]
            ],
            "type": "histogram2d"
           }
          ],
          "histogram2dcontour": [
           {
            "colorbar": {
             "outlinewidth": 0,
             "ticks": ""
            },
            "colorscale": [
             [
              0,
              "#0d0887"
             ],
             [
              0.1111111111111111,
              "#46039f"
             ],
             [
              0.2222222222222222,
              "#7201a8"
             ],
             [
              0.3333333333333333,
              "#9c179e"
             ],
             [
              0.4444444444444444,
              "#bd3786"
             ],
             [
              0.5555555555555556,
              "#d8576b"
             ],
             [
              0.6666666666666666,
              "#ed7953"
             ],
             [
              0.7777777777777778,
              "#fb9f3a"
             ],
             [
              0.8888888888888888,
              "#fdca26"
             ],
             [
              1,
              "#f0f921"
             ]
            ],
            "type": "histogram2dcontour"
           }
          ],
          "mesh3d": [
           {
            "colorbar": {
             "outlinewidth": 0,
             "ticks": ""
            },
            "type": "mesh3d"
           }
          ],
          "parcoords": [
           {
            "line": {
             "colorbar": {
              "outlinewidth": 0,
              "ticks": ""
             }
            },
            "type": "parcoords"
           }
          ],
          "pie": [
           {
            "automargin": true,
            "type": "pie"
           }
          ],
          "scatter": [
           {
            "fillpattern": {
             "fillmode": "overlay",
             "size": 10,
             "solidity": 0.2
            },
            "type": "scatter"
           }
          ],
          "scatter3d": [
           {
            "line": {
             "colorbar": {
              "outlinewidth": 0,
              "ticks": ""
             }
            },
            "marker": {
             "colorbar": {
              "outlinewidth": 0,
              "ticks": ""
             }
            },
            "type": "scatter3d"
           }
          ],
          "scattercarpet": [
           {
            "marker": {
             "colorbar": {
              "outlinewidth": 0,
              "ticks": ""
             }
            },
            "type": "scattercarpet"
           }
          ],
          "scattergeo": [
           {
            "marker": {
             "colorbar": {
              "outlinewidth": 0,
              "ticks": ""
             }
            },
            "type": "scattergeo"
           }
          ],
          "scattergl": [
           {
            "marker": {
             "colorbar": {
              "outlinewidth": 0,
              "ticks": ""
             }
            },
            "type": "scattergl"
           }
          ],
          "scattermapbox": [
           {
            "marker": {
             "colorbar": {
              "outlinewidth": 0,
              "ticks": ""
             }
            },
            "type": "scattermapbox"
           }
          ],
          "scatterpolar": [
           {
            "marker": {
             "colorbar": {
              "outlinewidth": 0,
              "ticks": ""
             }
            },
            "type": "scatterpolar"
           }
          ],
          "scatterpolargl": [
           {
            "marker": {
             "colorbar": {
              "outlinewidth": 0,
              "ticks": ""
             }
            },
            "type": "scatterpolargl"
           }
          ],
          "scatterternary": [
           {
            "marker": {
             "colorbar": {
              "outlinewidth": 0,
              "ticks": ""
             }
            },
            "type": "scatterternary"
           }
          ],
          "surface": [
           {
            "colorbar": {
             "outlinewidth": 0,
             "ticks": ""
            },
            "colorscale": [
             [
              0,
              "#0d0887"
             ],
             [
              0.1111111111111111,
              "#46039f"
             ],
             [
              0.2222222222222222,
              "#7201a8"
             ],
             [
              0.3333333333333333,
              "#9c179e"
             ],
             [
              0.4444444444444444,
              "#bd3786"
             ],
             [
              0.5555555555555556,
              "#d8576b"
             ],
             [
              0.6666666666666666,
              "#ed7953"
             ],
             [
              0.7777777777777778,
              "#fb9f3a"
             ],
             [
              0.8888888888888888,
              "#fdca26"
             ],
             [
              1,
              "#f0f921"
             ]
            ],
            "type": "surface"
           }
          ],
          "table": [
           {
            "cells": {
             "fill": {
              "color": "#EBF0F8"
             },
             "line": {
              "color": "white"
             }
            },
            "header": {
             "fill": {
              "color": "#C8D4E3"
             },
             "line": {
              "color": "white"
             }
            },
            "type": "table"
           }
          ]
         },
         "layout": {
          "annotationdefaults": {
           "arrowcolor": "#2a3f5f",
           "arrowhead": 0,
           "arrowwidth": 1
          },
          "autotypenumbers": "strict",
          "coloraxis": {
           "colorbar": {
            "outlinewidth": 0,
            "ticks": ""
           }
          },
          "colorscale": {
           "diverging": [
            [
             0,
             "#8e0152"
            ],
            [
             0.1,
             "#c51b7d"
            ],
            [
             0.2,
             "#de77ae"
            ],
            [
             0.3,
             "#f1b6da"
            ],
            [
             0.4,
             "#fde0ef"
            ],
            [
             0.5,
             "#f7f7f7"
            ],
            [
             0.6,
             "#e6f5d0"
            ],
            [
             0.7,
             "#b8e186"
            ],
            [
             0.8,
             "#7fbc41"
            ],
            [
             0.9,
             "#4d9221"
            ],
            [
             1,
             "#276419"
            ]
           ],
           "sequential": [
            [
             0,
             "#0d0887"
            ],
            [
             0.1111111111111111,
             "#46039f"
            ],
            [
             0.2222222222222222,
             "#7201a8"
            ],
            [
             0.3333333333333333,
             "#9c179e"
            ],
            [
             0.4444444444444444,
             "#bd3786"
            ],
            [
             0.5555555555555556,
             "#d8576b"
            ],
            [
             0.6666666666666666,
             "#ed7953"
            ],
            [
             0.7777777777777778,
             "#fb9f3a"
            ],
            [
             0.8888888888888888,
             "#fdca26"
            ],
            [
             1,
             "#f0f921"
            ]
           ],
           "sequentialminus": [
            [
             0,
             "#0d0887"
            ],
            [
             0.1111111111111111,
             "#46039f"
            ],
            [
             0.2222222222222222,
             "#7201a8"
            ],
            [
             0.3333333333333333,
             "#9c179e"
            ],
            [
             0.4444444444444444,
             "#bd3786"
            ],
            [
             0.5555555555555556,
             "#d8576b"
            ],
            [
             0.6666666666666666,
             "#ed7953"
            ],
            [
             0.7777777777777778,
             "#fb9f3a"
            ],
            [
             0.8888888888888888,
             "#fdca26"
            ],
            [
             1,
             "#f0f921"
            ]
           ]
          },
          "colorway": [
           "#636efa",
           "#EF553B",
           "#00cc96",
           "#ab63fa",
           "#FFA15A",
           "#19d3f3",
           "#FF6692",
           "#B6E880",
           "#FF97FF",
           "#FECB52"
          ],
          "font": {
           "color": "#2a3f5f"
          },
          "geo": {
           "bgcolor": "white",
           "lakecolor": "white",
           "landcolor": "#E5ECF6",
           "showlakes": true,
           "showland": true,
           "subunitcolor": "white"
          },
          "hoverlabel": {
           "align": "left"
          },
          "hovermode": "closest",
          "mapbox": {
           "style": "light"
          },
          "paper_bgcolor": "white",
          "plot_bgcolor": "#E5ECF6",
          "polar": {
           "angularaxis": {
            "gridcolor": "white",
            "linecolor": "white",
            "ticks": ""
           },
           "bgcolor": "#E5ECF6",
           "radialaxis": {
            "gridcolor": "white",
            "linecolor": "white",
            "ticks": ""
           }
          },
          "scene": {
           "xaxis": {
            "backgroundcolor": "#E5ECF6",
            "gridcolor": "white",
            "gridwidth": 2,
            "linecolor": "white",
            "showbackground": true,
            "ticks": "",
            "zerolinecolor": "white"
           },
           "yaxis": {
            "backgroundcolor": "#E5ECF6",
            "gridcolor": "white",
            "gridwidth": 2,
            "linecolor": "white",
            "showbackground": true,
            "ticks": "",
            "zerolinecolor": "white"
           },
           "zaxis": {
            "backgroundcolor": "#E5ECF6",
            "gridcolor": "white",
            "gridwidth": 2,
            "linecolor": "white",
            "showbackground": true,
            "ticks": "",
            "zerolinecolor": "white"
           }
          },
          "shapedefaults": {
           "line": {
            "color": "#2a3f5f"
           }
          },
          "ternary": {
           "aaxis": {
            "gridcolor": "white",
            "linecolor": "white",
            "ticks": ""
           },
           "baxis": {
            "gridcolor": "white",
            "linecolor": "white",
            "ticks": ""
           },
           "bgcolor": "#E5ECF6",
           "caxis": {
            "gridcolor": "white",
            "linecolor": "white",
            "ticks": ""
           }
          },
          "title": {
           "x": 0.05
          },
          "xaxis": {
           "automargin": true,
           "gridcolor": "white",
           "linecolor": "white",
           "ticks": "",
           "title": {
            "standoff": 15
           },
           "zerolinecolor": "white",
           "zerolinewidth": 2
          },
          "yaxis": {
           "automargin": true,
           "gridcolor": "white",
           "linecolor": "white",
           "ticks": "",
           "title": {
            "standoff": 15
           },
           "zerolinecolor": "white",
           "zerolinewidth": 2
          }
         }
        },
        "title": {
         "text": "26.84B"
        },
        "width": 1000
       }
      }
     },
     "metadata": {},
     "output_type": "display_data"
    }
   ],
   "source": [
    "for country in [\"Serbia\"]:\n",
    "    show_country(country)"
   ]
  }
 ],
 "metadata": {
  "kernelspec": {
   "display_name": "Python 3",
   "language": "python",
   "name": "python3"
  },
  "language_info": {
   "codemirror_mode": {
    "name": "ipython",
    "version": 3
   },
   "file_extension": ".py",
   "mimetype": "text/x-python",
   "name": "python",
   "nbconvert_exporter": "python",
   "pygments_lexer": "ipython3",
   "version": "3.10.11"
  },
  "orig_nbformat": 4
 },
 "nbformat": 4,
 "nbformat_minor": 2
}
